{
 "cells": [
  {
   "cell_type": "code",
   "execution_count": 1,
   "id": "0e74355f-b4f9-4a5d-bd48-d7071a7fb273",
   "metadata": {},
   "outputs": [],
   "source": [
    "import pandas as pd"
   ]
  },
  {
   "cell_type": "code",
   "execution_count": 4,
   "id": "f9ef0f56-a8af-4a8f-9887-ab9388e0f804",
   "metadata": {},
   "outputs": [],
   "source": [
    "df = pd.read_csv('predictions.csv')"
   ]
  },
  {
   "cell_type": "code",
   "execution_count": 22,
   "id": "bc552ca9-5502-4888-96b7-8d0cc0b6c413",
   "metadata": {},
   "outputs": [
    {
     "data": {
      "text/html": [
       "<div>\n",
       "<style scoped>\n",
       "    .dataframe tbody tr th:only-of-type {\n",
       "        vertical-align: middle;\n",
       "    }\n",
       "\n",
       "    .dataframe tbody tr th {\n",
       "        vertical-align: top;\n",
       "    }\n",
       "\n",
       "    .dataframe thead th {\n",
       "        text-align: right;\n",
       "    }\n",
       "</style>\n",
       "<table border=\"1\" class=\"dataframe\">\n",
       "  <thead>\n",
       "    <tr style=\"text-align: right;\">\n",
       "      <th></th>\n",
       "      <th>fileName</th>\n",
       "      <th>labelName</th>\n",
       "      <th>area_start</th>\n",
       "      <th>area_end</th>\n",
       "      <th>category_01</th>\n",
       "      <th>category_02</th>\n",
       "      <th>category_03</th>\n",
       "      <th>decibel</th>\n",
       "      <th>soundQuality</th>\n",
       "      <th>subCategory</th>\n",
       "      <th>...</th>\n",
       "      <th>mfcc_43</th>\n",
       "      <th>mfcc_44</th>\n",
       "      <th>mfcc_45</th>\n",
       "      <th>mfcc_46</th>\n",
       "      <th>mfcc_47</th>\n",
       "      <th>mfcc_48</th>\n",
       "      <th>mfcc_49</th>\n",
       "      <th>mfcc_50</th>\n",
       "      <th>ood_label</th>\n",
       "      <th>predicted_label</th>\n",
       "    </tr>\n",
       "  </thead>\n",
       "  <tbody>\n",
       "    <tr>\n",
       "      <th>0</th>\n",
       "      <td>7.동물_92468.wav</td>\n",
       "      <td>7.동물_92468_1.wav</td>\n",
       "      <td>2.0</td>\n",
       "      <td>15.606</td>\n",
       "      <td>생활소음</td>\n",
       "      <td>동물</td>\n",
       "      <td>개</td>\n",
       "      <td>115</td>\n",
       "      <td>정상</td>\n",
       "      <td>개</td>\n",
       "      <td>...</td>\n",
       "      <td>-2.506181</td>\n",
       "      <td>-1.481004</td>\n",
       "      <td>0.440599</td>\n",
       "      <td>-0.805168</td>\n",
       "      <td>-0.378587</td>\n",
       "      <td>-0.795945</td>\n",
       "      <td>-1.082737</td>\n",
       "      <td>0.396394</td>\n",
       "      <td>기타소음</td>\n",
       "      <td>기타소음</td>\n",
       "    </tr>\n",
       "    <tr>\n",
       "      <th>1</th>\n",
       "      <td>7.동물_50077.wav</td>\n",
       "      <td>7.동물_50077_1.wav</td>\n",
       "      <td>2.0</td>\n",
       "      <td>26.916</td>\n",
       "      <td>생활소음</td>\n",
       "      <td>동물</td>\n",
       "      <td>개</td>\n",
       "      <td>52</td>\n",
       "      <td>정상</td>\n",
       "      <td>개</td>\n",
       "      <td>...</td>\n",
       "      <td>-1.918315</td>\n",
       "      <td>-0.122976</td>\n",
       "      <td>0.112075</td>\n",
       "      <td>-0.384172</td>\n",
       "      <td>0.718058</td>\n",
       "      <td>1.504387</td>\n",
       "      <td>0.550436</td>\n",
       "      <td>0.147882</td>\n",
       "      <td>기타소음</td>\n",
       "      <td>기타소음</td>\n",
       "    </tr>\n",
       "    <tr>\n",
       "      <th>2</th>\n",
       "      <td>7.동물_50526.wav</td>\n",
       "      <td>7.동물_50526_1.wav</td>\n",
       "      <td>2.0</td>\n",
       "      <td>32.768</td>\n",
       "      <td>생활소음</td>\n",
       "      <td>동물</td>\n",
       "      <td>개</td>\n",
       "      <td>45</td>\n",
       "      <td>정상</td>\n",
       "      <td>개</td>\n",
       "      <td>...</td>\n",
       "      <td>-1.083312</td>\n",
       "      <td>-0.722091</td>\n",
       "      <td>0.402630</td>\n",
       "      <td>0.955617</td>\n",
       "      <td>1.654667</td>\n",
       "      <td>2.008855</td>\n",
       "      <td>1.237034</td>\n",
       "      <td>0.841677</td>\n",
       "      <td>기타소음</td>\n",
       "      <td>기타소음</td>\n",
       "    </tr>\n",
       "    <tr>\n",
       "      <th>3</th>\n",
       "      <td>7.동물_50264.wav</td>\n",
       "      <td>7.동물_50264_1.wav</td>\n",
       "      <td>2.0</td>\n",
       "      <td>30.281</td>\n",
       "      <td>생활소음</td>\n",
       "      <td>동물</td>\n",
       "      <td>개</td>\n",
       "      <td>52</td>\n",
       "      <td>정상</td>\n",
       "      <td>개</td>\n",
       "      <td>...</td>\n",
       "      <td>-1.327697</td>\n",
       "      <td>-0.333883</td>\n",
       "      <td>0.951595</td>\n",
       "      <td>1.110079</td>\n",
       "      <td>1.350498</td>\n",
       "      <td>1.385849</td>\n",
       "      <td>0.743997</td>\n",
       "      <td>-0.196423</td>\n",
       "      <td>기타소음</td>\n",
       "      <td>기타소음</td>\n",
       "    </tr>\n",
       "    <tr>\n",
       "      <th>4</th>\n",
       "      <td>7.동물_51278.wav</td>\n",
       "      <td>7.동물_51278_1.wav</td>\n",
       "      <td>2.0</td>\n",
       "      <td>18.244</td>\n",
       "      <td>생활소음</td>\n",
       "      <td>동물</td>\n",
       "      <td>개</td>\n",
       "      <td>56</td>\n",
       "      <td>정상</td>\n",
       "      <td>개</td>\n",
       "      <td>...</td>\n",
       "      <td>-2.601161</td>\n",
       "      <td>-1.508994</td>\n",
       "      <td>-1.236210</td>\n",
       "      <td>-1.734048</td>\n",
       "      <td>-2.683127</td>\n",
       "      <td>-1.833245</td>\n",
       "      <td>-1.356893</td>\n",
       "      <td>-0.747088</td>\n",
       "      <td>기타소음</td>\n",
       "      <td>기타소음</td>\n",
       "    </tr>\n",
       "  </tbody>\n",
       "</table>\n",
       "<p>5 rows × 84 columns</p>\n",
       "</div>"
      ],
      "text/plain": [
       "         fileName         labelName  area_start  area_end category_01  \\\n",
       "0  7.동물_92468.wav  7.동물_92468_1.wav         2.0    15.606        생활소음   \n",
       "1  7.동물_50077.wav  7.동물_50077_1.wav         2.0    26.916        생활소음   \n",
       "2  7.동물_50526.wav  7.동물_50526_1.wav         2.0    32.768        생활소음   \n",
       "3  7.동물_50264.wav  7.동물_50264_1.wav         2.0    30.281        생활소음   \n",
       "4  7.동물_51278.wav  7.동물_51278_1.wav         2.0    18.244        생활소음   \n",
       "\n",
       "  category_02 category_03  decibel soundQuality subCategory  ...   mfcc_43  \\\n",
       "0          동물           개      115           정상           개  ... -2.506181   \n",
       "1          동물           개       52           정상           개  ... -1.918315   \n",
       "2          동물           개       45           정상           개  ... -1.083312   \n",
       "3          동물           개       52           정상           개  ... -1.327697   \n",
       "4          동물           개       56           정상           개  ... -2.601161   \n",
       "\n",
       "    mfcc_44   mfcc_45   mfcc_46   mfcc_47   mfcc_48   mfcc_49   mfcc_50  \\\n",
       "0 -1.481004  0.440599 -0.805168 -0.378587 -0.795945 -1.082737  0.396394   \n",
       "1 -0.122976  0.112075 -0.384172  0.718058  1.504387  0.550436  0.147882   \n",
       "2 -0.722091  0.402630  0.955617  1.654667  2.008855  1.237034  0.841677   \n",
       "3 -0.333883  0.951595  1.110079  1.350498  1.385849  0.743997 -0.196423   \n",
       "4 -1.508994 -1.236210 -1.734048 -2.683127 -1.833245 -1.356893 -0.747088   \n",
       "\n",
       "  ood_label predicted_label  \n",
       "0      기타소음            기타소음  \n",
       "1      기타소음            기타소음  \n",
       "2      기타소음            기타소음  \n",
       "3      기타소음            기타소음  \n",
       "4      기타소음            기타소음  \n",
       "\n",
       "[5 rows x 84 columns]"
      ]
     },
     "execution_count": 22,
     "metadata": {},
     "output_type": "execute_result"
    }
   ],
   "source": [
    "df.head()"
   ]
  },
  {
   "cell_type": "code",
   "execution_count": 7,
   "id": "bc61cfb7-1c92-4826-b321-0cd5c5fcbb8c",
   "metadata": {},
   "outputs": [
    {
     "data": {
      "text/plain": [
       "(990, 84)"
      ]
     },
     "execution_count": 7,
     "metadata": {},
     "output_type": "execute_result"
    }
   ],
   "source": [
    "df.shape"
   ]
  },
  {
   "cell_type": "code",
   "execution_count": 15,
   "id": "8202d4cf-8909-415a-91b0-c1251997b6a0",
   "metadata": {},
   "outputs": [
    {
     "data": {
      "text/plain": [
       "category_03\n",
       "개         90\n",
       "고양이       90\n",
       "공구        90\n",
       "발전기       90\n",
       "이륜차경적     90\n",
       "이륜차주행음    90\n",
       "차량경적      90\n",
       "차량사이렌     90\n",
       "차량주행음     90\n",
       "콘크리트펌프    90\n",
       "항타기       90\n",
       "Name: count, dtype: int64"
      ]
     },
     "execution_count": 15,
     "metadata": {},
     "output_type": "execute_result"
    }
   ],
   "source": [
    "df['category_03'].value_counts()"
   ]
  },
  {
   "cell_type": "code",
   "execution_count": 17,
   "id": "9239c46a-e8e2-4301-9f88-680a26deae82",
   "metadata": {},
   "outputs": [
    {
     "name": "stdout",
     "output_type": "stream",
     "text": [
      "ood_label과 predicted_label이 다른 개수: 24\n"
     ]
    }
   ],
   "source": [
    "diff_count = (df['ood_label'] != df['predicted_label']).sum()\n",
    "print(f\"ood_label과 predicted_label이 다른 개수: {diff_count}\")"
   ]
  },
  {
   "cell_type": "code",
   "execution_count": 27,
   "id": "e8ea013c-9b3d-40de-9c80-b0bbfaaf504d",
   "metadata": {},
   "outputs": [
    {
     "name": "stdout",
     "output_type": "stream",
     "text": [
      "    category_03 ood_label predicted_label\n",
      "43            개      기타소음          이륜차주행음\n",
      "198          공구      기타소음          이륜차주행음\n",
      "249          공구      기타소음           차량사이렌\n",
      "384       이륜차경적     이륜차경적            차량경적\n",
      "401       이륜차경적     이륜차경적            차량경적\n",
      "480      이륜차주행음    이륜차주행음           차량주행음\n",
      "488      이륜차주행음    이륜차주행음           차량주행음\n",
      "500      이륜차주행음    이륜차주행음            기타소음\n",
      "517      이륜차주행음    이륜차주행음            기타소음\n",
      "528      이륜차주행음    이륜차주행음           차량주행음\n",
      "530      이륜차주행음    이륜차주행음           차량주행음\n",
      "533      이륜차주행음    이륜차주행음           차량주행음\n",
      "541        차량경적      차량경적            기타소음\n",
      "543        차량경적      차량경적           이륜차경적\n",
      "581        차량경적      차량경적           이륜차경적\n",
      "585        차량경적      차량경적          이륜차주행음\n",
      "626        차량경적      차량경적            기타소음\n",
      "631       차량사이렌     차량사이렌           차량주행음\n",
      "661       차량사이렌     차량사이렌            기타소음\n",
      "670       차량사이렌     차량사이렌          이륜차주행음\n",
      "767       차량주행음     차량주행음           차량사이렌\n",
      "776       차량주행음     차량주행음            차량경적\n",
      "783       차량주행음     차량주행음            기타소음\n",
      "895      콘크리트펌프      기타소음          이륜차주행음\n"
     ]
    }
   ],
   "source": [
    "diff_rows = df[df['ood_label'] != df['predicted_label']]\n",
    "print(diff_rows[['category_03','ood_label', 'predicted_label']])"
   ]
  },
  {
   "cell_type": "code",
   "execution_count": 21,
   "id": "e746b497-e2f0-4504-bde2-1b8dc17b7408",
   "metadata": {},
   "outputs": [
    {
     "data": {
      "text/plain": [
       "ood_label\n",
       "이륜차주행음    7\n",
       "차량경적      5\n",
       "기타소음      4\n",
       "차량사이렌     3\n",
       "차량주행음     3\n",
       "이륜차경적     2\n",
       "Name: count, dtype: int64"
      ]
     },
     "execution_count": 21,
     "metadata": {},
     "output_type": "execute_result"
    }
   ],
   "source": [
    "diff_rows.ood_label.value_counts()"
   ]
  },
  {
   "cell_type": "code",
   "execution_count": null,
   "id": "f3db9b3c-f803-4477-ad6d-45e5a209ed68",
   "metadata": {},
   "outputs": [],
   "source": []
  }
 ],
 "metadata": {
  "kernelspec": {
   "display_name": "Python(ml_env)",
   "language": "python",
   "name": "ml_env"
  },
  "language_info": {
   "codemirror_mode": {
    "name": "ipython",
    "version": 3
   },
   "file_extension": ".py",
   "mimetype": "text/x-python",
   "name": "python",
   "nbconvert_exporter": "python",
   "pygments_lexer": "ipython3",
   "version": "3.8.20"
  }
 },
 "nbformat": 4,
 "nbformat_minor": 5
}
