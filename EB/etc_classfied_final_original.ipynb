{
 "cells": [
  {
   "cell_type": "markdown",
   "id": "7926c766-e106-4176-a2db-35d94993f785",
   "metadata": {
    "tags": []
   },
   "source": [
    "# CNN + 분류 모델 (학습데이터셋: final_training_data_original)"
   ]
  },
  {
   "cell_type": "code",
   "execution_count": 1,
   "id": "24b31494",
   "metadata": {},
   "outputs": [],
   "source": [
    "import tensorflow as tf\n",
    "tf.config.set_visible_devices([], 'GPU')"
   ]
  },
  {
   "cell_type": "code",
   "execution_count": 2,
   "id": "f722e487-4466-472e-ae6a-e1a9e43d2d49",
   "metadata": {},
   "outputs": [],
   "source": [
    "import os\n",
    "import numpy as np\n",
    "import pandas as pd\n",
    "import librosa\n",
    "from sklearn.model_selection import train_test_split\n",
    "from sklearn.preprocessing import LabelEncoder\n",
    "from sklearn.metrics import accuracy_score, classification_report, confusion_matrix\n",
    "from tensorflow.keras.models import Sequential\n",
    "from tensorflow.keras.layers import Dense, Conv1D, MaxPooling1D, Flatten, Dropout\n",
    "from tensorflow.keras.utils import to_categorical\n",
    "from tqdm import tqdm"
   ]
  },
  {
   "cell_type": "markdown",
   "id": "155d7094-d02b-46b2-a460-b12032b2ab08",
   "metadata": {},
   "source": [
    "# 데이터 준비 및 전처리\n",
    "- combined_result.csv (raw_data + 기타소음4)"
   ]
  },
  {
   "cell_type": "code",
   "execution_count": 3,
   "id": "2bccf207-e413-4cf2-abb2-a1d19ebf0d56",
   "metadata": {},
   "outputs": [],
   "source": [
    "#학습 데이터 준비\n",
    "df = pd.read_csv(\"final_training_data_original.csv\", encoding='utf-8')\n",
    "feature_cols = [f'mfcc_{i}' for i in range(1, 51)]\n",
    "df = df[feature_cols + ['category_03']]"
   ]
  },
  {
   "cell_type": "code",
   "execution_count": 4,
   "id": "8c6611f2-2ac5-4d66-9e02-c842cc528164",
   "metadata": {},
   "outputs": [
    {
     "data": {
      "text/plain": [
       "(30395, 51)"
      ]
     },
     "execution_count": 4,
     "metadata": {},
     "output_type": "execute_result"
    }
   ],
   "source": [
    "df.shape"
   ]
  },
  {
   "cell_type": "code",
   "execution_count": 5,
   "id": "793a4052-596c-4fdc-a417-acbf98fec260",
   "metadata": {},
   "outputs": [
    {
     "data": {
      "text/plain": [
       "<bound method DataFrame.info of            mfcc_1      mfcc_2     mfcc_3     mfcc_4     mfcc_5     mfcc_6  \\\n",
       "0     -391.004300  107.641975  64.204640  33.718952  20.630340  13.337987   \n",
       "1     -233.662840   87.917620  45.434906  19.435001   9.098841  32.400368   \n",
       "2     -318.161530  126.123180  43.729805 -11.429483  -5.223235  13.667998   \n",
       "3     -385.209260  140.265410  57.263832  -7.932145  -3.877982  14.155136   \n",
       "4     -382.124500  150.004900  61.439040 -17.890905  -7.740589  15.947204   \n",
       "...           ...         ...        ...        ...        ...        ...   \n",
       "30390 -344.941956   75.622345 -10.009164 -10.861253   1.282245  25.479780   \n",
       "30391 -342.402252   94.272285  26.308794  19.576403  14.986108  21.159178   \n",
       "30392 -433.578156  146.280182  -3.445537  32.104584  -4.695651  21.684990   \n",
       "30393 -381.544830  146.417786  10.526478  13.691162  16.856730   2.699800   \n",
       "30394 -269.841431  172.992615 -36.046337  22.788210  -5.915753  10.119747   \n",
       "\n",
       "          mfcc_7     mfcc_8     mfcc_9    mfcc_10  ...   mfcc_42   mfcc_43  \\\n",
       "0       9.100019   8.873220   9.340549   8.287990  ... -0.757743 -2.858810   \n",
       "1       5.817845   9.204194  14.611247  20.294502  ...  8.347244 -2.440833   \n",
       "2       0.934844  10.497743   2.401143  22.281258  ...  1.538178 -0.032047   \n",
       "3       6.298158  11.397833   2.566783  15.076704  ...  2.996135 -0.142866   \n",
       "4       3.806582   7.909450   2.633213  14.426663  ...  2.107300  1.768516   \n",
       "...          ...        ...        ...        ...  ...       ...       ...   \n",
       "30390   5.266775   4.536858 -21.366671   1.417103  ...  1.236529  1.614501   \n",
       "30391  13.084022  15.533822   8.334701   9.801542  ... -1.392887 -1.813820   \n",
       "30392   6.654025  -4.213011   9.336953  -0.870667  ... -2.475883  0.887913   \n",
       "30393   5.527388   4.850592   3.956484  12.075219  ... -1.328159 -0.409700   \n",
       "30394  -5.150945   4.942822 -10.459779  -8.906081  ...  0.122164 -0.586995   \n",
       "\n",
       "         mfcc_44    mfcc_45    mfcc_46    mfcc_47    mfcc_48    mfcc_49  \\\n",
       "0      -5.101422  -0.198150   7.001447   6.203896  -2.862313 -10.336964   \n",
       "1     -17.408949  -5.891588  22.778133  21.374588 -19.310514 -26.457247   \n",
       "2     -10.759938 -10.296665  14.938017  19.099138  -5.256958 -27.792421   \n",
       "3      -8.995171  -4.227169   8.116351  11.163322  -4.992955 -16.359087   \n",
       "4     -10.489394  -4.815802   9.592706  12.866017  -3.469832 -20.286922   \n",
       "...          ...        ...        ...        ...        ...        ...   \n",
       "30390   0.086138   0.028951  -0.253908  -1.313876  -1.611521  -2.307126   \n",
       "30391  -0.471907   0.548512  -0.216399  -1.415591   0.020816   1.320833   \n",
       "30392   0.071810  -0.944529   1.765205  -0.601994   1.356133   0.950066   \n",
       "30393   0.190598   0.440036   0.208449  -1.235412   0.086889   0.169911   \n",
       "30394   0.007654   0.676601   1.536853   2.281101   0.112200  -0.210119   \n",
       "\n",
       "        mfcc_50  category_03  \n",
       "0     -8.593492         차량경적  \n",
       "1      4.794274         차량경적  \n",
       "2     -7.377015         차량경적  \n",
       "3     -5.441961         차량경적  \n",
       "4     -6.563427         차량경적  \n",
       "...         ...          ...  \n",
       "30390 -1.273106           공구  \n",
       "30391  0.656980           공구  \n",
       "30392 -1.457089           공구  \n",
       "30393 -1.426607           공구  \n",
       "30394  1.397945           공구  \n",
       "\n",
       "[30395 rows x 51 columns]>"
      ]
     },
     "execution_count": 5,
     "metadata": {},
     "output_type": "execute_result"
    }
   ],
   "source": [
    "df.info"
   ]
  },
  {
   "cell_type": "code",
   "execution_count": 6,
   "id": "c448cb8d-1917-46c5-82fa-90d5f06e14be",
   "metadata": {},
   "outputs": [
    {
     "data": {
      "text/plain": [
       "이륜차주행음    4735\n",
       "이륜차경적     4560\n",
       "차량경적      3189\n",
       "항타기       3036\n",
       "콘크리트펌프    2730\n",
       "공구        2216\n",
       "발전기       2164\n",
       "개         2077\n",
       "고양이       2016\n",
       "차량사이렌     1990\n",
       "차량주행음     1682\n",
       "Name: category_03, dtype: int64"
      ]
     },
     "execution_count": 6,
     "metadata": {},
     "output_type": "execute_result"
    }
   ],
   "source": [
    "df['category_03'].value_counts()"
   ]
  },
  {
   "cell_type": "markdown",
   "id": "8308502d-9670-4b08-b69b-d8215ad47bda",
   "metadata": {},
   "source": [
    "# 소음 카테고리 변환"
   ]
  },
  {
   "cell_type": "code",
   "execution_count": 7,
   "id": "e54da68c",
   "metadata": {},
   "outputs": [],
   "source": [
    "# 소음 카테고리 변환 함수\n",
    "def categorize_noise(category):\n",
    "    if category in ['이륜차경적']:\n",
    "        return '이륜차경적'\n",
    "    elif category in ['이륜차주행음']:\n",
    "        return '이륜차주행음'\n",
    "    elif category in ['차량사이렌']:\n",
    "        return '차량사이렌'\n",
    "    elif category in ['차량주행음']:\n",
    "        return '차량주행음'\n",
    "    elif category in ['차량경적']:\n",
    "        return '차량경적'\n",
    "    else:\n",
    "        return '기타소음'\n",
    "\n",
    "df['label'] = df['category_03'].apply(categorize_noise)\n",
    "df = df.drop('category_03', axis=1)\n",
    "\n",
    "X = df[feature_cols].values  # MFCC 특징 값\n",
    "y = df['label'].values       # 레이블\n",
    "\n",
    "# 레이블 인코딩 (문자 → 숫자)\n",
    "label_encoder = LabelEncoder()\n",
    "y_encoded = label_encoder.fit_transform(y)\n",
    "y_categorical = to_categorical(y_encoded)  # One-hot 인코딩\n",
    "\n",
    "# 데이터셋 분할 (훈련:테스트 = 80:20)\n",
    "X_train, X_test, y_train, y_test = train_test_split(X, y_categorical, test_size=0.2, random_state=42, stratify=y)\n",
    "\n",
    "# CNN 입력 형태로 변환 (3D 텐서: 샘플 수 x 시간 축 x 특징 수)\n",
    "X_train = X_train.reshape(X_train.shape[0], X_train.shape[1], 1)\n",
    "X_test = X_test.reshape(X_test.shape[0], X_test.shape[1], 1)"
   ]
  },
  {
   "cell_type": "code",
   "execution_count": 8,
   "id": "4d880a78-41ae-45c3-8d5c-8bf150f26b57",
   "metadata": {},
   "outputs": [
    {
     "data": {
      "text/plain": [
       "기타소음      14239\n",
       "이륜차주행음     4735\n",
       "이륜차경적      4560\n",
       "차량경적       3189\n",
       "차량사이렌      1990\n",
       "차량주행음      1682\n",
       "Name: label, dtype: int64"
      ]
     },
     "execution_count": 8,
     "metadata": {},
     "output_type": "execute_result"
    }
   ],
   "source": [
    "df['label'].value_counts()"
   ]
  },
  {
   "cell_type": "markdown",
   "id": "f99bd144-7474-4715-b7d7-c63b75b4b493",
   "metadata": {},
   "source": [
    "# 모델 생성"
   ]
  },
  {
   "cell_type": "markdown",
   "id": "20b410af-f7c3-49e4-84e0-51c07d1a9fcc",
   "metadata": {},
   "source": [
    "## CNN"
   ]
  },
  {
   "cell_type": "code",
   "execution_count": 9,
   "id": "ef6939f1-4285-4765-8f19-219a246dd0e3",
   "metadata": {},
   "outputs": [],
   "source": [
    "# CNN 모델 정의\n",
    "model = Sequential([\n",
    "    Conv1D(64, kernel_size=3, activation='relu', input_shape=(X_train.shape[1], 1)),\n",
    "    MaxPooling1D(pool_size=2),\n",
    "    Dropout(0.3),\n",
    "    \n",
    "    Conv1D(128, kernel_size=3, activation='relu'),\n",
    "    MaxPooling1D(pool_size=2),\n",
    "    Dropout(0.3),\n",
    "    \n",
    "    Flatten(),\n",
    "    Dense(128, activation='relu'),\n",
    "    Dropout(0.3),\n",
    "    Dense(y_categorical.shape[1], activation='softmax')  # 출력층 (카테고리 수만큼 출력)\n",
    "])"
   ]
  },
  {
   "cell_type": "code",
   "execution_count": 10,
   "id": "9ed9bb7d-d678-4942-89f4-ed400b1f0471",
   "metadata": {},
   "outputs": [
    {
     "name": "stdout",
     "output_type": "stream",
     "text": [
      "Epoch 1/30\n",
      "760/760 [==============================] - 6s 7ms/step - loss: 0.6168 - accuracy: 0.8009 - val_loss: 0.2346 - val_accuracy: 0.9112\n",
      "Epoch 2/30\n",
      "760/760 [==============================] - 5s 7ms/step - loss: 0.2958 - accuracy: 0.8931 - val_loss: 0.1887 - val_accuracy: 0.9344\n",
      "Epoch 3/30\n",
      "760/760 [==============================] - 6s 7ms/step - loss: 0.2408 - accuracy: 0.9144 - val_loss: 0.1481 - val_accuracy: 0.9488\n",
      "Epoch 4/30\n",
      "760/760 [==============================] - 7s 9ms/step - loss: 0.2089 - accuracy: 0.9246 - val_loss: 0.1318 - val_accuracy: 0.9567\n",
      "Epoch 5/30\n",
      "760/760 [==============================] - 7s 9ms/step - loss: 0.1916 - accuracy: 0.9318 - val_loss: 0.1188 - val_accuracy: 0.9607\n",
      "Epoch 6/30\n",
      "760/760 [==============================] - 6s 9ms/step - loss: 0.1729 - accuracy: 0.9374 - val_loss: 0.1226 - val_accuracy: 0.9599\n",
      "Epoch 7/30\n",
      "760/760 [==============================] - 6s 8ms/step - loss: 0.1654 - accuracy: 0.9401 - val_loss: 0.1135 - val_accuracy: 0.9627\n",
      "Epoch 8/30\n",
      "760/760 [==============================] - 6s 8ms/step - loss: 0.1513 - accuracy: 0.9462 - val_loss: 0.1157 - val_accuracy: 0.9587\n",
      "Epoch 9/30\n",
      "760/760 [==============================] - 6s 8ms/step - loss: 0.1491 - accuracy: 0.9477 - val_loss: 0.0985 - val_accuracy: 0.9683\n",
      "Epoch 10/30\n",
      "760/760 [==============================] - 6s 8ms/step - loss: 0.1398 - accuracy: 0.9500 - val_loss: 0.0984 - val_accuracy: 0.9666\n",
      "Epoch 11/30\n",
      "760/760 [==============================] - 6s 8ms/step - loss: 0.1335 - accuracy: 0.9526 - val_loss: 0.0976 - val_accuracy: 0.9666\n",
      "Epoch 12/30\n",
      "760/760 [==============================] - 6s 8ms/step - loss: 0.1311 - accuracy: 0.9523 - val_loss: 0.0934 - val_accuracy: 0.9691\n",
      "Epoch 13/30\n",
      "760/760 [==============================] - 6s 8ms/step - loss: 0.1271 - accuracy: 0.9551 - val_loss: 0.0932 - val_accuracy: 0.9679\n",
      "Epoch 14/30\n",
      "760/760 [==============================] - 7s 9ms/step - loss: 0.1239 - accuracy: 0.9557 - val_loss: 0.0951 - val_accuracy: 0.9674\n",
      "Epoch 15/30\n",
      "760/760 [==============================] - 6s 8ms/step - loss: 0.1155 - accuracy: 0.9581 - val_loss: 0.0888 - val_accuracy: 0.9699\n",
      "Epoch 16/30\n",
      "760/760 [==============================] - 6s 8ms/step - loss: 0.1182 - accuracy: 0.9574 - val_loss: 0.0931 - val_accuracy: 0.9699\n",
      "Epoch 17/30\n",
      "760/760 [==============================] - 6s 8ms/step - loss: 0.1096 - accuracy: 0.9615 - val_loss: 0.0922 - val_accuracy: 0.9707\n",
      "Epoch 18/30\n",
      "760/760 [==============================] - 7s 9ms/step - loss: 0.1118 - accuracy: 0.9593 - val_loss: 0.0882 - val_accuracy: 0.9701\n",
      "Epoch 19/30\n",
      "760/760 [==============================] - 7s 9ms/step - loss: 0.1036 - accuracy: 0.9622 - val_loss: 0.0894 - val_accuracy: 0.9696\n",
      "Epoch 20/30\n",
      "760/760 [==============================] - 6s 8ms/step - loss: 0.1084 - accuracy: 0.9608 - val_loss: 0.0929 - val_accuracy: 0.9661\n",
      "Epoch 21/30\n",
      "760/760 [==============================] - 6s 8ms/step - loss: 0.1053 - accuracy: 0.9629 - val_loss: 0.0843 - val_accuracy: 0.9735\n",
      "Epoch 22/30\n",
      "760/760 [==============================] - 6s 8ms/step - loss: 0.0966 - accuracy: 0.9660 - val_loss: 0.0882 - val_accuracy: 0.9691\n",
      "Epoch 23/30\n",
      "760/760 [==============================] - 6s 8ms/step - loss: 0.1062 - accuracy: 0.9617 - val_loss: 0.0982 - val_accuracy: 0.9687\n",
      "Epoch 24/30\n",
      "760/760 [==============================] - 6s 8ms/step - loss: 0.1016 - accuracy: 0.9632 - val_loss: 0.0902 - val_accuracy: 0.9704\n",
      "Epoch 25/30\n",
      "760/760 [==============================] - 6s 8ms/step - loss: 0.0972 - accuracy: 0.9640 - val_loss: 0.0913 - val_accuracy: 0.9678\n",
      "Epoch 26/30\n",
      "760/760 [==============================] - 6s 8ms/step - loss: 0.0994 - accuracy: 0.9655 - val_loss: 0.0876 - val_accuracy: 0.9699\n",
      "Epoch 27/30\n",
      "760/760 [==============================] - 7s 9ms/step - loss: 0.0962 - accuracy: 0.9652 - val_loss: 0.0894 - val_accuracy: 0.9710\n",
      "Epoch 28/30\n",
      "760/760 [==============================] - 6s 8ms/step - loss: 0.0989 - accuracy: 0.9650 - val_loss: 0.0944 - val_accuracy: 0.9701\n",
      "Epoch 29/30\n",
      "760/760 [==============================] - 6s 8ms/step - loss: 0.0922 - accuracy: 0.9656 - val_loss: 0.0872 - val_accuracy: 0.9694\n",
      "Epoch 30/30\n",
      "760/760 [==============================] - 6s 8ms/step - loss: 0.0944 - accuracy: 0.9665 - val_loss: 0.0905 - val_accuracy: 0.9710\n",
      "190/190 [==============================] - 0s 2ms/step - loss: 0.0905 - accuracy: 0.9710\n",
      "Accuracy: 0.9710\n",
      "Classification Report:\n",
      "               precision    recall  f1-score   support\n",
      "\n",
      "        기타소음       0.99      1.00      0.99      2848\n",
      "       이륜차경적       0.99      0.96      0.97       912\n",
      "      이륜차주행음       0.94      0.95      0.95       947\n",
      "        차량경적       0.94      0.97      0.95       638\n",
      "       차량사이렌       0.99      0.95      0.97       398\n",
      "       차량주행음       0.86      0.90      0.88       336\n",
      "\n",
      "    accuracy                           0.97      6079\n",
      "   macro avg       0.95      0.95      0.95      6079\n",
      "weighted avg       0.97      0.97      0.97      6079\n",
      "\n",
      "Confusion Matrix:\n",
      " [[2835    1    6    2    2    2]\n",
      " [   0  872    3   37    0    0]\n",
      " [   9    0  897    0    1   40]\n",
      " [   3   10    7  617    0    1]\n",
      " [   7    0    5    1  380    5]\n",
      " [   1    0   33    0    0  302]]\n"
     ]
    }
   ],
   "source": [
    "# 모델 컴파일 및 학습\n",
    "model.compile(optimizer='adam', loss='categorical_crossentropy', metrics=['accuracy'])\n",
    "history = model.fit(X_train, y_train, epochs=30, batch_size=32, validation_data=(X_test, y_test))\n",
    "\n",
    "# 테스트 정확도 출력\n",
    "test_loss, test_accuracy = model.evaluate(X_test, y_test)\n",
    "\n",
    "# 테스트 데이터에 대한 예측 수행\n",
    "y_pred = model.predict(X_test)\n",
    "y_pred_classes = np.argmax(y_pred, axis=1)  # 예측된 클래스 인덱스\n",
    "y_true_classes = np.argmax(y_test, axis=1)  # 실제 클래스 인덱스\n",
    "\n",
    "# 정확도 계산\n",
    "accuracy = accuracy_score(y_true_classes, y_pred_classes)\n",
    "print(f\"Accuracy: {accuracy:.4f}\")\n",
    "\n",
    "# 분류 보고서 출력\n",
    "class_names = label_encoder.classes_\n",
    "report = classification_report(y_true_classes, y_pred_classes, target_names=class_names)\n",
    "print(\"Classification Report:\\n\", report)\n",
    "\n",
    "# 혼동 행렬 출력\n",
    "conf_matrix = confusion_matrix(y_true_classes, y_pred_classes)\n",
    "print(\"Confusion Matrix:\\n\", conf_matrix)"
   ]
  },
  {
   "cell_type": "code",
   "execution_count": 11,
   "id": "86ff2ab9-b827-4f95-9002-48a342848c44",
   "metadata": {},
   "outputs": [],
   "source": [
    "# # 모델 저장\n",
    "# model.save('cnn_model_6classfication.h5')\n",
    "# print(\"모델이 cnn_model_6classfication.h5 파일로 저장되었습니다.\")"
   ]
  },
  {
   "cell_type": "markdown",
   "id": "c2450d97-c64c-4dc0-ad4f-a5f8d227a1ea",
   "metadata": {},
   "source": [
    "### 성능 개선\n",
    "- 배치 정규화 (Batch Normalisation) 레이어 Conv1D 와 Dense 추가\n",
    "- 앙상블 기법 적용\n",
    "- ReduceROnPlateau 콜백 사용 \n",
    "- 모델 구조 함수화"
   ]
  },
  {
   "cell_type": "code",
   "execution_count": 12,
   "id": "e5a581fe-7609-46c3-9938-b440534101d5",
   "metadata": {},
   "outputs": [
    {
     "name": "stdout",
     "output_type": "stream",
     "text": [
      "Training model 1/3\n",
      "Epoch 1/30\n",
      "451/451 [==============================] - 6s 11ms/step - loss: 0.6399 - accuracy: 0.7664 - val_loss: 0.3234 - val_accuracy: 0.8840\n",
      "Epoch 2/30\n",
      "451/451 [==============================] - 5s 11ms/step - loss: 0.4254 - accuracy: 0.8469 - val_loss: 0.2759 - val_accuracy: 0.8996\n",
      "Epoch 3/30\n",
      "451/451 [==============================] - 5s 11ms/step - loss: 0.3601 - accuracy: 0.8651 - val_loss: 0.2398 - val_accuracy: 0.9135\n",
      "Epoch 4/30\n",
      "451/451 [==============================] - 5s 11ms/step - loss: 0.3217 - accuracy: 0.8842 - val_loss: 0.2334 - val_accuracy: 0.9165\n",
      "Epoch 5/30\n",
      "451/451 [==============================] - 5s 12ms/step - loss: 0.2999 - accuracy: 0.8924 - val_loss: 0.2184 - val_accuracy: 0.9160\n",
      "Epoch 6/30\n",
      "451/451 [==============================] - 5s 11ms/step - loss: 0.2712 - accuracy: 0.9029 - val_loss: 0.2101 - val_accuracy: 0.9234\n",
      "Epoch 7/30\n",
      "451/451 [==============================] - 5s 10ms/step - loss: 0.2657 - accuracy: 0.9039 - val_loss: 0.1988 - val_accuracy: 0.9270\n",
      "Epoch 8/30\n",
      "451/451 [==============================] - 6s 14ms/step - loss: 0.2494 - accuracy: 0.9098 - val_loss: 0.1718 - val_accuracy: 0.9365\n",
      "Epoch 9/30\n",
      "451/451 [==============================] - 7s 16ms/step - loss: 0.2343 - accuracy: 0.9167 - val_loss: 0.1780 - val_accuracy: 0.9351\n",
      "Epoch 10/30\n",
      "451/451 [==============================] - 7s 16ms/step - loss: 0.2293 - accuracy: 0.9181 - val_loss: 0.1780 - val_accuracy: 0.9390\n",
      "Epoch 11/30\n",
      "451/451 [==============================] - 7s 15ms/step - loss: 0.2189 - accuracy: 0.9213 - val_loss: 0.1712 - val_accuracy: 0.9354\n",
      "Epoch 12/30\n",
      "451/451 [==============================] - 7s 15ms/step - loss: 0.2188 - accuracy: 0.9209 - val_loss: 0.1683 - val_accuracy: 0.9412\n",
      "Epoch 13/30\n",
      "451/451 [==============================] - 7s 15ms/step - loss: 0.2120 - accuracy: 0.9238 - val_loss: 0.1835 - val_accuracy: 0.9315\n",
      "Epoch 14/30\n",
      "451/451 [==============================] - 7s 16ms/step - loss: 0.2027 - accuracy: 0.9279 - val_loss: 0.1681 - val_accuracy: 0.9379\n",
      "Epoch 15/30\n",
      "451/451 [==============================] - 7s 16ms/step - loss: 0.1999 - accuracy: 0.9295 - val_loss: 0.1619 - val_accuracy: 0.9384\n",
      "Epoch 16/30\n",
      "451/451 [==============================] - 7s 16ms/step - loss: 0.1864 - accuracy: 0.9305 - val_loss: 0.1534 - val_accuracy: 0.9445\n",
      "Epoch 17/30\n",
      "451/451 [==============================] - 7s 16ms/step - loss: 0.1851 - accuracy: 0.9322 - val_loss: 0.1462 - val_accuracy: 0.9451\n",
      "Epoch 18/30\n",
      "451/451 [==============================] - 7s 16ms/step - loss: 0.1834 - accuracy: 0.9336 - val_loss: 0.1525 - val_accuracy: 0.9431\n",
      "Epoch 19/30\n",
      "451/451 [==============================] - 7s 16ms/step - loss: 0.1776 - accuracy: 0.9358 - val_loss: 0.1519 - val_accuracy: 0.9434\n",
      "Epoch 20/30\n",
      "451/451 [==============================] - 7s 16ms/step - loss: 0.1778 - accuracy: 0.9355 - val_loss: 0.1448 - val_accuracy: 0.9470\n",
      "Epoch 21/30\n",
      "451/451 [==============================] - 7s 16ms/step - loss: 0.1677 - accuracy: 0.9378 - val_loss: 0.1416 - val_accuracy: 0.9487\n",
      "Epoch 22/30\n",
      "451/451 [==============================] - 7s 15ms/step - loss: 0.1644 - accuracy: 0.9385 - val_loss: 0.1524 - val_accuracy: 0.9454\n",
      "Epoch 23/30\n",
      "451/451 [==============================] - 7s 15ms/step - loss: 0.1673 - accuracy: 0.9371 - val_loss: 0.1523 - val_accuracy: 0.9440\n",
      "Epoch 24/30\n",
      "451/451 [==============================] - 7s 16ms/step - loss: 0.1698 - accuracy: 0.9378 - val_loss: 0.1437 - val_accuracy: 0.9490\n",
      "Epoch 25/30\n",
      "451/451 [==============================] - 7s 15ms/step - loss: 0.1577 - accuracy: 0.9404 - val_loss: 0.1369 - val_accuracy: 0.9515\n",
      "Epoch 26/30\n",
      "451/451 [==============================] - 7s 16ms/step - loss: 0.1554 - accuracy: 0.9430 - val_loss: 0.1414 - val_accuracy: 0.9503\n",
      "Epoch 27/30\n",
      "451/451 [==============================] - 7s 15ms/step - loss: 0.1479 - accuracy: 0.9453 - val_loss: 0.1467 - val_accuracy: 0.9465\n",
      "Epoch 28/30\n",
      "451/451 [==============================] - 7s 16ms/step - loss: 0.1511 - accuracy: 0.9439 - val_loss: 0.1480 - val_accuracy: 0.9467\n",
      "Epoch 29/30\n",
      "451/451 [==============================] - 7s 15ms/step - loss: 0.1535 - accuracy: 0.9424 - val_loss: 0.1432 - val_accuracy: 0.9465\n",
      "Epoch 30/30\n",
      "451/451 [==============================] - 7s 15ms/step - loss: 0.1473 - accuracy: 0.9462 - val_loss: 0.1409 - val_accuracy: 0.9506\n",
      "Training model 2/3\n",
      "Epoch 1/30\n",
      "451/451 [==============================] - 9s 16ms/step - loss: 0.6329 - accuracy: 0.7701 - val_loss: 0.3631 - val_accuracy: 0.8660\n",
      "Epoch 2/30\n",
      "451/451 [==============================] - 7s 15ms/step - loss: 0.4035 - accuracy: 0.8520 - val_loss: 0.2812 - val_accuracy: 0.8960\n",
      "Epoch 3/30\n",
      "451/451 [==============================] - 7s 16ms/step - loss: 0.3508 - accuracy: 0.8727 - val_loss: 0.2336 - val_accuracy: 0.9115\n",
      "Epoch 4/30\n",
      "451/451 [==============================] - 7s 16ms/step - loss: 0.3156 - accuracy: 0.8821 - val_loss: 0.2165 - val_accuracy: 0.9179\n",
      "Epoch 5/30\n",
      "451/451 [==============================] - 7s 16ms/step - loss: 0.2839 - accuracy: 0.8980 - val_loss: 0.2085 - val_accuracy: 0.9254\n",
      "Epoch 6/30\n",
      "451/451 [==============================] - 7s 16ms/step - loss: 0.2760 - accuracy: 0.9002 - val_loss: 0.2305 - val_accuracy: 0.9112\n",
      "Epoch 7/30\n",
      "451/451 [==============================] - 7s 16ms/step - loss: 0.2556 - accuracy: 0.9084 - val_loss: 0.1851 - val_accuracy: 0.9326\n",
      "Epoch 8/30\n",
      "451/451 [==============================] - 7s 16ms/step - loss: 0.2543 - accuracy: 0.9064 - val_loss: 0.1953 - val_accuracy: 0.9298\n",
      "Epoch 9/30\n",
      "451/451 [==============================] - 7s 16ms/step - loss: 0.2324 - accuracy: 0.9165 - val_loss: 0.1700 - val_accuracy: 0.9345\n",
      "Epoch 10/30\n",
      "451/451 [==============================] - 7s 16ms/step - loss: 0.2208 - accuracy: 0.9213 - val_loss: 0.1836 - val_accuracy: 0.9362\n",
      "Epoch 11/30\n",
      "451/451 [==============================] - 7s 15ms/step - loss: 0.2230 - accuracy: 0.9205 - val_loss: 0.1800 - val_accuracy: 0.9315\n",
      "Epoch 12/30\n",
      "451/451 [==============================] - 7s 16ms/step - loss: 0.2114 - accuracy: 0.9258 - val_loss: 0.1619 - val_accuracy: 0.9434\n",
      "Epoch 13/30\n",
      "451/451 [==============================] - 7s 16ms/step - loss: 0.2032 - accuracy: 0.9250 - val_loss: 0.1685 - val_accuracy: 0.9406\n",
      "Epoch 14/30\n",
      "451/451 [==============================] - 7s 15ms/step - loss: 0.1995 - accuracy: 0.9290 - val_loss: 0.1484 - val_accuracy: 0.9454\n",
      "Epoch 15/30\n",
      "451/451 [==============================] - 8s 18ms/step - loss: 0.2002 - accuracy: 0.9272 - val_loss: 0.1564 - val_accuracy: 0.9437\n",
      "Epoch 16/30\n",
      "451/451 [==============================] - 8s 17ms/step - loss: 0.1850 - accuracy: 0.9347 - val_loss: 0.1492 - val_accuracy: 0.9473\n",
      "Epoch 17/30\n",
      "451/451 [==============================] - 7s 16ms/step - loss: 0.1841 - accuracy: 0.9326 - val_loss: 0.1583 - val_accuracy: 0.9462\n",
      "Epoch 18/30\n",
      "451/451 [==============================] - 7s 16ms/step - loss: 0.1830 - accuracy: 0.9329 - val_loss: 0.1477 - val_accuracy: 0.9479\n",
      "Epoch 19/30\n",
      "451/451 [==============================] - 7s 16ms/step - loss: 0.1795 - accuracy: 0.9355 - val_loss: 0.1740 - val_accuracy: 0.9373\n",
      "Epoch 20/30\n",
      "451/451 [==============================] - 7s 16ms/step - loss: 0.1627 - accuracy: 0.9415 - val_loss: 0.1553 - val_accuracy: 0.9440\n",
      "Epoch 21/30\n",
      "451/451 [==============================] - 7s 16ms/step - loss: 0.1606 - accuracy: 0.9405 - val_loss: 0.1472 - val_accuracy: 0.9473\n",
      "Epoch 22/30\n",
      "451/451 [==============================] - 7s 16ms/step - loss: 0.1604 - accuracy: 0.9426 - val_loss: 0.1581 - val_accuracy: 0.9437\n",
      "Epoch 23/30\n",
      "451/451 [==============================] - 8s 17ms/step - loss: 0.1603 - accuracy: 0.9392 - val_loss: 0.1483 - val_accuracy: 0.9487\n",
      "Epoch 24/30\n",
      "451/451 [==============================] - 7s 16ms/step - loss: 0.1531 - accuracy: 0.9448 - val_loss: 0.1512 - val_accuracy: 0.9492\n",
      "Epoch 25/30\n",
      "451/451 [==============================] - 8s 17ms/step - loss: 0.1535 - accuracy: 0.9426 - val_loss: 0.1828 - val_accuracy: 0.9376\n",
      "Epoch 26/30\n",
      "451/451 [==============================] - 7s 16ms/step - loss: 0.1541 - accuracy: 0.9433 - val_loss: 0.1639 - val_accuracy: 0.9448\n",
      "Epoch 27/30\n",
      "451/451 [==============================] - 7s 16ms/step - loss: 0.1372 - accuracy: 0.9487 - val_loss: 0.1463 - val_accuracy: 0.9506\n",
      "Epoch 28/30\n",
      "451/451 [==============================] - 7s 16ms/step - loss: 0.1339 - accuracy: 0.9502 - val_loss: 0.1383 - val_accuracy: 0.9509\n",
      "Epoch 29/30\n",
      "451/451 [==============================] - 7s 15ms/step - loss: 0.1275 - accuracy: 0.9526 - val_loss: 0.1396 - val_accuracy: 0.9515\n",
      "Epoch 30/30\n",
      "451/451 [==============================] - 7s 16ms/step - loss: 0.1251 - accuracy: 0.9546 - val_loss: 0.1394 - val_accuracy: 0.9531\n",
      "Training model 3/3\n",
      "Epoch 1/30\n",
      "451/451 [==============================] - 9s 16ms/step - loss: 0.6422 - accuracy: 0.7694 - val_loss: 0.3272 - val_accuracy: 0.8763\n",
      "Epoch 2/30\n",
      "451/451 [==============================] - 7s 15ms/step - loss: 0.4097 - accuracy: 0.8523 - val_loss: 0.2627 - val_accuracy: 0.9093\n",
      "Epoch 3/30\n",
      "451/451 [==============================] - 7s 15ms/step - loss: 0.3477 - accuracy: 0.8744 - val_loss: 0.2624 - val_accuracy: 0.9060\n",
      "Epoch 4/30\n",
      "451/451 [==============================] - 7s 16ms/step - loss: 0.3180 - accuracy: 0.8846 - val_loss: 0.2151 - val_accuracy: 0.9248\n",
      "Epoch 5/30\n",
      "451/451 [==============================] - 7s 15ms/step - loss: 0.2952 - accuracy: 0.8936 - val_loss: 0.1994 - val_accuracy: 0.9290\n",
      "Epoch 6/30\n",
      "451/451 [==============================] - 7s 16ms/step - loss: 0.2796 - accuracy: 0.8988 - val_loss: 0.1969 - val_accuracy: 0.9290\n",
      "Epoch 7/30\n",
      "451/451 [==============================] - 7s 16ms/step - loss: 0.2667 - accuracy: 0.9033 - val_loss: 0.1977 - val_accuracy: 0.9254\n",
      "Epoch 8/30\n",
      "451/451 [==============================] - 7s 16ms/step - loss: 0.2562 - accuracy: 0.9055 - val_loss: 0.1898 - val_accuracy: 0.9323\n",
      "Epoch 9/30\n",
      "451/451 [==============================] - 7s 16ms/step - loss: 0.2483 - accuracy: 0.9112 - val_loss: 0.1694 - val_accuracy: 0.9381\n",
      "Epoch 10/30\n",
      "451/451 [==============================] - 7s 16ms/step - loss: 0.2248 - accuracy: 0.9180 - val_loss: 0.1882 - val_accuracy: 0.9265\n",
      "Epoch 11/30\n",
      "451/451 [==============================] - 7s 16ms/step - loss: 0.2098 - accuracy: 0.9231 - val_loss: 0.1687 - val_accuracy: 0.9384\n",
      "Epoch 12/30\n",
      "451/451 [==============================] - 7s 16ms/step - loss: 0.2165 - accuracy: 0.9186 - val_loss: 0.1611 - val_accuracy: 0.9370\n",
      "Epoch 13/30\n",
      "451/451 [==============================] - 7s 16ms/step - loss: 0.2066 - accuracy: 0.9249 - val_loss: 0.1679 - val_accuracy: 0.9370\n",
      "Epoch 14/30\n",
      "451/451 [==============================] - 7s 16ms/step - loss: 0.2073 - accuracy: 0.9242 - val_loss: 0.1603 - val_accuracy: 0.9401\n",
      "Epoch 15/30\n",
      "451/451 [==============================] - 7s 15ms/step - loss: 0.1973 - accuracy: 0.9283 - val_loss: 0.1651 - val_accuracy: 0.9426\n",
      "Epoch 16/30\n",
      "451/451 [==============================] - 7s 15ms/step - loss: 0.1879 - accuracy: 0.9320 - val_loss: 0.1531 - val_accuracy: 0.9476\n",
      "Epoch 17/30\n",
      "451/451 [==============================] - 7s 15ms/step - loss: 0.1897 - accuracy: 0.9304 - val_loss: 0.1640 - val_accuracy: 0.9445\n",
      "Epoch 18/30\n",
      "451/451 [==============================] - 7s 16ms/step - loss: 0.1846 - accuracy: 0.9322 - val_loss: 0.1502 - val_accuracy: 0.9473\n",
      "Epoch 19/30\n",
      "451/451 [==============================] - 7s 15ms/step - loss: 0.1770 - accuracy: 0.9366 - val_loss: 0.1505 - val_accuracy: 0.9462\n",
      "Epoch 20/30\n",
      "451/451 [==============================] - 7s 16ms/step - loss: 0.1688 - accuracy: 0.9378 - val_loss: 0.1600 - val_accuracy: 0.9445\n",
      "Epoch 21/30\n",
      "451/451 [==============================] - 7s 15ms/step - loss: 0.1748 - accuracy: 0.9342 - val_loss: 0.1492 - val_accuracy: 0.9445\n",
      "Epoch 22/30\n",
      "451/451 [==============================] - 7s 15ms/step - loss: 0.1713 - accuracy: 0.9378 - val_loss: 0.1542 - val_accuracy: 0.9451\n",
      "Epoch 23/30\n",
      "451/451 [==============================] - 7s 15ms/step - loss: 0.1757 - accuracy: 0.9358 - val_loss: 0.1521 - val_accuracy: 0.9451\n",
      "Epoch 24/30\n",
      "451/451 [==============================] - 8s 17ms/step - loss: 0.1694 - accuracy: 0.9358 - val_loss: 0.1492 - val_accuracy: 0.9459\n",
      "Epoch 25/30\n",
      "451/451 [==============================] - 7s 16ms/step - loss: 0.1641 - accuracy: 0.9412 - val_loss: 0.1562 - val_accuracy: 0.9395\n",
      "Epoch 26/30\n",
      "451/451 [==============================] - 7s 15ms/step - loss: 0.1655 - accuracy: 0.9373 - val_loss: 0.1459 - val_accuracy: 0.9495\n",
      "Epoch 27/30\n",
      "451/451 [==============================] - 7s 16ms/step - loss: 0.1538 - accuracy: 0.9446 - val_loss: 0.1442 - val_accuracy: 0.9501\n",
      "Epoch 28/30\n",
      "451/451 [==============================] - 7s 16ms/step - loss: 0.1543 - accuracy: 0.9435 - val_loss: 0.1498 - val_accuracy: 0.9470\n",
      "Epoch 29/30\n",
      "451/451 [==============================] - 7s 16ms/step - loss: 0.1495 - accuracy: 0.9420 - val_loss: 0.1530 - val_accuracy: 0.9467\n",
      "Epoch 30/30\n",
      "451/451 [==============================] - 7s 16ms/step - loss: 0.1577 - accuracy: 0.9425 - val_loss: 0.1544 - val_accuracy: 0.9462\n",
      "Ensemble Accuracy: 0.9537\n",
      "Classification Report:\n",
      "               precision    recall  f1-score   support\n",
      "\n",
      "        기타소음       0.98      0.95      0.96       373\n",
      "       이륜차경적       0.98      0.95      0.97       912\n",
      "      이륜차주행음       0.94      0.97      0.95       947\n",
      "        차량경적       0.93      0.95      0.94       638\n",
      "       차량사이렌       0.98      0.95      0.97       398\n",
      "       차량주행음       0.90      0.91      0.91       337\n",
      "\n",
      "    accuracy                           0.95      3605\n",
      "   macro avg       0.95      0.95      0.95      3605\n",
      "weighted avg       0.95      0.95      0.95      3605\n",
      "\n",
      "Confusion Matrix:\n",
      " [[355   1  11   0   3   3]\n",
      " [  0 870   2  40   0   0]\n",
      " [  5   0 920   0   2  20]\n",
      " [  1  12  15 607   1   2]\n",
      " [  2   1   5   2 380   8]\n",
      " [  1   0  29   1   0 306]]\n"
     ]
    }
   ],
   "source": [
    "import numpy as np\n",
    "import pandas as pd\n",
    "from sklearn.model_selection import train_test_split\n",
    "from sklearn.preprocessing import LabelEncoder\n",
    "from tensorflow.keras.utils import to_categorical\n",
    "from tensorflow.keras.models import Sequential, Model\n",
    "from tensorflow.keras.layers import Dense, Conv1D, MaxPooling1D, Dropout, Flatten, Input, BatchNormalization\n",
    "from tensorflow.keras.optimizers import Adam\n",
    "from tensorflow.keras.callbacks import ReduceLROnPlateau\n",
    "from sklearn.metrics import accuracy_score, classification_report, confusion_matrix\n",
    "\n",
    "# 데이터 준비 (기존 코드와 동일)\n",
    "df = pd.read_csv(\"combined_result.csv\", encoding='utf-8')\n",
    "feature_cols = [f'mfcc_{i}' for i in range(1, 51)]\n",
    "df = df[feature_cols + ['category_03']]\n",
    "\n",
    "def categorize_noise(category):\n",
    "    if category in ['이륜차경적']:\n",
    "        return '이륜차경적'\n",
    "    elif category in ['이륜차주행음']:\n",
    "        return '이륜차주행음'\n",
    "    elif category in ['차량사이렌']:\n",
    "        return '차량사이렌'\n",
    "    elif category in ['차량주행음']:\n",
    "        return '차량주행음'\n",
    "    elif category in ['차량경적']:\n",
    "        return '차량경적'\n",
    "    else:\n",
    "        return '기타소음'\n",
    "\n",
    "df['label'] = df['category_03'].apply(categorize_noise)\n",
    "df = df.drop('category_03', axis=1)\n",
    "\n",
    "X = df[feature_cols].values\n",
    "y = df['label'].values\n",
    "\n",
    "label_encoder = LabelEncoder()\n",
    "y_encoded = label_encoder.fit_transform(y)\n",
    "y_categorical = to_categorical(y_encoded)\n",
    "\n",
    "X_train, X_test, y_train, y_test = train_test_split(X, y_categorical, test_size=0.2, random_state=42, stratify=y)\n",
    "\n",
    "X_train = X_train.reshape(X_train.shape[0], X_train.shape[1], 1)\n",
    "X_test = X_test.reshape(X_test.shape[0], X_test.shape[1], 1)\n",
    "\n",
    "# 개선된 CNN 모델 정의\n",
    "def create_model():\n",
    "    inputs = Input(shape=(X_train.shape[1], 1))\n",
    "    x = Conv1D(64, kernel_size=3, activation='relu')(inputs)\n",
    "    x = BatchNormalization()(x)\n",
    "    x = MaxPooling1D(pool_size=2)(x)\n",
    "    x = Dropout(0.3)(x)\n",
    "    \n",
    "    x = Conv1D(128, kernel_size=3, activation='relu')(x)\n",
    "    x = BatchNormalization()(x)\n",
    "    x = MaxPooling1D(pool_size=2)(x)\n",
    "    x = Dropout(0.3)(x)\n",
    "    \n",
    "    x = Flatten()(x)\n",
    "    x = Dense(128, activation='relu')(x)\n",
    "    x = BatchNormalization()(x)\n",
    "    x = Dropout(0.3)(x)\n",
    "    outputs = Dense(y_categorical.shape[1], activation='softmax')(x)\n",
    "    \n",
    "    model = Model(inputs=inputs, outputs=outputs)\n",
    "    return model\n",
    "\n",
    "# 앙상블 모델 생성\n",
    "def create_ensemble(num_models=3):\n",
    "    models = []\n",
    "    for _ in range(num_models):\n",
    "        model = create_model()\n",
    "        models.append(model)\n",
    "    return models\n",
    "\n",
    "# 앙상블 모델 학습\n",
    "ensemble = create_ensemble()\n",
    "\n",
    "# 학습률 스케줄링\n",
    "reduce_lr = ReduceLROnPlateau(monitor='val_loss', factor=0.2, patience=5, min_lr=0.0001)\n",
    "\n",
    "# 모델 학습\n",
    "histories = []\n",
    "for i, model in enumerate(ensemble):\n",
    "    print(f\"Training model {i+1}/{len(ensemble)}\")\n",
    "    model.compile(optimizer=Adam(learning_rate=0.001), loss='categorical_crossentropy', metrics=['accuracy'])\n",
    "    history = model.fit(X_train, y_train, epochs=30, batch_size=32, validation_data=(X_test, y_test), callbacks=[reduce_lr])\n",
    "    histories.append(history)\n",
    "\n",
    "# 앙상블 예측\n",
    "def ensemble_predict(models, X):\n",
    "    predictions = [model.predict(X) for model in models]\n",
    "    return np.mean(predictions, axis=0)\n",
    "\n",
    "# 테스트 데이터에 대한 앙상블 예측\n",
    "y_pred_ensemble = ensemble_predict(ensemble, X_test)\n",
    "y_pred_classes = np.argmax(y_pred_ensemble, axis=1)\n",
    "y_true_classes = np.argmax(y_test, axis=1)\n",
    "\n",
    "# 정확도 계산\n",
    "accuracy = accuracy_score(y_true_classes, y_pred_classes)\n",
    "print(f\"Ensemble Accuracy: {accuracy:.4f}\")\n",
    "\n",
    "# 분류 보고서 출력\n",
    "class_names = label_encoder.classes_\n",
    "report = classification_report(y_true_classes, y_pred_classes, target_names=class_names)\n",
    "print(\"Classification Report:\\n\", report)\n",
    "\n",
    "# 혼동 행렬 출력\n",
    "conf_matrix = confusion_matrix(y_true_classes, y_pred_classes)\n",
    "print(\"Confusion Matrix:\\n\", conf_matrix)\n"
   ]
  },
  {
   "cell_type": "code",
   "execution_count": 13,
   "id": "aa7d6b35-e4bf-43a7-96bf-325ed92a19e0",
   "metadata": {},
   "outputs": [
    {
     "name": "stdout",
     "output_type": "stream",
     "text": [
      "모델이 cnn2_6classfication_original.h5 파일로 저장되었습니다.\n"
     ]
    }
   ],
   "source": [
    "# 모델 저장\n",
    "model.save('cnn2_6classfication_original.h5')\n",
    "print(\"모델이 cnn2_6classfication_original.h5 파일로 저장되었습니다.\")"
   ]
  },
  {
   "cell_type": "code",
   "execution_count": null,
   "id": "162f1311-650a-4f68-868f-7c2496d3ee88",
   "metadata": {},
   "outputs": [],
   "source": []
  },
  {
   "cell_type": "markdown",
   "id": "4b29b170-5241-4a2f-9b93-1dac0a62470c",
   "metadata": {},
   "source": [
    "### 차량 주행음 개선"
   ]
  },
  {
   "cell_type": "code",
   "execution_count": 14,
   "id": "8c22183d-f4f1-4e33-8b88-6f2489b53d97",
   "metadata": {},
   "outputs": [],
   "source": [
    "# from sklearn.utils import class_weight\n",
    "# from tensorflow.keras.optimizers import Adam\n",
    "\n",
    "# # 클래스 가중치 계산\n",
    "# class_weights = class_weight.compute_class_weight('balanced',\n",
    "#                                                  classes=np.unique(np.argmax(y_train, axis=1)),\n",
    "#                                                  y=np.argmax(y_train, axis=1))\n",
    "# class_weight_dict = dict(enumerate(class_weights))\n",
    "\n",
    "# # 모델 컴파일 및 학습\n",
    "# model.compile(optimizer=Adam(learning_rate=0.001), loss='categorical_crossentropy', metrics=['accuracy'])\n",
    "# history = model.fit(X_train, y_train, epochs=30, batch_size=32, validation_data=(X_test, y_test), class_weight=class_weight_dict, callbacks=[reduce_lr])\n"
   ]
  },
  {
   "cell_type": "code",
   "execution_count": 15,
   "id": "af8a72cd-d2c6-43a2-8521-20ab07400cd2",
   "metadata": {},
   "outputs": [],
   "source": [
    "# import numpy as np\n",
    "# import pandas as pd\n",
    "# from sklearn.model_selection import train_test_split\n",
    "# from sklearn.preprocessing import LabelEncoder\n",
    "# from tensorflow.keras.utils import to_categorical\n",
    "# from tensorflow.keras.models import Sequential, Model\n",
    "# from tensorflow.keras.layers import Dense, Conv1D, MaxPooling1D, Dropout, Flatten, Input, BatchNormalization\n",
    "# from tensorflow.keras.optimizers import Adam\n",
    "# from tensorflow.keras.callbacks import ReduceLROnPlateau\n",
    "# from sklearn.metrics import accuracy_score, classification_report, confusion_matrix\n",
    "# from sklearn.utils import class_weight\n",
    "\n",
    "# # 데이터 준비 (기존 코드와 동일)\n",
    "# df = pd.read_csv(\"combined_result.csv\", encoding='utf-8')\n",
    "# feature_cols = [f'mfcc_{i}' for i in range(1, 51)]\n",
    "# df = df[feature_cols + ['category_03']]\n",
    "\n",
    "# def categorize_noise(category):\n",
    "#     if category in ['이륜차경적']:\n",
    "#         return '이륜차경적'\n",
    "#     elif category in ['이륜차주행음']:\n",
    "#         return '이륜차주행음'\n",
    "#     elif category in ['차량사이렌']:\n",
    "#         return '차량사이렌'\n",
    "#     elif category in ['차량주행음']:\n",
    "#         return '차량주행음'\n",
    "#     elif category in ['차량경적']:\n",
    "#         return '차량경적'\n",
    "#     else:\n",
    "#         return '기타소음'\n",
    "\n",
    "# df['label'] = df['category_03'].apply(categorize_noise)\n",
    "# df = df.drop('category_03', axis=1)\n",
    "\n",
    "# X = df[feature_cols].values\n",
    "# y = df['label'].values\n",
    "\n",
    "# label_encoder = LabelEncoder()\n",
    "# y_encoded = label_encoder.fit_transform(y)\n",
    "# y_categorical = to_categorical(y_encoded)\n",
    "\n",
    "# X_train, X_test, y_train, y_test = train_test_split(X, y_categorical, test_size=0.2, random_state=42, stratify=y)\n",
    "\n",
    "# X_train = X_train.reshape(X_train.shape[0], X_train.shape[1], 1)\n",
    "# X_test = X_test.reshape(X_test.shape[0], X_test.shape[1], 1)\n",
    "\n",
    "# # 클래스 가중치 계산\n",
    "# class_weights = class_weight.compute_class_weight('balanced',\n",
    "#                                                  classes=np.unique(np.argmax(y_train, axis=1)),\n",
    "#                                                  y=np.argmax(y_train, axis=1))\n",
    "# class_weight_dict = dict(enumerate(class_weights))\n",
    "\n",
    "# # 개선된 CNN 모델 정의\n",
    "# def create_model():\n",
    "#     inputs = Input(shape=(X_train.shape[1], 1))\n",
    "#     x = Conv1D(64, kernel_size=3, activation='relu')(inputs)\n",
    "#     x = BatchNormalization()(x)\n",
    "#     x = MaxPooling1D(pool_size=2)(x)\n",
    "#     x = Dropout(0.3)(x)\n",
    "    \n",
    "#     x = Conv1D(128, kernel_size=3, activation='relu')(x)\n",
    "#     x = BatchNormalization()(x)\n",
    "#     x = MaxPooling1D(pool_size=2)(x)\n",
    "#     x = Dropout(0.3)(x)\n",
    "    \n",
    "#     x = Flatten()(x)\n",
    "#     x = Dense(128, activation='relu')(x)\n",
    "#     x = BatchNormalization()(x)\n",
    "#     x = Dropout(0.3)(x)\n",
    "#     outputs = Dense(y_categorical.shape[1], activation='softmax')(x)\n",
    "    \n",
    "#     model = Model(inputs=inputs, outputs=outputs)\n",
    "#     return model\n",
    "\n",
    "# # 앙상블 모델 생성\n",
    "# def create_ensemble(num_models=3):\n",
    "#     models = []\n",
    "#     for _ in range(num_models):\n",
    "#         model = create_model()\n",
    "#         models.append(model)\n",
    "#     return models\n",
    "\n",
    "# # 앙상블 모델 학습\n",
    "# ensemble = create_ensemble()\n",
    "\n",
    "# # 학습률 스케줄링\n",
    "# reduce_lr = ReduceLROnPlateau(monitor='val_loss', factor=0.2, patience=5, min_lr=0.0001)\n",
    "\n",
    "# # 모델 학습\n",
    "# histories = []\n",
    "# for i, model in enumerate(ensemble):\n",
    "#     print(f\"Training model {i+1}/{len(ensemble)}\")\n",
    "#     model.compile(optimizer=Adam(learning_rate=0.001), loss='categorical_crossentropy', metrics=['accuracy'])\n",
    "#     history = model.fit(X_train, y_train, epochs=30, batch_size=32, validation_data=(X_test, y_test), \n",
    "#                         class_weight=class_weight_dict, callbacks=[reduce_lr])\n",
    "#     histories.append(history)\n",
    "\n",
    "# # 앙상블 예측\n",
    "# def ensemble_predict(models, X):\n",
    "#     predictions = [model.predict(X) for model in models]\n",
    "#     return np.mean(predictions, axis=0)\n",
    "\n",
    "# # 테스트 데이터에 대한 앙상블 예측\n",
    "# y_pred_ensemble = ensemble_predict(ensemble, X_test)\n",
    "# y_pred_classes = np.argmax(y_pred_ensemble, axis=1)\n",
    "# y_true_classes = np.argmax(y_test, axis=1)\n",
    "\n",
    "# # 정확도 계산\n",
    "# accuracy = accuracy_score(y_true_classes, y_pred_classes)\n",
    "# print(f\"Ensemble Accuracy: {accuracy:.4f}\")\n",
    "\n",
    "# # 분류 보고서 출력\n",
    "# class_names = label_encoder.classes_\n",
    "# report = classification_report(y_true_classes, y_pred_classes, target_names=class_names)\n",
    "# print(\"Classification Report:\\n\", report)\n",
    "\n",
    "# # 혼동 행렬 출력\n",
    "# conf_matrix = confusion_matrix(y_true_classes, y_pred_classes)\n",
    "# print(\"Confusion Matrix:\\n\", conf_matrix)\n"
   ]
  },
  {
   "cell_type": "code",
   "execution_count": 16,
   "id": "a9a06bd2-9f57-4e2c-b76d-7fbc2548b825",
   "metadata": {},
   "outputs": [],
   "source": [
    "# # 모델 저장\n",
    "# model.save('updated2_cnn_model_6classfication.h5')\n",
    "# print(\"모델이 updated2_cnn_model_6classfication.h5 파일로 저장되었습니다.\")"
   ]
  },
  {
   "cell_type": "markdown",
   "id": "eceee206-4011-4bca-b270-a367d5011bcb",
   "metadata": {},
   "source": [
    "### 차량주행음 - Precision 과 f1-score 개선\n",
    "- 오버샘플링"
   ]
  },
  {
   "cell_type": "code",
   "execution_count": 17,
   "id": "31fd3266-6cc3-45ed-a3fb-d159af0e02ba",
   "metadata": {},
   "outputs": [],
   "source": [
    "# from imblearn.over_sampling import RandomOverSampler\n",
    "# import numpy as np\n",
    "# import pandas as pd\n",
    "# from sklearn.model_selection import train_test_split\n",
    "# from sklearn.preprocessing import LabelEncoder\n",
    "# from tensorflow.keras.utils import to_categorical\n",
    "# from tensorflow.keras.models import Model\n",
    "# from tensorflow.keras.layers import Dense, Conv1D, MaxPooling1D, Dropout, Flatten, Input, BatchNormalization\n",
    "# from tensorflow.keras.optimizers import Adam\n",
    "# from tensorflow.keras.callbacks import ReduceLROnPlateau\n",
    "# from sklearn.metrics import accuracy_score, classification_report, confusion_matrix\n",
    "\n",
    "# # 데이터 준비\n",
    "# df = pd.read_csv(\"combined_result.csv\", encoding='utf-8')\n",
    "# feature_cols = [f'mfcc_{i}' for i in range(1, 51)]\n",
    "# df = df[feature_cols + ['category_03']]\n",
    "\n",
    "# def categorize_noise(category):\n",
    "#     if category in ['이륜차경적']:\n",
    "#         return '이륜차경적'\n",
    "#     elif category in ['이륜차주행음']:\n",
    "#         return '이륜차주행음'\n",
    "#     elif category in ['차량사이렌']:\n",
    "#         return '차량사이렌'\n",
    "#     elif category in ['차량주행음']:\n",
    "#         return '차량주행음'\n",
    "#     elif category in ['차량경적']:\n",
    "#         return '차량경적'\n",
    "#     else:\n",
    "#         return '기타소음'\n",
    "\n",
    "# df['label'] = df['category_03'].apply(categorize_noise)\n",
    "# df = df.drop('category_03', axis=1)\n",
    "\n",
    "# X = df[feature_cols].values\n",
    "# y = df['label'].values\n",
    "\n",
    "# # 레이블 인코딩 및 데이터 분할\n",
    "# label_encoder = LabelEncoder()\n",
    "# y_encoded = label_encoder.fit_transform(y)\n",
    "\n",
    "# X_train, X_test, y_train, y_test = train_test_split(X, y_encoded, test_size=0.2, random_state=42, stratify=y)\n",
    "\n",
    "# # 오버샘플링 적용 (훈련 데이터만)\n",
    "# ros = RandomOverSampler(random_state=42)\n",
    "# X_train_resampled, y_train_resampled = ros.fit_resample(X_train, y_train)\n",
    "\n",
    "# # 원-핫 인코딩\n",
    "# y_train_categorical = to_categorical(y_train_resampled)\n",
    "# y_test_categorical = to_categorical(y_test)\n",
    "\n",
    "# # 데이터 형태 변환\n",
    "# X_train_resampled = X_train_resampled.reshape(X_train_resampled.shape[0], X_train_resampled.shape[1], 1)\n",
    "# X_test = X_test.reshape(X_test.shape[0], X_test.shape[1], 1)\n",
    "\n",
    "# # CNN 모델 정의\n",
    "# def create_model():\n",
    "#     inputs = Input(shape=(X_train_resampled.shape[1], 1))\n",
    "#     x = Conv1D(64, kernel_size=3, activation='relu')(inputs)\n",
    "#     x = BatchNormalization()(x)\n",
    "#     x = MaxPooling1D(pool_size=2)(x)\n",
    "#     x = Dropout(0.3)(x)\n",
    "    \n",
    "#     x = Conv1D(128, kernel_size=3, activation='relu')(x)\n",
    "#     x = BatchNormalization()(x)\n",
    "#     x = MaxPooling1D(pool_size=2)(x)\n",
    "#     x = Dropout(0.3)(x)\n",
    "    \n",
    "#     x = Flatten()(x)\n",
    "#     x = Dense(128, activation='relu')(x)\n",
    "#     x = BatchNormalization()(x)\n",
    "#     x = Dropout(0.3)(x)\n",
    "#     outputs = Dense(y_test_categorical.shape[1], activation='softmax')(x)\n",
    "    \n",
    "#     model = Model(inputs=inputs, outputs=outputs)\n",
    "#     return model\n",
    "\n",
    "# # 앙상블 모델 생성\n",
    "# def create_ensemble(num_models=3):\n",
    "#     models = []\n",
    "#     for _ in range(num_models):\n",
    "#         model = create_model()\n",
    "#         models.append(model)\n",
    "#     return models\n",
    "\n",
    "# # 앙상블 모델 학습\n",
    "# ensemble = create_ensemble()\n",
    "\n",
    "# # 학습률 스케줄링 콜백 정의\n",
    "# reduce_lr = ReduceLROnPlateau(monitor='val_loss', factor=0.2, patience=5, min_lr=0.0001)\n",
    "\n",
    "# # 모델 학습 (오버샘플링된 데이터 사용)\n",
    "# histories = []\n",
    "# for i, model in enumerate(ensemble):\n",
    "#     print(f\"Training model {i+1}/{len(ensemble)}\")\n",
    "#     model.compile(optimizer=Adam(learning_rate=0.001), loss='categorical_crossentropy', metrics=['accuracy'])\n",
    "#     history = model.fit(X_train_resampled, y_train_categorical,\n",
    "#                         epochs=30,\n",
    "#                         batch_size=32,\n",
    "#                         validation_data=(X_test, y_test_categorical),\n",
    "#                         callbacks=[reduce_lr])\n",
    "#     histories.append(history)\n",
    "\n",
    "# # 앙상블 예측 함수 정의\n",
    "# def ensemble_predict(models, X):\n",
    "#     predictions = [model.predict(X) for model in models]\n",
    "#     return np.mean(predictions, axis=0)\n",
    "\n",
    "# # 테스트 데이터에 대한 앙상블 예측 수행\n",
    "# y_pred_ensemble = ensemble_predict(ensemble, X_test)\n",
    "\n",
    "# # 클래스별로 가장 높은 확률을 가진\n"
   ]
  },
  {
   "cell_type": "code",
   "execution_count": 18,
   "id": "f94fb2a0-4699-48f7-abe5-a6ab28b03f72",
   "metadata": {},
   "outputs": [],
   "source": [
    "# # 클래스별로 가장 높은 확률을 가진 클래스 인덱스를 선택\n",
    "# y_pred_classes = np.argmax(y_pred_ensemble, axis=1)\n",
    "# y_true_classes = np.argmax(y_test_categorical, axis=1)\n",
    "\n",
    "# # 정확도 계산 및 출력\n",
    "# accuracy = accuracy_score(y_true_classes, y_pred_classes)\n",
    "# print(f\"Ensemble Accuracy: {accuracy:.4f}\")\n",
    "\n",
    "# # 분류 보고서 출력\n",
    "# class_names = label_encoder.classes_\n",
    "# report = classification_report(y_true_classes, y_pred_classes, target_names=class_names)\n",
    "# print(\"Classification Report:\\n\", report)\n",
    "\n",
    "# # 혼동 행렬 출력\n",
    "# conf_matrix = confusion_matrix(y_true_classes, y_pred_classes)\n",
    "# print(\"Confusion Matrix:\\n\", conf_matrix)"
   ]
  },
  {
   "cell_type": "code",
   "execution_count": null,
   "id": "04e43b1d-0e0d-4494-9453-5512e8262b76",
   "metadata": {},
   "outputs": [],
   "source": []
  },
  {
   "cell_type": "markdown",
   "id": "ae53cb5a-27fd-49fe-a4b1-9c12873abd6f",
   "metadata": {},
   "source": [
    "# 새로운 wav 파일 분류 함수"
   ]
  },
  {
   "cell_type": "code",
   "execution_count": 19,
   "id": "0d071eb4-2313-4fc6-8ea6-b9f9174a9ceb",
   "metadata": {},
   "outputs": [
    {
     "name": "stdout",
     "output_type": "stream",
     "text": [
      "Model: \"model_2\"\n",
      "_________________________________________________________________\n",
      "Layer (type)                 Output Shape              Param #   \n",
      "=================================================================\n",
      "input_3 (InputLayer)         [(None, 50, 1)]           0         \n",
      "_________________________________________________________________\n",
      "conv1d_6 (Conv1D)            (None, 48, 64)            256       \n",
      "_________________________________________________________________\n",
      "batch_normalization_6 (Batch (None, 48, 64)            256       \n",
      "_________________________________________________________________\n",
      "max_pooling1d_6 (MaxPooling1 (None, 24, 64)            0         \n",
      "_________________________________________________________________\n",
      "dropout_9 (Dropout)          (None, 24, 64)            0         \n",
      "_________________________________________________________________\n",
      "conv1d_7 (Conv1D)            (None, 22, 128)           24704     \n",
      "_________________________________________________________________\n",
      "batch_normalization_7 (Batch (None, 22, 128)           512       \n",
      "_________________________________________________________________\n",
      "max_pooling1d_7 (MaxPooling1 (None, 11, 128)           0         \n",
      "_________________________________________________________________\n",
      "dropout_10 (Dropout)         (None, 11, 128)           0         \n",
      "_________________________________________________________________\n",
      "flatten_3 (Flatten)          (None, 1408)              0         \n",
      "_________________________________________________________________\n",
      "dense_6 (Dense)              (None, 128)               180352    \n",
      "_________________________________________________________________\n",
      "batch_normalization_8 (Batch (None, 128)               512       \n",
      "_________________________________________________________________\n",
      "dropout_11 (Dropout)         (None, 128)               0         \n",
      "_________________________________________________________________\n",
      "dense_7 (Dense)              (None, 6)                 774       \n",
      "=================================================================\n",
      "Total params: 207,366\n",
      "Trainable params: 206,726\n",
      "Non-trainable params: 640\n",
      "_________________________________________________________________\n",
      "None\n"
     ]
    }
   ],
   "source": [
    "print(model.summary())"
   ]
  },
  {
   "cell_type": "code",
   "execution_count": 20,
   "id": "7e9a30c0-5e9a-4f24-82f8-fbc631a4d578",
   "metadata": {},
   "outputs": [],
   "source": [
    "def classify_audio(audio_path):\n",
    "    try:\n",
    "        # 음원 파일 로드\n",
    "        y, sr = librosa.load(audio_path, sr=44100)\n",
    "\n",
    "        # MFCC 특징 추출\n",
    "        mfccs = librosa.feature.mfcc(y=y, sr=sr, n_mfcc=50)\n",
    "\n",
    "        # 추출된 MFCC 특징의 평균값을 사용 (각 MFCC 차수별로 하나의 값)\n",
    "        mfccs_processed = np.mean(mfccs, axis=1)\n",
    "\n",
    "        # CNN 입력 형태로 변환 (3D 텐서)\n",
    "        new_data = mfccs_processed.reshape(1, -1, 1)\n",
    "\n",
    "        # 예측 수행\n",
    "        predicted_label_encoded = np.argmax(model.predict(new_data), axis=-1)[0]\n",
    "        predicted_label = label_encoder.inverse_transform([predicted_label_encoded])[0]\n",
    "\n",
    "        return predicted_label\n",
    "\n",
    "    except Exception as e:\n",
    "        print(f\"Error processing audio file: {e}\")\n",
    "        return \"Unknown\"\n"
   ]
  },
  {
   "cell_type": "markdown",
   "id": "c698d007-e120-4a7f-8e58-b9f5c42014f5",
   "metadata": {},
   "source": [
    "## 기타소음"
   ]
  },
  {
   "cell_type": "markdown",
   "id": "44f180ef-d9a5-4f60-96ae-2ba57292bd9e",
   "metadata": {},
   "source": [
    "### 고양이"
   ]
  },
  {
   "cell_type": "code",
   "execution_count": 21,
   "id": "a5f6d5a4-8249-4813-be6b-510b1e614ed6",
   "metadata": {},
   "outputs": [
    {
     "name": "stderr",
     "output_type": "stream",
     "text": [
      "100%|██████████| 274/274 [00:53<00:00,  5.12it/s]\n"
     ]
    }
   ],
   "source": [
    "folder_path = \"/home/ubuntu/data/etc_noise_data_test_final/동물/15.고양이\"\n",
    "results = []\n",
    "\n",
    "for filename in tqdm(os.listdir(folder_path)):\n",
    "    if filename.endswith(\".wav\"):\n",
    "        file_path = os.path.join(folder_path, filename)\n",
    "        predicted_label = classify_audio(file_path)\n",
    "        results.append({\"File\": filename, \"Predicted Label\": predicted_label})\n",
    "\n",
    "# 결과를 DataFrame으로 변환\n",
    "results_df_cat = pd.DataFrame(results)"
   ]
  },
  {
   "cell_type": "code",
   "execution_count": 22,
   "id": "eb3b05ae-f805-4b56-a9f2-dba96b86e90d",
   "metadata": {},
   "outputs": [
    {
     "data": {
      "text/plain": [
       "기타소음      272\n",
       "이륜차주행음      1\n",
       "차량사이렌       1\n",
       "Name: Predicted Label, dtype: int64"
      ]
     },
     "execution_count": 22,
     "metadata": {},
     "output_type": "execute_result"
    }
   ],
   "source": [
    "results_df_cat['Predicted Label'].value_counts()"
   ]
  },
  {
   "cell_type": "code",
   "execution_count": 23,
   "id": "f664effd-8c60-493c-ba28-623e11740e9f",
   "metadata": {},
   "outputs": [
    {
     "name": "stdout",
     "output_type": "stream",
     "text": [
      "Total Files: 274\n",
      "'기타소음' Count: 272\n",
      "'기타소음' Ratio: 99.27%\n"
     ]
    }
   ],
   "source": [
    "# '기타소음'의 개수와 비율 계산\n",
    "total_files_cat = len(results_df_cat)  # 전체 파일 개수\n",
    "etc_noise_count_cat = results_df_cat[results_df_cat['Predicted Label'] == '기타소음'].shape[0]  # '기타소음'으로 분류된 파일 개수\n",
    "etc_noise_ratio_cat = (etc_noise_count_cat / total_files_cat) * 100  # 비율 계산\n",
    "\n",
    "# 결과 출력\n",
    "print(f\"Total Files: {total_files_cat}\")\n",
    "print(f\"'기타소음' Count: {etc_noise_count_cat}\")\n",
    "print(f\"'기타소음' Ratio: {etc_noise_ratio_cat:.2f}%\")"
   ]
  },
  {
   "cell_type": "code",
   "execution_count": 24,
   "id": "d0ce5065-ce17-4897-8dfe-1101ba25bbc6",
   "metadata": {},
   "outputs": [],
   "source": [
    "# #CSV로 저장\n",
    "# results_df_cat.to_csv(\"cat.csv\", index=False)\n",
    "# print(\"Classification completed. Results saved to 'cat.csv'\")"
   ]
  },
  {
   "cell_type": "markdown",
   "id": "00ca8ad8",
   "metadata": {},
   "source": [
    "### 강아지"
   ]
  },
  {
   "cell_type": "code",
   "execution_count": 25,
   "id": "92ebccdf",
   "metadata": {},
   "outputs": [
    {
     "name": "stderr",
     "output_type": "stream",
     "text": [
      "100%|██████████| 217/217 [01:00<00:00,  3.59it/s]\n"
     ]
    }
   ],
   "source": [
    "folder_path = \"/home/ubuntu/data/etc_noise_data_test_final/동물/14.개\"\n",
    "results = []\n",
    "\n",
    "for filename in tqdm(os.listdir(folder_path)):\n",
    "    if filename.endswith(\".wav\"):\n",
    "        file_path = os.path.join(folder_path, filename)\n",
    "        predicted_label = classify_audio(file_path)\n",
    "        results.append({\"File\": filename, \"Predicted Label\": predicted_label})\n",
    "\n",
    "# 결과를 DataFrame으로 변환\n",
    "results_df_dog = pd.DataFrame(results)"
   ]
  },
  {
   "cell_type": "code",
   "execution_count": 26,
   "id": "8851b253-db48-47ef-ad1a-6cecebb59f2a",
   "metadata": {},
   "outputs": [
    {
     "data": {
      "text/plain": [
       "기타소음     214\n",
       "차량사이렌      3\n",
       "Name: Predicted Label, dtype: int64"
      ]
     },
     "execution_count": 26,
     "metadata": {},
     "output_type": "execute_result"
    }
   ],
   "source": [
    "results_df_dog['Predicted Label'].value_counts()"
   ]
  },
  {
   "cell_type": "code",
   "execution_count": 27,
   "id": "764059f8-07fc-4862-adc4-df50e8ea1e53",
   "metadata": {},
   "outputs": [
    {
     "name": "stdout",
     "output_type": "stream",
     "text": [
      "Total Files: 217\n",
      "'기타소음' Count: 214\n",
      "'기타소음' Ratio: 98.62%\n"
     ]
    }
   ],
   "source": [
    "# '기타소음'의 개수와 비율 계산\n",
    "total_files_dog = len(results_df_dog)  # 전체 파일 개수\n",
    "etc_noise_count_dog = results_df_dog[results_df_dog['Predicted Label'] == '기타소음'].shape[0]  # '기타소음'으로 분류된 파일 개수\n",
    "etc_noise_ratio_dog = (etc_noise_count_dog / total_files_dog) * 100  # 비율 계산\n",
    "\n",
    "# 결과 출력\n",
    "print(f\"Total Files: {total_files_dog}\")\n",
    "print(f\"'기타소음' Count: {etc_noise_count_dog}\")\n",
    "print(f\"'기타소음' Ratio: {etc_noise_ratio_dog:.2f}%\")"
   ]
  },
  {
   "cell_type": "code",
   "execution_count": 28,
   "id": "610bee9e-3845-48d6-9728-7cdc22a5f950",
   "metadata": {},
   "outputs": [],
   "source": [
    "# # CSV로 저장\n",
    "# results_df_dog.to_csv(\"dog.csv\", index=False)\n",
    "# print(\"Classification completed. Results saved to 'dog.csv'\")"
   ]
  },
  {
   "cell_type": "markdown",
   "id": "1033c4f5-a370-4e3d-afb9-90a573e8b1f6",
   "metadata": {},
   "source": [
    "### 항타기"
   ]
  },
  {
   "cell_type": "code",
   "execution_count": 29,
   "id": "12bb0e5d-4b87-4855-a0c3-35d758d921f1",
   "metadata": {},
   "outputs": [
    {
     "name": "stderr",
     "output_type": "stream",
     "text": [
      "100%|██████████| 133/133 [00:52<00:00,  2.52it/s]\n"
     ]
    }
   ],
   "source": [
    "folder_path = \"/home/ubuntu/data/etc_noise_data_test_final/공사장/18.항타기\"\n",
    "results = []\n",
    "\n",
    "for filename in tqdm(os.listdir(folder_path)):\n",
    "    if filename.endswith(\".wav\"):\n",
    "        file_path = os.path.join(folder_path, filename)\n",
    "        predicted_label = classify_audio(file_path)\n",
    "        results.append({\"File\": filename, \"Predicted Label\": predicted_label})\n",
    "\n",
    "# 결과를 DataFrame으로 변환\n",
    "results_df_piledriver = pd.DataFrame(results)"
   ]
  },
  {
   "cell_type": "code",
   "execution_count": 30,
   "id": "83a81ea4-a36d-4b88-a863-123842798674",
   "metadata": {},
   "outputs": [
    {
     "data": {
      "text/plain": [
       "기타소음      126\n",
       "이륜차주행음      6\n",
       "차량경적        1\n",
       "Name: Predicted Label, dtype: int64"
      ]
     },
     "execution_count": 30,
     "metadata": {},
     "output_type": "execute_result"
    }
   ],
   "source": [
    "results_df_piledriver['Predicted Label'].value_counts()"
   ]
  },
  {
   "cell_type": "code",
   "execution_count": 31,
   "id": "57c04930-61f1-4a0c-9a0c-8ae67136038a",
   "metadata": {},
   "outputs": [
    {
     "name": "stdout",
     "output_type": "stream",
     "text": [
      "Total Files: 133\n",
      "'기타소음' Count: 126\n",
      "'기타소음' Ratio: 94.74%\n"
     ]
    }
   ],
   "source": [
    "# '기타소음'의 개수와 비율 계산\n",
    "total_files_piledriver = len(results_df_piledriver)  # 전체 파일 개수\n",
    "etc_noise_count_piledriver = results_df_piledriver[results_df_piledriver['Predicted Label'] == '기타소음'].shape[0]  # '기타소음'으로 분류된 파일 개수\n",
    "etc_noise_ratio_piledriver = (etc_noise_count_piledriver / total_files_piledriver) * 100  # 비율 계산\n",
    "\n",
    "# 결과 출력\n",
    "print(f\"Total Files: {total_files_piledriver}\")\n",
    "print(f\"'기타소음' Count: {etc_noise_count_piledriver}\")\n",
    "print(f\"'기타소음' Ratio: {etc_noise_ratio_piledriver:.2f}%\")"
   ]
  },
  {
   "cell_type": "code",
   "execution_count": 32,
   "id": "0e2e08f1-407b-4f1f-9d34-f28efdcbc34a",
   "metadata": {},
   "outputs": [],
   "source": [
    "# # 결과를 CSV로 저장\n",
    "# results_df_piledriver.to_csv(\"piledriver.csv\", index=False)\n",
    "# print(\"Classification completed. Results saved to 'piledriver.csv'\")"
   ]
  },
  {
   "cell_type": "markdown",
   "id": "47cee9b5-d114-451d-b0fe-cb1657da67ab",
   "metadata": {},
   "source": [
    "### 콘크리트펌프"
   ]
  },
  {
   "cell_type": "code",
   "execution_count": 33,
   "id": "e3eea1d3-8a69-41d2-8a38-88e0ceecfbd1",
   "metadata": {},
   "outputs": [
    {
     "name": "stderr",
     "output_type": "stream",
     "text": [
      "100%|██████████| 93/93 [01:54<00:00,  1.23s/it]\n"
     ]
    }
   ],
   "source": [
    "folder_path = \"/home/ubuntu/data/etc_noise_data_test_final/공사장/20.콘크리트펌프\"\n",
    "results = []\n",
    "\n",
    "for filename in tqdm(os.listdir(folder_path)):\n",
    "    if filename.endswith(\".wav\"):\n",
    "        file_path = os.path.join(folder_path, filename)\n",
    "        predicted_label = classify_audio(file_path)\n",
    "        results.append({\"File\": filename, \"Predicted Label\": predicted_label})\n",
    "\n",
    "# 결과를 DataFrame으로 변환\n",
    "results_df_concrete = pd.DataFrame(results)"
   ]
  },
  {
   "cell_type": "code",
   "execution_count": 34,
   "id": "866304c4-3d5b-4b54-a3aa-4e03c54401b1",
   "metadata": {},
   "outputs": [
    {
     "data": {
      "text/plain": [
       "기타소음      80\n",
       "이륜차주행음     9\n",
       "차량경적       2\n",
       "차량사이렌      2\n",
       "Name: Predicted Label, dtype: int64"
      ]
     },
     "execution_count": 34,
     "metadata": {},
     "output_type": "execute_result"
    }
   ],
   "source": [
    "results_df_concrete['Predicted Label'].value_counts()"
   ]
  },
  {
   "cell_type": "code",
   "execution_count": 35,
   "id": "6b5f548c-099a-46c4-b9ad-be302b7595ad",
   "metadata": {},
   "outputs": [
    {
     "name": "stdout",
     "output_type": "stream",
     "text": [
      "Total Files: 93\n",
      "'기타소음' Count: 80\n",
      "'기타소음' Ratio: 86.02%\n"
     ]
    }
   ],
   "source": [
    "results_df_concrete['Predicted Label'].value_counts()\n",
    "\n",
    "# '기타소음'의 개수와 비율 계산\n",
    "total_files_concrete = len(results_df_concrete)  # 전체 파일 개수\n",
    "etc_noise_count_concrete = results_df_concrete[results_df_concrete['Predicted Label'] == '기타소음'].shape[0]  # '기타소음'으로 분류된 파일 개수\n",
    "etc_noise_ratio_concrete = (etc_noise_count_concrete / total_files_concrete) * 100  # 비율 계산\n",
    "\n",
    "# 결과 출력\n",
    "print(f\"Total Files: {total_files_concrete}\")\n",
    "print(f\"'기타소음' Count: {etc_noise_count_concrete}\")\n",
    "print(f\"'기타소음' Ratio: {etc_noise_ratio_concrete:.2f}%\")"
   ]
  },
  {
   "cell_type": "code",
   "execution_count": 36,
   "id": "9033dbc1-13d9-4589-95ae-e424ef16fa8c",
   "metadata": {},
   "outputs": [],
   "source": [
    "# # CSV로 저장\n",
    "# results_df_vacuum.to_csv(\"concrete.csv\", index=False)\n",
    "# print(\"Classification completed. Results saved to 'concrete.csv'\")"
   ]
  },
  {
   "cell_type": "markdown",
   "id": "384363f2-9f7c-4b68-8465-d1be51e3036e",
   "metadata": {},
   "source": [
    "### 발전기"
   ]
  },
  {
   "cell_type": "code",
   "execution_count": 37,
   "id": "cbb4ee05-f242-4779-9704-425d728de799",
   "metadata": {},
   "outputs": [
    {
     "name": "stderr",
     "output_type": "stream",
     "text": [
      "100%|██████████| 93/93 [01:51<00:00,  1.20s/it]\n"
     ]
    }
   ],
   "source": [
    "folder_path = \"/home/ubuntu/data/etc_noise_data_test_final/공사장/20.콘크리트펌프\"\n",
    "results = []\n",
    "\n",
    "for filename in tqdm(os.listdir(folder_path)):\n",
    "    if filename.endswith(\".wav\"):\n",
    "        file_path = os.path.join(folder_path, filename)\n",
    "        predicted_label = classify_audio(file_path)\n",
    "        results.append({\"File\": filename, \"Predicted Label\": predicted_label})\n",
    "\n",
    "# 결과를 DataFrame으로 변환\n",
    "results_df_generator = pd.DataFrame(results)"
   ]
  },
  {
   "cell_type": "code",
   "execution_count": 38,
   "id": "e493dde0-492d-4e04-9b41-2881625e750a",
   "metadata": {},
   "outputs": [
    {
     "data": {
      "text/plain": [
       "기타소음      80\n",
       "이륜차주행음     9\n",
       "차량경적       2\n",
       "차량사이렌      2\n",
       "Name: Predicted Label, dtype: int64"
      ]
     },
     "execution_count": 38,
     "metadata": {},
     "output_type": "execute_result"
    }
   ],
   "source": [
    "results_df_generator['Predicted Label'].value_counts()"
   ]
  },
  {
   "cell_type": "code",
   "execution_count": 39,
   "id": "5d054d57-cdb8-46d6-a6c0-bd938dc39fa9",
   "metadata": {},
   "outputs": [
    {
     "name": "stdout",
     "output_type": "stream",
     "text": [
      "Total Files: 93\n",
      "'기타소음' Count: 80\n",
      "'기타소음' Ratio: 86.02%\n"
     ]
    }
   ],
   "source": [
    "# '기타소음'의 개수와 비율 계산\n",
    "total_files_generator = len(results_df_generator)  # 전체 파일 개수\n",
    "etc_noise_count_generator = results_df_generator[results_df_generator['Predicted Label'] == '기타소음'].shape[0]  # '기타소음'으로 분류된 파일 개수\n",
    "etc_noise_ratio_generator = (etc_noise_count_generator / total_files_generator) * 100  # 비율 계산\n",
    "\n",
    "# 결과 출력\n",
    "print(f\"Total Files: {total_files_generator}\")\n",
    "print(f\"'기타소음' Count: {etc_noise_count_generator}\")\n",
    "print(f\"'기타소음' Ratio: {etc_noise_ratio_generator:.2f}%\")"
   ]
  },
  {
   "cell_type": "code",
   "execution_count": 40,
   "id": "2536f851-6592-4ad5-95f0-3c3ed13d9796",
   "metadata": {},
   "outputs": [],
   "source": [
    "# # CSV로 저장\n",
    "# results_df_vacuum.to_csv(\"generator.csv\", index=False)\n",
    "# print(\"Classification completed. Results saved to 'generator.csv'\")"
   ]
  },
  {
   "cell_type": "markdown",
   "id": "8990db4a-7a69-4441-945f-63c889b75abb",
   "metadata": {},
   "source": [
    "### 공구"
   ]
  },
  {
   "cell_type": "code",
   "execution_count": 41,
   "id": "762d99bd-1a33-4828-a7d4-462ab7455f50",
   "metadata": {},
   "outputs": [
    {
     "name": "stderr",
     "output_type": "stream",
     "text": [
      "100%|██████████| 172/172 [00:51<00:00,  3.31it/s]\n"
     ]
    }
   ],
   "source": [
    "folder_path = \"/home/ubuntu/data/etc_noise_data_test_final/공구\"\n",
    "results = []\n",
    "\n",
    "for filename in tqdm(os.listdir(folder_path)):\n",
    "    if filename.endswith(\".wav\"):\n",
    "        file_path = os.path.join(folder_path, filename)\n",
    "        predicted_label = classify_audio(file_path)\n",
    "        results.append({\"File\": filename, \"Predicted Label\": predicted_label})\n",
    "\n",
    "# 결과를 DataFrame으로 변환\n",
    "results_df_tools = pd.DataFrame(results)"
   ]
  },
  {
   "cell_type": "code",
   "execution_count": 42,
   "id": "c4742c13-e68b-401c-ae35-ee259a5d4156",
   "metadata": {},
   "outputs": [
    {
     "data": {
      "text/plain": [
       "기타소음      125\n",
       "이륜차주행음     30\n",
       "차량사이렌      11\n",
       "차량주행음       4\n",
       "이륜차경적       1\n",
       "차량경적        1\n",
       "Name: Predicted Label, dtype: int64"
      ]
     },
     "execution_count": 42,
     "metadata": {},
     "output_type": "execute_result"
    }
   ],
   "source": [
    "results_df_tools['Predicted Label'].value_counts()"
   ]
  },
  {
   "cell_type": "code",
   "execution_count": 43,
   "id": "3321eb77-dc69-4955-bd3f-f88cec455a76",
   "metadata": {},
   "outputs": [
    {
     "name": "stdout",
     "output_type": "stream",
     "text": [
      "Total Files: 172\n",
      "'기타소음' Count: 125\n",
      "'기타소음' Ratio: 72.67%\n"
     ]
    }
   ],
   "source": [
    "# '기타소음'의 개수와 비율 계산\n",
    "total_files_tools = len(results_df_tools)  # 전체 파일 개수\n",
    "etc_noise_count_tools = results_df_tools[results_df_tools['Predicted Label'] == '기타소음'].shape[0]  # '기타소음'으로 분류된 파일 개수\n",
    "etc_noise_ratio_tools = (etc_noise_count_tools / total_files_tools) * 100  # 비율 계산\n",
    "\n",
    "# 결과 출력\n",
    "print(f\"Total Files: {total_files_tools}\")\n",
    "print(f\"'기타소음' Count: {etc_noise_count_tools}\")\n",
    "print(f\"'기타소음' Ratio: {etc_noise_ratio_tools:.2f}%\")"
   ]
  },
  {
   "cell_type": "code",
   "execution_count": 44,
   "id": "ba81edcb-5ba8-4d9b-a6f4-2f09e505c2d2",
   "metadata": {},
   "outputs": [],
   "source": [
    "# # CSV로 저장\n",
    "# results_df_vacuum.to_csv(\"tools.csv\", index=False)\n",
    "# print(\"Classification completed. Results saved to 'tools.csv'\")"
   ]
  },
  {
   "cell_type": "markdown",
   "id": "9b417044",
   "metadata": {},
   "source": [
    "## 교통소음"
   ]
  },
  {
   "cell_type": "markdown",
   "id": "fc0cab28-a711-48c7-8881-0653e74cd689",
   "metadata": {},
   "source": [
    "### 차량 사이렌"
   ]
  },
  {
   "cell_type": "code",
   "execution_count": 45,
   "id": "7a08555d",
   "metadata": {},
   "outputs": [
    {
     "name": "stderr",
     "output_type": "stream",
     "text": [
      "100%|██████████| 249/249 [00:44<00:00,  5.61it/s]\n"
     ]
    }
   ],
   "source": [
    "folder_path = \"/home/ubuntu/data/etc_noise_data_test_final/교통소음/2.차량사이렌\"\n",
    "results = []\n",
    "\n",
    "for filename in tqdm(os.listdir(folder_path)):\n",
    "    if filename.endswith(\".wav\"):\n",
    "        file_path = os.path.join(folder_path, filename)\n",
    "        predicted_label = classify_audio(file_path)\n",
    "        results.append({\"File\": filename, \"Predicted Label\": predicted_label})\n",
    "\n",
    "# 결과를 DataFrame으로 변환\n",
    "results_df_car_siren = pd.DataFrame(results)"
   ]
  },
  {
   "cell_type": "code",
   "execution_count": 46,
   "id": "0e4248b0-fd4d-4806-8ef9-2ed3e5b9ae08",
   "metadata": {},
   "outputs": [
    {
     "data": {
      "text/plain": [
       "차량사이렌     241\n",
       "차량주행음       5\n",
       "이륜차주행음      2\n",
       "차량경적        1\n",
       "Name: Predicted Label, dtype: int64"
      ]
     },
     "execution_count": 46,
     "metadata": {},
     "output_type": "execute_result"
    }
   ],
   "source": [
    "results_df_car_siren['Predicted Label'].value_counts()"
   ]
  },
  {
   "cell_type": "code",
   "execution_count": 47,
   "id": "3f9027dd-bc1e-4a62-b58e-a189d8875336",
   "metadata": {},
   "outputs": [
    {
     "name": "stdout",
     "output_type": "stream",
     "text": [
      "Total Files: 249\n",
      "'차량사이렌' Count: 241\n",
      "'차량사이렌' Ratio: 96.79%\n"
     ]
    }
   ],
   "source": [
    "# '기타소음'의 개수와 비율 계산\n",
    "total_files_car_siren = len(results_df_car_siren)  # 전체 파일 개수\n",
    "etc_noise_count_car_siren = results_df_car_siren[results_df_car_siren['Predicted Label'] == '차량사이렌'].shape[0]  # '기타소음'으로 분류된 파일 개수\n",
    "etc_noise_ratio_car_siren = (etc_noise_count_car_siren / total_files_car_siren) * 100  # 비율 계산\n",
    "\n",
    "# 결과 출력\n",
    "print(f\"Total Files: {total_files_car_siren}\")\n",
    "print(f\"'차량사이렌' Count: {etc_noise_count_car_siren}\")\n",
    "print(f\"'차량사이렌' Ratio: {etc_noise_ratio_car_siren:.2f}%\")"
   ]
  },
  {
   "cell_type": "code",
   "execution_count": 48,
   "id": "a2a9a89f-155d-46b3-a1e6-d1be27773fd3",
   "metadata": {},
   "outputs": [],
   "source": [
    "# #CSV로 저장\n",
    "# results_df_car_siren.to_csv(\"car_siren.csv\", index=False)\n",
    "# print(\"Classification completed. Results saved to 'car_siren.csv'\")"
   ]
  },
  {
   "cell_type": "markdown",
   "id": "38bb0f8f",
   "metadata": {},
   "source": [
    "### 차량 경적"
   ]
  },
  {
   "cell_type": "code",
   "execution_count": 49,
   "id": "b32ebd7a",
   "metadata": {},
   "outputs": [
    {
     "name": "stderr",
     "output_type": "stream",
     "text": [
      "100%|██████████| 3189/3189 [08:33<00:00,  6.21it/s]\n"
     ]
    }
   ],
   "source": [
    "folder_path = \"/home/ubuntu/data/raw_data/1.Car/1.horn_of_car\"\n",
    "results = []\n",
    "\n",
    "for filename in tqdm(os.listdir(folder_path)):\n",
    "    if filename.endswith(\".wav\"):\n",
    "        file_path = os.path.join(folder_path, filename)\n",
    "        predicted_label = classify_audio(file_path)\n",
    "        results.append({\"File\": filename, \"Predicted Label\": predicted_label})\n",
    "\n",
    "# 5. 결과를 DataFrame으로 변환\n",
    "results_df_car_horn = pd.DataFrame(results)"
   ]
  },
  {
   "cell_type": "code",
   "execution_count": 50,
   "id": "38c08578-d1e9-4b49-850f-0a29d6adf05d",
   "metadata": {},
   "outputs": [
    {
     "data": {
      "text/plain": [
       "차량경적      3113\n",
       "이륜차경적       37\n",
       "이륜차주행음      30\n",
       "차량주행음        7\n",
       "기타소음         1\n",
       "차량사이렌        1\n",
       "Name: Predicted Label, dtype: int64"
      ]
     },
     "execution_count": 50,
     "metadata": {},
     "output_type": "execute_result"
    }
   ],
   "source": [
    "results_df_car_horn['Predicted Label'].value_counts()"
   ]
  },
  {
   "cell_type": "code",
   "execution_count": 51,
   "id": "02e07bba-73fb-40bd-b73c-ed7f8e5740c9",
   "metadata": {},
   "outputs": [
    {
     "name": "stdout",
     "output_type": "stream",
     "text": [
      "Total Files: 3189\n",
      "'차량경적' Count: 3113\n",
      "'차량경적' Ratio: 97.62%\n"
     ]
    }
   ],
   "source": [
    "# '기타소음'의 개수와 비율 계산\n",
    "total_files_car_horn = len(results_df_car_horn)  # 전체 파일 개수\n",
    "etc_noise_count_car_horn = results_df_car_horn[results_df_car_horn['Predicted Label'] == '차량경적'].shape[0]  # '기타소음'으로 분류된 파일 개수\n",
    "etc_noise_ratio_car_horn = (etc_noise_count_car_horn / total_files_car_horn) * 100  # 비율 계산\n",
    "\n",
    "# 결과 출력\n",
    "print(f\"Total Files: {total_files_car_horn}\")\n",
    "print(f\"'차량경적' Count: {etc_noise_count_car_horn}\")\n",
    "print(f\"'차량경적' Ratio: {etc_noise_ratio_car_horn:.2f}%\")"
   ]
  },
  {
   "cell_type": "code",
   "execution_count": 52,
   "id": "52e58baa-df2b-44bd-a8cb-ddddba4d6e3f",
   "metadata": {},
   "outputs": [],
   "source": [
    "# # CSV로 저장\n",
    "# results_df_car_horn.to_csv(\"car_horn.csv\", index=False)\n",
    "# print(\"Classification completed. Results saved to 'car_horn.csv'\")"
   ]
  },
  {
   "cell_type": "markdown",
   "id": "359a5d0b-8336-4e1c-be05-0b3f3090b1e1",
   "metadata": {},
   "source": [
    "### 차량 주행음"
   ]
  },
  {
   "cell_type": "code",
   "execution_count": 53,
   "id": "3fb8e9ae-f896-48f4-8fb3-1b1f3872ca23",
   "metadata": {
    "jupyter": {
     "source_hidden": true
    },
    "tags": []
   },
   "outputs": [
    {
     "name": "stderr",
     "output_type": "stream",
     "text": [
      "100%|██████████| 227/227 [00:50<00:00,  4.51it/s]\n"
     ]
    }
   ],
   "source": [
    "folder_path = \"/home/ubuntu/data/etc_noise_data_test_final/교통소음/3.차량주행음\"\n",
    "results = []\n",
    "\n",
    "for filename in tqdm(os.listdir(folder_path)):\n",
    "    if filename.endswith(\".wav\"):\n",
    "        file_path = os.path.join(folder_path, filename)\n",
    "        predicted_label = classify_audio(file_path)\n",
    "        results.append({\"File\": filename, \"Predicted Label\": predicted_label})\n",
    "\n",
    "# 결과를 DataFrame으로 변환\n",
    "results_df_car_driving = pd.DataFrame(results)"
   ]
  },
  {
   "cell_type": "code",
   "execution_count": 54,
   "id": "1170284e-cb3d-42dd-8456-d6431b3c428d",
   "metadata": {},
   "outputs": [
    {
     "data": {
      "text/plain": [
       "차량주행음     199\n",
       "이륜차주행음     21\n",
       "기타소음        6\n",
       "차량경적        1\n",
       "Name: Predicted Label, dtype: int64"
      ]
     },
     "execution_count": 54,
     "metadata": {},
     "output_type": "execute_result"
    }
   ],
   "source": [
    "results_df_car_driving['Predicted Label'].value_counts()"
   ]
  },
  {
   "cell_type": "code",
   "execution_count": 55,
   "id": "9772b060-f761-4ac8-a4ac-12d087e7289e",
   "metadata": {},
   "outputs": [
    {
     "name": "stdout",
     "output_type": "stream",
     "text": [
      "Total Files: 227\n",
      "'차량주행음' Count: 199\n",
      "'차량주행음' Ratio: 87.67%\n"
     ]
    }
   ],
   "source": [
    "# '기타소음'의 개수와 비율 계산\n",
    "total_files_car_driving = len(results_df_car_driving)  # 전체 파일 개수\n",
    "etc_noise_count_car_driving = results_df_car_driving[results_df_car_driving['Predicted Label'] == '차량주행음'].shape[0]  # '기타소음'으로 분류된 파일 개수\n",
    "etc_noise_ratio_car_driving = (etc_noise_count_car_driving / total_files_car_driving) * 100  # 비율 계산\n",
    "\n",
    "# 결과 출력\n",
    "print(f\"Total Files: {total_files_car_driving}\")\n",
    "print(f\"'차량주행음' Count: {etc_noise_count_car_driving}\")\n",
    "print(f\"'차량주행음' Ratio: {etc_noise_ratio_car_driving:.2f}%\")"
   ]
  },
  {
   "cell_type": "code",
   "execution_count": 56,
   "id": "fb141210-dd00-4614-8595-d6d3101fb993",
   "metadata": {},
   "outputs": [],
   "source": [
    "# # CSV로 저장\n",
    "# results_df_car_driving.to_csv(\"car_driving.csv\", index=False)\n",
    "# print(\"Classification completed. Results saved to 'car_driving.csv'\")"
   ]
  },
  {
   "cell_type": "markdown",
   "id": "8fe461b9-ed12-4360-a937-4119060654ab",
   "metadata": {},
   "source": [
    "### 이륜차 경적"
   ]
  },
  {
   "cell_type": "code",
   "execution_count": 57,
   "id": "8ca2add6-39d9-4f00-a34e-865b2701b450",
   "metadata": {},
   "outputs": [
    {
     "name": "stderr",
     "output_type": "stream",
     "text": [
      "100%|██████████| 519/519 [01:19<00:00,  6.56it/s]\n"
     ]
    }
   ],
   "source": [
    "folder_path = \"/home/ubuntu/data/test_data/raw_data_test/2.Motorcycle/4.horn_of_motorcycle\"\n",
    "results = []\n",
    "\n",
    "for filename in tqdm(os.listdir(folder_path)):\n",
    "    if filename.endswith(\".wav\"):\n",
    "        file_path = os.path.join(folder_path, filename)\n",
    "        predicted_label = classify_audio(file_path)\n",
    "        results.append({\"File\": filename, \"Predicted Label\": predicted_label})\n",
    "\n",
    "# 결과를 DataFrame으로 변환\n",
    "results_df_motorcycle_horn = pd.DataFrame(results)"
   ]
  },
  {
   "cell_type": "code",
   "execution_count": 58,
   "id": "0fb240be-bb65-450a-a998-0b5e90ce6df6",
   "metadata": {},
   "outputs": [
    {
     "data": {
      "text/plain": [
       "이륜차경적     498\n",
       "차량경적       18\n",
       "이륜차주행음      3\n",
       "Name: Predicted Label, dtype: int64"
      ]
     },
     "execution_count": 58,
     "metadata": {},
     "output_type": "execute_result"
    }
   ],
   "source": [
    "results_df_motorcycle_horn['Predicted Label'].value_counts()"
   ]
  },
  {
   "cell_type": "code",
   "execution_count": 59,
   "id": "6e8c888d-ab95-4692-8561-fc98b2dbfbc4",
   "metadata": {},
   "outputs": [
    {
     "name": "stdout",
     "output_type": "stream",
     "text": [
      "Total Files: 519\n",
      "'이륜차경적' Count: 498\n",
      "'이륜차경적' Ratio: 95.95%\n"
     ]
    }
   ],
   "source": [
    "# '기타소음'의 개수와 비율 계산\n",
    "total_files_motorcycle_horn = len(results_df_motorcycle_horn)  # 전체 파일 개수\n",
    "etc_noise_count_motorcycle_horn = results_df_motorcycle_horn[results_df_motorcycle_horn['Predicted Label'] == '이륜차경적'].shape[0]  # '기타소음'으로 분류된 파일 개수\n",
    "etc_noise_ratio_motorcycle_horn = (etc_noise_count_motorcycle_horn / total_files_motorcycle_horn) * 100  # 비율 계산\n",
    "\n",
    "# 결과 출력\n",
    "print(f\"Total Files: {total_files_motorcycle_horn}\")\n",
    "print(f\"'이륜차경적' Count: {etc_noise_count_motorcycle_horn}\")\n",
    "print(f\"'이륜차경적' Ratio: {etc_noise_ratio_motorcycle_horn:.2f}%\")"
   ]
  },
  {
   "cell_type": "code",
   "execution_count": 60,
   "id": "5536ee01-3457-44be-b6d9-1c7ab7bab12d",
   "metadata": {},
   "outputs": [],
   "source": [
    "# # CSV로 저장\n",
    "# results_df_motorcycle_horn.to_csv(\"motorcycle_horn.csv\", index=False)\n",
    "# print(\"Classification completed. Results saved to 'motorcycle_horn.csv'\")"
   ]
  },
  {
   "cell_type": "markdown",
   "id": "e345929e-69f5-4375-8d2d-a74a3046f154",
   "metadata": {},
   "source": [
    "### 이륜차 주행음"
   ]
  },
  {
   "cell_type": "code",
   "execution_count": 61,
   "id": "790b7294-918c-42c4-a668-bacaed714c0a",
   "metadata": {},
   "outputs": [
    {
     "name": "stderr",
     "output_type": "stream",
     "text": [
      "100%|██████████| 498/498 [01:13<00:00,  6.78it/s]\n"
     ]
    }
   ],
   "source": [
    "folder_path = \"/home/ubuntu/data/test_data/raw_data_test/2.Motorcycle/5.driving_sound_of_motorcycle\"\n",
    "results = []\n",
    "\n",
    "for filename in tqdm(os.listdir(folder_path)):\n",
    "    if filename.endswith(\".wav\"):\n",
    "        file_path = os.path.join(folder_path, filename)\n",
    "        predicted_label = classify_audio(file_path)\n",
    "        results.append({\"File\": filename, \"Predicted Label\": predicted_label})\n",
    "\n",
    "# 결과를 DataFrame으로 변환\n",
    "results_df_motorcycle_driving = pd.DataFrame(results)"
   ]
  },
  {
   "cell_type": "code",
   "execution_count": 62,
   "id": "d1ff1c90-fc34-4e56-8cd5-05655656f45a",
   "metadata": {},
   "outputs": [
    {
     "data": {
      "text/plain": [
       "이륜차주행음    465\n",
       "차량주행음      22\n",
       "기타소음        8\n",
       "차량사이렌       2\n",
       "차량경적        1\n",
       "Name: Predicted Label, dtype: int64"
      ]
     },
     "execution_count": 62,
     "metadata": {},
     "output_type": "execute_result"
    }
   ],
   "source": [
    "results_df_motorcycle_driving['Predicted Label'].value_counts()"
   ]
  },
  {
   "cell_type": "code",
   "execution_count": 63,
   "id": "d24bd1cc-3c1f-4f6e-b57e-a01a4ff2998a",
   "metadata": {},
   "outputs": [
    {
     "name": "stdout",
     "output_type": "stream",
     "text": [
      "Total Files: 498\n",
      "'이륜차주행음' Count: 465\n",
      "'이륜차주행음' Ratio: 93.37%\n"
     ]
    }
   ],
   "source": [
    "# '기타소음'의 개수와 비율 계산\n",
    "total_files_motorcycle_driving = len(results_df_motorcycle_driving)  # 전체 파일 개수\n",
    "etc_noise_count_motorcycle_driving = results_df_motorcycle_driving[results_df_motorcycle_driving['Predicted Label'] == '이륜차주행음'].shape[0]  # '기타소음'으로 분류된 파일 개수\n",
    "etc_noise_ratio_motorcycle_driving = (etc_noise_count_motorcycle_driving / total_files_motorcycle_driving) * 100  # 비율 계산\n",
    "\n",
    "# 결과 출력\n",
    "print(f\"Total Files: {total_files_motorcycle_driving}\")\n",
    "print(f\"'이륜차주행음' Count: {etc_noise_count_motorcycle_driving}\")\n",
    "print(f\"'이륜차주행음' Ratio: {etc_noise_ratio_motorcycle_driving:.2f}%\")"
   ]
  },
  {
   "cell_type": "code",
   "execution_count": 64,
   "id": "acea947a-66c7-4515-abd7-00b79a3736d9",
   "metadata": {},
   "outputs": [],
   "source": [
    "# # CSV로 저장\n",
    "# results_df_motorcycle_driving.to_csv(\"motorcycle_driving.csv\", index=False)\n",
    "# print(\"Classification completed. Results saved to 'motorcycle_driving.csv'\")"
   ]
  },
  {
   "cell_type": "markdown",
   "id": "232f1174-563c-473f-8710-bf31e9f4df89",
   "metadata": {},
   "source": [
    "# 결과 비교"
   ]
  },
  {
   "cell_type": "code",
   "execution_count": 65,
   "id": "768ad2f7-34f7-4c0b-b4a4-d98192888ada",
   "metadata": {},
   "outputs": [
    {
     "name": "stdout",
     "output_type": "stream",
     "text": [
      "Model: \"model_2\"\n",
      "_________________________________________________________________\n",
      "Layer (type)                 Output Shape              Param #   \n",
      "=================================================================\n",
      "input_3 (InputLayer)         [(None, 50, 1)]           0         \n",
      "_________________________________________________________________\n",
      "conv1d_6 (Conv1D)            (None, 48, 64)            256       \n",
      "_________________________________________________________________\n",
      "batch_normalization_6 (Batch (None, 48, 64)            256       \n",
      "_________________________________________________________________\n",
      "max_pooling1d_6 (MaxPooling1 (None, 24, 64)            0         \n",
      "_________________________________________________________________\n",
      "dropout_9 (Dropout)          (None, 24, 64)            0         \n",
      "_________________________________________________________________\n",
      "conv1d_7 (Conv1D)            (None, 22, 128)           24704     \n",
      "_________________________________________________________________\n",
      "batch_normalization_7 (Batch (None, 22, 128)           512       \n",
      "_________________________________________________________________\n",
      "max_pooling1d_7 (MaxPooling1 (None, 11, 128)           0         \n",
      "_________________________________________________________________\n",
      "dropout_10 (Dropout)         (None, 11, 128)           0         \n",
      "_________________________________________________________________\n",
      "flatten_3 (Flatten)          (None, 1408)              0         \n",
      "_________________________________________________________________\n",
      "dense_6 (Dense)              (None, 128)               180352    \n",
      "_________________________________________________________________\n",
      "batch_normalization_8 (Batch (None, 128)               512       \n",
      "_________________________________________________________________\n",
      "dropout_11 (Dropout)         (None, 128)               0         \n",
      "_________________________________________________________________\n",
      "dense_7 (Dense)              (None, 6)                 774       \n",
      "=================================================================\n",
      "Total params: 207,366\n",
      "Trainable params: 206,726\n",
      "Non-trainable params: 640\n",
      "_________________________________________________________________\n",
      "Loaded Model Accuracy: 0.9462\n",
      "Classification Report:\n",
      "               precision    recall  f1-score   support\n",
      "\n",
      "        기타소음       0.97      0.94      0.96       373\n",
      "       이륜차경적       0.98      0.95      0.97       912\n",
      "      이륜차주행음       0.93      0.97      0.94       947\n",
      "        차량경적       0.93      0.95      0.94       638\n",
      "       차량사이렌       0.98      0.95      0.96       398\n",
      "       차량주행음       0.89      0.88      0.88       337\n",
      "\n",
      "    accuracy                           0.95      3605\n",
      "   macro avg       0.94      0.94      0.94      3605\n",
      "weighted avg       0.95      0.95      0.95      3605\n",
      "\n"
     ]
    }
   ],
   "source": [
    "from tensorflow import keras\n",
    "import numpy as np\n",
    "\n",
    "# 저장된 모델 로드\n",
    "loaded_model = keras.models.load_model('cnn2_6classfication_original.h5')\n",
    "\n",
    "# 모델 구조 확인\n",
    "loaded_model.summary()\n",
    "\n",
    "# 테스트 데이터로 예측 수행\n",
    "y_pred = loaded_model.predict(X_test)\n",
    "y_pred_classes = np.argmax(y_pred, axis=1)\n",
    "y_true_classes = np.argmax(y_test, axis=1)\n",
    "\n",
    "# 정확도 계산\n",
    "from sklearn.metrics import accuracy_score\n",
    "accuracy = accuracy_score(y_true_classes, y_pred_classes)\n",
    "print(f\"Loaded Model Accuracy: {accuracy:.4f}\")\n",
    "\n",
    "# 분류 보고서 출력\n",
    "from sklearn.metrics import classification_report\n",
    "class_names = label_encoder.classes_\n",
    "report = classification_report(y_true_classes, y_pred_classes, target_names=class_names)\n",
    "print(\"Classification Report:\\n\", report)\n"
   ]
  },
  {
   "cell_type": "markdown",
   "id": "9fc7e807-0b1a-4072-8c07-5365f4c3429f",
   "metadata": {},
   "source": [
    "## 기타 소음"
   ]
  },
  {
   "cell_type": "code",
   "execution_count": 66,
   "id": "744af1c7-9283-496a-b879-4b625209d239",
   "metadata": {},
   "outputs": [
    {
     "name": "stdout",
     "output_type": "stream",
     "text": [
      "고양이 Total Files: 274\n",
      "'기타소음' Count: 272\n",
      "'기타소음' Ratio: 99.27%\n",
      "******************************\n",
      "강아지 Total Files: 217\n",
      "'기타소음' Count: 214\n",
      "'기타소음' Ratio: 98.62%\n",
      "******************************\n",
      "향타기 Total Files: 133\n",
      "'기타소음' Count: 126\n",
      "'기타소음' Ratio: 94.74%\n",
      "******************************\n",
      "콘크리트펌프 Total Files: 93\n",
      "'기타소음' Count: 80\n",
      "'기타소음' Ratio: 86.02%\n",
      "******************************\n",
      "발전기 Total Files: 93\n",
      "'기타소음' Count: 80\n",
      "'기타소음' Ratio: 86.02%\n",
      "******************************\n",
      "공구 Total Files: 172\n",
      "'기타소음' Count: 125\n",
      "'기타소음' Ratio: 72.67%\n"
     ]
    }
   ],
   "source": [
    "# 결과 출력\n",
    "print(f\"고양이 Total Files: {total_files_cat}\")\n",
    "print(f\"'기타소음' Count: {etc_noise_count_cat}\")\n",
    "print(f\"'기타소음' Ratio: {etc_noise_ratio_cat:.2f}%\")\n",
    "print('*'*30)\n",
    "\n",
    "# 결과 출력\n",
    "print(f\"강아지 Total Files: {total_files_dog}\")\n",
    "print(f\"'기타소음' Count: {etc_noise_count_dog}\")\n",
    "print(f\"'기타소음' Ratio: {etc_noise_ratio_dog:.2f}%\")\n",
    "print('*'*30)\n",
    "\n",
    "# 결과 출력\n",
    "print(f\"향타기 Total Files: {total_files_piledriver}\")\n",
    "print(f\"'기타소음' Count: {etc_noise_count_piledriver}\")\n",
    "print(f\"'기타소음' Ratio: {etc_noise_ratio_piledriver:.2f}%\")\n",
    "print('*'*30)\n",
    "\n",
    "# 결과 출력\n",
    "print(f\"콘크리트펌프 Total Files: {total_files_concrete}\")\n",
    "print(f\"'기타소음' Count: {etc_noise_count_concrete}\")\n",
    "print(f\"'기타소음' Ratio: {etc_noise_ratio_concrete:.2f}%\")\n",
    "print('*'*30)\n",
    "\n",
    "# 결과 출력\n",
    "print(f\"발전기 Total Files: {total_files_generator}\")\n",
    "print(f\"'기타소음' Count: {etc_noise_count_generator}\")\n",
    "print(f\"'기타소음' Ratio: {etc_noise_ratio_generator:.2f}%\")\n",
    "print('*'*30)\n",
    "\n",
    "# 결과 출력\n",
    "print(f\"공구 Total Files: {total_files_tools}\")\n",
    "print(f\"'기타소음' Count: {etc_noise_count_tools}\")\n",
    "print(f\"'기타소음' Ratio: {etc_noise_ratio_tools:.2f}%\")"
   ]
  },
  {
   "cell_type": "code",
   "execution_count": null,
   "id": "0c43ecca-af1b-4488-95e6-ce25aaf6834a",
   "metadata": {},
   "outputs": [],
   "source": []
  },
  {
   "cell_type": "markdown",
   "id": "e809131b-d3a5-4781-9222-de1d218ae9c9",
   "metadata": {},
   "source": [
    "## 교통 소음"
   ]
  },
  {
   "cell_type": "code",
   "execution_count": 67,
   "id": "f14e14da-8122-4487-8409-c57ccc017dd6",
   "metadata": {},
   "outputs": [
    {
     "name": "stdout",
     "output_type": "stream",
     "text": [
      "차량사이렌 Total Files: 249\n",
      "'차량사이렌' Count: 241\n",
      "'차량사이렌' Ratio: 96.79%\n",
      "******************************\n",
      "차량경적 Total Files: 3189\n",
      "'차량경적' Count: 3113\n",
      "'차량경적' Ratio: 97.62%\n",
      "******************************\n",
      "차량주행음 Total Files: 227\n",
      "'차량주행음' Count: 199\n",
      "'차량주행음' Ratio: 87.67%\n",
      "******************************\n",
      "이륜차경적 Total Files: 519\n",
      "'이륜차경적' Count: 498\n",
      "'이륜차경적' Ratio: 95.95%\n",
      "******************************\n",
      "이륜차주행음 Total Files: 498\n",
      "'이륜차주행음' Count: 465\n",
      "'이륜차주행음' Ratio: 93.37%\n"
     ]
    }
   ],
   "source": [
    "# 결과 출력\n",
    "print(f\"차량사이렌 Total Files: {total_files_car_siren}\")\n",
    "print(f\"'차량사이렌' Count: {etc_noise_count_car_siren}\")\n",
    "print(f\"'차량사이렌' Ratio: {etc_noise_ratio_car_siren:.2f}%\")\n",
    "print('*'*30)\n",
    "\n",
    "# 결과 출력\n",
    "print(f\"차량경적 Total Files: {total_files_car_horn}\")\n",
    "print(f\"'차량경적' Count: {etc_noise_count_car_horn}\")\n",
    "print(f\"'차량경적' Ratio: {etc_noise_ratio_car_horn:.2f}%\")\n",
    "print('*'*30)\n",
    "\n",
    "# 결과 출력\n",
    "print(f\"차량주행음 Total Files: {total_files_car_driving}\")\n",
    "print(f\"'차량주행음' Count: {etc_noise_count_car_driving}\")\n",
    "print(f\"'차량주행음' Ratio: {etc_noise_ratio_car_driving:.2f}%\")\n",
    "print('*'*30)\n",
    "\n",
    "# 결과 출력\n",
    "print(f\"이륜차경적 Total Files: {total_files_motorcycle_horn}\")\n",
    "print(f\"'이륜차경적' Count: {etc_noise_count_motorcycle_horn}\")\n",
    "print(f\"'이륜차경적' Ratio: {etc_noise_ratio_motorcycle_horn:.2f}%\")\n",
    "print('*'*30)\n",
    "\n",
    "# 결과 출력\n",
    "print(f\"이륜차주행음 Total Files: {total_files_motorcycle_driving}\")\n",
    "print(f\"'이륜차주행음' Count: {etc_noise_count_motorcycle_driving}\")\n",
    "print(f\"'이륜차주행음' Ratio: {etc_noise_ratio_motorcycle_driving:.2f}%\")"
   ]
  },
  {
   "cell_type": "code",
   "execution_count": null,
   "id": "63a329da-fae9-4a4b-9abc-79531200ada2",
   "metadata": {},
   "outputs": [],
   "source": []
  },
  {
   "cell_type": "code",
   "execution_count": null,
   "id": "3912e06e-deca-4906-bb8c-ece1cfc22a3b",
   "metadata": {},
   "outputs": [],
   "source": []
  }
 ],
 "metadata": {
  "kernelspec": {
   "display_name": "Python(ml_env_python3.6)",
   "language": "python",
   "name": "ml_env_python3.6"
  },
  "language_info": {
   "codemirror_mode": {
    "name": "ipython",
    "version": 3
   },
   "file_extension": ".py",
   "mimetype": "text/x-python",
   "name": "python",
   "nbconvert_exporter": "python",
   "pygments_lexer": "ipython3",
   "version": "3.6.13"
  }
 },
 "nbformat": 4,
 "nbformat_minor": 5
}
