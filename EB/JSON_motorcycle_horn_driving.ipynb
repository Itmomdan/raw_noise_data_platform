{
 "cells": [
  {
   "cell_type": "markdown",
   "id": "caa83e4d",
   "metadata": {},
   "source": [
    "# 1. Mortorcycle_horn"
   ]
  },
  {
   "cell_type": "code",
   "execution_count": 4,
   "id": "c5fa197a",
   "metadata": {},
   "outputs": [],
   "source": [
    "from pyspark.sql import SparkSession\n",
    "from pyspark.sql.functions import col, explode, expr, from_json, schema_of_json, to_json\n",
    "import config\n",
    "from config import DB_CONFIG, HDFS_CONFIG\n",
    "\n",
    "# MySQL JDBC 드라이버 경로\n",
    "mysql_driver_path = config.MYSQL_JDBC\n",
    "\n",
    "# SparkSession 생성\n",
    "spark = SparkSession.builder \\\n",
    "    .appName(\"HDFS_JSON_Car_Driving\") \\\n",
    "    .config(\"spark.hadoop.fs.defaultFS\", HDFS_CONFIG[\"defaultFS\"]) \\\n",
    "    .config(\"spark.jars\", mysql_driver_path) \\\n",
    "    .getOrCreate()"
   ]
  },
  {
   "cell_type": "code",
   "execution_count": 5,
   "id": "2124c47b",
   "metadata": {},
   "outputs": [
    {
     "name": "stderr",
     "output_type": "stream",
     "text": [
      "                                                                                \r"
     ]
    }
   ],
   "source": [
    "# HDFS에서 JSON 파일 읽기\n",
    "file_path = f\"{config.HDFS_BASE_PATH}/label_data/2.Motorcycle/4.horn_of_motorcycle\"\n",
    "df = spark.read.json(file_path, multiLine=True)"
   ]
  },
  {
   "cell_type": "code",
   "execution_count": 6,
   "id": "4ec8c9b3",
   "metadata": {},
   "outputs": [
    {
     "name": "stderr",
     "output_type": "stream",
     "text": [
      "25/02/27 14:24:16 WARN package: Truncated the string representation of a plan since it was too large. This behavior can be adjusted by setting 'spark.sql.debug.maxToStringFields'.\n"
     ]
    },
    {
     "name": "stdout",
     "output_type": "stream",
     "text": [
      "+----------+--------+-----------+-----------+-----------+-------+------------------------+------------+-----------+--------+--------+----------+----------------------+--------+------------+----------+------------+---------+-------+------------+--------+---------+--------+--------+--------+---------+--------+--------+------+-------------+----------+-------+\n",
      "|area_start|area_end|category_01|category_02|category_03|decibel|labelName               |soundQuality|subCategory|bitRate |duration|fileFormat|fileName              |fileSize|recodingType|sampleRate|acqDevice   |acqMethod|acqType|areaUse     |dayNight|direction|distance|district|latitude|longitude|micClass|obstacle|place |recordingTime|urban     |weather|\n",
      "+----------+--------+-----------+-----------+-----------+-------+------------------------+------------+-----------+--------+--------+----------+----------------------+--------+------------+----------+------------+---------+-------+------------+--------+---------+--------+--------+--------+---------+--------+--------+------+-------------+----------+-------+\n",
      "|3.29      |4.99    |교통소음   |이륜자동차 |이륜차경적 |94     |2.이륜자동차_1776_1.wav |정상        |이륜차경적 |1411kbps|9.364   |wav       |2.이륜자동차_1776.wav |1651824 |Stereo      |44.1kHz   |갤럭시탭S6  |자연적   |제작   |종합병원지역|주간    |우       |5m      |안암동  |37.59   |127.02   |무지향성|없음    |도로변|10:15        |서울특별시|맑음   |\n",
      "|2.0       |12.147  |교통소음   |이륜자동차 |이륜차경적 |109    |2.이륜자동차_24397_1.wav|노이즈      |이륜차경적 |705kbps |14.147  |wav       |2.이륜자동차_24397.wav|1247828 |Mono        |44.1kHz   |TASCAMDR-05X|자연적   |제작   |주거지역    |주간    |우       |20m     |영등포동|37.52   |126.91   |무지향성|없음    |도로변|16:00        |서울특별시|흐림   |\n",
      "|2.0       |10.004  |교통소음   |이륜자동차 |이륜차경적 |113    |2.이륜자동차_24471_1.wav|노이즈      |이륜차경적 |705kbps |12.004  |wav       |2.이륜자동차_24471.wav|1058810 |Mono        |44.1kHz   |TASCAMDR-05X|자연적   |제작   |주거지역    |주간    |우       |20m     |영등포동|37.52   |126.91   |무지향성|없음    |도로변|14:37        |서울특별시|흐림   |\n",
      "|2.0       |3.163   |교통소음   |이륜자동차 |이륜차경적 |124    |2.이륜자동차_1773_1.wav |노이즈      |이륜차경적 |1411kbps|5.163   |wav       |2.이륜자동차_1773.wav |910812  |Stereo      |44.1kHz   |갤럭시탭S6  |자연적   |제작   |주거지역    |주간    |우       |3m      |종로가동|37.57   |127.01   |무지향성|없음    |도로변|10:38        |서울특별시|흐림   |\n",
      "|2.0       |14.616  |교통소음   |이륜자동차 |이륜차경적 |74     |2.이륜자동차_24399_1.wav|노이즈      |이륜차경적 |705kbps |16.616  |wav       |2.이륜자동차_24399.wav|1465532 |Mono        |44.1kHz   |TASCAMDR-05X|자연적   |제작   |주거지역    |주간    |우       |20m     |영등포동|37.52   |126.91   |무지향성|없음    |도로변|12:22        |서울특별시|흐림   |\n",
      "|2.0       |11.763  |교통소음   |이륜자동차 |이륜차경적 |74     |2.이륜자동차_24406_1.wav|노이즈      |이륜차경적 |705kbps |13.763  |wav       |2.이륜자동차_24406.wav|1213964 |Mono        |44.1kHz   |TASCAMDR-05X|자연적   |제작   |주거지역    |주간    |우       |20m     |영등포동|37.52   |126.91   |무지향성|없음    |도로변|11:19        |서울특별시|흐림   |\n",
      "|2.0       |11.818  |교통소음   |이륜자동차 |이륜차경적 |72     |2.이륜자동차_24407_1.wav|노이즈      |이륜차경적 |705kbps |13.818  |wav       |2.이륜자동차_24407.wav|1218802 |Mono        |44.1kHz   |TASCAMDR-05X|자연적   |제작   |주거지역    |주간    |우       |20m     |영등포동|37.52   |126.91   |무지향성|없음    |도로변|12:12        |서울특별시|흐림   |\n",
      "|2.0       |11.928  |교통소음   |이륜자동차 |이륜차경적 |69     |2.이륜자동차_24408_1.wav|노이즈      |이륜차경적 |705kbps |13.928  |wav       |2.이륜자동차_24408.wav|1228478 |Mono        |44.1kHz   |TASCAMDR-05X|자연적   |제작   |주거지역    |주간    |우       |20m     |영등포동|37.52   |126.91   |무지향성|없음    |도로변|11:13        |서울특별시|흐림   |\n",
      "|2.0       |11.818  |교통소음   |이륜자동차 |이륜차경적 |75     |2.이륜자동차_24419_1.wav|노이즈      |이륜차경적 |705kbps |13.818  |wav       |2.이륜자동차_24419.wav|1218802 |Mono        |44.1kHz   |TASCAMDR-05X|자연적   |제작   |주거지역    |주간    |우       |20m     |영등포동|37.52   |126.91   |무지향성|없음    |도로변|10:01        |서울특별시|흐림   |\n",
      "|2.0       |10.173  |교통소음   |이륜자동차 |이륜차경적 |72     |2.이륜자동차_24420_1.wav|노이즈      |이륜차경적 |705kbps |12.173  |wav       |2.이륜자동차_24420.wav|1073668 |Mono        |44.1kHz   |TASCAMDR-05X|자연적   |제작   |주거지역    |주간    |우       |20m     |영등포동|37.52   |126.91   |무지향성|없음    |도로변|12:04        |서울특별시|흐림   |\n",
      "|2.0       |14.122  |교통소음   |이륜자동차 |이륜차경적 |71     |2.이륜자동차_24421_1.wav|노이즈      |이륜차경적 |705kbps |16.122  |wav       |2.이륜자동차_24421.wav|1421990 |Mono        |44.1kHz   |TASCAMDR-05X|자연적   |제작   |주거지역    |주간    |우       |20m     |영등포동|37.52   |126.91   |무지향성|없음    |도로변|08:22        |서울특별시|흐림   |\n",
      "|2.0       |10.118  |교통소음   |이륜자동차 |이륜차경적 |69     |2.이륜자동차_24425_1.wav|노이즈      |이륜차경적 |705kbps |12.118  |wav       |2.이륜자동차_24425.wav|1068830 |Mono        |44.1kHz   |TASCAMDR-05X|자연적   |제작   |주거지역    |주간    |우       |20m     |영등포동|37.52   |126.91   |무지향성|없음    |도로변|16:24        |서울특별시|흐림   |\n",
      "|2.0       |11.434  |교통소음   |이륜자동차 |이륜차경적 |69     |2.이륜자동차_24427_1.wav|노이즈      |이륜차경적 |705kbps |13.434  |wav       |2.이륜자동차_24427.wav|1184938 |Mono        |44.1kHz   |TASCAMDR-05X|자연적   |제작   |주거지역    |주간    |우       |20m     |영등포동|37.52   |126.91   |무지향성|없음    |도로변|14:02        |서울특별시|흐림   |\n",
      "|2.0       |10.233  |교통소음   |이륜자동차 |이륜차경적 |68     |2.이륜자동차_24468_1.wav|노이즈      |이륜차경적 |705kbps |12.233  |wav       |2.이륜자동차_24468.wav|1078982 |Mono        |44.1kHz   |TASCAMDR-05X|자연적   |제작   |주거지역    |주간    |우       |20m     |영등포동|37.52   |126.91   |무지향성|없음    |도로변|15:13        |서울특별시|흐림   |\n",
      "|2.0       |11.605  |교통소음   |이륜자동차 |이륜차경적 |73     |2.이륜자동차_24472_1.wav|노이즈      |이륜차경적 |705kbps |13.605  |wav       |2.이륜자동차_24472.wav|1200006 |Mono        |44.1kHz   |TASCAMDR-05X|자연적   |제작   |주거지역    |주간    |우       |20m     |영등포동|37.52   |126.91   |무지향성|없음    |도로변|16:16        |서울특별시|흐림   |\n",
      "|2.0       |10.527  |교통소음   |이륜자동차 |이륜차경적 |71     |2.이륜자동차_24473_1.wav|노이즈      |이륜차경적 |705kbps |12.527  |wav       |2.이륜자동차_24473.wav|1104916 |Mono        |44.1kHz   |TASCAMDR-05X|자연적   |제작   |주거지역    |주간    |우       |20m     |영등포동|37.52   |126.91   |무지향성|없음    |도로변|13:21        |서울특별시|흐림   |\n",
      "|2.0       |10.168  |교통소음   |이륜자동차 |이륜차경적 |74     |2.이륜자동차_24477_1.wav|노이즈      |이륜차경적 |705kbps |12.168  |wav       |2.이륜자동차_24477.wav|1073220 |Mono        |44.1kHz   |TASCAMDR-05X|자연적   |제작   |주거지역    |주간    |우       |20m     |영등포동|37.52   |126.91   |무지향성|없음    |도로변|08:05        |서울특별시|흐림   |\n",
      "|2.0       |10.494  |교통소음   |이륜자동차 |이륜차경적 |69     |2.이륜자동차_24501_1.wav|노이즈      |이륜차경적 |705kbps |12.494  |wav       |2.이륜자동차_24501.wav|1102034 |Mono        |44.1kHz   |TASCAMDR-05X|자연적   |제작   |주거지역    |주간    |우       |20m     |영등포동|37.52   |126.91   |무지향성|없음    |도로변|14:35        |서울특별시|흐림   |\n",
      "|2.63      |7.26    |교통소음   |이륜자동차 |이륜차경적 |114    |2.이륜자동차_23989_1.wav|노이즈      |이륜차경적 |705kbps |11.0    |wav       |2.이륜자동차_23989.wav|970232  |Mono        |44.1kHz   |TASCAMDR-05X|자연적   |제작   |주거지역    |주간    |우       |20m     |영등포동|37.52   |126.91   |무지향성|없음    |도로변|08:27        |서울특별시|흐림   |\n",
      "|2.0       |8.034   |교통소음   |이륜자동차 |이륜차경적 |112    |2.이륜자동차_23991_1.wav|노이즈      |이륜차경적 |705kbps |10.034  |wav       |2.이륜자동차_23991.wav|885020  |Mono        |44.1kHz   |TASCAMDR-05X|자연적   |제작   |주거지역    |주간    |우       |20m     |영등포동|37.52   |126.91   |무지향성|없음    |도로변|16:47        |서울특별시|흐림   |\n",
      "+----------+--------+-----------+-----------+-----------+-------+------------------------+------------+-----------+--------+--------+----------+----------------------+--------+------------+----------+------------+---------+-------+------------+--------+---------+--------+--------+--------+---------+--------+--------+------+-------------+----------+-------+\n",
      "only showing top 20 rows\n",
      "\n"
     ]
    }
   ],
   "source": [
    "\n",
    "# annotations 배열을 개별 행으로 변환\n",
    "df_flattened_motor = df.withColumn(\"annotation\", explode(col(\"annotations\")))\n",
    "\n",
    "# 구조체 내부의 필드를 개별 컬럼으로 변환\n",
    "df_flattened_motor = df_flattened_motor.select(\n",
    "    # annotation 내부 필드\n",
    "    col(\"annotation.area.start\").alias(\"area_start\"),\n",
    "    col(\"annotation.area.end\").alias(\"area_end\"),\n",
    "    col(\"annotation.categories.category_01\").alias(\"category_01\"),\n",
    "    col(\"annotation.categories.category_02\").alias(\"category_02\"),\n",
    "    col(\"annotation.categories.category_03\").alias(\"category_03\"),\n",
    "    col(\"annotation.decibel\").alias(\"decibel\"),\n",
    "    col(\"annotation.labelName\").alias(\"labelName\"),\n",
    "    col(\"annotation.soundQuality\").alias(\"soundQuality\"),\n",
    "    col(\"annotation.subCategory\").alias(\"subCategory\"),\n",
    "\n",
    "    # audio 내부 필드\n",
    "    col(\"audio.bitRate\").alias(\"bitRate\"),\n",
    "    col(\"audio.duration\").alias(\"duration\"),\n",
    "    col(\"audio.fileFormat\").alias(\"fileFormat\"),\n",
    "    col(\"audio.fileName\").alias(\"fileName\"),\n",
    "    col(\"audio.fileSize\").alias(\"fileSize\"),\n",
    "    col(\"audio.recodingType\").alias(\"recodingType\"),\n",
    "    col(\"audio.sampleRate\").alias(\"sampleRate\"),\n",
    "\n",
    "    # environment 내부 필드\n",
    "    col(\"environment.acqDevice\").alias(\"acqDevice\"),\n",
    "    col(\"environment.acqMethod\").alias(\"acqMethod\"),\n",
    "    col(\"environment.acqType\").alias(\"acqType\"),\n",
    "    col(\"environment.areaUse\").alias(\"areaUse\"),\n",
    "    col(\"environment.dayNight\").alias(\"dayNight\"),\n",
    "    col(\"environment.direction\").alias(\"direction\"),\n",
    "    col(\"environment.distance\").alias(\"distance\"),\n",
    "    col(\"environment.district\").alias(\"district\"),\n",
    "    col(\"environment.gps.latitude\").alias(\"latitude\"),\n",
    "    col(\"environment.gps.longitude\").alias(\"longitude\"),\n",
    "    col(\"environment.micClass\").alias(\"micClass\"),\n",
    "    col(\"environment.obstacle\").alias(\"obstacle\"),\n",
    "    col(\"environment.place\").alias(\"place\"),\n",
    "    col(\"environment.recordingTime\").alias(\"recordingTime\"),\n",
    "    col(\"environment.urban\").alias(\"urban\"),\n",
    "    col(\"environment.weather\").alias(\"weather\"))\n",
    "\n",
    "# 결과 출력 (줄임 없이)\n",
    "df_flattened_motor.show(truncate=False)"
   ]
  },
  {
   "cell_type": "code",
   "execution_count": 7,
   "id": "b1d4291b",
   "metadata": {},
   "outputs": [
    {
     "name": "stderr",
     "output_type": "stream",
     "text": [
      "                                                                                \r"
     ]
    },
    {
     "data": {
      "text/plain": [
       "4560"
      ]
     },
     "execution_count": 7,
     "metadata": {},
     "output_type": "execute_result"
    }
   ],
   "source": [
    "df_flattened_motor.count()"
   ]
  },
  {
   "cell_type": "code",
   "execution_count": 6,
   "id": "f9ab1794",
   "metadata": {},
   "outputs": [],
   "source": [
    "#SQL 쿼리로 데이터 추출\n",
    "df_flattened_motor.createOrReplaceTempView(\"json_table\")\n",
    "\n",
    "# explode를 통해 평탄화한 'annotations' 데이터 처리\n",
    "df_flattened_motor = spark.sql(\"\"\"\n",
    "    SELECT *\n",
    "    FROM json_table\n",
    "\"\"\")\n",
    "\n",
    "# ✅ Config 파일에서 MySQL 연결 정보 로드\n",
    "mysql_url = f\"jdbc:mysql://{DB_CONFIG['host']}:{DB_CONFIG['port']}/{DB_CONFIG['database']}?useUnicode=true&characterEncoding=UTF-8\"\n",
    "mysql_properties = {\n",
    "    \"user\": DB_CONFIG[\"user\"],\n",
    "    \"password\": DB_CONFIG[\"password\"],\n",
    "    \"driver\": \"com.mysql.cj.jdbc.Driver\"\n",
    "}"
   ]
  },
  {
   "cell_type": "code",
   "execution_count": 7,
   "id": "5972de33",
   "metadata": {},
   "outputs": [
    {
     "name": "stderr",
     "output_type": "stream",
     "text": [
      "[Stage 4:====================================================>  (137 + 4) / 143]\r"
     ]
    },
    {
     "name": "stdout",
     "output_type": "stream",
     "text": [
      "데이터가 MySQL로 성공적으로 적재되었습니다!\n"
     ]
    },
    {
     "name": "stderr",
     "output_type": "stream",
     "text": [
      "                                                                                \r"
     ]
    }
   ],
   "source": [
    "# MySQL로 DataFrame 적재 (쿼리 결과가 None이 아닌 경우에만)\n",
    "if df_flattened_motor is not None:\n",
    "    df_flattened_motor.write.jdbc(url=mysql_url, table=\"motorcycle_horn_data\", mode=\"overwrite\", properties=mysql_properties)\n",
    "    print(\"데이터가 MySQL로 성공적으로 적재되었습니다!\")\n",
    "else:\n",
    "    print(\"쿼리 결과가 없습니다. 데이터 추출이 실패했습니다.\")"
   ]
  },
  {
   "cell_type": "code",
   "execution_count": null,
   "id": "f5887350",
   "metadata": {},
   "outputs": [],
   "source": []
  },
  {
   "cell_type": "markdown",
   "id": "2554b431",
   "metadata": {},
   "source": [
    "# 2. Mortorcycle_driving_sound"
   ]
  },
  {
   "cell_type": "code",
   "execution_count": 8,
   "id": "3cd12242",
   "metadata": {},
   "outputs": [
    {
     "name": "stderr",
     "output_type": "stream",
     "text": [
      "                                                                                \r"
     ]
    }
   ],
   "source": [
    "# HDFS에서 JSON 파일 읽기\n",
    "file_path2 = f\"{config.HDFS_BASE_PATH}/label_data/2.Motorcycle/5.driving_sound_of_motorcycle\"\n",
    "df2 = spark.read.json(file_path2, multiLine=True)"
   ]
  },
  {
   "cell_type": "code",
   "execution_count": 13,
   "id": "ad20a714",
   "metadata": {},
   "outputs": [
    {
     "name": "stdout",
     "output_type": "stream",
     "text": [
      "+----------+--------+-----------+-----------+------------+-------+-----------------------+------------+------------+--------+--------+----------+---------------------+--------+------------+----------+---------------+---------+-------+------------+--------+---------+--------+----------+--------+---------+--------+--------+------+-------------+----------+-------+\n",
      "|area_start|area_end|category_01|category_02|category_03 |decibel|labelName              |soundQuality|subCategory |bitRate |duration|fileFormat|fileName             |fileSize|recodingType|sampleRate|acqDevice      |acqMethod|acqType|areaUse     |dayNight|direction|distance|district  |latitude|longitude|micClass|obstacle|place |recordingTime|urban     |weather|\n",
      "+----------+--------+-----------+-----------+------------+-------+-----------------------+------------+------------+--------+--------+----------+---------------------+--------+------------+----------+---------------+---------+-------+------------+--------+---------+--------+----------+--------+---------+--------+--------+------+-------------+----------+-------+\n",
      "|4.02      |8.59    |교통소음   |이륜자동차 |이륜차주행음|125    |2.이륜자동차_1964_1.wav|정상        |이륜차주행음|1411kbps|11.066  |wav       |2.이륜자동차_1964.wav|1952012 |Stereo      |44.1kHz   |갤럭시S6Tab    |자연적   |제작   |주거지역    |주간    |좌       |70m     |영등포본동|37.51   |126.9    |무지향성|없음    |도로변|13:15        |서울특별시|맑음   |\n",
      "|2.0       |16.425  |교통소음   |이륜자동차 |이륜차주행음|108    |2.이륜자동차_2263_1.wav|노이즈      |이륜차주행음|1411kbps|18.425  |wav       |2.이륜자동차_2263.wav|3250244 |Stereo      |44.1kHz   |갤럭시TabS6Lite|자연적   |제작   |주거지역    |주간    |우       |2m      |중흥동    |35.17   |126.92   |무지향성|없음    |도로변|14:40        |광주광역시|흐림   |\n",
      "|7.44      |23.86   |교통소음   |이륜자동차 |이륜차주행음|92     |2.이륜자동차_2392_1.wav|정상        |이륜차주행음|1411kbps|28.611  |wav       |2.이륜자동차_2392.wav|5047020 |Stereo      |44.1kHz   |갤럭시탭S6     |자연적   |제작   |종합병원지역|주간    |우       |5m      |안암동    |37.59   |127.02   |무지향성|없음    |도로변|14:17        |서울특별시|맑음   |\n",
      "|2.0       |20.63   |교통소음   |이륜자동차 |이륜차주행음|111    |2.이륜자동차_2456_1.wav|노이즈      |이륜차주행음|1411kbps|22.63   |wav       |2.이륜자동차_2456.wav|3991924 |Stereo      |44.1kHz   |갤럭시S6Tab    |자연적   |제작   |주거지역    |주간    |좌       |70m     |영등포본동|37.51   |126.9    |무지향성|없음    |도로변|11:56        |서울특별시|맑음   |\n",
      "|5.56      |13.53   |교통소음   |이륜자동차 |이륜차주행음|120    |2.이륜자동차_2138_1.wav|노이즈      |이륜차주행음|1411kbps|15.525  |wav       |2.이륜자동차_2138.wav|2738568 |Stereo      |44.1kHz   |갤럭시S7       |자연적   |제작   |종합병원지역|주간    |우       |10m     |학동      |35.14   |126.92   |무지향성|없음    |도로변|10:04        |광주광역시|맑음   |\n",
      "|2.36      |10.11   |교통소음   |이륜자동차 |이륜차주행음|115    |2.이륜자동차_2242_1.wav|정상        |이륜차주행음|1411kbps|12.093  |wav       |2.이륜자동차_2242.wav|2133176 |Stereo      |44.1kHz   |갤럭시TabS6Lite|자연적   |제작   |주거지역    |주간    |우       |2m      |중흥동    |35.17   |126.92   |무지향성|없음    |도로변|14:40        |광주광역시|흐림   |\n",
      "|2.0       |15.995  |교통소음   |이륜자동차 |이륜차주행음|103    |2.이륜자동차_2493_1.wav|노이즈      |이륜차주행음|1411kbps|17.995  |wav       |2.이륜자동차_2493.wav|3174384 |Stereo      |44.1kHz   |갤럭시탭S6     |자연적   |제작   |주거지역    |주간    |우       |2m      |종로가동  |37.57   |127.01   |무지향성|없음    |도로변|10:30        |서울특별시|흐림   |\n",
      "|5.51      |15.33   |교통소음   |이륜자동차 |이륜차주행음|127    |2.이륜자동차_2512_1.wav|정상        |이륜차주행음|1411kbps|17.326  |wav       |2.이륜자동차_2512.wav|3056408 |Stereo      |44.1kHz   |갤럭시TabS6Lite|자연적   |제작   |주거지역    |주간    |우       |2m      |중흥동    |35.17   |126.92   |무지향성|없음    |도로변|14:40        |광주광역시|흐림   |\n",
      "|2.0       |12.469  |교통소음   |이륜자동차 |이륜차주행음|117    |2.이륜자동차_2652_1.wav|정상        |이륜차주행음|1411kbps|14.469  |wav       |2.이륜자동차_2652.wav|2552324 |Stereo      |44.1kHz   |갤럭시S6Tab    |자연적   |제작   |주거지역    |주간    |좌       |70m     |영등포본동|37.51   |126.9    |무지향성|없음    |도로변|12:17        |서울특별시|맑음   |\n",
      "|2.0       |16.111  |교통소음   |이륜자동차 |이륜차주행음|124    |2.이륜자동차_2844_1.wav|정상        |이륜차주행음|1411kbps|18.111  |wav       |2.이륜자동차_2844.wav|3194820 |Stereo      |44.1kHz   |갤럭시S6Tab    |자연적   |제작   |주거지역    |주간    |좌       |70m     |영등포본동|37.51   |126.9    |무지향성|없음    |도로변|12:40        |서울특별시|맑음   |\n",
      "|3.33      |7.77    |교통소음   |이륜자동차 |이륜차주행음|109    |2.이륜자동차_1861_1.wav|정상        |이륜차주행음|1411kbps|11.263  |wav       |2.이륜자동차_1861.wav|1986812 |Stereo      |44.1kHz   |갤럭시TabS6Lite|자연적   |제작   |주거지역    |주간    |우       |2m      |중흥동    |35.17   |126.92   |무지향성|없음    |도로변|14:40        |광주광역시|흐림   |\n",
      "|2.0       |13.993  |교통소음   |이륜자동차 |이륜차주행음|75     |2.이륜자동차_1870_1.wav|노이즈      |이륜차주행음|1411kbps|15.993  |wav       |2.이륜자동차_1870.wav|2821212 |Stereo      |44.1kHz   |갤럭시탭S6     |자연적   |제작   |주거지역    |주간    |우       |2m      |종로가동  |37.57   |127.01   |무지향성|없음    |도로변|10:05        |서울특별시|흐림   |\n",
      "|2.0       |23.432  |교통소음   |이륜자동차 |이륜차주행음|102    |2.이륜자동차_1994_1.wav|노이즈      |이륜차주행음|1411kbps|25.432  |wav       |2.이륜자동차_1994.wav|4486252 |Stereo      |44.1kHz   |갤럭시.Tab.S6  |자연적   |제작   |주거지역    |주간    |우       |12m     |신영동    |37.6    |126.96   |무지향성|없음    |도로변|10:33        |서울특별시|맑음   |\n",
      "|3.05      |7.56    |교통소음   |이륜자동차 |이륜차주행음|124    |2.이륜자동차_2091_1.wav|정상        |이륜차주행음|1411kbps|10.677  |wav       |2.이륜자동차_2091.wav|1883412 |Stereo      |44.1kHz   |갤럭시TabS6Lite|자연적   |제작   |주거지역    |주간    |우       |2m      |중흥동    |35.17   |126.92   |무지향성|없음    |도로변|14:40        |광주광역시|흐림   |\n",
      "|7.3       |19.36   |교통소음   |이륜자동차 |이륜차주행음|121    |2.이륜자동차_2246_1.wav|노이즈      |이륜차주행음|1411kbps|21.364  |wav       |2.이륜자동차_2246.wav|3768588 |Stereo      |44.1kHz   |갤럭시S6탭     |자연적   |제작   |주거지역    |주간    |우       |20m     |화곡동    |37.54   |126.85   |무지향성|없음    |도로변|14:43        |서울특별시|맑음   |\n",
      "|4.86      |11.14   |교통소음   |이륜자동차 |이륜차주행음|74     |2.이륜자동차_2253_1.wav|노이즈      |이륜차주행음|1411kbps|14.965  |wav       |2.이륜자동차_2253.wav|2639904 |Stereo      |44.1kHz   |아이폰12mini   |자연적   |제작   |주거지역    |주간    |우       |16m     |송정동    |35.14   |126.8    |무지향성|없음    |도로변|16:11        |광주광역시|맑음   |\n",
      "|2.0       |10.916  |교통소음   |이륜자동차 |이륜차주행음|72     |2.이륜자동차_2297_1.wav|노이즈      |이륜차주행음|1411kbps|12.916  |wav       |2.이륜자동차_2297.wav|2278416 |Stereo      |44.1kHz   |갤럭시.Tab.S6  |자연적   |제작   |상업지역    |주간    |우       |11m     |합정동    |37.55   |126.92   |무지향성|없음    |도로변|13:50        |서울특별시|흐림   |\n",
      "|2.0       |7.054   |교통소음   |이륜자동차 |이륜차주행음|108    |2.이륜자동차_2308_1.wav|정상        |이륜차주행음|1411kbps|9.054   |wav       |2.이륜자동차_2308.wav|1597112 |Stereo      |44.1kHz   |갤럭시S6Tab    |자연적   |제작   |종합병원지역|주간    |좌       |20m     |한남동    |37.53   |127.01   |무지향성|없음    |도로변|12:33        |서울특별시|맑음   |\n",
      "|2.0       |11.858  |교통소음   |이륜자동차 |이륜차주행음|75     |2.이륜자동차_2330_1.wav|노이즈      |이륜차주행음|1411kbps|13.858  |wav       |2.이륜자동차_2330.wav|2444620 |Stereo      |44.1kHz   |갤럭시탭S6     |자연적   |제작   |주거지역    |주간    |우       |2m      |종로가동  |37.57   |127.01   |무지향성|없음    |도로변|10:54        |서울특별시|흐림   |\n",
      "|2.0       |12.963  |교통소음   |이륜자동차 |이륜차주행음|81     |2.이륜자동차_2459_1.wav|정상        |이륜차주행음|1411kbps|14.963  |wav       |2.이륜자동차_2459.wav|2639488 |Stereo      |44.1kHz   |갤럭시탭S6     |자연적   |제작   |종합병원지역|주간    |우       |8m      |구로동    |37.49   |126.88   |무지향성|없음    |도로변|13:07        |서울특별시|맑음   |\n",
      "+----------+--------+-----------+-----------+------------+-------+-----------------------+------------+------------+--------+--------+----------+---------------------+--------+------------+----------+---------------+---------+-------+------------+--------+---------+--------+----------+--------+---------+--------+--------+------+-------------+----------+-------+\n",
      "only showing top 20 rows\n",
      "\n"
     ]
    }
   ],
   "source": [
    "\n",
    "# annotations 배열을 개별 행으로 변환\n",
    "df_flattened_motor2 = df2.withColumn(\"annotation\", explode(col(\"annotations\")))\n",
    "\n",
    "# 구조체 내부의 필드를 개별 컬럼으로 변환\n",
    "df_flattened_motor2 = df_flattened_motor2.select(\n",
    "    # annotation 내부 필드\n",
    "    col(\"annotation.area.start\").alias(\"area_start\"),\n",
    "    col(\"annotation.area.end\").alias(\"area_end\"),\n",
    "    col(\"annotation.categories.category_01\").alias(\"category_01\"),\n",
    "    col(\"annotation.categories.category_02\").alias(\"category_02\"),\n",
    "    col(\"annotation.categories.category_03\").alias(\"category_03\"),\n",
    "    col(\"annotation.decibel\").alias(\"decibel\"),\n",
    "    col(\"annotation.labelName\").alias(\"labelName\"),\n",
    "    col(\"annotation.soundQuality\").alias(\"soundQuality\"),\n",
    "    col(\"annotation.subCategory\").alias(\"subCategory\"),\n",
    "\n",
    "    # audio 내부 필드\n",
    "    col(\"audio.bitRate\").alias(\"bitRate\"),\n",
    "    col(\"audio.duration\").alias(\"duration\"),\n",
    "    col(\"audio.fileFormat\").alias(\"fileFormat\"),\n",
    "    col(\"audio.fileName\").alias(\"fileName\"),\n",
    "    col(\"audio.fileSize\").alias(\"fileSize\"),\n",
    "    col(\"audio.recodingType\").alias(\"recodingType\"),\n",
    "    col(\"audio.sampleRate\").alias(\"sampleRate\"),\n",
    "\n",
    "    # environment 내부 필드\n",
    "    col(\"environment.acqDevice\").alias(\"acqDevice\"),\n",
    "    col(\"environment.acqMethod\").alias(\"acqMethod\"),\n",
    "    col(\"environment.acqType\").alias(\"acqType\"),\n",
    "    col(\"environment.areaUse\").alias(\"areaUse\"),\n",
    "    col(\"environment.dayNight\").alias(\"dayNight\"),\n",
    "    col(\"environment.direction\").alias(\"direction\"),\n",
    "    col(\"environment.distance\").alias(\"distance\"),\n",
    "    col(\"environment.district\").alias(\"district\"),\n",
    "    col(\"environment.gps.latitude\").alias(\"latitude\"),\n",
    "    col(\"environment.gps.longitude\").alias(\"longitude\"),\n",
    "    col(\"environment.micClass\").alias(\"micClass\"),\n",
    "    col(\"environment.obstacle\").alias(\"obstacle\"),\n",
    "    col(\"environment.place\").alias(\"place\"),\n",
    "    col(\"environment.recordingTime\").alias(\"recordingTime\"),\n",
    "    col(\"environment.urban\").alias(\"urban\"),\n",
    "    col(\"environment.weather\").alias(\"weather\"))\n",
    "\n",
    "# 결과 출력 (줄임 없이)\n",
    "df_flattened_motor2.show(truncate=False)"
   ]
  },
  {
   "cell_type": "code",
   "execution_count": 14,
   "id": "5f025d7f",
   "metadata": {},
   "outputs": [
    {
     "name": "stderr",
     "output_type": "stream",
     "text": [
      "                                                                                \r"
     ]
    },
    {
     "data": {
      "text/plain": [
       "4735"
      ]
     },
     "execution_count": 14,
     "metadata": {},
     "output_type": "execute_result"
    }
   ],
   "source": [
    "df_flattened_motor2.count()"
   ]
  },
  {
   "cell_type": "code",
   "execution_count": 11,
   "id": "13bcfa7f",
   "metadata": {},
   "outputs": [],
   "source": [
    "#SQL 쿼리로 데이터 추출\n",
    "df_flattened_motor2.createOrReplaceTempView(\"json_table\")\n",
    "\n",
    "# explode를 통해 평탄화한 'annotations' 데이터 처리\n",
    "df_flattened_motor2 = spark.sql(\"\"\"\n",
    "    SELECT *\n",
    "    FROM json_table\n",
    "\"\"\")\n",
    "\n",
    "# ✅ Config 파일에서 MySQL 연결 정보 로드\n",
    "mysql_url = f\"jdbc:mysql://{DB_CONFIG['host']}:{DB_CONFIG['port']}/{DB_CONFIG['database']}?useUnicode=true&characterEncoding=UTF-8\"\n",
    "mysql_properties = {\n",
    "    \"user\": DB_CONFIG[\"user\"],\n",
    "    \"password\": DB_CONFIG[\"password\"],\n",
    "    \"driver\": \"com.mysql.cj.jdbc.Driver\"\n",
    "}"
   ]
  },
  {
   "cell_type": "code",
   "execution_count": 12,
   "id": "58d1dfb3",
   "metadata": {},
   "outputs": [
    {
     "name": "stderr",
     "output_type": "stream",
     "text": [
      "[Stage 9:==================================================>    (137 + 4) / 148]\r"
     ]
    },
    {
     "name": "stdout",
     "output_type": "stream",
     "text": [
      "데이터가 MySQL로 성공적으로 적재되었습니다!\n"
     ]
    },
    {
     "name": "stderr",
     "output_type": "stream",
     "text": [
      "                                                                                \r"
     ]
    }
   ],
   "source": [
    "# MySQL로 DataFrame 적재 (쿼리 결과가 None이 아닌 경우에만)\n",
    "if df_flattened_motor2 is not None:\n",
    "    df_flattened_motor2.write.jdbc(url=mysql_url, table=\"motorcycle_driving_data\", mode=\"overwrite\", properties=mysql_properties)\n",
    "    print(\"데이터가 MySQL로 성공적으로 적재되었습니다!\")\n",
    "else:\n",
    "    print(\"쿼리 결과가 없습니다. 데이터 추출이 실패했습니다.\")"
   ]
  },
  {
   "cell_type": "code",
   "execution_count": 8,
   "id": "d57491af",
   "metadata": {},
   "outputs": [],
   "source": [
    "spark.stop()"
   ]
  },
  {
   "cell_type": "code",
   "execution_count": null,
   "id": "a1ca4b12",
   "metadata": {},
   "outputs": [],
   "source": []
  }
 ],
 "metadata": {
  "kernelspec": {
   "display_name": "Python(ml_env)",
   "language": "python",
   "name": "ml_env"
  },
  "language_info": {
   "codemirror_mode": {
    "name": "ipython",
    "version": 3
   },
   "file_extension": ".py",
   "mimetype": "text/x-python",
   "name": "python",
   "nbconvert_exporter": "python",
   "pygments_lexer": "ipython3",
   "version": "3.8.20"
  }
 },
 "nbformat": 4,
 "nbformat_minor": 5
}
