{
 "cells": [
  {
   "cell_type": "code",
   "execution_count": 1,
   "id": "051099cc",
   "metadata": {},
   "outputs": [
    {
     "name": "stderr",
     "output_type": "stream",
     "text": [
      "25/02/27 14:19:07 WARN NativeCodeLoader: Unable to load native-hadoop library for your platform... using builtin-java classes where applicable\n",
      "Using Spark's default log4j profile: org/apache/spark/log4j-defaults.properties\n",
      "Setting default log level to \"WARN\".\n",
      "To adjust logging level use sc.setLogLevel(newLevel). For SparkR, use setLogLevel(newLevel).\n",
      "25/02/27 14:19:08 WARN Utils: Service 'SparkUI' could not bind on port 4040. Attempting port 4041.\n",
      "25/02/27 14:19:08 WARN Utils: Service 'SparkUI' could not bind on port 4041. Attempting port 4042.\n"
     ]
    }
   ],
   "source": [
    "from pyspark.sql import SparkSession\n",
    "from pyspark.sql.functions import col, explode, expr, from_json, schema_of_json, to_json\n",
    "import config\n",
    "from config import DB_CONFIG, HDFS_CONFIG\n",
    "\n",
    "# MySQL JDBC 드라이버 경로\n",
    "mysql_driver_path = config.MYSQL_JDBC\n",
    "\n",
    "# SparkSession 생성\n",
    "spark = SparkSession.builder \\\n",
    "    .appName(\"HDFS_JSON_Car_Driving\") \\\n",
    "    .config(\"spark.hadoop.fs.defaultFS\", HDFS_CONFIG[\"defaultFS\"]) \\\n",
    "    .config(\"spark.jars\", mysql_driver_path) \\\n",
    "    .getOrCreate()"
   ]
  },
  {
   "cell_type": "code",
   "execution_count": 2,
   "id": "d4451a67",
   "metadata": {},
   "outputs": [
    {
     "name": "stderr",
     "output_type": "stream",
     "text": [
      "                                                                                \r"
     ]
    }
   ],
   "source": [
    "# HDFS에서 JSON 파일 읽기\n",
    "file_path = f\"{config.HDFS_BASE_PATH}/label_data/1.Car/2.siren_of_car\"\n",
    "df = spark.read.json(file_path, multiLine=True)"
   ]
  },
  {
   "cell_type": "code",
   "execution_count": 3,
   "id": "4e917c6a",
   "metadata": {},
   "outputs": [
    {
     "name": "stderr",
     "output_type": "stream",
     "text": [
      "                                                                                \r"
     ]
    },
    {
     "data": {
      "text/plain": [
       "1990"
      ]
     },
     "execution_count": 3,
     "metadata": {},
     "output_type": "execute_result"
    }
   ],
   "source": [
    "df.count()"
   ]
  },
  {
   "cell_type": "code",
   "execution_count": 4,
   "id": "dc69e707",
   "metadata": {},
   "outputs": [
    {
     "name": "stdout",
     "output_type": "stream",
     "text": [
      "root\n",
      " |-- annotations: array (nullable = true)\n",
      " |    |-- element: struct (containsNull = true)\n",
      " |    |    |-- area: struct (nullable = true)\n",
      " |    |    |    |-- end: double (nullable = true)\n",
      " |    |    |    |-- start: double (nullable = true)\n",
      " |    |    |-- categories: struct (nullable = true)\n",
      " |    |    |    |-- category_01: string (nullable = true)\n",
      " |    |    |    |-- category_02: string (nullable = true)\n",
      " |    |    |    |-- category_03: string (nullable = true)\n",
      " |    |    |-- decibel: long (nullable = true)\n",
      " |    |    |-- labelName: string (nullable = true)\n",
      " |    |    |-- soundQuality: string (nullable = true)\n",
      " |    |    |-- subCategory: string (nullable = true)\n",
      " |-- audio: struct (nullable = true)\n",
      " |    |-- bitRate: string (nullable = true)\n",
      " |    |-- duration: double (nullable = true)\n",
      " |    |-- fileFormat: string (nullable = true)\n",
      " |    |-- fileName: string (nullable = true)\n",
      " |    |-- fileSize: long (nullable = true)\n",
      " |    |-- recodingType: string (nullable = true)\n",
      " |    |-- sampleRate: string (nullable = true)\n",
      " |-- environment: struct (nullable = true)\n",
      " |    |-- acqDevice: string (nullable = true)\n",
      " |    |-- acqMethod: string (nullable = true)\n",
      " |    |-- acqType: string (nullable = true)\n",
      " |    |-- areaUse: string (nullable = true)\n",
      " |    |-- dayNight: string (nullable = true)\n",
      " |    |-- direction: string (nullable = true)\n",
      " |    |-- distance: string (nullable = true)\n",
      " |    |-- district: string (nullable = true)\n",
      " |    |-- gps: struct (nullable = true)\n",
      " |    |    |-- latitude: double (nullable = true)\n",
      " |    |    |-- longitude: double (nullable = true)\n",
      " |    |-- micClass: string (nullable = true)\n",
      " |    |-- obstacle: string (nullable = true)\n",
      " |    |-- place: string (nullable = true)\n",
      " |    |-- recordingTime: string (nullable = true)\n",
      " |    |-- urban: string (nullable = true)\n",
      " |    |-- weather: string (nullable = true)\n",
      " |-- info: struct (nullable = true)\n",
      " |    |-- contributor: string (nullable = true)\n",
      " |    |-- dateCreated: string (nullable = true)\n",
      " |    |-- description: string (nullable = true)\n",
      " |    |-- uri: string (nullable = true)\n",
      " |    |-- version: double (nullable = true)\n",
      " |    |-- year: long (nullable = true)\n",
      " |-- license: struct (nullable = true)\n",
      " |    |-- name: string (nullable = true)\n",
      " |    |-- url: string (nullable = true)\n",
      "\n"
     ]
    }
   ],
   "source": [
    "df.printSchema()"
   ]
  },
  {
   "cell_type": "code",
   "execution_count": 6,
   "id": "0f8997b1",
   "metadata": {},
   "outputs": [
    {
     "name": "stderr",
     "output_type": "stream",
     "text": [
      "25/02/27 13:25:31 WARN package: Truncated the string representation of a plan since it was too large. This behavior can be adjusted by setting 'spark.sql.debug.maxToStringFields'.\n"
     ]
    },
    {
     "name": "stdout",
     "output_type": "stream",
     "text": [
      "+----------+--------+-----------+-----------+-----------+-------+--------------------+------------+-----------+--------+--------+----------+------------------+--------+------------+----------+--------------+---------+-------+------------+--------+---------+--------+--------+--------+---------+--------+--------+--------+-------------+----------+-------+\n",
      "|area_start|area_end|category_01|category_02|category_03|decibel|labelName           |soundQuality|subCategory|bitRate |duration|fileFormat|fileName          |fileSize|recodingType|sampleRate|acqDevice     |acqMethod|acqType|areaUse     |dayNight|direction|distance|district|latitude|longitude|micClass|obstacle|place   |recordingTime|urban     |weather|\n",
      "+----------+--------+-----------+-----------+-----------+-------+--------------------+------------+-----------+--------+--------+----------+------------------+--------+------------+----------+--------------+---------+-------+------------+--------+---------+--------+--------+--------+---------+--------+--------+--------+-------------+----------+-------+\n",
      "|12.19     |17.69   |교통소음   |자동차     |차량사이렌 |112    |1.자동차_19983_1.wav|노이즈      |구급차     |705kbps |29.056  |wav       |1.자동차_19983.wav|2566804 |Mono        |44.1kHz   |iPHONE 12 mini|자연적   |제작   |주거지역    |주간    |아래     |30m     |논현동  |37.41   |126.73   |무지향성|없음    |건물내부|14:09        |인천광역시|맑음   |\n",
      "|17.53     |20.76   |교통소음   |자동차     |차량사이렌 |71     |1.자동차_19873_1.wav|노이즈      |경찰차     |705kbps |32.32   |wav       |1.자동차_19873.wav|2854690 |Mono        |44.1kHz   |iPHONE 12 mini|자연적   |제작   |주거지역    |주간    |아래     |30m     |논현동  |37.41   |126.73   |무지향성|없음    |건물내부|17:40        |인천광역시|맑음   |\n",
      "|8.04      |16.85   |교통소음   |자동차     |차량사이렌 |101    |1.자동차_428_1.wav  |노이즈      |구급차     |1411kbps|24.339  |wav       |1.자동차_428.wav  |4293356 |Stereo      |44.1kHz   |갤럭시S6Tab   |자연적   |제작   |종합병원지역|주간    |좌       |20m     |한남동  |37.53   |127.01   |무지향성|없음    |도로변  |13:19        |서울특별시|맑음   |\n",
      "|6.43      |11.32   |교통소음   |자동차     |차량사이렌 |113    |1.자동차_455_1.wav  |노이즈      |구급차     |1411kbps|16.226  |wav       |1.자동차_455.wav  |2862352 |Stereo      |44.1kHz   |갤럭시S6Tab   |자연적   |제작   |종합병원지역|주간    |좌       |20m     |한남동  |37.53   |127.01   |무지향성|없음    |도로변  |14:26        |서울특별시|맑음   |\n",
      "|6.69      |18.78   |교통소음   |자동차     |차량사이렌 |116    |1.자동차_78419_1.wav|노이즈      |구급차     |1411kbps|32.717  |wav       |1.자동차_78419.wav|5771342 |Stereo      |44.1kHz   |삼성 갤럭시 S9|자연적   |제작   |상업지역    |주간    |좌       |6m      |역삼동  |37.51   |127.03   |무지향성|없음    |도로변  |11:13        |서울특별시|비     |\n",
      "|2.0       |14.021  |교통소음   |자동차     |차량사이렌 |107    |1.자동차_271_1.wav  |노이즈      |구급차     |1411kbps|16.021  |wav       |1.자동차_271.wav  |2826152 |Stereo      |44.1kHz   |갤럭시S6Tab   |자연적   |제작   |종합병원지역|주간    |좌       |20m     |한남동  |37.53   |127.01   |무지향성|없음    |도로변  |12:33        |서울특별시|맑음   |\n",
      "|2.0       |15.677  |교통소음   |자동차     |차량사이렌 |108    |1.자동차_297_1.wav  |노이즈      |구급차     |1411kbps|17.677  |wav       |1.자동차_297.wav  |3118340 |Stereo      |44.1kHz   |갤럭시S6Tab   |자연적   |제작   |종합병원지역|주간    |좌       |20m     |한남동  |37.53   |127.01   |무지향성|없음    |도로변  |13:39        |서울특별시|맑음   |\n",
      "|2.0       |16.866  |교통소음   |자동차     |차량사이렌 |110    |1.자동차_304_1.wav  |노이즈      |구급차     |1411kbps|18.866  |wav       |1.자동차_304.wav  |3328080 |Stereo      |44.1kHz   |갤럭시S6Tab   |자연적   |제작   |종합병원지역|주간    |좌       |20m     |한남동  |37.53   |127.01   |무지향성|없음    |도로변  |12:41        |서울특별시|맑음   |\n",
      "|2.0       |16.003  |교통소음   |자동차     |차량사이렌 |114    |1.자동차_312_1.wav  |노이즈      |구급차     |1411kbps|18.003  |wav       |1.자동차_312.wav  |3175724 |Stereo      |44.1kHz   |갤럭시S6Tab   |자연적   |제작   |종합병원지역|주간    |좌       |20m     |한남동  |37.53   |127.01   |무지향성|없음    |도로변  |14:04        |서울특별시|맑음   |\n",
      "|2.0       |13.925  |교통소음   |자동차     |차량사이렌 |104    |1.자동차_313_1.wav  |노이즈      |구급차     |1411kbps|15.925  |wav       |1.자동차_313.wav  |2809128 |Stereo      |44.1kHz   |갤럭시S6Tab   |자연적   |제작   |종합병원지역|주간    |좌       |20m     |한남동  |37.53   |127.01   |무지향성|없음    |도로변  |13:04        |서울특별시|맑음   |\n",
      "|2.0       |18.301  |교통소음   |자동차     |차량사이렌 |112    |1.자동차_330_1.wav  |노이즈      |구급차     |1411kbps|20.301  |wav       |1.자동차_330.wav  |3581124 |Stereo      |44.1kHz   |갤럭시S6Tab   |자연적   |제작   |종합병원지역|주간    |좌       |20m     |한남동  |37.53   |127.01   |무지향성|없음    |도로변  |13:25        |서울특별시|맑음   |\n",
      "|2.0       |17.987  |교통소음   |자동차     |차량사이렌 |124    |1.자동차_336_1.wav  |노이즈      |구급차     |1411kbps|19.987  |wav       |1.자동차_336.wav  |3525724 |Stereo      |44.1kHz   |갤럭시S6Tab   |자연적   |제작   |종합병원지역|주간    |좌       |20m     |한남동  |37.53   |127.01   |무지향성|없음    |도로변  |19:36        |서울특별시|맑음   |\n",
      "|2.0       |22.054  |교통소음   |자동차     |차량사이렌 |121    |1.자동차_359_1.wav  |노이즈      |구급차     |1411kbps|24.054  |wav       |1.자동차_359.wav  |4243192 |Stereo      |44.1kHz   |갤럭시S6Tab   |자연적   |제작   |종합병원지역|주간    |좌       |20m     |한남동  |37.53   |127.01   |무지향성|없음    |도로변  |14:40        |서울특별시|맑음   |\n",
      "|2.0       |10.407  |교통소음   |자동차     |차량사이렌 |104    |1.자동차_361_1.wav  |노이즈      |구급차     |1411kbps|12.407  |wav       |1.자동차_361.wav  |2188668 |Stereo      |44.1kHz   |갤럭시S6Tab   |자연적   |제작   |종합병원지역|주간    |좌       |20m     |한남동  |37.53   |127.01   |무지향성|없음    |도로변  |13:52        |서울특별시|맑음   |\n",
      "|2.0       |16.024  |교통소음   |자동차     |차량사이렌 |111    |1.자동차_364_1.wav  |노이즈      |구급차     |1411kbps|18.024  |wav       |1.자동차_364.wav  |3179556 |Stereo      |44.1kHz   |갤럭시S6Tab   |자연적   |제작   |종합병원지역|주간    |좌       |20m     |한남동  |37.53   |127.01   |무지향성|없음    |도로변  |14:51        |서울특별시|맑음   |\n",
      "|2.0       |21.506  |교통소음   |자동차     |차량사이렌 |116    |1.자동차_371_1.wav  |노이즈      |구급차     |1411kbps|23.506  |wav       |1.자동차_371.wav  |4146584 |Stereo      |44.1kHz   |갤럭시S6Tab   |자연적   |제작   |종합병원지역|주간    |좌       |20m     |한남동  |37.53   |127.01   |무지향성|없음    |도로변  |21:12        |서울특별시|맑음   |\n",
      "|2.0       |12.458  |교통소음   |자동차     |차량사이렌 |120    |1.자동차_378_1.wav  |노이즈      |구급차     |1411kbps|14.458  |wav       |1.자동차_378.wav  |2550444 |Stereo      |44.1kHz   |갤럭시S6Tab   |자연적   |제작   |종합병원지역|주간    |좌       |20m     |한남동  |37.53   |127.01   |무지향성|없음    |도로변  |14:58        |서울특별시|맑음   |\n",
      "|4.24      |9.7     |교통소음   |자동차     |차량사이렌 |116    |1.자동차_38187_1.wav|정상        |구급차     |1411kbps|16.625  |wav       |1.자동차_38187.wav|2932814 |Stereo      |44.1kHz   |삼성 갤럭시 S9|자연적   |제작   |상업지역    |주간    |좌       |10m     |역삼동  |37.51   |127.04   |무지향성|없음    |도로변  |15:14        |서울특별시|맑음   |\n",
      "|2.0       |20.934  |교통소음   |자동차     |차량사이렌 |109    |1.자동차_393_1.wav  |노이즈      |구급차     |1411kbps|22.934  |wav       |1.자동차_393.wav  |4045548 |Stereo      |44.1kHz   |갤럭시S6Tab   |자연적   |제작   |종합병원지역|주간    |좌       |20m     |한남동  |37.53   |127.01   |무지향성|없음    |도로변  |12:53        |서울특별시|맑음   |\n",
      "|2.0       |22.225  |교통소음   |자동차     |차량사이렌 |108    |1.자동차_462_1.wav  |노이즈      |구급차     |1411kbps|24.225  |wav       |1.자동차_462.wav  |4273252 |Stereo      |44.1kHz   |갤럭시S6Tab   |자연적   |제작   |종합병원지역|주간    |좌       |20m     |한남동  |37.53   |127.01   |무지향성|없음    |도로변  |14:18        |서울특별시|맑음   |\n",
      "+----------+--------+-----------+-----------+-----------+-------+--------------------+------------+-----------+--------+--------+----------+------------------+--------+------------+----------+--------------+---------+-------+------------+--------+---------+--------+--------+--------+---------+--------+--------+--------+-------------+----------+-------+\n",
      "only showing top 20 rows\n",
      "\n"
     ]
    }
   ],
   "source": [
    "\n",
    "# annotations 배열을 개별 행으로 변환\n",
    "df_flattened = df.withColumn(\"annotation\", explode(col(\"annotations\")))\n",
    "\n",
    "# 구조체 내부의 필드를 개별 컬럼으로 변환\n",
    "df_flattened = df_flattened.select(\n",
    "    # annotation 내부 필드\n",
    "    col(\"annotation.area.start\").alias(\"area_start\"),\n",
    "    col(\"annotation.area.end\").alias(\"area_end\"),\n",
    "    col(\"annotation.categories.category_01\").alias(\"category_01\"),\n",
    "    col(\"annotation.categories.category_02\").alias(\"category_02\"),\n",
    "    col(\"annotation.categories.category_03\").alias(\"category_03\"),\n",
    "    col(\"annotation.decibel\").alias(\"decibel\"),\n",
    "    col(\"annotation.labelName\").alias(\"labelName\"),\n",
    "    col(\"annotation.soundQuality\").alias(\"soundQuality\"),\n",
    "    col(\"annotation.subCategory\").alias(\"subCategory\"),\n",
    "\n",
    "    # audio 내부 필드\n",
    "    col(\"audio.bitRate\").alias(\"bitRate\"),\n",
    "    col(\"audio.duration\").alias(\"duration\"),\n",
    "    col(\"audio.fileFormat\").alias(\"fileFormat\"),\n",
    "    col(\"audio.fileName\").alias(\"fileName\"),\n",
    "    col(\"audio.fileSize\").alias(\"fileSize\"),\n",
    "    col(\"audio.recodingType\").alias(\"recodingType\"),\n",
    "    col(\"audio.sampleRate\").alias(\"sampleRate\"),\n",
    "\n",
    "    # environment 내부 필드\n",
    "    col(\"environment.acqDevice\").alias(\"acqDevice\"),\n",
    "    col(\"environment.acqMethod\").alias(\"acqMethod\"),\n",
    "    col(\"environment.acqType\").alias(\"acqType\"),\n",
    "    col(\"environment.areaUse\").alias(\"areaUse\"),\n",
    "    col(\"environment.dayNight\").alias(\"dayNight\"),\n",
    "    col(\"environment.direction\").alias(\"direction\"),\n",
    "    col(\"environment.distance\").alias(\"distance\"),\n",
    "    col(\"environment.district\").alias(\"district\"),\n",
    "    col(\"environment.gps.latitude\").alias(\"latitude\"),\n",
    "    col(\"environment.gps.longitude\").alias(\"longitude\"),\n",
    "    col(\"environment.micClass\").alias(\"micClass\"),\n",
    "    col(\"environment.obstacle\").alias(\"obstacle\"),\n",
    "    col(\"environment.place\").alias(\"place\"),\n",
    "    col(\"environment.recordingTime\").alias(\"recordingTime\"),\n",
    "    col(\"environment.urban\").alias(\"urban\"),\n",
    "    col(\"environment.weather\").alias(\"weather\"))\n",
    "\n",
    "# 결과 출력 (줄임 없이)\n",
    "df_flattened.show(truncate=False)"
   ]
  },
  {
   "cell_type": "code",
   "execution_count": 7,
   "id": "2bd2f63e",
   "metadata": {},
   "outputs": [],
   "source": [
    "#SQL 쿼리로 데이터 추출\n",
    "df_flattened.createOrReplaceTempView(\"json_table\")\n",
    "\n",
    "# explode를 통해 평탄화한 'annotations' 데이터 처리\n",
    "df_flattened = spark.sql(\"\"\"\n",
    "    SELECT *\n",
    "    FROM json_table\n",
    "\"\"\")"
   ]
  },
  {
   "cell_type": "code",
   "execution_count": 8,
   "id": "15299faf",
   "metadata": {},
   "outputs": [],
   "source": [
    "# ✅ Config 파일에서 MySQL 연결 정보 로드\n",
    "mysql_url = f\"jdbc:mysql://{DB_CONFIG['host']}:{DB_CONFIG['port']}/{DB_CONFIG['database']}?useUnicode=true&characterEncoding=UTF-8\"\n",
    "mysql_properties = {\n",
    "    \"user\": DB_CONFIG[\"user\"],\n",
    "    \"password\": DB_CONFIG[\"password\"],\n",
    "    \"driver\": \"com.mysql.cj.jdbc.Driver\"\n",
    "}"
   ]
  },
  {
   "cell_type": "code",
   "execution_count": 9,
   "id": "a8f7e86e",
   "metadata": {},
   "outputs": [
    {
     "name": "stderr",
     "output_type": "stream",
     "text": [
      "[Stage 4:====================================================>    (58 + 4) / 63]\r"
     ]
    },
    {
     "name": "stdout",
     "output_type": "stream",
     "text": [
      "데이터가 MySQL로 성공적으로 적재되었습니다!\n"
     ]
    },
    {
     "name": "stderr",
     "output_type": "stream",
     "text": [
      "                                                                                \r"
     ]
    }
   ],
   "source": [
    "# MySQL로 DataFrame 적재 (쿼리 결과가 None이 아닌 경우에만)\n",
    "if df_flattened is not None:\n",
    "    df_flattened.write.jdbc(url=mysql_url, table=\"car_siren_data\", mode=\"overwrite\", properties=mysql_properties)\n",
    "    print(\"데이터가 MySQL로 성공적으로 적재되었습니다!\")\n",
    "else:\n",
    "    print(\"쿼리 결과가 없습니다. 데이터 추출이 실패했습니다.\")"
   ]
  },
  {
   "cell_type": "code",
   "execution_count": 5,
   "id": "f0fdd1ee",
   "metadata": {},
   "outputs": [],
   "source": [
    "spark.stop()"
   ]
  },
  {
   "cell_type": "code",
   "execution_count": null,
   "id": "08ebe061",
   "metadata": {},
   "outputs": [],
   "source": []
  }
 ],
 "metadata": {
  "kernelspec": {
   "display_name": "Python(ml_env)",
   "language": "python",
   "name": "ml_env"
  },
  "language_info": {
   "codemirror_mode": {
    "name": "ipython",
    "version": 3
   },
   "file_extension": ".py",
   "mimetype": "text/x-python",
   "name": "python",
   "nbconvert_exporter": "python",
   "pygments_lexer": "ipython3",
   "version": "3.8.20"
  }
 },
 "nbformat": 4,
 "nbformat_minor": 5
}
