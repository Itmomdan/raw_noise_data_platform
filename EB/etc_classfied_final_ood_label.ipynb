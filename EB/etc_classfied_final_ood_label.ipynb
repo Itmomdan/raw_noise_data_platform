{
 "cells": [
  {
   "cell_type": "markdown",
   "id": "7926c766-e106-4176-a2db-35d94993f785",
   "metadata": {
    "tags": []
   },
   "source": [
    "# CNN + 분류 모델 (학습데이터셋: final_training_data_sampled_1500_ood_label)"
   ]
  },
  {
   "cell_type": "code",
   "execution_count": 1,
   "id": "24b31494",
   "metadata": {},
   "outputs": [],
   "source": [
    "import tensorflow as tf\n",
    "tf.config.set_visible_devices([], 'GPU')"
   ]
  },
  {
   "cell_type": "code",
   "execution_count": 2,
   "id": "f722e487-4466-472e-ae6a-e1a9e43d2d49",
   "metadata": {},
   "outputs": [],
   "source": [
    "import os\n",
    "import numpy as np\n",
    "import pandas as pd\n",
    "import librosa\n",
    "from sklearn.model_selection import train_test_split\n",
    "from sklearn.preprocessing import LabelEncoder\n",
    "from sklearn.metrics import accuracy_score, classification_report, confusion_matrix\n",
    "from tensorflow.keras.models import Sequential\n",
    "from tensorflow.keras.layers import Dense, Conv1D, MaxPooling1D, Flatten, Dropout\n",
    "from tensorflow.keras.utils import to_categorical\n",
    "from tqdm import tqdm"
   ]
  },
  {
   "cell_type": "markdown",
   "id": "155d7094-d02b-46b2-a460-b12032b2ab08",
   "metadata": {},
   "source": [
    "# 데이터 준비 및 전처리\n",
    "- combined_result.csv (raw_data + 기타소음4)"
   ]
  },
  {
   "cell_type": "code",
   "execution_count": 3,
   "id": "2bccf207-e413-4cf2-abb2-a1d19ebf0d56",
   "metadata": {},
   "outputs": [],
   "source": [
    "#학습 데이터 준비\n",
    "df = pd.read_csv(\"final_training_data_sampled_1500_ood_label.csv\", encoding='utf-8')\n",
    "feature_cols = [f'mfcc_{i}' for i in range(1, 51)]\n",
    "df = df[feature_cols + ['category_03']]"
   ]
  },
  {
   "cell_type": "code",
   "execution_count": 4,
   "id": "8c6611f2-2ac5-4d66-9e02-c842cc528164",
   "metadata": {},
   "outputs": [
    {
     "data": {
      "text/plain": [
       "(9000, 51)"
      ]
     },
     "execution_count": 4,
     "metadata": {},
     "output_type": "execute_result"
    }
   ],
   "source": [
    "df.shape"
   ]
  },
  {
   "cell_type": "code",
   "execution_count": 5,
   "id": "793a4052-596c-4fdc-a417-acbf98fec260",
   "metadata": {},
   "outputs": [
    {
     "data": {
      "text/plain": [
       "<bound method DataFrame.info of           mfcc_1      mfcc_2      mfcc_3     mfcc_4     mfcc_5     mfcc_6  \\\n",
       "0    -436.866821  143.990936   74.952354  45.915867  33.583057  29.956610   \n",
       "1    -369.858307  125.310371   72.073753  50.019867  36.092926  30.252110   \n",
       "2    -453.349518  113.330528   76.104362  50.643452  42.205036  40.748249   \n",
       "3    -411.235504  116.592606   75.703476  47.744938  35.118542  29.894009   \n",
       "4    -395.125549  146.027084   81.780304  48.816242  33.849194  31.080847   \n",
       "...          ...         ...         ...        ...        ...        ...   \n",
       "8995 -170.988900  208.548900  -95.111750  31.437998 -34.982487  -3.055256   \n",
       "8996 -445.657200  170.794540   38.628956  31.480406  12.929362  33.918636   \n",
       "8997 -173.931100  225.113630 -121.169975  17.288454 -13.494496 -11.085254   \n",
       "8998 -474.502300  172.619000   35.576990  25.952785  12.924660  32.762737   \n",
       "8999 -247.981190  190.959850   -7.036764  34.192413   6.349187  12.332376   \n",
       "\n",
       "         mfcc_7     mfcc_8     mfcc_9    mfcc_10  ...   mfcc_42   mfcc_43  \\\n",
       "0     26.838007  20.699930   5.734432  -5.188647  ...  0.621984  2.390124   \n",
       "1     26.472021  20.862949   7.156805  -3.059122  ...  0.209663  1.286814   \n",
       "2     35.761971  23.395164  11.045970   5.779365  ...  0.150447 -0.024921   \n",
       "3     26.577066  19.005384   6.743745  -2.823582  ... -0.908139  0.664720   \n",
       "4     28.315842  19.993208   5.521650  -3.929691  ... -0.717036  0.107550   \n",
       "...         ...        ...        ...        ...  ...       ...       ...   \n",
       "8995   1.168493 -20.571062  11.436257 -18.400883  ... -2.387195 -0.608034   \n",
       "8996  26.096716  28.349243   3.026161  -2.493732  ...  0.871266  1.258076   \n",
       "8997  -3.848992 -13.637547   9.479078 -23.499775  ... -4.868050  0.386600   \n",
       "8998  22.887897  35.366700   1.870371  -2.310633  ...  1.612635  1.285862   \n",
       "8999  -0.919341   8.426827  -3.560750   5.375006  ... -1.757113 -0.504500   \n",
       "\n",
       "       mfcc_44   mfcc_45   mfcc_46   mfcc_47   mfcc_48   mfcc_49   mfcc_50  \\\n",
       "0     1.093027 -0.793136 -0.816981  0.852164  1.310620  0.430673 -1.070722   \n",
       "1     1.113936  1.121534  1.029903  1.475248  1.835722  0.796364  0.268943   \n",
       "2     0.198790  0.637822  0.491276 -0.280820 -1.356595 -2.225216 -2.226065   \n",
       "3     0.638030  0.245853  0.599790  0.916136  0.060173 -1.450863 -2.059958   \n",
       "4    -0.071472  0.587501  0.518218  1.213491  1.460647  0.447718  0.402936   \n",
       "...        ...       ...       ...       ...       ...       ...       ...   \n",
       "8995 -4.351969 -0.638857 -3.493637 -2.589549 -1.401939 -3.672604 -0.555998   \n",
       "8996  4.152141  3.298011 -1.357741  0.733067  0.738750 -1.288843 -0.883696   \n",
       "8997 -0.154787 -1.465440  1.555848 -0.959064  1.466251 -2.061570 -0.325558   \n",
       "8998  3.874604  2.885825 -2.058639  0.857671  0.667728 -0.343715  0.680497   \n",
       "8999 -0.598234 -1.930331 -0.755940 -0.770002  0.885600 -0.470559 -2.394865   \n",
       "\n",
       "      category_03  \n",
       "0             항타기  \n",
       "1             항타기  \n",
       "2             항타기  \n",
       "3             항타기  \n",
       "4             항타기  \n",
       "...           ...  \n",
       "8995        차량주행음  \n",
       "8996        차량주행음  \n",
       "8997        차량주행음  \n",
       "8998        차량주행음  \n",
       "8999        차량주행음  \n",
       "\n",
       "[9000 rows x 51 columns]>"
      ]
     },
     "execution_count": 5,
     "metadata": {},
     "output_type": "execute_result"
    }
   ],
   "source": [
    "df.info"
   ]
  },
  {
   "cell_type": "code",
   "execution_count": 6,
   "id": "c448cb8d-1917-46c5-82fa-90d5f06e14be",
   "metadata": {},
   "outputs": [
    {
     "data": {
      "text/plain": [
       "이륜차경적     1500\n",
       "차량주행음     1500\n",
       "차량사이렌     1500\n",
       "이륜차주행음    1500\n",
       "차량경적      1500\n",
       "개          250\n",
       "콘크리트펌프     250\n",
       "고양이        250\n",
       "발전기        250\n",
       "항타기        250\n",
       "공구         250\n",
       "Name: category_03, dtype: int64"
      ]
     },
     "execution_count": 6,
     "metadata": {},
     "output_type": "execute_result"
    }
   ],
   "source": [
    "df['category_03'].value_counts()"
   ]
  },
  {
   "cell_type": "markdown",
   "id": "8308502d-9670-4b08-b69b-d8215ad47bda",
   "metadata": {},
   "source": [
    "# 소음 카테고리 변환"
   ]
  },
  {
   "cell_type": "code",
   "execution_count": 7,
   "id": "e54da68c",
   "metadata": {},
   "outputs": [],
   "source": [
    "# 소음 카테고리 변환 함수\n",
    "def categorize_noise(category):\n",
    "    if category in ['이륜차경적']:\n",
    "        return '이륜차경적'\n",
    "    elif category in ['이륜차주행음']:\n",
    "        return '이륜차주행음'\n",
    "    elif category in ['차량사이렌']:\n",
    "        return '차량사이렌'\n",
    "    elif category in ['차량주행음']:\n",
    "        return '차량주행음'\n",
    "    elif category in ['차량경적']:\n",
    "        return '차량경적'\n",
    "    else:\n",
    "        return '기타소음'\n",
    "\n",
    "df['label'] = df['category_03'].apply(categorize_noise)\n",
    "df = df.drop('category_03', axis=1)\n",
    "\n",
    "X = df[feature_cols].values  # MFCC 특징 값\n",
    "y = df['label'].values       # 레이블\n",
    "\n",
    "# 레이블 인코딩 (문자 → 숫자)\n",
    "label_encoder = LabelEncoder()\n",
    "y_encoded = label_encoder.fit_transform(y)\n",
    "y_categorical = to_categorical(y_encoded)  # One-hot 인코딩\n",
    "\n",
    "# 데이터셋 분할 (훈련:테스트 = 80:20)\n",
    "X_train, X_test, y_train, y_test = train_test_split(X, y_categorical, test_size=0.2, random_state=42, stratify=y)\n",
    "\n",
    "# CNN 입력 형태로 변환 (3D 텐서: 샘플 수 x 시간 축 x 특징 수)\n",
    "X_train = X_train.reshape(X_train.shape[0], X_train.shape[1], 1)\n",
    "X_test = X_test.reshape(X_test.shape[0], X_test.shape[1], 1)"
   ]
  },
  {
   "cell_type": "code",
   "execution_count": 8,
   "id": "4d880a78-41ae-45c3-8d5c-8bf150f26b57",
   "metadata": {},
   "outputs": [
    {
     "data": {
      "text/plain": [
       "이륜차경적     1500\n",
       "기타소음      1500\n",
       "차량주행음     1500\n",
       "차량사이렌     1500\n",
       "이륜차주행음    1500\n",
       "차량경적      1500\n",
       "Name: label, dtype: int64"
      ]
     },
     "execution_count": 8,
     "metadata": {},
     "output_type": "execute_result"
    }
   ],
   "source": [
    "df['label'].value_counts()"
   ]
  },
  {
   "cell_type": "markdown",
   "id": "f99bd144-7474-4715-b7d7-c63b75b4b493",
   "metadata": {},
   "source": [
    "# 모델 생성"
   ]
  },
  {
   "cell_type": "markdown",
   "id": "20b410af-f7c3-49e4-84e0-51c07d1a9fcc",
   "metadata": {},
   "source": [
    "## CNN"
   ]
  },
  {
   "cell_type": "code",
   "execution_count": 9,
   "id": "ef6939f1-4285-4765-8f19-219a246dd0e3",
   "metadata": {},
   "outputs": [],
   "source": [
    "# CNN 모델 정의\n",
    "model = Sequential([\n",
    "    Conv1D(64, kernel_size=3, activation='relu', input_shape=(X_train.shape[1], 1)),\n",
    "    MaxPooling1D(pool_size=2),\n",
    "    Dropout(0.3),\n",
    "    \n",
    "    Conv1D(128, kernel_size=3, activation='relu'),\n",
    "    MaxPooling1D(pool_size=2),\n",
    "    Dropout(0.3),\n",
    "    \n",
    "    Flatten(),\n",
    "    Dense(128, activation='relu'),\n",
    "    Dropout(0.3),\n",
    "    Dense(y_categorical.shape[1], activation='softmax')  # 출력층 (카테고리 수만큼 출력)\n",
    "])"
   ]
  },
  {
   "cell_type": "code",
   "execution_count": 10,
   "id": "9ed9bb7d-d678-4942-89f4-ed400b1f0471",
   "metadata": {},
   "outputs": [
    {
     "name": "stdout",
     "output_type": "stream",
     "text": [
      "Epoch 1/30\n",
      "225/225 [==============================] - 3s 10ms/step - loss: 1.1994 - accuracy: 0.6264 - val_loss: 0.5255 - val_accuracy: 0.8267\n",
      "Epoch 2/30\n",
      "225/225 [==============================] - 2s 9ms/step - loss: 0.5880 - accuracy: 0.7801 - val_loss: 0.3638 - val_accuracy: 0.8811\n",
      "Epoch 3/30\n",
      "225/225 [==============================] - 2s 9ms/step - loss: 0.4564 - accuracy: 0.8354 - val_loss: 0.3253 - val_accuracy: 0.8817\n",
      "Epoch 4/30\n",
      "225/225 [==============================] - 2s 9ms/step - loss: 0.4064 - accuracy: 0.8551 - val_loss: 0.2687 - val_accuracy: 0.9089\n",
      "Epoch 5/30\n",
      "225/225 [==============================] - 2s 9ms/step - loss: 0.3594 - accuracy: 0.8717 - val_loss: 0.2614 - val_accuracy: 0.9139\n",
      "Epoch 6/30\n",
      "225/225 [==============================] - 2s 9ms/step - loss: 0.3218 - accuracy: 0.8843 - val_loss: 0.2251 - val_accuracy: 0.9228\n",
      "Epoch 7/30\n",
      "225/225 [==============================] - 2s 9ms/step - loss: 0.2984 - accuracy: 0.8906 - val_loss: 0.2142 - val_accuracy: 0.9267\n",
      "Epoch 8/30\n",
      "225/225 [==============================] - 2s 10ms/step - loss: 0.2820 - accuracy: 0.9019 - val_loss: 0.2101 - val_accuracy: 0.9306\n",
      "Epoch 9/30\n",
      "225/225 [==============================] - 2s 10ms/step - loss: 0.2658 - accuracy: 0.9042 - val_loss: 0.2028 - val_accuracy: 0.9322\n",
      "Epoch 10/30\n",
      "225/225 [==============================] - 2s 10ms/step - loss: 0.2492 - accuracy: 0.9150 - val_loss: 0.2102 - val_accuracy: 0.9228\n",
      "Epoch 11/30\n",
      "225/225 [==============================] - 2s 10ms/step - loss: 0.2477 - accuracy: 0.9112 - val_loss: 0.1980 - val_accuracy: 0.9339\n",
      "Epoch 12/30\n",
      "225/225 [==============================] - 2s 9ms/step - loss: 0.2384 - accuracy: 0.9143 - val_loss: 0.1935 - val_accuracy: 0.9389\n",
      "Epoch 13/30\n",
      "225/225 [==============================] - 2s 9ms/step - loss: 0.2169 - accuracy: 0.9236 - val_loss: 0.1877 - val_accuracy: 0.9344\n",
      "Epoch 14/30\n",
      "225/225 [==============================] - 2s 9ms/step - loss: 0.2157 - accuracy: 0.9201 - val_loss: 0.1789 - val_accuracy: 0.9400\n",
      "Epoch 15/30\n",
      "225/225 [==============================] - 2s 9ms/step - loss: 0.2049 - accuracy: 0.9275 - val_loss: 0.1787 - val_accuracy: 0.9389\n",
      "Epoch 16/30\n",
      "225/225 [==============================] - 2s 9ms/step - loss: 0.2029 - accuracy: 0.9307 - val_loss: 0.1634 - val_accuracy: 0.9422\n",
      "Epoch 17/30\n",
      "225/225 [==============================] - 2s 9ms/step - loss: 0.2026 - accuracy: 0.9275 - val_loss: 0.1796 - val_accuracy: 0.9439\n",
      "Epoch 18/30\n",
      "225/225 [==============================] - 2s 9ms/step - loss: 0.1993 - accuracy: 0.9279 - val_loss: 0.1768 - val_accuracy: 0.9389\n",
      "Epoch 19/30\n",
      "225/225 [==============================] - 2s 9ms/step - loss: 0.1756 - accuracy: 0.9379 - val_loss: 0.1885 - val_accuracy: 0.9400\n",
      "Epoch 20/30\n",
      "225/225 [==============================] - 3s 11ms/step - loss: 0.1747 - accuracy: 0.9394 - val_loss: 0.1720 - val_accuracy: 0.9417\n",
      "Epoch 21/30\n",
      "225/225 [==============================] - 2s 9ms/step - loss: 0.1792 - accuracy: 0.9344 - val_loss: 0.1692 - val_accuracy: 0.9433\n",
      "Epoch 22/30\n",
      "225/225 [==============================] - 2s 9ms/step - loss: 0.1858 - accuracy: 0.9314 - val_loss: 0.1700 - val_accuracy: 0.9394\n",
      "Epoch 23/30\n",
      "225/225 [==============================] - 2s 9ms/step - loss: 0.1625 - accuracy: 0.9404 - val_loss: 0.1697 - val_accuracy: 0.9428\n",
      "Epoch 24/30\n",
      "225/225 [==============================] - 2s 9ms/step - loss: 0.1714 - accuracy: 0.9392 - val_loss: 0.1723 - val_accuracy: 0.9411\n",
      "Epoch 25/30\n",
      "225/225 [==============================] - 2s 9ms/step - loss: 0.1575 - accuracy: 0.9401 - val_loss: 0.1699 - val_accuracy: 0.9389\n",
      "Epoch 26/30\n",
      "225/225 [==============================] - 2s 9ms/step - loss: 0.1579 - accuracy: 0.9429 - val_loss: 0.1716 - val_accuracy: 0.9489\n",
      "Epoch 27/30\n",
      "225/225 [==============================] - 2s 9ms/step - loss: 0.1476 - accuracy: 0.9454 - val_loss: 0.1825 - val_accuracy: 0.9417\n",
      "Epoch 28/30\n",
      "225/225 [==============================] - 2s 9ms/step - loss: 0.1544 - accuracy: 0.9451 - val_loss: 0.1697 - val_accuracy: 0.9417\n",
      "Epoch 29/30\n",
      "225/225 [==============================] - 2s 8ms/step - loss: 0.1601 - accuracy: 0.9438 - val_loss: 0.1618 - val_accuracy: 0.9494\n",
      "Epoch 30/30\n",
      "225/225 [==============================] - 2s 8ms/step - loss: 0.1491 - accuracy: 0.9467 - val_loss: 0.1647 - val_accuracy: 0.9422\n",
      "57/57 [==============================] - 0s 2ms/step - loss: 0.1647 - accuracy: 0.9422\n",
      "Accuracy: 0.9422\n",
      "Classification Report:\n",
      "               precision    recall  f1-score   support\n",
      "\n",
      "        기타소음       0.99      0.96      0.97       300\n",
      "       이륜차경적       0.97      0.92      0.95       300\n",
      "      이륜차주행음       0.88      0.94      0.90       300\n",
      "        차량경적       0.92      0.97      0.94       300\n",
      "       차량사이렌       0.98      0.97      0.97       300\n",
      "       차량주행음       0.93      0.90      0.91       300\n",
      "\n",
      "    accuracy                           0.94      1800\n",
      "   macro avg       0.94      0.94      0.94      1800\n",
      "weighted avg       0.94      0.94      0.94      1800\n",
      "\n",
      "Confusion Matrix:\n",
      " [[288   2   4   0   4   2]\n",
      " [  0 276   1  21   0   2]\n",
      " [  2   0 281   1   2  14]\n",
      " [  1   6   2 291   0   0]\n",
      " [  0   0   3   3 291   3]\n",
      " [  0   0  30   1   0 269]]\n"
     ]
    }
   ],
   "source": [
    "# 모델 컴파일 및 학습\n",
    "model.compile(optimizer='adam', loss='categorical_crossentropy', metrics=['accuracy'])\n",
    "history = model.fit(X_train, y_train, epochs=30, batch_size=32, validation_data=(X_test, y_test))\n",
    "\n",
    "# 테스트 정확도 출력\n",
    "test_loss, test_accuracy = model.evaluate(X_test, y_test)\n",
    "\n",
    "# 테스트 데이터에 대한 예측 수행\n",
    "y_pred = model.predict(X_test)\n",
    "y_pred_classes = np.argmax(y_pred, axis=1)  # 예측된 클래스 인덱스\n",
    "y_true_classes = np.argmax(y_test, axis=1)  # 실제 클래스 인덱스\n",
    "\n",
    "# 정확도 계산\n",
    "accuracy = accuracy_score(y_true_classes, y_pred_classes)\n",
    "print(f\"Accuracy: {accuracy:.4f}\")\n",
    "\n",
    "# 분류 보고서 출력\n",
    "class_names = label_encoder.classes_\n",
    "report = classification_report(y_true_classes, y_pred_classes, target_names=class_names)\n",
    "print(\"Classification Report:\\n\", report)\n",
    "\n",
    "# 혼동 행렬 출력\n",
    "conf_matrix = confusion_matrix(y_true_classes, y_pred_classes)\n",
    "print(\"Confusion Matrix:\\n\", conf_matrix)"
   ]
  },
  {
   "cell_type": "code",
   "execution_count": 11,
   "id": "86ff2ab9-b827-4f95-9002-48a342848c44",
   "metadata": {},
   "outputs": [
    {
     "name": "stdout",
     "output_type": "stream",
     "text": [
      "모델이 cnn1_6classfication_ood_label.h5 파일로 저장되었습니다.\n"
     ]
    }
   ],
   "source": [
    "# 모델 저장\n",
    "model.save('cnn1_6classfication_ood_label.h5')\n",
    "print(\"모델이 cnn1_6classfication_ood_label.h5 파일로 저장되었습니다.\")"
   ]
  },
  {
   "cell_type": "code",
   "execution_count": 10,
   "id": "cc24c9f7-f420-40cc-a747-9ea49f1cb8e1",
   "metadata": {},
   "outputs": [
    {
     "name": "stdout",
     "output_type": "stream",
     "text": [
      "Model: \"sequential\"\n",
      "_________________________________________________________________\n",
      "Layer (type)                 Output Shape              Param #   \n",
      "=================================================================\n",
      "conv1d (Conv1D)              (None, 48, 64)            256       \n",
      "_________________________________________________________________\n",
      "max_pooling1d (MaxPooling1D) (None, 24, 64)            0         \n",
      "_________________________________________________________________\n",
      "dropout (Dropout)            (None, 24, 64)            0         \n",
      "_________________________________________________________________\n",
      "conv1d_1 (Conv1D)            (None, 22, 128)           24704     \n",
      "_________________________________________________________________\n",
      "max_pooling1d_1 (MaxPooling1 (None, 11, 128)           0         \n",
      "_________________________________________________________________\n",
      "dropout_1 (Dropout)          (None, 11, 128)           0         \n",
      "_________________________________________________________________\n",
      "flatten (Flatten)            (None, 1408)              0         \n",
      "_________________________________________________________________\n",
      "dense (Dense)                (None, 128)               180352    \n",
      "_________________________________________________________________\n",
      "dropout_2 (Dropout)          (None, 128)               0         \n",
      "_________________________________________________________________\n",
      "dense_1 (Dense)              (None, 6)                 774       \n",
      "=================================================================\n",
      "Total params: 206,086\n",
      "Trainable params: 206,086\n",
      "Non-trainable params: 0\n",
      "_________________________________________________________________\n",
      "Loaded Model Accuracy: 0.9422\n",
      "Classification Report:\n",
      "               precision    recall  f1-score   support\n",
      "\n",
      "        기타소음       0.99      0.96      0.97       300\n",
      "       이륜차경적       0.97      0.92      0.95       300\n",
      "      이륜차주행음       0.88      0.94      0.90       300\n",
      "        차량경적       0.92      0.97      0.94       300\n",
      "       차량사이렌       0.98      0.97      0.97       300\n",
      "       차량주행음       0.93      0.90      0.91       300\n",
      "\n",
      "    accuracy                           0.94      1800\n",
      "   macro avg       0.94      0.94      0.94      1800\n",
      "weighted avg       0.94      0.94      0.94      1800\n",
      "\n"
     ]
    }
   ],
   "source": [
    "from tensorflow import keras\n",
    "import numpy as np\n",
    "\n",
    "# 저장된 모델 로드\n",
    "loaded_model = keras.models.load_model('cnn1_6classfication_ood_label.h5')\n",
    "\n",
    "# 모델 구조 확인\n",
    "loaded_model.summary()\n",
    "\n",
    "# 테스트 데이터로 예측 수행\n",
    "y_pred = loaded_model.predict(X_test)\n",
    "y_pred_classes = np.argmax(y_pred, axis=1)\n",
    "y_true_classes = np.argmax(y_test, axis=1)\n",
    "\n",
    "# 정확도 계산\n",
    "from sklearn.metrics import accuracy_score\n",
    "accuracy = accuracy_score(y_true_classes, y_pred_classes)\n",
    "print(f\"Loaded Model Accuracy: {accuracy:.4f}\")\n",
    "\n",
    "# 분류 보고서 출력\n",
    "from sklearn.metrics import classification_report\n",
    "class_names = label_encoder.classes_\n",
    "report = classification_report(y_true_classes, y_pred_classes, target_names=class_names)\n",
    "print(\"Classification Report:\\n\", report)"
   ]
  },
  {
   "cell_type": "markdown",
   "id": "c2450d97-c64c-4dc0-ad4f-a5f8d227a1ea",
   "metadata": {},
   "source": [
    "### 성능 개선\n",
    "- 배치 정규화 (Batch Normalisation) 레이어 Conv1D 와 Dense 추가\n",
    "- 앙상블 기법 적용\n",
    "- ReduceROnPlateau 콜백 사용 \n",
    "- 모델 구조 함수화"
   ]
  },
  {
   "cell_type": "code",
   "execution_count": 13,
   "id": "e5a581fe-7609-46c3-9938-b440534101d5",
   "metadata": {},
   "outputs": [
    {
     "name": "stdout",
     "output_type": "stream",
     "text": [
      "Training model 1/3\n",
      "Epoch 1/30\n",
      "451/451 [==============================] - 8s 15ms/step - loss: 0.6322 - accuracy: 0.7727 - val_loss: 0.3288 - val_accuracy: 0.8752\n",
      "Epoch 2/30\n",
      "451/451 [==============================] - 6s 14ms/step - loss: 0.4090 - accuracy: 0.8529 - val_loss: 0.2736 - val_accuracy: 0.9010\n",
      "Epoch 3/30\n",
      "451/451 [==============================] - 6s 14ms/step - loss: 0.3526 - accuracy: 0.8702 - val_loss: 0.2386 - val_accuracy: 0.9101\n",
      "Epoch 4/30\n",
      "451/451 [==============================] - 6s 14ms/step - loss: 0.3182 - accuracy: 0.8836 - val_loss: 0.2411 - val_accuracy: 0.9107\n",
      "Epoch 5/30\n",
      "451/451 [==============================] - 6s 13ms/step - loss: 0.3002 - accuracy: 0.8903 - val_loss: 0.2237 - val_accuracy: 0.9123\n",
      "Epoch 6/30\n",
      "451/451 [==============================] - 7s 15ms/step - loss: 0.2658 - accuracy: 0.9024 - val_loss: 0.1912 - val_accuracy: 0.9248\n",
      "Epoch 7/30\n",
      "451/451 [==============================] - 6s 14ms/step - loss: 0.2527 - accuracy: 0.9082 - val_loss: 0.2108 - val_accuracy: 0.9268\n",
      "Epoch 8/30\n",
      "451/451 [==============================] - 6s 14ms/step - loss: 0.2433 - accuracy: 0.9100 - val_loss: 0.1768 - val_accuracy: 0.9334\n",
      "Epoch 9/30\n",
      "451/451 [==============================] - 6s 13ms/step - loss: 0.2353 - accuracy: 0.9134 - val_loss: 0.1741 - val_accuracy: 0.9345\n",
      "Epoch 10/30\n",
      "451/451 [==============================] - 6s 13ms/step - loss: 0.2322 - accuracy: 0.9173 - val_loss: 0.1727 - val_accuracy: 0.9370\n",
      "Epoch 11/30\n",
      "451/451 [==============================] - 6s 14ms/step - loss: 0.2177 - accuracy: 0.9196 - val_loss: 0.1914 - val_accuracy: 0.9284\n",
      "Epoch 12/30\n",
      "451/451 [==============================] - 6s 13ms/step - loss: 0.2121 - accuracy: 0.9247 - val_loss: 0.1629 - val_accuracy: 0.9406\n",
      "Epoch 13/30\n",
      "451/451 [==============================] - 6s 14ms/step - loss: 0.2063 - accuracy: 0.9263 - val_loss: 0.1642 - val_accuracy: 0.9376\n",
      "Epoch 14/30\n",
      "451/451 [==============================] - 6s 13ms/step - loss: 0.2064 - accuracy: 0.9254 - val_loss: 0.1640 - val_accuracy: 0.9412\n",
      "Epoch 15/30\n",
      "451/451 [==============================] - 6s 14ms/step - loss: 0.1899 - accuracy: 0.9310 - val_loss: 0.1536 - val_accuracy: 0.9470\n",
      "Epoch 16/30\n",
      "451/451 [==============================] - 6s 14ms/step - loss: 0.1905 - accuracy: 0.9311 - val_loss: 0.1502 - val_accuracy: 0.9440\n",
      "Epoch 17/30\n",
      "451/451 [==============================] - 6s 14ms/step - loss: 0.1873 - accuracy: 0.9314 - val_loss: 0.1424 - val_accuracy: 0.9523\n",
      "Epoch 18/30\n",
      "451/451 [==============================] - 6s 14ms/step - loss: 0.1835 - accuracy: 0.9335 - val_loss: 0.1419 - val_accuracy: 0.9503\n",
      "Epoch 19/30\n",
      "451/451 [==============================] - 6s 14ms/step - loss: 0.1740 - accuracy: 0.9342 - val_loss: 0.1580 - val_accuracy: 0.9467\n",
      "Epoch 20/30\n",
      "451/451 [==============================] - 6s 14ms/step - loss: 0.1739 - accuracy: 0.9364 - val_loss: 0.1446 - val_accuracy: 0.9484\n",
      "Epoch 21/30\n",
      "451/451 [==============================] - 6s 14ms/step - loss: 0.1627 - accuracy: 0.9392 - val_loss: 0.1592 - val_accuracy: 0.9434\n",
      "Epoch 22/30\n",
      "451/451 [==============================] - 6s 14ms/step - loss: 0.1641 - accuracy: 0.9381 - val_loss: 0.1472 - val_accuracy: 0.9490\n",
      "Epoch 23/30\n",
      "451/451 [==============================] - 6s 14ms/step - loss: 0.1662 - accuracy: 0.9394 - val_loss: 0.1478 - val_accuracy: 0.9467\n",
      "Epoch 24/30\n",
      "451/451 [==============================] - 6s 13ms/step - loss: 0.1496 - accuracy: 0.9451 - val_loss: 0.1411 - val_accuracy: 0.9503\n",
      "Epoch 25/30\n",
      "451/451 [==============================] - 5s 11ms/step - loss: 0.1370 - accuracy: 0.9487 - val_loss: 0.1354 - val_accuracy: 0.9506\n",
      "Epoch 26/30\n",
      "451/451 [==============================] - 4s 9ms/step - loss: 0.1351 - accuracy: 0.9510 - val_loss: 0.1317 - val_accuracy: 0.9534\n",
      "Epoch 27/30\n",
      "451/451 [==============================] - 4s 9ms/step - loss: 0.1354 - accuracy: 0.9483 - val_loss: 0.1338 - val_accuracy: 0.9528\n",
      "Epoch 28/30\n",
      "451/451 [==============================] - 4s 9ms/step - loss: 0.1356 - accuracy: 0.9508 - val_loss: 0.1326 - val_accuracy: 0.9537\n",
      "Epoch 29/30\n",
      "451/451 [==============================] - 4s 9ms/step - loss: 0.1280 - accuracy: 0.9545 - val_loss: 0.1357 - val_accuracy: 0.9528\n",
      "Epoch 30/30\n",
      "451/451 [==============================] - 4s 9ms/step - loss: 0.1276 - accuracy: 0.9530 - val_loss: 0.1371 - val_accuracy: 0.9517\n",
      "Training model 2/3\n",
      "Epoch 1/30\n",
      "451/451 [==============================] - 7s 14ms/step - loss: 0.6339 - accuracy: 0.7695 - val_loss: 0.3570 - val_accuracy: 0.8588\n",
      "Epoch 2/30\n",
      "451/451 [==============================] - 6s 14ms/step - loss: 0.4183 - accuracy: 0.8462 - val_loss: 0.2844 - val_accuracy: 0.9021\n",
      "Epoch 3/30\n",
      "451/451 [==============================] - 6s 13ms/step - loss: 0.3507 - accuracy: 0.8703 - val_loss: 0.2481 - val_accuracy: 0.9082\n",
      "Epoch 4/30\n",
      "451/451 [==============================] - 7s 15ms/step - loss: 0.3139 - accuracy: 0.8857 - val_loss: 0.2179 - val_accuracy: 0.9215\n",
      "Epoch 5/30\n",
      "451/451 [==============================] - 6s 14ms/step - loss: 0.2906 - accuracy: 0.8959 - val_loss: 0.2142 - val_accuracy: 0.9215\n",
      "Epoch 6/30\n",
      "451/451 [==============================] - 6s 13ms/step - loss: 0.2771 - accuracy: 0.9007 - val_loss: 0.2197 - val_accuracy: 0.9209\n",
      "Epoch 7/30\n",
      "451/451 [==============================] - 6s 14ms/step - loss: 0.2558 - accuracy: 0.9078 - val_loss: 0.1873 - val_accuracy: 0.9304\n",
      "Epoch 8/30\n",
      "451/451 [==============================] - 6s 13ms/step - loss: 0.2453 - accuracy: 0.9123 - val_loss: 0.1822 - val_accuracy: 0.9331\n",
      "Epoch 9/30\n",
      "451/451 [==============================] - 6s 13ms/step - loss: 0.2404 - accuracy: 0.9125 - val_loss: 0.1775 - val_accuracy: 0.9331\n",
      "Epoch 10/30\n",
      "451/451 [==============================] - 6s 14ms/step - loss: 0.2267 - accuracy: 0.9202 - val_loss: 0.1644 - val_accuracy: 0.9404\n",
      "Epoch 11/30\n",
      "451/451 [==============================] - 6s 14ms/step - loss: 0.2233 - accuracy: 0.9185 - val_loss: 0.1697 - val_accuracy: 0.9401\n",
      "Epoch 12/30\n",
      "451/451 [==============================] - 6s 14ms/step - loss: 0.2138 - accuracy: 0.9209 - val_loss: 0.1614 - val_accuracy: 0.9426\n",
      "Epoch 13/30\n",
      "451/451 [==============================] - 6s 13ms/step - loss: 0.2162 - accuracy: 0.9242 - val_loss: 0.1590 - val_accuracy: 0.9448\n",
      "Epoch 14/30\n",
      "451/451 [==============================] - 6s 14ms/step - loss: 0.2079 - accuracy: 0.9243 - val_loss: 0.1658 - val_accuracy: 0.9401\n",
      "Epoch 15/30\n",
      "451/451 [==============================] - 6s 14ms/step - loss: 0.1927 - accuracy: 0.9295 - val_loss: 0.1502 - val_accuracy: 0.9459\n",
      "Epoch 16/30\n",
      "451/451 [==============================] - 6s 14ms/step - loss: 0.1933 - accuracy: 0.9285 - val_loss: 0.1556 - val_accuracy: 0.9459\n",
      "Epoch 17/30\n",
      "451/451 [==============================] - 6s 13ms/step - loss: 0.1835 - accuracy: 0.9335 - val_loss: 0.1470 - val_accuracy: 0.9462\n",
      "Epoch 18/30\n",
      "451/451 [==============================] - 6s 14ms/step - loss: 0.1810 - accuracy: 0.9346 - val_loss: 0.1418 - val_accuracy: 0.9465\n",
      "Epoch 19/30\n",
      "451/451 [==============================] - 6s 14ms/step - loss: 0.1829 - accuracy: 0.9335 - val_loss: 0.1528 - val_accuracy: 0.9431\n",
      "Epoch 20/30\n",
      "451/451 [==============================] - 6s 13ms/step - loss: 0.1706 - accuracy: 0.9378 - val_loss: 0.1587 - val_accuracy: 0.9395\n",
      "Epoch 21/30\n",
      "451/451 [==============================] - 6s 13ms/step - loss: 0.1648 - accuracy: 0.9408 - val_loss: 0.1533 - val_accuracy: 0.9415\n",
      "Epoch 22/30\n",
      "451/451 [==============================] - 6s 14ms/step - loss: 0.1702 - accuracy: 0.9367 - val_loss: 0.1475 - val_accuracy: 0.9470\n",
      "Epoch 23/30\n",
      "451/451 [==============================] - 6s 13ms/step - loss: 0.1666 - accuracy: 0.9403 - val_loss: 0.1616 - val_accuracy: 0.9376\n",
      "Epoch 24/30\n",
      "451/451 [==============================] - 6s 13ms/step - loss: 0.1501 - accuracy: 0.9457 - val_loss: 0.1417 - val_accuracy: 0.9454\n",
      "Epoch 25/30\n",
      "451/451 [==============================] - 6s 12ms/step - loss: 0.1467 - accuracy: 0.9455 - val_loss: 0.1414 - val_accuracy: 0.9465\n",
      "Epoch 26/30\n",
      "451/451 [==============================] - 4s 9ms/step - loss: 0.1391 - accuracy: 0.9487 - val_loss: 0.1390 - val_accuracy: 0.9487\n",
      "Epoch 27/30\n",
      "451/451 [==============================] - 4s 9ms/step - loss: 0.1321 - accuracy: 0.9506 - val_loss: 0.1395 - val_accuracy: 0.9476\n",
      "Epoch 28/30\n",
      "451/451 [==============================] - 4s 9ms/step - loss: 0.1326 - accuracy: 0.9517 - val_loss: 0.1377 - val_accuracy: 0.9492\n",
      "Epoch 29/30\n",
      "451/451 [==============================] - 4s 9ms/step - loss: 0.1305 - accuracy: 0.9507 - val_loss: 0.1381 - val_accuracy: 0.9492\n",
      "Epoch 30/30\n",
      "451/451 [==============================] - 4s 9ms/step - loss: 0.1261 - accuracy: 0.9542 - val_loss: 0.1356 - val_accuracy: 0.9509\n",
      "Training model 3/3\n",
      "Epoch 1/30\n",
      "451/451 [==============================] - 5s 9ms/step - loss: 0.6335 - accuracy: 0.7678 - val_loss: 0.3394 - val_accuracy: 0.8657\n",
      "Epoch 2/30\n",
      "451/451 [==============================] - 5s 11ms/step - loss: 0.4137 - accuracy: 0.8498 - val_loss: 0.2746 - val_accuracy: 0.8949\n",
      "Epoch 3/30\n",
      "451/451 [==============================] - 7s 15ms/step - loss: 0.3542 - accuracy: 0.8702 - val_loss: 0.2467 - val_accuracy: 0.9112\n",
      "Epoch 4/30\n",
      "451/451 [==============================] - 7s 15ms/step - loss: 0.3214 - accuracy: 0.8828 - val_loss: 0.2304 - val_accuracy: 0.9218\n",
      "Epoch 5/30\n",
      "451/451 [==============================] - 6s 14ms/step - loss: 0.2941 - accuracy: 0.8938 - val_loss: 0.1993 - val_accuracy: 0.9276\n",
      "Epoch 6/30\n",
      "451/451 [==============================] - 6s 14ms/step - loss: 0.2747 - accuracy: 0.9022 - val_loss: 0.2067 - val_accuracy: 0.9248\n",
      "Epoch 7/30\n",
      "451/451 [==============================] - 6s 14ms/step - loss: 0.2622 - accuracy: 0.9039 - val_loss: 0.1875 - val_accuracy: 0.9301\n",
      "Epoch 8/30\n",
      "451/451 [==============================] - 7s 14ms/step - loss: 0.2524 - accuracy: 0.9073 - val_loss: 0.1942 - val_accuracy: 0.9279\n",
      "Epoch 9/30\n",
      "451/451 [==============================] - 6s 13ms/step - loss: 0.2433 - accuracy: 0.9139 - val_loss: 0.1708 - val_accuracy: 0.9381\n",
      "Epoch 10/30\n",
      "451/451 [==============================] - 6s 14ms/step - loss: 0.2311 - accuracy: 0.9179 - val_loss: 0.1685 - val_accuracy: 0.9373\n",
      "Epoch 11/30\n",
      "451/451 [==============================] - 6s 14ms/step - loss: 0.2253 - accuracy: 0.9186 - val_loss: 0.1810 - val_accuracy: 0.9295\n",
      "Epoch 12/30\n",
      "451/451 [==============================] - 7s 15ms/step - loss: 0.2201 - accuracy: 0.9186 - val_loss: 0.1603 - val_accuracy: 0.9423\n",
      "Epoch 13/30\n",
      "451/451 [==============================] - 7s 15ms/step - loss: 0.2110 - accuracy: 0.9214 - val_loss: 0.1908 - val_accuracy: 0.9276\n",
      "Epoch 14/30\n",
      "451/451 [==============================] - 6s 14ms/step - loss: 0.2072 - accuracy: 0.9248 - val_loss: 0.1696 - val_accuracy: 0.9409\n",
      "Epoch 15/30\n",
      "451/451 [==============================] - 7s 15ms/step - loss: 0.2053 - accuracy: 0.9247 - val_loss: 0.1538 - val_accuracy: 0.9465\n",
      "Epoch 16/30\n",
      "451/451 [==============================] - 6s 14ms/step - loss: 0.1906 - accuracy: 0.9292 - val_loss: 0.1617 - val_accuracy: 0.9420\n",
      "Epoch 17/30\n",
      "451/451 [==============================] - 6s 14ms/step - loss: 0.1879 - accuracy: 0.9289 - val_loss: 0.1552 - val_accuracy: 0.9429\n",
      "Epoch 18/30\n",
      "451/451 [==============================] - 6s 14ms/step - loss: 0.1852 - accuracy: 0.9329 - val_loss: 0.1535 - val_accuracy: 0.9426\n",
      "Epoch 19/30\n",
      "451/451 [==============================] - 6s 14ms/step - loss: 0.1799 - accuracy: 0.9340 - val_loss: 0.1559 - val_accuracy: 0.9445\n",
      "Epoch 20/30\n",
      "451/451 [==============================] - 6s 14ms/step - loss: 0.1706 - accuracy: 0.9378 - val_loss: 0.1500 - val_accuracy: 0.9454\n",
      "Epoch 21/30\n",
      "451/451 [==============================] - 6s 14ms/step - loss: 0.1720 - accuracy: 0.9349 - val_loss: 0.1530 - val_accuracy: 0.9470\n",
      "Epoch 22/30\n",
      "451/451 [==============================] - 6s 14ms/step - loss: 0.1681 - accuracy: 0.9399 - val_loss: 0.1539 - val_accuracy: 0.9445\n",
      "Epoch 23/30\n",
      "451/451 [==============================] - 6s 14ms/step - loss: 0.1554 - accuracy: 0.9412 - val_loss: 0.1395 - val_accuracy: 0.9520\n",
      "Epoch 24/30\n",
      "451/451 [==============================] - 6s 13ms/step - loss: 0.1583 - accuracy: 0.9426 - val_loss: 0.1517 - val_accuracy: 0.9459\n",
      "Epoch 25/30\n",
      "451/451 [==============================] - 6s 14ms/step - loss: 0.1588 - accuracy: 0.9398 - val_loss: 0.1477 - val_accuracy: 0.9467\n",
      "Epoch 26/30\n",
      "451/451 [==============================] - 6s 13ms/step - loss: 0.1625 - accuracy: 0.9400 - val_loss: 0.1516 - val_accuracy: 0.9490\n",
      "Epoch 27/30\n",
      "451/451 [==============================] - 6s 14ms/step - loss: 0.1633 - accuracy: 0.9411 - val_loss: 0.1453 - val_accuracy: 0.9479\n",
      "Epoch 28/30\n",
      "451/451 [==============================] - 6s 14ms/step - loss: 0.1507 - accuracy: 0.9442 - val_loss: 0.1503 - val_accuracy: 0.9484\n",
      "Epoch 29/30\n",
      "451/451 [==============================] - 7s 15ms/step - loss: 0.1400 - accuracy: 0.9492 - val_loss: 0.1420 - val_accuracy: 0.9479\n",
      "Epoch 30/30\n",
      "451/451 [==============================] - 7s 15ms/step - loss: 0.1337 - accuracy: 0.9496 - val_loss: 0.1385 - val_accuracy: 0.9520\n",
      "Ensemble Accuracy: 0.9542\n",
      "Classification Report:\n",
      "               precision    recall  f1-score   support\n",
      "\n",
      "        기타소음       0.98      0.95      0.96       373\n",
      "       이륜차경적       0.98      0.95      0.97       912\n",
      "      이륜차주행음       0.95      0.97      0.96       947\n",
      "        차량경적       0.93      0.95      0.94       638\n",
      "       차량사이렌       0.98      0.96      0.97       398\n",
      "       차량주행음       0.89      0.93      0.91       337\n",
      "\n",
      "    accuracy                           0.95      3605\n",
      "   macro avg       0.95      0.95      0.95      3605\n",
      "weighted avg       0.95      0.95      0.95      3605\n",
      "\n",
      "Confusion Matrix:\n",
      " [[353   2  11   0   4   3]\n",
      " [  0 869   2  41   0   0]\n",
      " [  6   0 914   1   1  25]\n",
      " [  1  15  10 609   1   2]\n",
      " [  2   0   4   2 382   8]\n",
      " [  0   0  22   0   2 313]]\n"
     ]
    }
   ],
   "source": [
    "import numpy as np\n",
    "import pandas as pd\n",
    "from sklearn.model_selection import train_test_split\n",
    "from sklearn.preprocessing import LabelEncoder\n",
    "from tensorflow.keras.utils import to_categorical\n",
    "from tensorflow.keras.models import Sequential, Model\n",
    "from tensorflow.keras.layers import Dense, Conv1D, MaxPooling1D, Dropout, Flatten, Input, BatchNormalization\n",
    "from tensorflow.keras.optimizers import Adam\n",
    "from tensorflow.keras.callbacks import ReduceLROnPlateau\n",
    "from sklearn.metrics import accuracy_score, classification_report, confusion_matrix\n",
    "\n",
    "# 데이터 준비 (기존 코드와 동일)\n",
    "df = pd.read_csv(\"combined_result.csv\", encoding='utf-8')\n",
    "feature_cols = [f'mfcc_{i}' for i in range(1, 51)]\n",
    "df = df[feature_cols + ['category_03']]\n",
    "\n",
    "def categorize_noise(category):\n",
    "    if category in ['이륜차경적']:\n",
    "        return '이륜차경적'\n",
    "    elif category in ['이륜차주행음']:\n",
    "        return '이륜차주행음'\n",
    "    elif category in ['차량사이렌']:\n",
    "        return '차량사이렌'\n",
    "    elif category in ['차량주행음']:\n",
    "        return '차량주행음'\n",
    "    elif category in ['차량경적']:\n",
    "        return '차량경적'\n",
    "    else:\n",
    "        return '기타소음'\n",
    "\n",
    "df['label'] = df['category_03'].apply(categorize_noise)\n",
    "df = df.drop('category_03', axis=1)\n",
    "\n",
    "X = df[feature_cols].values\n",
    "y = df['label'].values\n",
    "\n",
    "label_encoder = LabelEncoder()\n",
    "y_encoded = label_encoder.fit_transform(y)\n",
    "y_categorical = to_categorical(y_encoded)\n",
    "\n",
    "X_train, X_test, y_train, y_test = train_test_split(X, y_categorical, test_size=0.2, random_state=42, stratify=y)\n",
    "\n",
    "X_train = X_train.reshape(X_train.shape[0], X_train.shape[1], 1)\n",
    "X_test = X_test.reshape(X_test.shape[0], X_test.shape[1], 1)\n",
    "\n",
    "# 개선된 CNN 모델 정의\n",
    "def create_model():\n",
    "    inputs = Input(shape=(X_train.shape[1], 1))\n",
    "    x = Conv1D(64, kernel_size=3, activation='relu')(inputs)\n",
    "    x = BatchNormalization()(x)\n",
    "    x = MaxPooling1D(pool_size=2)(x)\n",
    "    x = Dropout(0.3)(x)\n",
    "    \n",
    "    x = Conv1D(128, kernel_size=3, activation='relu')(x)\n",
    "    x = BatchNormalization()(x)\n",
    "    x = MaxPooling1D(pool_size=2)(x)\n",
    "    x = Dropout(0.3)(x)\n",
    "    \n",
    "    x = Flatten()(x)\n",
    "    x = Dense(128, activation='relu')(x)\n",
    "    x = BatchNormalization()(x)\n",
    "    x = Dropout(0.3)(x)\n",
    "    outputs = Dense(y_categorical.shape[1], activation='softmax')(x)\n",
    "    \n",
    "    model = Model(inputs=inputs, outputs=outputs)\n",
    "    return model\n",
    "\n",
    "# 앙상블 모델 생성\n",
    "def create_ensemble(num_models=3):\n",
    "    models = []\n",
    "    for _ in range(num_models):\n",
    "        model = create_model()\n",
    "        models.append(model)\n",
    "    return models\n",
    "\n",
    "# 앙상블 모델 학습\n",
    "ensemble = create_ensemble()\n",
    "\n",
    "# 학습률 스케줄링\n",
    "reduce_lr = ReduceLROnPlateau(monitor='val_loss', factor=0.2, patience=5, min_lr=0.0001)\n",
    "\n",
    "# 모델 학습\n",
    "histories = []\n",
    "for i, model in enumerate(ensemble):\n",
    "    print(f\"Training model {i+1}/{len(ensemble)}\")\n",
    "    model.compile(optimizer=Adam(learning_rate=0.001), loss='categorical_crossentropy', metrics=['accuracy'])\n",
    "    history = model.fit(X_train, y_train, epochs=30, batch_size=32, validation_data=(X_test, y_test), callbacks=[reduce_lr])\n",
    "    histories.append(history)\n",
    "\n",
    "# 앙상블 예측\n",
    "def ensemble_predict(models, X):\n",
    "    predictions = [model.predict(X) for model in models]\n",
    "    return np.mean(predictions, axis=0)\n",
    "\n",
    "# 테스트 데이터에 대한 앙상블 예측\n",
    "y_pred_ensemble = ensemble_predict(ensemble, X_test)\n",
    "y_pred_classes = np.argmax(y_pred_ensemble, axis=1)\n",
    "y_true_classes = np.argmax(y_test, axis=1)\n",
    "\n",
    "# 정확도 계산\n",
    "accuracy = accuracy_score(y_true_classes, y_pred_classes)\n",
    "print(f\"Ensemble Accuracy: {accuracy:.4f}\")\n",
    "\n",
    "# 분류 보고서 출력\n",
    "class_names = label_encoder.classes_\n",
    "report = classification_report(y_true_classes, y_pred_classes, target_names=class_names)\n",
    "print(\"Classification Report:\\n\", report)\n",
    "\n",
    "# 혼동 행렬 출력\n",
    "conf_matrix = confusion_matrix(y_true_classes, y_pred_classes)\n",
    "print(\"Confusion Matrix:\\n\", conf_matrix)\n"
   ]
  },
  {
   "cell_type": "code",
   "execution_count": 14,
   "id": "aa7d6b35-e4bf-43a7-96bf-325ed92a19e0",
   "metadata": {},
   "outputs": [
    {
     "name": "stdout",
     "output_type": "stream",
     "text": [
      "모델이 cnn2_6classfication_ood_label.h5 파일로 저장되었습니다.\n"
     ]
    }
   ],
   "source": [
    "# 모델 저장\n",
    "model.save('cnn2_6classfication_ood_label.h5')\n",
    "print(\"모델이 cnn2_6classfication_ood_label.h5 파일로 저장되었습니다.\")"
   ]
  },
  {
   "cell_type": "code",
   "execution_count": 15,
   "id": "162f1311-650a-4f68-868f-7c2496d3ee88",
   "metadata": {},
   "outputs": [
    {
     "name": "stdout",
     "output_type": "stream",
     "text": [
      "Model: \"model_2\"\n",
      "_________________________________________________________________\n",
      "Layer (type)                 Output Shape              Param #   \n",
      "=================================================================\n",
      "input_3 (InputLayer)         [(None, 50, 1)]           0         \n",
      "_________________________________________________________________\n",
      "conv1d_6 (Conv1D)            (None, 48, 64)            256       \n",
      "_________________________________________________________________\n",
      "batch_normalization_6 (Batch (None, 48, 64)            256       \n",
      "_________________________________________________________________\n",
      "max_pooling1d_6 (MaxPooling1 (None, 24, 64)            0         \n",
      "_________________________________________________________________\n",
      "dropout_9 (Dropout)          (None, 24, 64)            0         \n",
      "_________________________________________________________________\n",
      "conv1d_7 (Conv1D)            (None, 22, 128)           24704     \n",
      "_________________________________________________________________\n",
      "batch_normalization_7 (Batch (None, 22, 128)           512       \n",
      "_________________________________________________________________\n",
      "max_pooling1d_7 (MaxPooling1 (None, 11, 128)           0         \n",
      "_________________________________________________________________\n",
      "dropout_10 (Dropout)         (None, 11, 128)           0         \n",
      "_________________________________________________________________\n",
      "flatten_3 (Flatten)          (None, 1408)              0         \n",
      "_________________________________________________________________\n",
      "dense_6 (Dense)              (None, 128)               180352    \n",
      "_________________________________________________________________\n",
      "batch_normalization_8 (Batch (None, 128)               512       \n",
      "_________________________________________________________________\n",
      "dropout_11 (Dropout)         (None, 128)               0         \n",
      "_________________________________________________________________\n",
      "dense_7 (Dense)              (None, 6)                 774       \n",
      "=================================================================\n",
      "Total params: 207,366\n",
      "Trainable params: 206,726\n",
      "Non-trainable params: 640\n",
      "_________________________________________________________________\n",
      "Loaded Model Accuracy: 0.9520\n",
      "Classification Report:\n",
      "               precision    recall  f1-score   support\n",
      "\n",
      "        기타소음       0.97      0.94      0.96       373\n",
      "       이륜차경적       0.98      0.95      0.97       912\n",
      "      이륜차주행음       0.94      0.96      0.95       947\n",
      "        차량경적       0.93      0.95      0.94       638\n",
      "       차량사이렌       0.97      0.96      0.97       398\n",
      "       차량주행음       0.89      0.92      0.91       337\n",
      "\n",
      "    accuracy                           0.95      3605\n",
      "   macro avg       0.95      0.95      0.95      3605\n",
      "weighted avg       0.95      0.95      0.95      3605\n",
      "\n"
     ]
    }
   ],
   "source": [
    "from tensorflow import keras\n",
    "import numpy as np\n",
    "\n",
    "# 저장된 모델 로드\n",
    "loaded_model = keras.models.load_model('cnn2_6classfication_ood_label.h5')\n",
    "\n",
    "# 모델 구조 확인\n",
    "loaded_model.summary()\n",
    "\n",
    "# 테스트 데이터로 예측 수행\n",
    "y_pred = loaded_model.predict(X_test)\n",
    "y_pred_classes = np.argmax(y_pred, axis=1)\n",
    "y_true_classes = np.argmax(y_test, axis=1)\n",
    "\n",
    "# 정확도 계산\n",
    "from sklearn.metrics import accuracy_score\n",
    "accuracy = accuracy_score(y_true_classes, y_pred_classes)\n",
    "print(f\"Loaded Model Accuracy: {accuracy:.4f}\")\n",
    "\n",
    "# 분류 보고서 출력\n",
    "from sklearn.metrics import classification_report\n",
    "class_names = label_encoder.classes_\n",
    "report = classification_report(y_true_classes, y_pred_classes, target_names=class_names)\n",
    "print(\"Classification Report:\\n\", report)"
   ]
  },
  {
   "cell_type": "markdown",
   "id": "4b29b170-5241-4a2f-9b93-1dac0a62470c",
   "metadata": {},
   "source": [
    "### 차량 주행음 개선"
   ]
  },
  {
   "cell_type": "code",
   "execution_count": 15,
   "id": "8c22183d-f4f1-4e33-8b88-6f2489b53d97",
   "metadata": {},
   "outputs": [],
   "source": [
    "# from sklearn.utils import class_weight\n",
    "# from tensorflow.keras.optimizers import Adam\n",
    "\n",
    "# # 클래스 가중치 계산\n",
    "# class_weights = class_weight.compute_class_weight('balanced',\n",
    "#                                                  classes=np.unique(np.argmax(y_train, axis=1)),\n",
    "#                                                  y=np.argmax(y_train, axis=1))\n",
    "# class_weight_dict = dict(enumerate(class_weights))\n",
    "\n",
    "# # 모델 컴파일 및 학습\n",
    "# model.compile(optimizer=Adam(learning_rate=0.001), loss='categorical_crossentropy', metrics=['accuracy'])\n",
    "# history = model.fit(X_train, y_train, epochs=30, batch_size=32, validation_data=(X_test, y_test), class_weight=class_weight_dict, callbacks=[reduce_lr])\n"
   ]
  },
  {
   "cell_type": "code",
   "execution_count": 16,
   "id": "af8a72cd-d2c6-43a2-8521-20ab07400cd2",
   "metadata": {},
   "outputs": [],
   "source": [
    "# import numpy as np\n",
    "# import pandas as pd\n",
    "# from sklearn.model_selection import train_test_split\n",
    "# from sklearn.preprocessing import LabelEncoder\n",
    "# from tensorflow.keras.utils import to_categorical\n",
    "# from tensorflow.keras.models import Sequential, Model\n",
    "# from tensorflow.keras.layers import Dense, Conv1D, MaxPooling1D, Dropout, Flatten, Input, BatchNormalization\n",
    "# from tensorflow.keras.optimizers import Adam\n",
    "# from tensorflow.keras.callbacks import ReduceLROnPlateau\n",
    "# from sklearn.metrics import accuracy_score, classification_report, confusion_matrix\n",
    "# from sklearn.utils import class_weight\n",
    "\n",
    "# # 데이터 준비 (기존 코드와 동일)\n",
    "# df = pd.read_csv(\"combined_result.csv\", encoding='utf-8')\n",
    "# feature_cols = [f'mfcc_{i}' for i in range(1, 51)]\n",
    "# df = df[feature_cols + ['category_03']]\n",
    "\n",
    "# def categorize_noise(category):\n",
    "#     if category in ['이륜차경적']:\n",
    "#         return '이륜차경적'\n",
    "#     elif category in ['이륜차주행음']:\n",
    "#         return '이륜차주행음'\n",
    "#     elif category in ['차량사이렌']:\n",
    "#         return '차량사이렌'\n",
    "#     elif category in ['차량주행음']:\n",
    "#         return '차량주행음'\n",
    "#     elif category in ['차량경적']:\n",
    "#         return '차량경적'\n",
    "#     else:\n",
    "#         return '기타소음'\n",
    "\n",
    "# df['label'] = df['category_03'].apply(categorize_noise)\n",
    "# df = df.drop('category_03', axis=1)\n",
    "\n",
    "# X = df[feature_cols].values\n",
    "# y = df['label'].values\n",
    "\n",
    "# label_encoder = LabelEncoder()\n",
    "# y_encoded = label_encoder.fit_transform(y)\n",
    "# y_categorical = to_categorical(y_encoded)\n",
    "\n",
    "# X_train, X_test, y_train, y_test = train_test_split(X, y_categorical, test_size=0.2, random_state=42, stratify=y)\n",
    "\n",
    "# X_train = X_train.reshape(X_train.shape[0], X_train.shape[1], 1)\n",
    "# X_test = X_test.reshape(X_test.shape[0], X_test.shape[1], 1)\n",
    "\n",
    "# # 클래스 가중치 계산\n",
    "# class_weights = class_weight.compute_class_weight('balanced',\n",
    "#                                                  classes=np.unique(np.argmax(y_train, axis=1)),\n",
    "#                                                  y=np.argmax(y_train, axis=1))\n",
    "# class_weight_dict = dict(enumerate(class_weights))\n",
    "\n",
    "# # 개선된 CNN 모델 정의\n",
    "# def create_model():\n",
    "#     inputs = Input(shape=(X_train.shape[1], 1))\n",
    "#     x = Conv1D(64, kernel_size=3, activation='relu')(inputs)\n",
    "#     x = BatchNormalization()(x)\n",
    "#     x = MaxPooling1D(pool_size=2)(x)\n",
    "#     x = Dropout(0.3)(x)\n",
    "    \n",
    "#     x = Conv1D(128, kernel_size=3, activation='relu')(x)\n",
    "#     x = BatchNormalization()(x)\n",
    "#     x = MaxPooling1D(pool_size=2)(x)\n",
    "#     x = Dropout(0.3)(x)\n",
    "    \n",
    "#     x = Flatten()(x)\n",
    "#     x = Dense(128, activation='relu')(x)\n",
    "#     x = BatchNormalization()(x)\n",
    "#     x = Dropout(0.3)(x)\n",
    "#     outputs = Dense(y_categorical.shape[1], activation='softmax')(x)\n",
    "    \n",
    "#     model = Model(inputs=inputs, outputs=outputs)\n",
    "#     return model\n",
    "\n",
    "# # 앙상블 모델 생성\n",
    "# def create_ensemble(num_models=3):\n",
    "#     models = []\n",
    "#     for _ in range(num_models):\n",
    "#         model = create_model()\n",
    "#         models.append(model)\n",
    "#     return models\n",
    "\n",
    "# # 앙상블 모델 학습\n",
    "# ensemble = create_ensemble()\n",
    "\n",
    "# # 학습률 스케줄링\n",
    "# reduce_lr = ReduceLROnPlateau(monitor='val_loss', factor=0.2, patience=5, min_lr=0.0001)\n",
    "\n",
    "# # 모델 학습\n",
    "# histories = []\n",
    "# for i, model in enumerate(ensemble):\n",
    "#     print(f\"Training model {i+1}/{len(ensemble)}\")\n",
    "#     model.compile(optimizer=Adam(learning_rate=0.001), loss='categorical_crossentropy', metrics=['accuracy'])\n",
    "#     history = model.fit(X_train, y_train, epochs=30, batch_size=32, validation_data=(X_test, y_test), \n",
    "#                         class_weight=class_weight_dict, callbacks=[reduce_lr])\n",
    "#     histories.append(history)\n",
    "\n",
    "# # 앙상블 예측\n",
    "# def ensemble_predict(models, X):\n",
    "#     predictions = [model.predict(X) for model in models]\n",
    "#     return np.mean(predictions, axis=0)\n",
    "\n",
    "# # 테스트 데이터에 대한 앙상블 예측\n",
    "# y_pred_ensemble = ensemble_predict(ensemble, X_test)\n",
    "# y_pred_classes = np.argmax(y_pred_ensemble, axis=1)\n",
    "# y_true_classes = np.argmax(y_test, axis=1)\n",
    "\n",
    "# # 정확도 계산\n",
    "# accuracy = accuracy_score(y_true_classes, y_pred_classes)\n",
    "# print(f\"Ensemble Accuracy: {accuracy:.4f}\")\n",
    "\n",
    "# # 분류 보고서 출력\n",
    "# class_names = label_encoder.classes_\n",
    "# report = classification_report(y_true_classes, y_pred_classes, target_names=class_names)\n",
    "# print(\"Classification Report:\\n\", report)\n",
    "\n",
    "# # 혼동 행렬 출력\n",
    "# conf_matrix = confusion_matrix(y_true_classes, y_pred_classes)\n",
    "# print(\"Confusion Matrix:\\n\", conf_matrix)\n"
   ]
  },
  {
   "cell_type": "code",
   "execution_count": 17,
   "id": "a9a06bd2-9f57-4e2c-b76d-7fbc2548b825",
   "metadata": {},
   "outputs": [],
   "source": [
    "# # 모델 저장\n",
    "# model.save('updated2_cnn_model_6classfication.h5')\n",
    "# print(\"모델이 updated2_cnn_model_6classfication.h5 파일로 저장되었습니다.\")"
   ]
  },
  {
   "cell_type": "markdown",
   "id": "eceee206-4011-4bca-b270-a367d5011bcb",
   "metadata": {},
   "source": [
    "### 차량주행음 - Precision 과 f1-score 개선\n",
    "- 오버샘플링"
   ]
  },
  {
   "cell_type": "code",
   "execution_count": 18,
   "id": "31fd3266-6cc3-45ed-a3fb-d159af0e02ba",
   "metadata": {},
   "outputs": [],
   "source": [
    "# from imblearn.over_sampling import RandomOverSampler\n",
    "# import numpy as np\n",
    "# import pandas as pd\n",
    "# from sklearn.model_selection import train_test_split\n",
    "# from sklearn.preprocessing import LabelEncoder\n",
    "# from tensorflow.keras.utils import to_categorical\n",
    "# from tensorflow.keras.models import Model\n",
    "# from tensorflow.keras.layers import Dense, Conv1D, MaxPooling1D, Dropout, Flatten, Input, BatchNormalization\n",
    "# from tensorflow.keras.optimizers import Adam\n",
    "# from tensorflow.keras.callbacks import ReduceLROnPlateau\n",
    "# from sklearn.metrics import accuracy_score, classification_report, confusion_matrix\n",
    "\n",
    "# # 데이터 준비\n",
    "# df = pd.read_csv(\"combined_result.csv\", encoding='utf-8')\n",
    "# feature_cols = [f'mfcc_{i}' for i in range(1, 51)]\n",
    "# df = df[feature_cols + ['category_03']]\n",
    "\n",
    "# def categorize_noise(category):\n",
    "#     if category in ['이륜차경적']:\n",
    "#         return '이륜차경적'\n",
    "#     elif category in ['이륜차주행음']:\n",
    "#         return '이륜차주행음'\n",
    "#     elif category in ['차량사이렌']:\n",
    "#         return '차량사이렌'\n",
    "#     elif category in ['차량주행음']:\n",
    "#         return '차량주행음'\n",
    "#     elif category in ['차량경적']:\n",
    "#         return '차량경적'\n",
    "#     else:\n",
    "#         return '기타소음'\n",
    "\n",
    "# df['label'] = df['category_03'].apply(categorize_noise)\n",
    "# df = df.drop('category_03', axis=1)\n",
    "\n",
    "# X = df[feature_cols].values\n",
    "# y = df['label'].values\n",
    "\n",
    "# # 레이블 인코딩 및 데이터 분할\n",
    "# label_encoder = LabelEncoder()\n",
    "# y_encoded = label_encoder.fit_transform(y)\n",
    "\n",
    "# X_train, X_test, y_train, y_test = train_test_split(X, y_encoded, test_size=0.2, random_state=42, stratify=y)\n",
    "\n",
    "# # 오버샘플링 적용 (훈련 데이터만)\n",
    "# ros = RandomOverSampler(random_state=42)\n",
    "# X_train_resampled, y_train_resampled = ros.fit_resample(X_train, y_train)\n",
    "\n",
    "# # 원-핫 인코딩\n",
    "# y_train_categorical = to_categorical(y_train_resampled)\n",
    "# y_test_categorical = to_categorical(y_test)\n",
    "\n",
    "# # 데이터 형태 변환\n",
    "# X_train_resampled = X_train_resampled.reshape(X_train_resampled.shape[0], X_train_resampled.shape[1], 1)\n",
    "# X_test = X_test.reshape(X_test.shape[0], X_test.shape[1], 1)\n",
    "\n",
    "# # CNN 모델 정의\n",
    "# def create_model():\n",
    "#     inputs = Input(shape=(X_train_resampled.shape[1], 1))\n",
    "#     x = Conv1D(64, kernel_size=3, activation='relu')(inputs)\n",
    "#     x = BatchNormalization()(x)\n",
    "#     x = MaxPooling1D(pool_size=2)(x)\n",
    "#     x = Dropout(0.3)(x)\n",
    "    \n",
    "#     x = Conv1D(128, kernel_size=3, activation='relu')(x)\n",
    "#     x = BatchNormalization()(x)\n",
    "#     x = MaxPooling1D(pool_size=2)(x)\n",
    "#     x = Dropout(0.3)(x)\n",
    "    \n",
    "#     x = Flatten()(x)\n",
    "#     x = Dense(128, activation='relu')(x)\n",
    "#     x = BatchNormalization()(x)\n",
    "#     x = Dropout(0.3)(x)\n",
    "#     outputs = Dense(y_test_categorical.shape[1], activation='softmax')(x)\n",
    "    \n",
    "#     model = Model(inputs=inputs, outputs=outputs)\n",
    "#     return model\n",
    "\n",
    "# # 앙상블 모델 생성\n",
    "# def create_ensemble(num_models=3):\n",
    "#     models = []\n",
    "#     for _ in range(num_models):\n",
    "#         model = create_model()\n",
    "#         models.append(model)\n",
    "#     return models\n",
    "\n",
    "# # 앙상블 모델 학습\n",
    "# ensemble = create_ensemble()\n",
    "\n",
    "# # 학습률 스케줄링 콜백 정의\n",
    "# reduce_lr = ReduceLROnPlateau(monitor='val_loss', factor=0.2, patience=5, min_lr=0.0001)\n",
    "\n",
    "# # 모델 학습 (오버샘플링된 데이터 사용)\n",
    "# histories = []\n",
    "# for i, model in enumerate(ensemble):\n",
    "#     print(f\"Training model {i+1}/{len(ensemble)}\")\n",
    "#     model.compile(optimizer=Adam(learning_rate=0.001), loss='categorical_crossentropy', metrics=['accuracy'])\n",
    "#     history = model.fit(X_train_resampled, y_train_categorical,\n",
    "#                         epochs=30,\n",
    "#                         batch_size=32,\n",
    "#                         validation_data=(X_test, y_test_categorical),\n",
    "#                         callbacks=[reduce_lr])\n",
    "#     histories.append(history)\n",
    "\n",
    "# # 앙상블 예측 함수 정의\n",
    "# def ensemble_predict(models, X):\n",
    "#     predictions = [model.predict(X) for model in models]\n",
    "#     return np.mean(predictions, axis=0)\n",
    "\n",
    "# # 테스트 데이터에 대한 앙상블 예측 수행\n",
    "# y_pred_ensemble = ensemble_predict(ensemble, X_test)\n",
    "\n",
    "# # 클래스별로 가장 높은 확률을 가진\n"
   ]
  },
  {
   "cell_type": "code",
   "execution_count": 19,
   "id": "f94fb2a0-4699-48f7-abe5-a6ab28b03f72",
   "metadata": {},
   "outputs": [],
   "source": [
    "# # 클래스별로 가장 높은 확률을 가진 클래스 인덱스를 선택\n",
    "# y_pred_classes = np.argmax(y_pred_ensemble, axis=1)\n",
    "# y_true_classes = np.argmax(y_test_categorical, axis=1)\n",
    "\n",
    "# # 정확도 계산 및 출력\n",
    "# accuracy = accuracy_score(y_true_classes, y_pred_classes)\n",
    "# print(f\"Ensemble Accuracy: {accuracy:.4f}\")\n",
    "\n",
    "# # 분류 보고서 출력\n",
    "# class_names = label_encoder.classes_\n",
    "# report = classification_report(y_true_classes, y_pred_classes, target_names=class_names)\n",
    "# print(\"Classification Report:\\n\", report)\n",
    "\n",
    "# # 혼동 행렬 출력\n",
    "# conf_matrix = confusion_matrix(y_true_classes, y_pred_classes)\n",
    "# print(\"Confusion Matrix:\\n\", conf_matrix)"
   ]
  },
  {
   "cell_type": "code",
   "execution_count": null,
   "id": "04e43b1d-0e0d-4494-9453-5512e8262b76",
   "metadata": {},
   "outputs": [],
   "source": []
  },
  {
   "cell_type": "markdown",
   "id": "ae53cb5a-27fd-49fe-a4b1-9c12873abd6f",
   "metadata": {},
   "source": [
    "# 새로운 wav 파일 분류 함수"
   ]
  },
  {
   "cell_type": "code",
   "execution_count": 20,
   "id": "0d071eb4-2313-4fc6-8ea6-b9f9174a9ceb",
   "metadata": {},
   "outputs": [
    {
     "name": "stdout",
     "output_type": "stream",
     "text": [
      "Model: \"model_2\"\n",
      "_________________________________________________________________\n",
      "Layer (type)                 Output Shape              Param #   \n",
      "=================================================================\n",
      "input_3 (InputLayer)         [(None, 50, 1)]           0         \n",
      "_________________________________________________________________\n",
      "conv1d_6 (Conv1D)            (None, 48, 64)            256       \n",
      "_________________________________________________________________\n",
      "batch_normalization_6 (Batch (None, 48, 64)            256       \n",
      "_________________________________________________________________\n",
      "max_pooling1d_6 (MaxPooling1 (None, 24, 64)            0         \n",
      "_________________________________________________________________\n",
      "dropout_9 (Dropout)          (None, 24, 64)            0         \n",
      "_________________________________________________________________\n",
      "conv1d_7 (Conv1D)            (None, 22, 128)           24704     \n",
      "_________________________________________________________________\n",
      "batch_normalization_7 (Batch (None, 22, 128)           512       \n",
      "_________________________________________________________________\n",
      "max_pooling1d_7 (MaxPooling1 (None, 11, 128)           0         \n",
      "_________________________________________________________________\n",
      "dropout_10 (Dropout)         (None, 11, 128)           0         \n",
      "_________________________________________________________________\n",
      "flatten_3 (Flatten)          (None, 1408)              0         \n",
      "_________________________________________________________________\n",
      "dense_6 (Dense)              (None, 128)               180352    \n",
      "_________________________________________________________________\n",
      "batch_normalization_8 (Batch (None, 128)               512       \n",
      "_________________________________________________________________\n",
      "dropout_11 (Dropout)         (None, 128)               0         \n",
      "_________________________________________________________________\n",
      "dense_7 (Dense)              (None, 6)                 774       \n",
      "=================================================================\n",
      "Total params: 207,366\n",
      "Trainable params: 206,726\n",
      "Non-trainable params: 640\n",
      "_________________________________________________________________\n",
      "None\n"
     ]
    }
   ],
   "source": [
    "print(model.summary())"
   ]
  },
  {
   "cell_type": "code",
   "execution_count": 21,
   "id": "7e9a30c0-5e9a-4f24-82f8-fbc631a4d578",
   "metadata": {},
   "outputs": [],
   "source": [
    "def classify_audio(audio_path):\n",
    "    try:\n",
    "        # 음원 파일 로드\n",
    "        y, sr = librosa.load(audio_path, sr=44100)\n",
    "\n",
    "        # MFCC 특징 추출\n",
    "        mfccs = librosa.feature.mfcc(y=y, sr=sr, n_mfcc=50)\n",
    "\n",
    "        # 추출된 MFCC 특징의 평균값을 사용 (각 MFCC 차수별로 하나의 값)\n",
    "        mfccs_processed = np.mean(mfccs, axis=1)\n",
    "\n",
    "        # CNN 입력 형태로 변환 (3D 텐서)\n",
    "        new_data = mfccs_processed.reshape(1, -1, 1)\n",
    "\n",
    "        # 예측 수행\n",
    "        predicted_label_encoded = np.argmax(model.predict(new_data), axis=-1)[0]\n",
    "        predicted_label = label_encoder.inverse_transform([predicted_label_encoded])[0]\n",
    "\n",
    "        return predicted_label\n",
    "\n",
    "    except Exception as e:\n",
    "        print(f\"Error processing audio file: {e}\")\n",
    "        return \"Unknown\"\n"
   ]
  },
  {
   "cell_type": "markdown",
   "id": "c698d007-e120-4a7f-8e58-b9f5c42014f5",
   "metadata": {},
   "source": [
    "## 기타소음"
   ]
  },
  {
   "cell_type": "markdown",
   "id": "44f180ef-d9a5-4f60-96ae-2ba57292bd9e",
   "metadata": {},
   "source": [
    "### 고양이"
   ]
  },
  {
   "cell_type": "code",
   "execution_count": 22,
   "id": "a5f6d5a4-8249-4813-be6b-510b1e614ed6",
   "metadata": {},
   "outputs": [
    {
     "name": "stderr",
     "output_type": "stream",
     "text": [
      "100%|██████████| 274/274 [01:28<00:00,  3.10it/s]\n"
     ]
    }
   ],
   "source": [
    "folder_path = \"/home/ubuntu/data/etc_noise_data_test_final/동물/15.고양이\"\n",
    "results = []\n",
    "\n",
    "for filename in tqdm(os.listdir(folder_path)):\n",
    "    if filename.endswith(\".wav\"):\n",
    "        file_path = os.path.join(folder_path, filename)\n",
    "        predicted_label = classify_audio(file_path)\n",
    "        results.append({\"File\": filename, \"Predicted Label\": predicted_label})\n",
    "\n",
    "# 결과를 DataFrame으로 변환\n",
    "results_df_cat = pd.DataFrame(results)"
   ]
  },
  {
   "cell_type": "code",
   "execution_count": 23,
   "id": "eb3b05ae-f805-4b56-a9f2-dba96b86e90d",
   "metadata": {},
   "outputs": [
    {
     "data": {
      "text/plain": [
       "기타소음      270\n",
       "이륜차주행음      3\n",
       "이륜차경적       1\n",
       "Name: Predicted Label, dtype: int64"
      ]
     },
     "execution_count": 23,
     "metadata": {},
     "output_type": "execute_result"
    }
   ],
   "source": [
    "results_df_cat['Predicted Label'].value_counts()"
   ]
  },
  {
   "cell_type": "code",
   "execution_count": 24,
   "id": "f664effd-8c60-493c-ba28-623e11740e9f",
   "metadata": {},
   "outputs": [
    {
     "name": "stdout",
     "output_type": "stream",
     "text": [
      "Total Files: 274\n",
      "'기타소음' Count: 270\n",
      "'기타소음' Ratio: 98.54%\n"
     ]
    }
   ],
   "source": [
    "# '기타소음'의 개수와 비율 계산\n",
    "total_files_cat = len(results_df_cat)  # 전체 파일 개수\n",
    "etc_noise_count_cat = results_df_cat[results_df_cat['Predicted Label'] == '기타소음'].shape[0]  # '기타소음'으로 분류된 파일 개수\n",
    "etc_noise_ratio_cat = (etc_noise_count_cat / total_files_cat) * 100  # 비율 계산\n",
    "\n",
    "# 결과 출력\n",
    "print(f\"Total Files: {total_files_cat}\")\n",
    "print(f\"'기타소음' Count: {etc_noise_count_cat}\")\n",
    "print(f\"'기타소음' Ratio: {etc_noise_ratio_cat:.2f}%\")"
   ]
  },
  {
   "cell_type": "code",
   "execution_count": 25,
   "id": "d0ce5065-ce17-4897-8dfe-1101ba25bbc6",
   "metadata": {},
   "outputs": [],
   "source": [
    "# #CSV로 저장\n",
    "# results_df_cat.to_csv(\"cat.csv\", index=False)\n",
    "# print(\"Classification completed. Results saved to 'cat.csv'\")"
   ]
  },
  {
   "cell_type": "markdown",
   "id": "00ca8ad8",
   "metadata": {},
   "source": [
    "### 강아지"
   ]
  },
  {
   "cell_type": "code",
   "execution_count": 26,
   "id": "92ebccdf",
   "metadata": {},
   "outputs": [
    {
     "name": "stderr",
     "output_type": "stream",
     "text": [
      "100%|██████████| 217/217 [01:57<00:00,  1.85it/s]\n"
     ]
    }
   ],
   "source": [
    "folder_path = \"/home/ubuntu/data/etc_noise_data_test_final/동물/14.개\"\n",
    "results = []\n",
    "\n",
    "for filename in tqdm(os.listdir(folder_path)):\n",
    "    if filename.endswith(\".wav\"):\n",
    "        file_path = os.path.join(folder_path, filename)\n",
    "        predicted_label = classify_audio(file_path)\n",
    "        results.append({\"File\": filename, \"Predicted Label\": predicted_label})\n",
    "\n",
    "# 결과를 DataFrame으로 변환\n",
    "results_df_dog = pd.DataFrame(results)"
   ]
  },
  {
   "cell_type": "code",
   "execution_count": 27,
   "id": "8851b253-db48-47ef-ad1a-6cecebb59f2a",
   "metadata": {},
   "outputs": [
    {
     "data": {
      "text/plain": [
       "기타소음      212\n",
       "차량사이렌       3\n",
       "이륜차주행음      2\n",
       "Name: Predicted Label, dtype: int64"
      ]
     },
     "execution_count": 27,
     "metadata": {},
     "output_type": "execute_result"
    }
   ],
   "source": [
    "results_df_dog['Predicted Label'].value_counts()"
   ]
  },
  {
   "cell_type": "code",
   "execution_count": 28,
   "id": "764059f8-07fc-4862-adc4-df50e8ea1e53",
   "metadata": {},
   "outputs": [
    {
     "name": "stdout",
     "output_type": "stream",
     "text": [
      "Total Files: 217\n",
      "'기타소음' Count: 212\n",
      "'기타소음' Ratio: 97.70%\n"
     ]
    }
   ],
   "source": [
    "# '기타소음'의 개수와 비율 계산\n",
    "total_files_dog = len(results_df_dog)  # 전체 파일 개수\n",
    "etc_noise_count_dog = results_df_dog[results_df_dog['Predicted Label'] == '기타소음'].shape[0]  # '기타소음'으로 분류된 파일 개수\n",
    "etc_noise_ratio_dog = (etc_noise_count_dog / total_files_dog) * 100  # 비율 계산\n",
    "\n",
    "# 결과 출력\n",
    "print(f\"Total Files: {total_files_dog}\")\n",
    "print(f\"'기타소음' Count: {etc_noise_count_dog}\")\n",
    "print(f\"'기타소음' Ratio: {etc_noise_ratio_dog:.2f}%\")"
   ]
  },
  {
   "cell_type": "code",
   "execution_count": 29,
   "id": "610bee9e-3845-48d6-9728-7cdc22a5f950",
   "metadata": {},
   "outputs": [],
   "source": [
    "# # CSV로 저장\n",
    "# results_df_dog.to_csv(\"dog.csv\", index=False)\n",
    "# print(\"Classification completed. Results saved to 'dog.csv'\")"
   ]
  },
  {
   "cell_type": "markdown",
   "id": "1033c4f5-a370-4e3d-afb9-90a573e8b1f6",
   "metadata": {},
   "source": [
    "### 항타기"
   ]
  },
  {
   "cell_type": "code",
   "execution_count": 30,
   "id": "12bb0e5d-4b87-4855-a0c3-35d758d921f1",
   "metadata": {},
   "outputs": [
    {
     "name": "stderr",
     "output_type": "stream",
     "text": [
      "100%|██████████| 133/133 [01:55<00:00,  1.15it/s]\n"
     ]
    }
   ],
   "source": [
    "folder_path = \"/home/ubuntu/data/etc_noise_data_test_final/공사장/18.항타기\"\n",
    "results = []\n",
    "\n",
    "for filename in tqdm(os.listdir(folder_path)):\n",
    "    if filename.endswith(\".wav\"):\n",
    "        file_path = os.path.join(folder_path, filename)\n",
    "        predicted_label = classify_audio(file_path)\n",
    "        results.append({\"File\": filename, \"Predicted Label\": predicted_label})\n",
    "\n",
    "# 결과를 DataFrame으로 변환\n",
    "results_df_piledriver = pd.DataFrame(results)"
   ]
  },
  {
   "cell_type": "code",
   "execution_count": 31,
   "id": "83a81ea4-a36d-4b88-a863-123842798674",
   "metadata": {},
   "outputs": [
    {
     "data": {
      "text/plain": [
       "기타소음      129\n",
       "이륜차주행음      3\n",
       "차량사이렌       1\n",
       "Name: Predicted Label, dtype: int64"
      ]
     },
     "execution_count": 31,
     "metadata": {},
     "output_type": "execute_result"
    }
   ],
   "source": [
    "results_df_piledriver['Predicted Label'].value_counts()"
   ]
  },
  {
   "cell_type": "code",
   "execution_count": 32,
   "id": "57c04930-61f1-4a0c-9a0c-8ae67136038a",
   "metadata": {},
   "outputs": [
    {
     "name": "stdout",
     "output_type": "stream",
     "text": [
      "Total Files: 133\n",
      "'기타소음' Count: 129\n",
      "'기타소음' Ratio: 96.99%\n"
     ]
    }
   ],
   "source": [
    "# '기타소음'의 개수와 비율 계산\n",
    "total_files_piledriver = len(results_df_piledriver)  # 전체 파일 개수\n",
    "etc_noise_count_piledriver = results_df_piledriver[results_df_piledriver['Predicted Label'] == '기타소음'].shape[0]  # '기타소음'으로 분류된 파일 개수\n",
    "etc_noise_ratio_piledriver = (etc_noise_count_piledriver / total_files_piledriver) * 100  # 비율 계산\n",
    "\n",
    "# 결과 출력\n",
    "print(f\"Total Files: {total_files_piledriver}\")\n",
    "print(f\"'기타소음' Count: {etc_noise_count_piledriver}\")\n",
    "print(f\"'기타소음' Ratio: {etc_noise_ratio_piledriver:.2f}%\")"
   ]
  },
  {
   "cell_type": "code",
   "execution_count": 33,
   "id": "0e2e08f1-407b-4f1f-9d34-f28efdcbc34a",
   "metadata": {},
   "outputs": [],
   "source": [
    "# # 결과를 CSV로 저장\n",
    "# results_df_piledriver.to_csv(\"piledriver.csv\", index=False)\n",
    "# print(\"Classification completed. Results saved to 'piledriver.csv'\")"
   ]
  },
  {
   "cell_type": "markdown",
   "id": "47cee9b5-d114-451d-b0fe-cb1657da67ab",
   "metadata": {},
   "source": [
    "### 콘크리트펌프"
   ]
  },
  {
   "cell_type": "code",
   "execution_count": 34,
   "id": "e3eea1d3-8a69-41d2-8a38-88e0ceecfbd1",
   "metadata": {},
   "outputs": [
    {
     "name": "stderr",
     "output_type": "stream",
     "text": [
      "100%|██████████| 93/93 [04:22<00:00,  2.82s/it]\n"
     ]
    }
   ],
   "source": [
    "folder_path = \"/home/ubuntu/data/etc_noise_data_test_final/공사장/20.콘크리트펌프\"\n",
    "results = []\n",
    "\n",
    "for filename in tqdm(os.listdir(folder_path)):\n",
    "    if filename.endswith(\".wav\"):\n",
    "        file_path = os.path.join(folder_path, filename)\n",
    "        predicted_label = classify_audio(file_path)\n",
    "        results.append({\"File\": filename, \"Predicted Label\": predicted_label})\n",
    "\n",
    "# 결과를 DataFrame으로 변환\n",
    "results_df_concrete = pd.DataFrame(results)"
   ]
  },
  {
   "cell_type": "code",
   "execution_count": 35,
   "id": "866304c4-3d5b-4b54-a3aa-4e03c54401b1",
   "metadata": {},
   "outputs": [
    {
     "data": {
      "text/plain": [
       "기타소음      73\n",
       "이륜차주행음    14\n",
       "차량경적       4\n",
       "차량사이렌      2\n",
       "Name: Predicted Label, dtype: int64"
      ]
     },
     "execution_count": 35,
     "metadata": {},
     "output_type": "execute_result"
    }
   ],
   "source": [
    "results_df_concrete['Predicted Label'].value_counts()"
   ]
  },
  {
   "cell_type": "code",
   "execution_count": 36,
   "id": "6b5f548c-099a-46c4-b9ad-be302b7595ad",
   "metadata": {},
   "outputs": [
    {
     "name": "stdout",
     "output_type": "stream",
     "text": [
      "Total Files: 93\n",
      "'기타소음' Count: 73\n",
      "'기타소음' Ratio: 78.49%\n"
     ]
    }
   ],
   "source": [
    "results_df_concrete['Predicted Label'].value_counts()\n",
    "\n",
    "# '기타소음'의 개수와 비율 계산\n",
    "total_files_concrete = len(results_df_concrete)  # 전체 파일 개수\n",
    "etc_noise_count_concrete = results_df_concrete[results_df_concrete['Predicted Label'] == '기타소음'].shape[0]  # '기타소음'으로 분류된 파일 개수\n",
    "etc_noise_ratio_concrete = (etc_noise_count_concrete / total_files_concrete) * 100  # 비율 계산\n",
    "\n",
    "# 결과 출력\n",
    "print(f\"Total Files: {total_files_concrete}\")\n",
    "print(f\"'기타소음' Count: {etc_noise_count_concrete}\")\n",
    "print(f\"'기타소음' Ratio: {etc_noise_ratio_concrete:.2f}%\")"
   ]
  },
  {
   "cell_type": "code",
   "execution_count": 37,
   "id": "9033dbc1-13d9-4589-95ae-e424ef16fa8c",
   "metadata": {},
   "outputs": [],
   "source": [
    "# # CSV로 저장\n",
    "# results_df_vacuum.to_csv(\"concrete.csv\", index=False)\n",
    "# print(\"Classification completed. Results saved to 'concrete.csv'\")"
   ]
  },
  {
   "cell_type": "markdown",
   "id": "384363f2-9f7c-4b68-8465-d1be51e3036e",
   "metadata": {},
   "source": [
    "### 발전기"
   ]
  },
  {
   "cell_type": "code",
   "execution_count": 38,
   "id": "cbb4ee05-f242-4779-9704-425d728de799",
   "metadata": {},
   "outputs": [
    {
     "name": "stderr",
     "output_type": "stream",
     "text": [
      "100%|██████████| 93/93 [04:04<00:00,  2.63s/it]\n"
     ]
    }
   ],
   "source": [
    "folder_path = \"/home/ubuntu/data/etc_noise_data_test_final/공사장/20.콘크리트펌프\"\n",
    "results = []\n",
    "\n",
    "for filename in tqdm(os.listdir(folder_path)):\n",
    "    if filename.endswith(\".wav\"):\n",
    "        file_path = os.path.join(folder_path, filename)\n",
    "        predicted_label = classify_audio(file_path)\n",
    "        results.append({\"File\": filename, \"Predicted Label\": predicted_label})\n",
    "\n",
    "# 결과를 DataFrame으로 변환\n",
    "results_df_generator = pd.DataFrame(results)"
   ]
  },
  {
   "cell_type": "code",
   "execution_count": 39,
   "id": "e493dde0-492d-4e04-9b41-2881625e750a",
   "metadata": {},
   "outputs": [
    {
     "data": {
      "text/plain": [
       "기타소음      73\n",
       "이륜차주행음    14\n",
       "차량경적       4\n",
       "차량사이렌      2\n",
       "Name: Predicted Label, dtype: int64"
      ]
     },
     "execution_count": 39,
     "metadata": {},
     "output_type": "execute_result"
    }
   ],
   "source": [
    "results_df_generator['Predicted Label'].value_counts()"
   ]
  },
  {
   "cell_type": "code",
   "execution_count": 40,
   "id": "5d054d57-cdb8-46d6-a6c0-bd938dc39fa9",
   "metadata": {},
   "outputs": [
    {
     "name": "stdout",
     "output_type": "stream",
     "text": [
      "Total Files: 93\n",
      "'기타소음' Count: 73\n",
      "'기타소음' Ratio: 78.49%\n"
     ]
    }
   ],
   "source": [
    "# '기타소음'의 개수와 비율 계산\n",
    "total_files_generator = len(results_df_generator)  # 전체 파일 개수\n",
    "etc_noise_count_generator = results_df_generator[results_df_generator['Predicted Label'] == '기타소음'].shape[0]  # '기타소음'으로 분류된 파일 개수\n",
    "etc_noise_ratio_generator = (etc_noise_count_generator / total_files_generator) * 100  # 비율 계산\n",
    "\n",
    "# 결과 출력\n",
    "print(f\"Total Files: {total_files_generator}\")\n",
    "print(f\"'기타소음' Count: {etc_noise_count_generator}\")\n",
    "print(f\"'기타소음' Ratio: {etc_noise_ratio_generator:.2f}%\")"
   ]
  },
  {
   "cell_type": "code",
   "execution_count": 41,
   "id": "2536f851-6592-4ad5-95f0-3c3ed13d9796",
   "metadata": {},
   "outputs": [],
   "source": [
    "# # CSV로 저장\n",
    "# results_df_vacuum.to_csv(\"generator.csv\", index=False)\n",
    "# print(\"Classification completed. Results saved to 'generator.csv'\")"
   ]
  },
  {
   "cell_type": "markdown",
   "id": "8990db4a-7a69-4441-945f-63c889b75abb",
   "metadata": {},
   "source": [
    "### 공구"
   ]
  },
  {
   "cell_type": "code",
   "execution_count": 42,
   "id": "762d99bd-1a33-4828-a7d4-462ab7455f50",
   "metadata": {},
   "outputs": [
    {
     "name": "stderr",
     "output_type": "stream",
     "text": [
      "100%|██████████| 172/172 [01:21<00:00,  2.10it/s]\n"
     ]
    }
   ],
   "source": [
    "folder_path = \"/home/ubuntu/data/etc_noise_data_test_final/공구\"\n",
    "results = []\n",
    "\n",
    "for filename in tqdm(os.listdir(folder_path)):\n",
    "    if filename.endswith(\".wav\"):\n",
    "        file_path = os.path.join(folder_path, filename)\n",
    "        predicted_label = classify_audio(file_path)\n",
    "        results.append({\"File\": filename, \"Predicted Label\": predicted_label})\n",
    "\n",
    "# 결과를 DataFrame으로 변환\n",
    "results_df_tools = pd.DataFrame(results)"
   ]
  },
  {
   "cell_type": "code",
   "execution_count": 43,
   "id": "c4742c13-e68b-401c-ae35-ee259a5d4156",
   "metadata": {},
   "outputs": [
    {
     "data": {
      "text/plain": [
       "기타소음      133\n",
       "이륜차주행음     29\n",
       "차량사이렌       6\n",
       "이륜차경적       2\n",
       "차량경적        1\n",
       "차량주행음       1\n",
       "Name: Predicted Label, dtype: int64"
      ]
     },
     "execution_count": 43,
     "metadata": {},
     "output_type": "execute_result"
    }
   ],
   "source": [
    "results_df_tools['Predicted Label'].value_counts()"
   ]
  },
  {
   "cell_type": "code",
   "execution_count": 44,
   "id": "3321eb77-dc69-4955-bd3f-f88cec455a76",
   "metadata": {},
   "outputs": [
    {
     "name": "stdout",
     "output_type": "stream",
     "text": [
      "Total Files: 172\n",
      "'기타소음' Count: 133\n",
      "'기타소음' Ratio: 77.33%\n"
     ]
    }
   ],
   "source": [
    "# '기타소음'의 개수와 비율 계산\n",
    "total_files_tools = len(results_df_tools)  # 전체 파일 개수\n",
    "etc_noise_count_tools = results_df_tools[results_df_tools['Predicted Label'] == '기타소음'].shape[0]  # '기타소음'으로 분류된 파일 개수\n",
    "etc_noise_ratio_tools = (etc_noise_count_tools / total_files_tools) * 100  # 비율 계산\n",
    "\n",
    "# 결과 출력\n",
    "print(f\"Total Files: {total_files_tools}\")\n",
    "print(f\"'기타소음' Count: {etc_noise_count_tools}\")\n",
    "print(f\"'기타소음' Ratio: {etc_noise_ratio_tools:.2f}%\")"
   ]
  },
  {
   "cell_type": "code",
   "execution_count": 45,
   "id": "ba81edcb-5ba8-4d9b-a6f4-2f09e505c2d2",
   "metadata": {},
   "outputs": [],
   "source": [
    "# # CSV로 저장\n",
    "# results_df_vacuum.to_csv(\"tools.csv\", index=False)\n",
    "# print(\"Classification completed. Results saved to 'tools.csv'\")"
   ]
  },
  {
   "cell_type": "markdown",
   "id": "9b417044",
   "metadata": {},
   "source": [
    "## 교통소음"
   ]
  },
  {
   "cell_type": "markdown",
   "id": "fc0cab28-a711-48c7-8881-0653e74cd689",
   "metadata": {},
   "source": [
    "### 차량 사이렌"
   ]
  },
  {
   "cell_type": "code",
   "execution_count": 46,
   "id": "7a08555d",
   "metadata": {},
   "outputs": [
    {
     "name": "stderr",
     "output_type": "stream",
     "text": [
      "100%|██████████| 249/249 [01:05<00:00,  3.83it/s]\n"
     ]
    }
   ],
   "source": [
    "folder_path = \"/home/ubuntu/data/etc_noise_data_test_final/교통소음/2.차량사이렌\"\n",
    "results = []\n",
    "\n",
    "for filename in tqdm(os.listdir(folder_path)):\n",
    "    if filename.endswith(\".wav\"):\n",
    "        file_path = os.path.join(folder_path, filename)\n",
    "        predicted_label = classify_audio(file_path)\n",
    "        results.append({\"File\": filename, \"Predicted Label\": predicted_label})\n",
    "\n",
    "# 결과를 DataFrame으로 변환\n",
    "results_df_car_siren = pd.DataFrame(results)"
   ]
  },
  {
   "cell_type": "code",
   "execution_count": 47,
   "id": "0e4248b0-fd4d-4806-8ef9-2ed3e5b9ae08",
   "metadata": {},
   "outputs": [
    {
     "data": {
      "text/plain": [
       "차량사이렌     240\n",
       "기타소음        3\n",
       "차량주행음       3\n",
       "이륜차주행음      2\n",
       "차량경적        1\n",
       "Name: Predicted Label, dtype: int64"
      ]
     },
     "execution_count": 47,
     "metadata": {},
     "output_type": "execute_result"
    }
   ],
   "source": [
    "results_df_car_siren['Predicted Label'].value_counts()"
   ]
  },
  {
   "cell_type": "code",
   "execution_count": 48,
   "id": "3f9027dd-bc1e-4a62-b58e-a189d8875336",
   "metadata": {},
   "outputs": [
    {
     "name": "stdout",
     "output_type": "stream",
     "text": [
      "Total Files: 249\n",
      "'차량사이렌' Count: 240\n",
      "'차량사이렌' Ratio: 96.39%\n"
     ]
    }
   ],
   "source": [
    "# '기타소음'의 개수와 비율 계산\n",
    "total_files_car_siren = len(results_df_car_siren)  # 전체 파일 개수\n",
    "etc_noise_count_car_siren = results_df_car_siren[results_df_car_siren['Predicted Label'] == '차량사이렌'].shape[0]  # '기타소음'으로 분류된 파일 개수\n",
    "etc_noise_ratio_car_siren = (etc_noise_count_car_siren / total_files_car_siren) * 100  # 비율 계산\n",
    "\n",
    "# 결과 출력\n",
    "print(f\"Total Files: {total_files_car_siren}\")\n",
    "print(f\"'차량사이렌' Count: {etc_noise_count_car_siren}\")\n",
    "print(f\"'차량사이렌' Ratio: {etc_noise_ratio_car_siren:.2f}%\")"
   ]
  },
  {
   "cell_type": "code",
   "execution_count": 49,
   "id": "a2a9a89f-155d-46b3-a1e6-d1be27773fd3",
   "metadata": {},
   "outputs": [],
   "source": [
    "# #CSV로 저장\n",
    "# results_df_car_siren.to_csv(\"car_siren.csv\", index=False)\n",
    "# print(\"Classification completed. Results saved to 'car_siren.csv'\")"
   ]
  },
  {
   "cell_type": "markdown",
   "id": "38bb0f8f",
   "metadata": {},
   "source": [
    "### 차량 경적"
   ]
  },
  {
   "cell_type": "code",
   "execution_count": 50,
   "id": "b32ebd7a",
   "metadata": {},
   "outputs": [
    {
     "name": "stderr",
     "output_type": "stream",
     "text": [
      "100%|██████████| 3189/3189 [12:03<00:00,  4.41it/s]\n"
     ]
    }
   ],
   "source": [
    "folder_path = \"/home/ubuntu/data/raw_data/1.Car/1.horn_of_car\"\n",
    "results = []\n",
    "\n",
    "for filename in tqdm(os.listdir(folder_path)):\n",
    "    if filename.endswith(\".wav\"):\n",
    "        file_path = os.path.join(folder_path, filename)\n",
    "        predicted_label = classify_audio(file_path)\n",
    "        results.append({\"File\": filename, \"Predicted Label\": predicted_label})\n",
    "\n",
    "# 5. 결과를 DataFrame으로 변환\n",
    "results_df_car_horn = pd.DataFrame(results)"
   ]
  },
  {
   "cell_type": "code",
   "execution_count": 51,
   "id": "38c08578-d1e9-4b49-850f-0a29d6adf05d",
   "metadata": {},
   "outputs": [
    {
     "data": {
      "text/plain": [
       "차량경적      3123\n",
       "이륜차경적       44\n",
       "이륜차주행음      14\n",
       "차량주행음        4\n",
       "기타소음         3\n",
       "차량사이렌        1\n",
       "Name: Predicted Label, dtype: int64"
      ]
     },
     "execution_count": 51,
     "metadata": {},
     "output_type": "execute_result"
    }
   ],
   "source": [
    "results_df_car_horn['Predicted Label'].value_counts()"
   ]
  },
  {
   "cell_type": "code",
   "execution_count": 52,
   "id": "02e07bba-73fb-40bd-b73c-ed7f8e5740c9",
   "metadata": {},
   "outputs": [
    {
     "name": "stdout",
     "output_type": "stream",
     "text": [
      "Total Files: 3189\n",
      "'차량경적' Count: 3123\n",
      "'차량경적' Ratio: 97.93%\n"
     ]
    }
   ],
   "source": [
    "# '기타소음'의 개수와 비율 계산\n",
    "total_files_car_horn = len(results_df_car_horn)  # 전체 파일 개수\n",
    "etc_noise_count_car_horn = results_df_car_horn[results_df_car_horn['Predicted Label'] == '차량경적'].shape[0]  # '기타소음'으로 분류된 파일 개수\n",
    "etc_noise_ratio_car_horn = (etc_noise_count_car_horn / total_files_car_horn) * 100  # 비율 계산\n",
    "\n",
    "# 결과 출력\n",
    "print(f\"Total Files: {total_files_car_horn}\")\n",
    "print(f\"'차량경적' Count: {etc_noise_count_car_horn}\")\n",
    "print(f\"'차량경적' Ratio: {etc_noise_ratio_car_horn:.2f}%\")"
   ]
  },
  {
   "cell_type": "code",
   "execution_count": 53,
   "id": "52e58baa-df2b-44bd-a8cb-ddddba4d6e3f",
   "metadata": {},
   "outputs": [],
   "source": [
    "# # CSV로 저장\n",
    "# results_df_car_horn.to_csv(\"car_horn.csv\", index=False)\n",
    "# print(\"Classification completed. Results saved to 'car_horn.csv'\")"
   ]
  },
  {
   "cell_type": "markdown",
   "id": "359a5d0b-8336-4e1c-be05-0b3f3090b1e1",
   "metadata": {},
   "source": [
    "### 차량 주행음"
   ]
  },
  {
   "cell_type": "code",
   "execution_count": 54,
   "id": "3fb8e9ae-f896-48f4-8fb3-1b1f3872ca23",
   "metadata": {},
   "outputs": [
    {
     "name": "stderr",
     "output_type": "stream",
     "text": [
      "100%|██████████| 227/227 [01:14<00:00,  3.07it/s]\n"
     ]
    }
   ],
   "source": [
    "folder_path = \"/home/ubuntu/data/etc_noise_data_test_final/교통소음/3.차량주행음\"\n",
    "results = []\n",
    "\n",
    "for filename in tqdm(os.listdir(folder_path)):\n",
    "    if filename.endswith(\".wav\"):\n",
    "        file_path = os.path.join(folder_path, filename)\n",
    "        predicted_label = classify_audio(file_path)\n",
    "        results.append({\"File\": filename, \"Predicted Label\": predicted_label})\n",
    "\n",
    "# 결과를 DataFrame으로 변환\n",
    "results_df_car_driving = pd.DataFrame(results)"
   ]
  },
  {
   "cell_type": "code",
   "execution_count": 55,
   "id": "1170284e-cb3d-42dd-8456-d6431b3c428d",
   "metadata": {},
   "outputs": [
    {
     "data": {
      "text/plain": [
       "차량주행음     203\n",
       "이륜차주행음     14\n",
       "기타소음        9\n",
       "차량경적        1\n",
       "Name: Predicted Label, dtype: int64"
      ]
     },
     "execution_count": 55,
     "metadata": {},
     "output_type": "execute_result"
    }
   ],
   "source": [
    "results_df_car_driving['Predicted Label'].value_counts()"
   ]
  },
  {
   "cell_type": "code",
   "execution_count": 56,
   "id": "9772b060-f761-4ac8-a4ac-12d087e7289e",
   "metadata": {},
   "outputs": [
    {
     "name": "stdout",
     "output_type": "stream",
     "text": [
      "Total Files: 227\n",
      "'차량주행음' Count: 203\n",
      "'차량주행음' Ratio: 89.43%\n"
     ]
    }
   ],
   "source": [
    "# '기타소음'의 개수와 비율 계산\n",
    "total_files_car_driving = len(results_df_car_driving)  # 전체 파일 개수\n",
    "etc_noise_count_car_driving = results_df_car_driving[results_df_car_driving['Predicted Label'] == '차량주행음'].shape[0]  # '기타소음'으로 분류된 파일 개수\n",
    "etc_noise_ratio_car_driving = (etc_noise_count_car_driving / total_files_car_driving) * 100  # 비율 계산\n",
    "\n",
    "# 결과 출력\n",
    "print(f\"Total Files: {total_files_car_driving}\")\n",
    "print(f\"'차량주행음' Count: {etc_noise_count_car_driving}\")\n",
    "print(f\"'차량주행음' Ratio: {etc_noise_ratio_car_driving:.2f}%\")"
   ]
  },
  {
   "cell_type": "code",
   "execution_count": 57,
   "id": "fb141210-dd00-4614-8595-d6d3101fb993",
   "metadata": {},
   "outputs": [],
   "source": [
    "# # CSV로 저장\n",
    "# results_df_car_driving.to_csv(\"car_driving.csv\", index=False)\n",
    "# print(\"Classification completed. Results saved to 'car_driving.csv'\")"
   ]
  },
  {
   "cell_type": "markdown",
   "id": "8fe461b9-ed12-4360-a937-4119060654ab",
   "metadata": {},
   "source": [
    "### 이륜차 경적"
   ]
  },
  {
   "cell_type": "code",
   "execution_count": 58,
   "id": "8ca2add6-39d9-4f00-a34e-865b2701b450",
   "metadata": {},
   "outputs": [
    {
     "name": "stderr",
     "output_type": "stream",
     "text": [
      "100%|██████████| 519/519 [01:49<00:00,  4.73it/s]\n"
     ]
    }
   ],
   "source": [
    "folder_path = \"/home/ubuntu/data/test_data/raw_data_test/2.Motorcycle/4.horn_of_motorcycle\"\n",
    "results = []\n",
    "\n",
    "for filename in tqdm(os.listdir(folder_path)):\n",
    "    if filename.endswith(\".wav\"):\n",
    "        file_path = os.path.join(folder_path, filename)\n",
    "        predicted_label = classify_audio(file_path)\n",
    "        results.append({\"File\": filename, \"Predicted Label\": predicted_label})\n",
    "\n",
    "# 결과를 DataFrame으로 변환\n",
    "results_df_motorcycle_horn = pd.DataFrame(results)"
   ]
  },
  {
   "cell_type": "code",
   "execution_count": 59,
   "id": "0fb240be-bb65-450a-a998-0b5e90ce6df6",
   "metadata": {},
   "outputs": [
    {
     "data": {
      "text/plain": [
       "이륜차경적     498\n",
       "차량경적       17\n",
       "이륜차주행음      3\n",
       "차량사이렌       1\n",
       "Name: Predicted Label, dtype: int64"
      ]
     },
     "execution_count": 59,
     "metadata": {},
     "output_type": "execute_result"
    }
   ],
   "source": [
    "results_df_motorcycle_horn['Predicted Label'].value_counts()"
   ]
  },
  {
   "cell_type": "code",
   "execution_count": 60,
   "id": "6e8c888d-ab95-4692-8561-fc98b2dbfbc4",
   "metadata": {},
   "outputs": [
    {
     "name": "stdout",
     "output_type": "stream",
     "text": [
      "Total Files: 519\n",
      "'이륜차경적' Count: 498\n",
      "'이륜차경적' Ratio: 95.95%\n"
     ]
    }
   ],
   "source": [
    "# '기타소음'의 개수와 비율 계산\n",
    "total_files_motorcycle_horn = len(results_df_motorcycle_horn)  # 전체 파일 개수\n",
    "etc_noise_count_motorcycle_horn = results_df_motorcycle_horn[results_df_motorcycle_horn['Predicted Label'] == '이륜차경적'].shape[0]  # '기타소음'으로 분류된 파일 개수\n",
    "etc_noise_ratio_motorcycle_horn = (etc_noise_count_motorcycle_horn / total_files_motorcycle_horn) * 100  # 비율 계산\n",
    "\n",
    "# 결과 출력\n",
    "print(f\"Total Files: {total_files_motorcycle_horn}\")\n",
    "print(f\"'이륜차경적' Count: {etc_noise_count_motorcycle_horn}\")\n",
    "print(f\"'이륜차경적' Ratio: {etc_noise_ratio_motorcycle_horn:.2f}%\")"
   ]
  },
  {
   "cell_type": "code",
   "execution_count": 61,
   "id": "5536ee01-3457-44be-b6d9-1c7ab7bab12d",
   "metadata": {},
   "outputs": [],
   "source": [
    "# # CSV로 저장\n",
    "# results_df_motorcycle_horn.to_csv(\"motorcycle_horn.csv\", index=False)\n",
    "# print(\"Classification completed. Results saved to 'motorcycle_horn.csv'\")"
   ]
  },
  {
   "cell_type": "markdown",
   "id": "e345929e-69f5-4375-8d2d-a74a3046f154",
   "metadata": {},
   "source": [
    "### 이륜차 주행음"
   ]
  },
  {
   "cell_type": "code",
   "execution_count": 62,
   "id": "790b7294-918c-42c4-a668-bacaed714c0a",
   "metadata": {},
   "outputs": [
    {
     "name": "stderr",
     "output_type": "stream",
     "text": [
      "100%|██████████| 498/498 [01:55<00:00,  4.32it/s]\n"
     ]
    }
   ],
   "source": [
    "folder_path = \"/home/ubuntu/data/test_data/raw_data_test/2.Motorcycle/5.driving_sound_of_motorcycle\"\n",
    "results = []\n",
    "\n",
    "for filename in tqdm(os.listdir(folder_path)):\n",
    "    if filename.endswith(\".wav\"):\n",
    "        file_path = os.path.join(folder_path, filename)\n",
    "        predicted_label = classify_audio(file_path)\n",
    "        results.append({\"File\": filename, \"Predicted Label\": predicted_label})\n",
    "\n",
    "# 결과를 DataFrame으로 변환\n",
    "results_df_motorcycle_driving = pd.DataFrame(results)"
   ]
  },
  {
   "cell_type": "code",
   "execution_count": 63,
   "id": "d1ff1c90-fc34-4e56-8cd5-05655656f45a",
   "metadata": {},
   "outputs": [
    {
     "data": {
      "text/plain": [
       "이륜차주행음    470\n",
       "차량주행음      23\n",
       "기타소음        3\n",
       "차량경적        1\n",
       "차량사이렌       1\n",
       "Name: Predicted Label, dtype: int64"
      ]
     },
     "execution_count": 63,
     "metadata": {},
     "output_type": "execute_result"
    }
   ],
   "source": [
    "results_df_motorcycle_driving['Predicted Label'].value_counts()"
   ]
  },
  {
   "cell_type": "code",
   "execution_count": 64,
   "id": "d24bd1cc-3c1f-4f6e-b57e-a01a4ff2998a",
   "metadata": {},
   "outputs": [
    {
     "name": "stdout",
     "output_type": "stream",
     "text": [
      "Total Files: 498\n",
      "'이륜차주행음' Count: 470\n",
      "'이륜차주행음' Ratio: 94.38%\n"
     ]
    }
   ],
   "source": [
    "# '기타소음'의 개수와 비율 계산\n",
    "total_files_motorcycle_driving = len(results_df_motorcycle_driving)  # 전체 파일 개수\n",
    "etc_noise_count_motorcycle_driving = results_df_motorcycle_driving[results_df_motorcycle_driving['Predicted Label'] == '이륜차주행음'].shape[0]  # '기타소음'으로 분류된 파일 개수\n",
    "etc_noise_ratio_motorcycle_driving = (etc_noise_count_motorcycle_driving / total_files_motorcycle_driving) * 100  # 비율 계산\n",
    "\n",
    "# 결과 출력\n",
    "print(f\"Total Files: {total_files_motorcycle_driving}\")\n",
    "print(f\"'이륜차주행음' Count: {etc_noise_count_motorcycle_driving}\")\n",
    "print(f\"'이륜차주행음' Ratio: {etc_noise_ratio_motorcycle_driving:.2f}%\")"
   ]
  },
  {
   "cell_type": "code",
   "execution_count": 65,
   "id": "acea947a-66c7-4515-abd7-00b79a3736d9",
   "metadata": {},
   "outputs": [],
   "source": [
    "# # CSV로 저장\n",
    "# results_df_motorcycle_driving.to_csv(\"motorcycle_driving.csv\", index=False)\n",
    "# print(\"Classification completed. Results saved to 'motorcycle_driving.csv'\")"
   ]
  },
  {
   "cell_type": "markdown",
   "id": "7a3a2e7d-c46f-4510-b4bd-7b22fbbd3a3c",
   "metadata": {},
   "source": [
    "# 웹 파일 검토"
   ]
  },
  {
   "cell_type": "code",
   "execution_count": 11,
   "id": "7ae2fc1e-b487-456a-8039-1dbe70deaa43",
   "metadata": {},
   "outputs": [
    {
     "name": "stdout",
     "output_type": "stream",
     "text": [
      "Model: \"sequential\"\n",
      "_________________________________________________________________\n",
      "Layer (type)                 Output Shape              Param #   \n",
      "=================================================================\n",
      "conv1d (Conv1D)              (None, 48, 64)            256       \n",
      "_________________________________________________________________\n",
      "max_pooling1d (MaxPooling1D) (None, 24, 64)            0         \n",
      "_________________________________________________________________\n",
      "dropout (Dropout)            (None, 24, 64)            0         \n",
      "_________________________________________________________________\n",
      "conv1d_1 (Conv1D)            (None, 22, 128)           24704     \n",
      "_________________________________________________________________\n",
      "max_pooling1d_1 (MaxPooling1 (None, 11, 128)           0         \n",
      "_________________________________________________________________\n",
      "dropout_1 (Dropout)          (None, 11, 128)           0         \n",
      "_________________________________________________________________\n",
      "flatten (Flatten)            (None, 1408)              0         \n",
      "_________________________________________________________________\n",
      "dense (Dense)                (None, 128)               180352    \n",
      "_________________________________________________________________\n",
      "dropout_2 (Dropout)          (None, 128)               0         \n",
      "_________________________________________________________________\n",
      "dense_1 (Dense)              (None, 6)                 774       \n",
      "=================================================================\n",
      "Total params: 206,086\n",
      "Trainable params: 206,086\n",
      "Non-trainable params: 0\n",
      "_________________________________________________________________\n",
      "Loaded Model Accuracy: 0.9422\n",
      "Classification Report:\n",
      "               precision    recall  f1-score   support\n",
      "\n",
      "        기타소음       0.99      0.96      0.97       300\n",
      "       이륜차경적       0.97      0.92      0.95       300\n",
      "      이륜차주행음       0.88      0.94      0.90       300\n",
      "        차량경적       0.92      0.97      0.94       300\n",
      "       차량사이렌       0.98      0.97      0.97       300\n",
      "       차량주행음       0.93      0.90      0.91       300\n",
      "\n",
      "    accuracy                           0.94      1800\n",
      "   macro avg       0.94      0.94      0.94      1800\n",
      "weighted avg       0.94      0.94      0.94      1800\n",
      "\n"
     ]
    }
   ],
   "source": [
    "from tensorflow import keras\n",
    "import numpy as np\n",
    "\n",
    "# 저장된 모델 로드\n",
    "loaded_model = keras.models.load_model('cnn1_6classfication_ood_label.h5')\n",
    "\n",
    "# 모델 구조 확인\n",
    "loaded_model.summary()\n",
    "\n",
    "# 테스트 데이터로 예측 수행\n",
    "y_pred = loaded_model.predict(X_test)\n",
    "y_pred_classes = np.argmax(y_pred, axis=1)\n",
    "y_true_classes = np.argmax(y_test, axis=1)\n",
    "\n",
    "# 정확도 계산\n",
    "from sklearn.metrics import accuracy_score\n",
    "accuracy = accuracy_score(y_true_classes, y_pred_classes)\n",
    "print(f\"Loaded Model Accuracy: {accuracy:.4f}\")\n",
    "\n",
    "# 분류 보고서 출력\n",
    "from sklearn.metrics import classification_report\n",
    "class_names = label_encoder.classes_\n",
    "report = classification_report(y_true_classes, y_pred_classes, target_names=class_names)\n",
    "print(\"Classification Report:\\n\", report)\n"
   ]
  },
  {
   "cell_type": "code",
   "execution_count": 12,
   "id": "7848a604-5b12-43d0-843b-1e5c133c800a",
   "metadata": {},
   "outputs": [],
   "source": [
    "def classify_audio(audio_path):\n",
    "    try:\n",
    "        # 음원 파일 로드\n",
    "        y, sr = librosa.load(audio_path, sr=44100)\n",
    "\n",
    "        # MFCC 특징 추출\n",
    "        mfccs = librosa.feature.mfcc(y=y, sr=sr, n_mfcc=50)\n",
    "\n",
    "        # 추출된 MFCC 특징의 평균값을 사용 (각 MFCC 차수별로 하나의 값)\n",
    "        mfccs_processed = np.mean(mfccs, axis=1)\n",
    "\n",
    "        # CNN 입력 형태로 변환 (3D 텐서)\n",
    "        new_data = mfccs_processed.reshape(1, -1, 1)\n",
    "\n",
    "        # 예측 수행\n",
    "        predicted_label_encoded = np.argmax(loaded_model.predict(new_data), axis=-1)[0]\n",
    "        predicted_label = label_encoder.inverse_transform([predicted_label_encoded])[0]\n",
    "\n",
    "        return predicted_label\n",
    "\n",
    "    except Exception as e:\n",
    "        print(f\"Error processing audio file: {e}\")\n",
    "        return \"Unknown\"\n"
   ]
  },
  {
   "cell_type": "code",
   "execution_count": 13,
   "id": "cb3d5890-8813-4906-964c-82d72d14be39",
   "metadata": {},
   "outputs": [
    {
     "name": "stderr",
     "output_type": "stream",
     "text": [
      "100%|██████████| 29/29 [00:05<00:00,  5.69it/s]\n"
     ]
    }
   ],
   "source": [
    "folder_path = \"/home/lab05/git/noise-data-platform/EB/testwav\"\n",
    "results = []\n",
    "\n",
    "for filename in tqdm(os.listdir(folder_path)):\n",
    "    if filename.endswith(\".wav\"):\n",
    "        file_path = os.path.join(folder_path, filename)\n",
    "        predicted_label = classify_audio(file_path)\n",
    "        results.append({\"File\": filename, \"Predicted Label\": predicted_label})\n",
    "\n",
    "# 결과를 DataFrame으로 변환\n",
    "results_df_motorcycle_horn = pd.DataFrame(results)"
   ]
  },
  {
   "cell_type": "code",
   "execution_count": 14,
   "id": "da55daa5-3fab-416f-bf35-9e0a09bbbdea",
   "metadata": {},
   "outputs": [
    {
     "data": {
      "text/plain": [
       "기타소음      12\n",
       "차량주행음      4\n",
       "이륜차주행음     4\n",
       "차량사이렌      3\n",
       "이륜차경적      3\n",
       "차량경적       3\n",
       "Name: Predicted Label, dtype: int64"
      ]
     },
     "execution_count": 14,
     "metadata": {},
     "output_type": "execute_result"
    }
   ],
   "source": [
    "results_df_motorcycle_horn['Predicted Label'].value_counts()"
   ]
  },
  {
   "cell_type": "code",
   "execution_count": 16,
   "id": "31befd71-3b68-4da7-ae1e-eed9948ee360",
   "metadata": {},
   "outputs": [
    {
     "name": "stdout",
     "output_type": "stream",
     "text": [
      "Class Names: ['기타소음' '이륜차경적' '이륜차주행음' '차량경적' '차량사이렌' '차량주행음']\n",
      "0: 기타소음\n",
      "1: 이륜차경적\n",
      "2: 이륜차주행음\n",
      "3: 차량경적\n",
      "4: 차량사이렌\n",
      "5: 차량주행음\n"
     ]
    }
   ],
   "source": [
    "# 클래스 이름 확인\n",
    "print(\"Class Names:\", class_names)\n",
    "\n",
    "for i, class_name in enumerate(label_encoder.classes_):\n",
    "    print(f\"{i}: {class_name}\")"
   ]
  },
  {
   "cell_type": "code",
   "execution_count": 15,
   "id": "caf1f564-1ad2-4545-96a5-02f46f3e4297",
   "metadata": {},
   "outputs": [
    {
     "name": "stdout",
     "output_type": "stream",
     "text": [
      "Classification completed. Results saved to 'testwav_cnn1_ood.csv'\n"
     ]
    }
   ],
   "source": [
    "# CSV로 저장\n",
    "results_df_motorcycle_horn.to_csv(\"testwav_cnn1_ood.csv\", index=False)\n",
    "print(\"Classification completed. Results saved to 'testwav_cnn1_ood.csv'\")"
   ]
  },
  {
   "cell_type": "code",
   "execution_count": null,
   "id": "cb6e4b4a-476a-4190-ab7f-66eda67d767e",
   "metadata": {},
   "outputs": [],
   "source": []
  },
  {
   "cell_type": "markdown",
   "id": "232f1174-563c-473f-8710-bf31e9f4df89",
   "metadata": {},
   "source": [
    "# 결과 비교"
   ]
  },
  {
   "cell_type": "code",
   "execution_count": 70,
   "id": "0cd0ecdb-4669-42bb-b31b-a3e106beb419",
   "metadata": {},
   "outputs": [
    {
     "name": "stdout",
     "output_type": "stream",
     "text": [
      "Model: \"model_2\"\n",
      "_________________________________________________________________\n",
      "Layer (type)                 Output Shape              Param #   \n",
      "=================================================================\n",
      "input_3 (InputLayer)         [(None, 50, 1)]           0         \n",
      "_________________________________________________________________\n",
      "conv1d_6 (Conv1D)            (None, 48, 64)            256       \n",
      "_________________________________________________________________\n",
      "batch_normalization_6 (Batch (None, 48, 64)            256       \n",
      "_________________________________________________________________\n",
      "max_pooling1d_6 (MaxPooling1 (None, 24, 64)            0         \n",
      "_________________________________________________________________\n",
      "dropout_9 (Dropout)          (None, 24, 64)            0         \n",
      "_________________________________________________________________\n",
      "conv1d_7 (Conv1D)            (None, 22, 128)           24704     \n",
      "_________________________________________________________________\n",
      "batch_normalization_7 (Batch (None, 22, 128)           512       \n",
      "_________________________________________________________________\n",
      "max_pooling1d_7 (MaxPooling1 (None, 11, 128)           0         \n",
      "_________________________________________________________________\n",
      "dropout_10 (Dropout)         (None, 11, 128)           0         \n",
      "_________________________________________________________________\n",
      "flatten_3 (Flatten)          (None, 1408)              0         \n",
      "_________________________________________________________________\n",
      "dense_6 (Dense)              (None, 128)               180352    \n",
      "_________________________________________________________________\n",
      "batch_normalization_8 (Batch (None, 128)               512       \n",
      "_________________________________________________________________\n",
      "dropout_11 (Dropout)         (None, 128)               0         \n",
      "_________________________________________________________________\n",
      "dense_7 (Dense)              (None, 6)                 774       \n",
      "=================================================================\n",
      "Total params: 207,366\n",
      "Trainable params: 206,726\n",
      "Non-trainable params: 640\n",
      "_________________________________________________________________\n",
      "Loaded Model Accuracy: 0.9487\n",
      "Classification Report:\n",
      "               precision    recall  f1-score   support\n",
      "\n",
      "        기타소음       0.96      0.93      0.95       373\n",
      "       이륜차경적       0.97      0.95      0.96       912\n",
      "      이륜차주행음       0.94      0.96      0.95       947\n",
      "        차량경적       0.93      0.94      0.94       638\n",
      "       차량사이렌       0.98      0.95      0.97       398\n",
      "       차량주행음       0.89      0.92      0.90       337\n",
      "\n",
      "    accuracy                           0.95      3605\n",
      "   macro avg       0.95      0.94      0.94      3605\n",
      "weighted avg       0.95      0.95      0.95      3605\n",
      "\n"
     ]
    }
   ],
   "source": [
    "from tensorflow import keras\n",
    "import numpy as np\n",
    "\n",
    "# 저장된 모델 로드\n",
    "loaded_model = keras.models.load_model('cnn2_6classfication_ood_label.h5')\n",
    "\n",
    "# 모델 구조 확인\n",
    "loaded_model.summary()\n",
    "\n",
    "# 테스트 데이터로 예측 수행\n",
    "y_pred = loaded_model.predict(X_test)\n",
    "y_pred_classes = np.argmax(y_pred, axis=1)\n",
    "y_true_classes = np.argmax(y_test, axis=1)\n",
    "\n",
    "# 정확도 계산\n",
    "from sklearn.metrics import accuracy_score\n",
    "accuracy = accuracy_score(y_true_classes, y_pred_classes)\n",
    "print(f\"Loaded Model Accuracy: {accuracy:.4f}\")\n",
    "\n",
    "# 분류 보고서 출력\n",
    "from sklearn.metrics import classification_report\n",
    "class_names = label_encoder.classes_\n",
    "report = classification_report(y_true_classes, y_pred_classes, target_names=class_names)\n",
    "print(\"Classification Report:\\n\", report)\n"
   ]
  },
  {
   "cell_type": "markdown",
   "id": "9fc7e807-0b1a-4072-8c07-5365f4c3429f",
   "metadata": {},
   "source": [
    "## 기타 소음"
   ]
  },
  {
   "cell_type": "code",
   "execution_count": 66,
   "id": "744af1c7-9283-496a-b879-4b625209d239",
   "metadata": {},
   "outputs": [
    {
     "name": "stdout",
     "output_type": "stream",
     "text": [
      "고양이 Total Files: 274\n",
      "'기타소음' Count: 270\n",
      "'기타소음' Ratio: 98.54%\n",
      "******************************\n",
      "강아지 Total Files: 217\n",
      "'기타소음' Count: 212\n",
      "'기타소음' Ratio: 97.70%\n",
      "******************************\n",
      "향타기 Total Files: 133\n",
      "'기타소음' Count: 129\n",
      "'기타소음' Ratio: 96.99%\n",
      "******************************\n",
      "콘크리트펌프 Total Files: 93\n",
      "'기타소음' Count: 73\n",
      "'기타소음' Ratio: 78.49%\n",
      "******************************\n",
      "발전기 Total Files: 93\n",
      "'기타소음' Count: 73\n",
      "'기타소음' Ratio: 78.49%\n",
      "******************************\n",
      "공구 Total Files: 172\n",
      "'기타소음' Count: 133\n",
      "'기타소음' Ratio: 77.33%\n"
     ]
    }
   ],
   "source": [
    "# 결과 출력\n",
    "print(f\"고양이 Total Files: {total_files_cat}\")\n",
    "print(f\"'기타소음' Count: {etc_noise_count_cat}\")\n",
    "print(f\"'기타소음' Ratio: {etc_noise_ratio_cat:.2f}%\")\n",
    "print('*'*30)\n",
    "\n",
    "# 결과 출력\n",
    "print(f\"강아지 Total Files: {total_files_dog}\")\n",
    "print(f\"'기타소음' Count: {etc_noise_count_dog}\")\n",
    "print(f\"'기타소음' Ratio: {etc_noise_ratio_dog:.2f}%\")\n",
    "print('*'*30)\n",
    "\n",
    "# 결과 출력\n",
    "print(f\"향타기 Total Files: {total_files_piledriver}\")\n",
    "print(f\"'기타소음' Count: {etc_noise_count_piledriver}\")\n",
    "print(f\"'기타소음' Ratio: {etc_noise_ratio_piledriver:.2f}%\")\n",
    "print('*'*30)\n",
    "\n",
    "# 결과 출력\n",
    "print(f\"콘크리트펌프 Total Files: {total_files_concrete}\")\n",
    "print(f\"'기타소음' Count: {etc_noise_count_concrete}\")\n",
    "print(f\"'기타소음' Ratio: {etc_noise_ratio_concrete:.2f}%\")\n",
    "print('*'*30)\n",
    "\n",
    "# 결과 출력\n",
    "print(f\"발전기 Total Files: {total_files_generator}\")\n",
    "print(f\"'기타소음' Count: {etc_noise_count_generator}\")\n",
    "print(f\"'기타소음' Ratio: {etc_noise_ratio_generator:.2f}%\")\n",
    "print('*'*30)\n",
    "\n",
    "# 결과 출력\n",
    "print(f\"공구 Total Files: {total_files_tools}\")\n",
    "print(f\"'기타소음' Count: {etc_noise_count_tools}\")\n",
    "print(f\"'기타소음' Ratio: {etc_noise_ratio_tools:.2f}%\")"
   ]
  },
  {
   "cell_type": "code",
   "execution_count": null,
   "id": "0c43ecca-af1b-4488-95e6-ce25aaf6834a",
   "metadata": {},
   "outputs": [],
   "source": []
  },
  {
   "cell_type": "markdown",
   "id": "e809131b-d3a5-4781-9222-de1d218ae9c9",
   "metadata": {},
   "source": [
    "## 교통 소음"
   ]
  },
  {
   "cell_type": "code",
   "execution_count": 67,
   "id": "f14e14da-8122-4487-8409-c57ccc017dd6",
   "metadata": {},
   "outputs": [
    {
     "name": "stdout",
     "output_type": "stream",
     "text": [
      "차량사이렌 Total Files: 249\n",
      "'차량사이렌' Count: 240\n",
      "'차량사이렌' Ratio: 96.39%\n",
      "******************************\n",
      "차량경적 Total Files: 3189\n",
      "'차량경적' Count: 3123\n",
      "'차량경적' Ratio: 97.93%\n",
      "******************************\n",
      "차량주행음 Total Files: 227\n",
      "'차량주행음' Count: 203\n",
      "'차량주행음' Ratio: 89.43%\n",
      "******************************\n",
      "이륜차경적 Total Files: 519\n",
      "'이륜차경적' Count: 498\n",
      "'이륜차경적' Ratio: 95.95%\n",
      "******************************\n",
      "이륜차주행음 Total Files: 498\n",
      "'이륜차주행음' Count: 470\n",
      "'이륜차주행음' Ratio: 94.38%\n"
     ]
    }
   ],
   "source": [
    "# 결과 출력\n",
    "print(f\"차량사이렌 Total Files: {total_files_car_siren}\")\n",
    "print(f\"'차량사이렌' Count: {etc_noise_count_car_siren}\")\n",
    "print(f\"'차량사이렌' Ratio: {etc_noise_ratio_car_siren:.2f}%\")\n",
    "print('*'*30)\n",
    "\n",
    "# 결과 출력\n",
    "print(f\"차량경적 Total Files: {total_files_car_horn}\")\n",
    "print(f\"'차량경적' Count: {etc_noise_count_car_horn}\")\n",
    "print(f\"'차량경적' Ratio: {etc_noise_ratio_car_horn:.2f}%\")\n",
    "print('*'*30)\n",
    "\n",
    "# 결과 출력\n",
    "print(f\"차량주행음 Total Files: {total_files_car_driving}\")\n",
    "print(f\"'차량주행음' Count: {etc_noise_count_car_driving}\")\n",
    "print(f\"'차량주행음' Ratio: {etc_noise_ratio_car_driving:.2f}%\")\n",
    "print('*'*30)\n",
    "\n",
    "# 결과 출력\n",
    "print(f\"이륜차경적 Total Files: {total_files_motorcycle_horn}\")\n",
    "print(f\"'이륜차경적' Count: {etc_noise_count_motorcycle_horn}\")\n",
    "print(f\"'이륜차경적' Ratio: {etc_noise_ratio_motorcycle_horn:.2f}%\")\n",
    "print('*'*30)\n",
    "\n",
    "# 결과 출력\n",
    "print(f\"이륜차주행음 Total Files: {total_files_motorcycle_driving}\")\n",
    "print(f\"'이륜차주행음' Count: {etc_noise_count_motorcycle_driving}\")\n",
    "print(f\"'이륜차주행음' Ratio: {etc_noise_ratio_motorcycle_driving:.2f}%\")"
   ]
  },
  {
   "cell_type": "code",
   "execution_count": null,
   "id": "b5328be1-3be1-4398-972d-9e6dd79da7f6",
   "metadata": {},
   "outputs": [],
   "source": []
  }
 ],
 "metadata": {
  "kernelspec": {
   "display_name": "Python(ml_env_python3.6)",
   "language": "python",
   "name": "ml_env_python3.6"
  },
  "language_info": {
   "codemirror_mode": {
    "name": "ipython",
    "version": 3
   },
   "file_extension": ".py",
   "mimetype": "text/x-python",
   "name": "python",
   "nbconvert_exporter": "python",
   "pygments_lexer": "ipython3",
   "version": "3.6.13"
  }
 },
 "nbformat": 4,
 "nbformat_minor": 5
}
