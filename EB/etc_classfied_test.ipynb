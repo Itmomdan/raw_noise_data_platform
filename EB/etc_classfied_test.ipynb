{
 "cells": [
  {
   "cell_type": "markdown",
   "id": "7926c766-e106-4176-a2db-35d94993f785",
   "metadata": {},
   "source": [
    "# LightGBM + 분류 모델 "
   ]
  },
  {
   "cell_type": "markdown",
   "id": "df51b9a2-3254-4d44-a0e2-a286bd1facd6",
   "metadata": {},
   "source": [
    "# 데이터 준비 및 전처리 \n",
    "- combined_test_data_200.csv (test_data + 기타소음4)\n"
   ]
  },
  {
   "cell_type": "code",
   "execution_count": 1,
   "id": "24b31494",
   "metadata": {},
   "outputs": [],
   "source": [
    "import pandas as pd\n",
    "import numpy as np\n",
    "from sklearn.model_selection import train_test_split\n",
    "from sklearn.preprocessing import LabelEncoder, StandardScaler\n",
    "from sklearn.metrics import accuracy_score, classification_report, confusion_matrix\n",
    "from lightgbm import LGBMClassifier\n",
    "import librosa\n",
    "import soundfile as sf\n",
    "import os\n",
    "from tqdm import tqdm"
   ]
  },
  {
   "cell_type": "code",
   "execution_count": 2,
   "id": "e54da68c",
   "metadata": {},
   "outputs": [
    {
     "name": "stdout",
     "output_type": "stream",
     "text": [
      "Accuracy: 0.9281914893617021\n",
      "Classification Report:\n",
      "               precision    recall  f1-score   support\n",
      "\n",
      "        기타소음       0.94      0.99      0.97       373\n",
      "       이륜차경적       0.96      0.90      0.93       104\n",
      "      이륜차주행음       0.88      0.81      0.84       100\n",
      "        차량경적       0.91      0.89      0.90        80\n",
      "       차량사이렌       0.96      0.88      0.92        50\n",
      "       차량주행음       0.84      0.82      0.83        45\n",
      "\n",
      "    accuracy                           0.93       752\n",
      "   macro avg       0.91      0.88      0.90       752\n",
      "weighted avg       0.93      0.93      0.93       752\n",
      "\n",
      "Confusion Matrix:\n",
      " [[371   0   2   0   0   0]\n",
      " [  3  94   2   5   0   0]\n",
      " [ 14   1  81   0   0   4]\n",
      " [  1   3   2  71   1   2]\n",
      " [  4   0   0   1  44   1]\n",
      " [  1   0   5   1   1  37]]\n"
     ]
    }
   ],
   "source": [
    "# 학습 데이터 준비\n",
    "df = pd.read_csv(\"combined_test_data_200.csv\", encoding='utf-8')\n",
    "feature_cols = [f'mfcc_{i}' for i in range(1, 51)]\n",
    "df = df[feature_cols + ['category_03']]\n",
    "\n",
    "# 소음 카테고리 변환\n",
    "def categorize_noise(category):\n",
    "    if category in ['이륜차경적']:\n",
    "        return '이륜차경적'\n",
    "    elif category in ['이륜차주행음']:\n",
    "        return '이륜차주행음'\n",
    "    elif category in ['차량사이렌']:\n",
    "        return '차량사이렌'\n",
    "    elif category in ['차량주행음']:\n",
    "        return '차량주행음'\n",
    "    elif category in ['차량경적']:\n",
    "        return '차량경적'\n",
    "    else:\n",
    "        return '기타소음'\n",
    "\n",
    "df['label'] = df['category_03'].apply(categorize_noise)\n",
    "df = df.drop('category_03', axis=1)\n",
    "\n",
    "X = df[feature_cols]\n",
    "y = df['label']\n",
    "X_train, X_test, y_train, y_test = train_test_split(X, y, test_size=0.2, random_state=42, stratify=y) # stratify=y: 각 소음 카테고리의 비율을 유지하면서 분할\n",
    "\n",
    "#데이터 정규화\n",
    "scaler = StandardScaler()\n",
    "X_train = scaler.fit_transform(X_train)\n",
    "X_test = scaler.transform(X_test)\n",
    "\n",
    "#레이블 인코딩 (문자 → 숫자)\n",
    "label_encoder = LabelEncoder()\n",
    "y_train = label_encoder.fit_transform(y_train)\n",
    "y_test = label_encoder.transform(y_test)\n",
    "\n",
    "# 모델 학습 \n",
    "model = LGBMClassifier(n_estimators=200, random_state=42, max_depth=15)\n",
    "model.fit(X_train, y_train)\n",
    "\n",
    "# 테스트 데이터로 예측\n",
    "y_pred = model.predict(X_test)\n",
    "\n",
    "# 성능 평가\n",
    "accuracy = accuracy_score(y_test, y_pred)\n",
    "report = classification_report(y_test, y_pred, target_names=label_encoder.classes_)\n",
    "conf_matrix = confusion_matrix(y_test, y_pred)\n",
    "\n",
    "print(f\"Accuracy: {accuracy}\")\n",
    "print(\"Classification Report:\\n\", report)\n",
    "print(\"Confusion Matrix:\\n\", conf_matrix)"
   ]
  },
  {
   "cell_type": "markdown",
   "id": "1ad12e62-5b33-4b5b-9588-f560a7fed4d4",
   "metadata": {},
   "source": [
    "# 새로운 음원 파일을 입력받아 학습된 머신러닝 모델을 사용하여 해당 음원의 소음 종류를 분류"
   ]
  },
  {
   "cell_type": "code",
   "execution_count": 3,
   "id": "85262c23-d7cd-475c-bba7-74fd956e9c57",
   "metadata": {},
   "outputs": [],
   "source": [
    "# 새로운 음원 파일 분류\n",
    "def classify_audio(audio_path):\n",
    "    try:\n",
    "        # 음원 파일 로드\n",
    "        y, sr = librosa.load(audio_path, sr=44100)  # 샘플링 레이트(sr)를 44.1kHz로 설정\n",
    "\n",
    "        # MFCC 특징 추출\n",
    "        mfccs = librosa.feature.mfcc(y=y, sr=sr, n_mfcc=50)\n",
    "\n",
    "        # 추출된 MFCC 특징의 평균값을 사용 (각 MFCC 차수별로 하나의 값)\n",
    "        mfccs_processed = np.mean(mfccs, axis=1)\n",
    "\n",
    "        # MFCC 특징 벡터를 DataFrame으로 변환\n",
    "        new_data = pd.DataFrame(mfccs_processed.reshape(1, -1), columns=feature_cols)\n",
    "\n",
    "        # 데이터 전처리 (스케일링)\n",
    "        new_data_scaled = scaler.transform(new_data)\n",
    "\n",
    "        # 예측\n",
    "        predicted_label_encoded = model.predict(new_data_scaled)\n",
    "        predicted_label = label_encoder.inverse_transform(predicted_label_encoded)[0]\n",
    "\n",
    "        return predicted_label\n",
    "\n",
    "    except Exception as e:\n",
    "        print(f\"Error processing audio file: {e}\")\n",
    "        return \"Unknown\"\n"
   ]
  },
  {
   "cell_type": "code",
   "execution_count": 4,
   "id": "95358936-7b98-4eb4-9a54-7a74e39360bc",
   "metadata": {},
   "outputs": [
    {
     "data": {
      "text/plain": [
       "기타소음      1865\n",
       "이륜차경적      519\n",
       "이륜차주행음     498\n",
       "차량경적       399\n",
       "차량사이렌      249\n",
       "차량주행음      227\n",
       "Name: label, dtype: int64"
      ]
     },
     "execution_count": 4,
     "metadata": {},
     "output_type": "execute_result"
    }
   ],
   "source": [
    "df['label'].value_counts()"
   ]
  },
  {
   "cell_type": "markdown",
   "id": "44f180ef-d9a5-4f60-96ae-2ba57292bd9e",
   "metadata": {},
   "source": [
    "## 기타소음 - 고양이"
   ]
  },
  {
   "cell_type": "code",
   "execution_count": 5,
   "id": "a5f6d5a4-8249-4813-be6b-510b1e614ed6",
   "metadata": {},
   "outputs": [
    {
     "name": "stderr",
     "output_type": "stream",
     "text": [
      "100%|██████████| 274/274 [00:20<00:00, 13.09it/s]"
     ]
    },
    {
     "name": "stdout",
     "output_type": "stream",
     "text": [
      "Classification completed. Results saved to 'cat.csv'\n"
     ]
    },
    {
     "name": "stderr",
     "output_type": "stream",
     "text": [
      "\n"
     ]
    }
   ],
   "source": [
    "folder_path = \"/home/ubuntu/data/etc_noise_data_test_04/동물/15.고양이\"\n",
    "results = []\n",
    "\n",
    "for filename in tqdm(os.listdir(folder_path)):\n",
    "    if filename.endswith(\".wav\"):\n",
    "        file_path = os.path.join(folder_path, filename)\n",
    "        predicted_label = classify_audio(file_path)\n",
    "        results.append({\"File\": filename, \"Predicted Label\": predicted_label})\n",
    "\n",
    "# 5. 결과를 DataFrame으로 변환하고 CSV로 저장\n",
    "results_df = pd.DataFrame(results)\n",
    "results_df.to_csv(\"cat.csv\", index=False)\n",
    "print(\"Classification completed. Results saved to 'cat.csv'\")"
   ]
  },
  {
   "cell_type": "markdown",
   "id": "00ca8ad8",
   "metadata": {},
   "source": [
    "## 기타소음 - 항공기"
   ]
  },
  {
   "cell_type": "code",
   "execution_count": 6,
   "id": "92ebccdf",
   "metadata": {},
   "outputs": [
    {
     "name": "stderr",
     "output_type": "stream",
     "text": [
      "100%|██████████| 191/191 [00:48<00:00,  3.90it/s]"
     ]
    },
    {
     "name": "stdout",
     "output_type": "stream",
     "text": [
      "Classification completed. Results saved to '비행기분류.csv'\n"
     ]
    },
    {
     "name": "stderr",
     "output_type": "stream",
     "text": [
      "\n"
     ]
    }
   ],
   "source": [
    "folder_path = \"/home/ubuntu/data/etc_noise_data_test_04/교통소음/3.항공기/6.비행기\"\n",
    "results = []\n",
    "\n",
    "for filename in tqdm(os.listdir(folder_path)):\n",
    "    if filename.endswith(\".wav\"):\n",
    "        file_path = os.path.join(folder_path, filename)\n",
    "        predicted_label = classify_audio(file_path)\n",
    "        results.append({\"File\": filename, \"Predicted Label\": predicted_label})\n",
    "\n",
    "# 5. 결과를 DataFrame으로 변환하고 CSV로 저장\n",
    "results_df = pd.DataFrame(results)\n",
    "results_df.to_csv(\"비행기분류.csv\", index=False)\n",
    "print(\"Classification completed. Results saved to '비행기분류.csv'\")"
   ]
  },
  {
   "cell_type": "markdown",
   "id": "1033c4f5-a370-4e3d-afb9-90a573e8b1f6",
   "metadata": {},
   "source": [
    "## 기타소음 - 헬리콥터"
   ]
  },
  {
   "cell_type": "code",
   "execution_count": 7,
   "id": "12bb0e5d-4b87-4855-a0c3-35d758d921f1",
   "metadata": {},
   "outputs": [
    {
     "name": "stderr",
     "output_type": "stream",
     "text": [
      "100%|██████████| 435/435 [00:31<00:00, 13.99it/s]"
     ]
    },
    {
     "name": "stdout",
     "output_type": "stream",
     "text": [
      "Classification completed. Results saved to '헬리콥터.csv'\n"
     ]
    },
    {
     "name": "stderr",
     "output_type": "stream",
     "text": [
      "\n"
     ]
    }
   ],
   "source": [
    "folder_path = \"/home/ubuntu/data/etc_noise_data_test_04/교통소음/3.항공기/7.헬리콥터\"\n",
    "results = []\n",
    "\n",
    "for filename in tqdm(os.listdir(folder_path)):\n",
    "    if filename.endswith(\".wav\"):\n",
    "        file_path = os.path.join(folder_path, filename)\n",
    "        predicted_label = classify_audio(file_path)\n",
    "        results.append({\"File\": filename, \"Predicted Label\": predicted_label})\n",
    "\n",
    "# 5. 결과를 DataFrame으로 변환하고 CSV로 저장\n",
    "results_df = pd.DataFrame(results)\n",
    "results_df.to_csv(\"헬리콥터.csv\", index=False)\n",
    "print(\"Classification completed. Results saved to '헬리콥터.csv'\")"
   ]
  },
  {
   "cell_type": "markdown",
   "id": "47cee9b5-d114-451d-b0fe-cb1657da67ab",
   "metadata": {},
   "source": [
    "## 기타소음 - 가전 청소기"
   ]
  },
  {
   "cell_type": "code",
   "execution_count": 8,
   "id": "e3eea1d3-8a69-41d2-8a38-88e0ceecfbd1",
   "metadata": {},
   "outputs": [
    {
     "name": "stderr",
     "output_type": "stream",
     "text": [
      "100%|██████████| 102/102 [00:34<00:00,  2.95it/s]"
     ]
    },
    {
     "name": "stdout",
     "output_type": "stream",
     "text": [
      "Classification completed. Results saved to '청소기.csv'\n"
     ]
    },
    {
     "name": "stderr",
     "output_type": "stream",
     "text": [
      "\n"
     ]
    }
   ],
   "source": [
    "folder_path = \"/home/ubuntu/data/etc_noise_data_test_04/가전/12.청소기\"\n",
    "results = []\n",
    "\n",
    "for filename in tqdm(os.listdir(folder_path)):\n",
    "    if filename.endswith(\".wav\"):\n",
    "        file_path = os.path.join(folder_path, filename)\n",
    "        predicted_label = classify_audio(file_path)\n",
    "        results.append({\"File\": filename, \"Predicted Label\": predicted_label})\n",
    "\n",
    "# 5. 결과를 DataFrame으로 변환하고 CSV로 저장\n",
    "results_df = pd.DataFrame(results)\n",
    "results_df.to_csv(\"청소기.csv\", index=False)\n",
    "print(\"Classification completed. Results saved to '청소기.csv'\")"
   ]
  },
  {
   "cell_type": "markdown",
   "id": "9b417044",
   "metadata": {},
   "source": [
    "## 교통소음 - 차량 사이렌"
   ]
  },
  {
   "cell_type": "code",
   "execution_count": 9,
   "id": "7a08555d",
   "metadata": {},
   "outputs": [
    {
     "name": "stderr",
     "output_type": "stream",
     "text": [
      "100%|██████████| 1990/1990 [02:26<00:00, 13.54it/s]"
     ]
    },
    {
     "name": "stdout",
     "output_type": "stream",
     "text": [
      "Classification completed. Results saved to '자동차사이렌.csv'\n"
     ]
    },
    {
     "name": "stderr",
     "output_type": "stream",
     "text": [
      "\n"
     ]
    }
   ],
   "source": [
    "folder_path = \"/home/ubuntu/data/raw_data/1.Car/2.siren_of_car\"\n",
    "results = []\n",
    "\n",
    "for filename in tqdm(os.listdir(folder_path)):\n",
    "    if filename.endswith(\".wav\"):\n",
    "        file_path = os.path.join(folder_path, filename)\n",
    "        predicted_label = classify_audio(file_path)\n",
    "        results.append({\"File\": filename, \"Predicted Label\": predicted_label})\n",
    "\n",
    "# 5. 결과를 DataFrame으로 변환하고 CSV로 저장\n",
    "results_df = pd.DataFrame(results)\n",
    "results_df.to_csv(\"자동차사이렌.csv\", index=False)\n",
    "print(\"Classification completed. Results saved to '자동차사이렌.csv'\")"
   ]
  },
  {
   "cell_type": "code",
   "execution_count": 10,
   "id": "3f9027dd-bc1e-4a62-b58e-a189d8875336",
   "metadata": {},
   "outputs": [
    {
     "name": "stdout",
     "output_type": "stream",
     "text": [
      "Total Files: 1990\n",
      "'기타소음' Count: 163\n",
      "'기타소음' Ratio: 8.19%\n"
     ]
    }
   ],
   "source": [
    "# '기타소음'의 개수와 비율 계산\n",
    "total_files = len(results_df)  # 전체 파일 개수\n",
    "etc_noise_count = results_df[results_df['Predicted Label'] == '기타소음'].shape[0]  # '기타소음'으로 분류된 파일 개수\n",
    "etc_noise_ratio = (etc_noise_count / total_files) * 100  # 비율 계산\n",
    "\n",
    "# 결과 출력\n",
    "print(f\"Total Files: {total_files}\")\n",
    "print(f\"'기타소음' Count: {etc_noise_count}\")\n",
    "print(f\"'기타소음' Ratio: {etc_noise_ratio:.2f}%\")"
   ]
  },
  {
   "cell_type": "markdown",
   "id": "38bb0f8f",
   "metadata": {},
   "source": [
    "## 교통소음 - 차량 경적"
   ]
  },
  {
   "cell_type": "code",
   "execution_count": 11,
   "id": "b32ebd7a",
   "metadata": {},
   "outputs": [
    {
     "name": "stderr",
     "output_type": "stream",
     "text": [
      "100%|██████████| 3189/3189 [03:18<00:00, 16.03it/s]"
     ]
    },
    {
     "name": "stdout",
     "output_type": "stream",
     "text": [
      "Classification completed. Results saved to '차량경적.csv'\n"
     ]
    },
    {
     "name": "stderr",
     "output_type": "stream",
     "text": [
      "\n"
     ]
    }
   ],
   "source": [
    "folder_path = \"/home/ubuntu/data/raw_data/1.Car/1.horn_of_car\"\n",
    "results = []\n",
    "\n",
    "for filename in tqdm(os.listdir(folder_path)):\n",
    "    if filename.endswith(\".wav\"):\n",
    "        file_path = os.path.join(folder_path, filename)\n",
    "        predicted_label = classify_audio(file_path)\n",
    "        results.append({\"File\": filename, \"Predicted Label\": predicted_label})\n",
    "\n",
    "# 5. 결과를 DataFrame으로 변환하고 CSV로 저장\n",
    "results_df = pd.DataFrame(results)\n",
    "results_df.to_csv(\"차량경적.csv\", index=False)\n",
    "print(\"Classification completed. Results saved to '차량경적.csv'\")"
   ]
  },
  {
   "cell_type": "code",
   "execution_count": 12,
   "id": "02e07bba-73fb-40bd-b73c-ed7f8e5740c9",
   "metadata": {},
   "outputs": [
    {
     "name": "stdout",
     "output_type": "stream",
     "text": [
      "Total Files: 3189\n",
      "'기타소음' Count: 99\n",
      "'기타소음' Ratio: 3.10%\n"
     ]
    }
   ],
   "source": [
    "# '기타소음'의 개수와 비율 계산\n",
    "total_files = len(results_df)  # 전체 파일 개수\n",
    "etc_noise_count = results_df[results_df['Predicted Label'] == '기타소음'].shape[0]  # '기타소음'으로 분류된 파일 개수\n",
    "etc_noise_ratio = (etc_noise_count / total_files) * 100  # 비율 계산\n",
    "\n",
    "# 결과 출력\n",
    "print(f\"Total Files: {total_files}\")\n",
    "print(f\"'기타소음' Count: {etc_noise_count}\")\n",
    "print(f\"'기타소음' Ratio: {etc_noise_ratio:.2f}%\")"
   ]
  },
  {
   "cell_type": "markdown",
   "id": "1f87ee2f-ffed-4f9b-a708-898e76d1c6a2",
   "metadata": {},
   "source": [
    "# CNN + 분류"
   ]
  },
  {
   "cell_type": "code",
   "execution_count": null,
   "id": "720e6bec-705f-44e9-b994-129a38bc18e8",
   "metadata": {},
   "outputs": [],
   "source": [
    "import tensorflow as tf\n",
    "tf.config.set_visible_devices([], 'GPU')"
   ]
  },
  {
   "cell_type": "code",
   "execution_count": 14,
   "id": "67400e07-089b-4504-8ba5-1ba7c1b2be6e",
   "metadata": {},
   "outputs": [],
   "source": [
    "import os\n",
    "import numpy as np\n",
    "import pandas as pd\n",
    "import librosa\n",
    "from sklearn.model_selection import train_test_split\n",
    "from sklearn.preprocessing import LabelEncoder\n",
    "from sklearn.metrics import accuracy_score, classification_report, confusion_matrix\n",
    "from tensorflow.keras.models import Sequential\n",
    "from tensorflow.keras.layers import Dense, Conv1D, MaxPooling1D, Flatten, Dropout\n",
    "from tensorflow.keras.utils import to_categorical\n",
    "from tqdm import tqdm"
   ]
  },
  {
   "cell_type": "code",
   "execution_count": 15,
   "id": "54e54161-9efc-4db8-83f6-1d3c616de640",
   "metadata": {},
   "outputs": [
    {
     "name": "stdout",
     "output_type": "stream",
     "text": [
      "Epoch 1/30\n",
      "94/94 [==============================] - 1s 8ms/step - loss: 1.7257 - accuracy: 0.5830 - val_loss: 0.7131 - val_accuracy: 0.7779\n",
      "Epoch 2/30\n",
      "94/94 [==============================] - 1s 7ms/step - loss: 0.8185 - accuracy: 0.7215 - val_loss: 0.5563 - val_accuracy: 0.8285\n",
      "Epoch 3/30\n",
      "94/94 [==============================] - 1s 6ms/step - loss: 0.6448 - accuracy: 0.7740 - val_loss: 0.4467 - val_accuracy: 0.8524\n",
      "Epoch 4/30\n",
      "94/94 [==============================] - 1s 6ms/step - loss: 0.5752 - accuracy: 0.8007 - val_loss: 0.3940 - val_accuracy: 0.8697\n",
      "Epoch 5/30\n",
      "94/94 [==============================] - 1s 6ms/step - loss: 0.5210 - accuracy: 0.8153 - val_loss: 0.3818 - val_accuracy: 0.8590\n",
      "Epoch 6/30\n",
      "94/94 [==============================] - 1s 6ms/step - loss: 0.4750 - accuracy: 0.8306 - val_loss: 0.3300 - val_accuracy: 0.8936\n",
      "Epoch 7/30\n",
      "94/94 [==============================] - 1s 6ms/step - loss: 0.4509 - accuracy: 0.8423 - val_loss: 0.3430 - val_accuracy: 0.8936\n",
      "Epoch 8/30\n",
      "94/94 [==============================] - 1s 6ms/step - loss: 0.4048 - accuracy: 0.8579 - val_loss: 0.2836 - val_accuracy: 0.9016\n",
      "Epoch 9/30\n",
      "94/94 [==============================] - 1s 6ms/step - loss: 0.3941 - accuracy: 0.8539 - val_loss: 0.3267 - val_accuracy: 0.8816\n",
      "Epoch 10/30\n",
      "94/94 [==============================] - 1s 7ms/step - loss: 0.3705 - accuracy: 0.8602 - val_loss: 0.2923 - val_accuracy: 0.8989\n",
      "Epoch 11/30\n",
      "94/94 [==============================] - 1s 7ms/step - loss: 0.3563 - accuracy: 0.8729 - val_loss: 0.2854 - val_accuracy: 0.8989\n",
      "Epoch 12/30\n",
      "94/94 [==============================] - 1s 7ms/step - loss: 0.3327 - accuracy: 0.8779 - val_loss: 0.2635 - val_accuracy: 0.9016\n",
      "Epoch 13/30\n",
      "94/94 [==============================] - 1s 7ms/step - loss: 0.3224 - accuracy: 0.8819 - val_loss: 0.2572 - val_accuracy: 0.9202\n",
      "Epoch 14/30\n",
      "94/94 [==============================] - 1s 7ms/step - loss: 0.2873 - accuracy: 0.8955 - val_loss: 0.2660 - val_accuracy: 0.9043\n",
      "Epoch 15/30\n",
      "94/94 [==============================] - 1s 7ms/step - loss: 0.2962 - accuracy: 0.8925 - val_loss: 0.2369 - val_accuracy: 0.9189\n",
      "Epoch 16/30\n",
      "94/94 [==============================] - 1s 7ms/step - loss: 0.2774 - accuracy: 0.8978 - val_loss: 0.2690 - val_accuracy: 0.9189\n",
      "Epoch 17/30\n",
      "94/94 [==============================] - 1s 7ms/step - loss: 0.2827 - accuracy: 0.9062 - val_loss: 0.2254 - val_accuracy: 0.9269\n",
      "Epoch 18/30\n",
      "94/94 [==============================] - 1s 6ms/step - loss: 0.2566 - accuracy: 0.9101 - val_loss: 0.2354 - val_accuracy: 0.9255\n",
      "Epoch 19/30\n",
      "94/94 [==============================] - 1s 6ms/step - loss: 0.2528 - accuracy: 0.9088 - val_loss: 0.2386 - val_accuracy: 0.9215\n",
      "Epoch 20/30\n",
      "94/94 [==============================] - 1s 6ms/step - loss: 0.2446 - accuracy: 0.9098 - val_loss: 0.2249 - val_accuracy: 0.9242\n",
      "Epoch 21/30\n",
      "94/94 [==============================] - 1s 7ms/step - loss: 0.2319 - accuracy: 0.9148 - val_loss: 0.2288 - val_accuracy: 0.9322\n",
      "Epoch 22/30\n",
      "94/94 [==============================] - 1s 7ms/step - loss: 0.2158 - accuracy: 0.9201 - val_loss: 0.2297 - val_accuracy: 0.9162\n",
      "Epoch 23/30\n",
      "94/94 [==============================] - 1s 7ms/step - loss: 0.2123 - accuracy: 0.9195 - val_loss: 0.2218 - val_accuracy: 0.9215\n",
      "Epoch 24/30\n",
      "94/94 [==============================] - 1s 7ms/step - loss: 0.2033 - accuracy: 0.9268 - val_loss: 0.2323 - val_accuracy: 0.9255\n",
      "Epoch 25/30\n",
      "94/94 [==============================] - 1s 7ms/step - loss: 0.2136 - accuracy: 0.9265 - val_loss: 0.2147 - val_accuracy: 0.9269\n",
      "Epoch 26/30\n",
      "94/94 [==============================] - 1s 7ms/step - loss: 0.2095 - accuracy: 0.9235 - val_loss: 0.2319 - val_accuracy: 0.9269\n",
      "Epoch 27/30\n",
      "94/94 [==============================] - 1s 7ms/step - loss: 0.1786 - accuracy: 0.9361 - val_loss: 0.2138 - val_accuracy: 0.9295\n",
      "Epoch 28/30\n",
      "94/94 [==============================] - 1s 7ms/step - loss: 0.1855 - accuracy: 0.9314 - val_loss: 0.2267 - val_accuracy: 0.9269\n",
      "Epoch 29/30\n",
      "94/94 [==============================] - 1s 7ms/step - loss: 0.1741 - accuracy: 0.9371 - val_loss: 0.2275 - val_accuracy: 0.9282\n",
      "Epoch 30/30\n",
      "94/94 [==============================] - 1s 7ms/step - loss: 0.1796 - accuracy: 0.9391 - val_loss: 0.2253 - val_accuracy: 0.9335\n",
      "24/24 [==============================] - 0s 2ms/step - loss: 0.2253 - accuracy: 0.9335\n",
      "Accuracy: 0.9335\n",
      "Classification Report:\n",
      "               precision    recall  f1-score   support\n",
      "\n",
      "        기타소음       0.97      0.97      0.97       373\n",
      "       이륜차경적       0.99      0.88      0.93       104\n",
      "      이륜차주행음       0.90      0.87      0.88       100\n",
      "        차량경적       0.85      0.93      0.89        80\n",
      "       차량사이렌       0.89      0.94      0.91        50\n",
      "       차량주행음       0.80      0.89      0.84        45\n",
      "\n",
      "    accuracy                           0.93       752\n",
      "   macro avg       0.90      0.91      0.91       752\n",
      "weighted avg       0.94      0.93      0.93       752\n",
      "\n",
      "Confusion Matrix:\n",
      " [[362   0   7   1   2   1]\n",
      " [  0  92   0  11   1   0]\n",
      " [  7   0  87   0   1   5]\n",
      " [  2   1   0  74   0   3]\n",
      " [  1   0   0   1  47   1]\n",
      " [  0   0   3   0   2  40]]\n"
     ]
    }
   ],
   "source": [
    "# 1. 학습 데이터 준비\n",
    "df = pd.read_csv(\"combined_test_data_200.csv\", encoding='utf-8')\n",
    "feature_cols = [f'mfcc_{i}' for i in range(1, 51)]\n",
    "df = df[feature_cols + ['category_03']]\n",
    "\n",
    "# 소음 카테고리 변환 함수\n",
    "def categorize_noise(category):\n",
    "    if category in ['이륜차경적']:\n",
    "        return '이륜차경적'\n",
    "    elif category in ['이륜차주행음']:\n",
    "        return '이륜차주행음'\n",
    "    elif category in ['차량사이렌']:\n",
    "        return '차량사이렌'\n",
    "    elif category in ['차량주행음']:\n",
    "        return '차량주행음'\n",
    "    elif category in ['차량경적']:\n",
    "        return '차량경적'\n",
    "    else:\n",
    "        return '기타소음'\n",
    "\n",
    "df['label'] = df['category_03'].apply(categorize_noise)\n",
    "df = df.drop('category_03', axis=1)\n",
    "\n",
    "X = df[feature_cols].values  # MFCC 특징 값\n",
    "y = df['label'].values       # 레이블\n",
    "\n",
    "# 레이블 인코딩 (문자 → 숫자)\n",
    "label_encoder = LabelEncoder()\n",
    "y_encoded = label_encoder.fit_transform(y)\n",
    "y_categorical = to_categorical(y_encoded)  # One-hot 인코딩\n",
    "\n",
    "# 데이터셋 분할 (훈련:테스트 = 80:20)\n",
    "X_train, X_test, y_train, y_test = train_test_split(X, y_categorical, test_size=0.2, random_state=42, stratify=y)\n",
    "\n",
    "# CNN 입력 형태로 변환 (3D 텐서: 샘플 수 x 시간 축 x 특징 수)\n",
    "X_train = X_train.reshape(X_train.shape[0], X_train.shape[1], 1)\n",
    "X_test = X_test.reshape(X_test.shape[0], X_test.shape[1], 1)\n",
    "\n",
    "# 2. CNN 모델 정의\n",
    "model = Sequential([\n",
    "    Conv1D(64, kernel_size=3, activation='relu', input_shape=(X_train.shape[1], 1)),\n",
    "    MaxPooling1D(pool_size=2),\n",
    "    Dropout(0.3),\n",
    "    \n",
    "    Conv1D(128, kernel_size=3, activation='relu'),\n",
    "    MaxPooling1D(pool_size=2),\n",
    "    Dropout(0.3),\n",
    "    \n",
    "    Flatten(),\n",
    "    Dense(128, activation='relu'),\n",
    "    Dropout(0.3),\n",
    "    Dense(y_categorical.shape[1], activation='softmax')  # 출력층 (카테고리 수만큼 출력)\n",
    "])\n",
    "\n",
    "# 3. 모델 컴파일 및 학습\n",
    "model.compile(optimizer='adam', loss='categorical_crossentropy', metrics=['accuracy'])\n",
    "history = model.fit(X_train, y_train, epochs=30, batch_size=32, validation_data=(X_test, y_test))\n",
    "\n",
    "# 테스트 정확도 출력\n",
    "test_loss, test_accuracy = model.evaluate(X_test, y_test)\n",
    "\n",
    "# 테스트 데이터에 대한 예측 수행\n",
    "y_pred = model.predict(X_test)\n",
    "y_pred_classes = np.argmax(y_pred, axis=1)  # 예측된 클래스 인덱스\n",
    "y_true_classes = np.argmax(y_test, axis=1)  # 실제 클래스 인덱스\n",
    "\n",
    "# 정확도 계산\n",
    "accuracy = accuracy_score(y_true_classes, y_pred_classes)\n",
    "print(f\"Accuracy: {accuracy:.4f}\")\n",
    "\n",
    "# 분류 보고서 출력\n",
    "class_names = label_encoder.classes_\n",
    "report = classification_report(y_true_classes, y_pred_classes, target_names=class_names)\n",
    "print(\"Classification Report:\\n\", report)\n",
    "\n",
    "# 혼동 행렬 출력\n",
    "conf_matrix = confusion_matrix(y_true_classes, y_pred_classes)\n",
    "print(\"Confusion Matrix:\\n\", conf_matrix)\n",
    "\n",
    "# 4. 새로운 음원 파일 분류 함수\n",
    "def classify_audio(audio_path):\n",
    "    try:\n",
    "        # 음원 파일 로드\n",
    "        y, sr = librosa.load(audio_path, sr=44100)\n",
    "\n",
    "        # MFCC 특징 추출\n",
    "        mfccs = librosa.feature.mfcc(y=y, sr=sr, n_mfcc=50)\n",
    "\n",
    "        # 추출된 MFCC 특징의 평균값을 사용 (각 MFCC 차수별로 하나의 값)\n",
    "        mfccs_processed = np.mean(mfccs, axis=1)\n",
    "\n",
    "        # CNN 입력 형태로 변환 (3D 텐서)\n",
    "        new_data = mfccs_processed.reshape(1, -1, 1)\n",
    "\n",
    "        # 예측 수행\n",
    "        predicted_label_encoded = np.argmax(model.predict(new_data), axis=-1)[0]\n",
    "        predicted_label = label_encoder.inverse_transform([predicted_label_encoded])[0]\n",
    "\n",
    "        return predicted_label\n",
    "\n",
    "    except Exception as e:\n",
    "        print(f\"Error processing audio file: {e}\")\n",
    "        return \"Unknown\"\n"
   ]
  },
  {
   "cell_type": "markdown",
   "id": "61921462-0056-45be-842c-1eee1dcab41b",
   "metadata": {},
   "source": [
    "## 기타소음 - 고양이"
   ]
  },
  {
   "cell_type": "code",
   "execution_count": 16,
   "id": "c72ece21-e380-4967-9eb5-015d68b08a83",
   "metadata": {},
   "outputs": [
    {
     "name": "stderr",
     "output_type": "stream",
     "text": [
      "100%|██████████| 274/274 [00:31<00:00,  8.78it/s]"
     ]
    },
    {
     "name": "stdout",
     "output_type": "stream",
     "text": [
      "Classification completed. Results saved to 'cat_CNN.csv'\n"
     ]
    },
    {
     "name": "stderr",
     "output_type": "stream",
     "text": [
      "\n"
     ]
    }
   ],
   "source": [
    "folder_path = \"/home/ubuntu/data/etc_noise_data_test_04/동물/15.고양이\"\n",
    "results = []\n",
    "\n",
    "for filename in tqdm(os.listdir(folder_path)):\n",
    "    if filename.endswith(\".wav\"):\n",
    "        file_path = os.path.join(folder_path, filename)\n",
    "        predicted_label = classify_audio(file_path)\n",
    "        results.append({\"File\": filename, \"Predicted Label\": predicted_label})\n",
    "\n",
    "# 결과를 DataFrame으로 변환하고 CSV로 저장\n",
    "results_df = pd.DataFrame(results)\n",
    "results_df.to_csv(\"cat_CNN.csv\", index=False)\n",
    "print(\"Classification completed. Results saved to 'cat_CNN.csv'\")\n"
   ]
  },
  {
   "cell_type": "markdown",
   "id": "fb14db28-2d9a-4a2f-b07d-073cb8345003",
   "metadata": {},
   "source": [
    "## 기타소음 - 항공기"
   ]
  },
  {
   "cell_type": "code",
   "execution_count": 17,
   "id": "0ea53e30-f958-40af-bd81-da8a72375805",
   "metadata": {},
   "outputs": [
    {
     "name": "stderr",
     "output_type": "stream",
     "text": [
      "100%|██████████| 191/191 [00:52<00:00,  3.66it/s]"
     ]
    },
    {
     "name": "stdout",
     "output_type": "stream",
     "text": [
      "Classification completed. Results saved to '비행기분류_CNN.csv'\n"
     ]
    },
    {
     "name": "stderr",
     "output_type": "stream",
     "text": [
      "\n"
     ]
    }
   ],
   "source": [
    "folder_path = \"/home/ubuntu/data/etc_noise_data_test_04/교통소음/3.항공기/6.비행기\"\n",
    "results = []\n",
    "\n",
    "for filename in tqdm(os.listdir(folder_path)):\n",
    "    if filename.endswith(\".wav\"):\n",
    "        file_path = os.path.join(folder_path, filename)\n",
    "        predicted_label = classify_audio(file_path)\n",
    "        results.append({\"File\": filename, \"Predicted Label\": predicted_label})\n",
    "\n",
    "# 결과를 DataFrame으로 변환하고 CSV로 저장\n",
    "results_df = pd.DataFrame(results)\n",
    "results_df.to_csv(\"비행기분류_CNN.csv\", index=False)\n",
    "print(\"Classification completed. Results saved to '비행기분류_CNN.csv'\")"
   ]
  },
  {
   "cell_type": "markdown",
   "id": "51fad6ba-7f21-42a9-9f78-3dc9464f0390",
   "metadata": {},
   "source": [
    "## 교통소음 - 차량 사이렌"
   ]
  },
  {
   "cell_type": "code",
   "execution_count": 18,
   "id": "a533e3d5-8d47-444a-94a2-ba121add0bf5",
   "metadata": {},
   "outputs": [
    {
     "name": "stderr",
     "output_type": "stream",
     "text": [
      "100%|██████████| 1990/1990 [03:51<00:00,  8.60it/s]"
     ]
    },
    {
     "name": "stdout",
     "output_type": "stream",
     "text": [
      "Classification completed. Results saved to '자동차사이렌_CNN.csv'\n"
     ]
    },
    {
     "name": "stderr",
     "output_type": "stream",
     "text": [
      "\n"
     ]
    }
   ],
   "source": [
    "folder_path = \"/home/ubuntu/data/raw_data/1.Car/2.siren_of_car\"\n",
    "results = []\n",
    "\n",
    "for filename in tqdm(os.listdir(folder_path)):\n",
    "    if filename.endswith(\".wav\"):\n",
    "        file_path = os.path.join(folder_path, filename)\n",
    "        predicted_label = classify_audio(file_path)\n",
    "        results.append({\"File\": filename, \"Predicted Label\": predicted_label})\n",
    "\n",
    "# 결과를 DataFrame으로 변환하고 CSV로 저장\n",
    "results_df = pd.DataFrame(results)\n",
    "results_df.to_csv(\"자동차사이렌_CNN.csv\", index=False)\n",
    "print(\"Classification completed. Results saved to '자동차사이렌_CNN.csv'\")"
   ]
  },
  {
   "cell_type": "code",
   "execution_count": 19,
   "id": "b2e2346a-4394-40ea-92a9-0e89c645552b",
   "metadata": {},
   "outputs": [
    {
     "name": "stdout",
     "output_type": "stream",
     "text": [
      "Total Files: 1990\n",
      "'기타소음' Count: 62\n",
      "'기타소음' Ratio: 3.12%\n"
     ]
    }
   ],
   "source": [
    "# '기타소음'의 개수와 비율 계산\n",
    "total_files = len(results_df)  # 전체 파일 개수\n",
    "etc_noise_count = results_df[results_df['Predicted Label'] == '기타소음'].shape[0]  # '기타소음'으로 분류된 파일 개수\n",
    "etc_noise_ratio = (etc_noise_count / total_files) * 100  # 비율 계산\n",
    "\n",
    "# 결과 출력\n",
    "print(f\"Total Files: {total_files}\")\n",
    "print(f\"'기타소음' Count: {etc_noise_count}\")\n",
    "print(f\"'기타소음' Ratio: {etc_noise_ratio:.2f}%\")"
   ]
  },
  {
   "cell_type": "markdown",
   "id": "93f33065-ecd2-421d-a3d9-3983187e586c",
   "metadata": {},
   "source": [
    "## 교통소음 - 차량 경적"
   ]
  },
  {
   "cell_type": "code",
   "execution_count": 20,
   "id": "ac2b6c47-e9f6-458d-bad5-351b81b300fc",
   "metadata": {},
   "outputs": [
    {
     "name": "stderr",
     "output_type": "stream",
     "text": [
      "100%|██████████| 3189/3189 [05:13<00:00, 10.19it/s]"
     ]
    },
    {
     "name": "stdout",
     "output_type": "stream",
     "text": [
      "Classification completed. Results saved to '차량경적_CNN.csv'\n"
     ]
    },
    {
     "name": "stderr",
     "output_type": "stream",
     "text": [
      "\n"
     ]
    }
   ],
   "source": [
    "folder_path = \"/home/ubuntu/data/raw_data/1.Car/1.horn_of_car\"\n",
    "results = []\n",
    "\n",
    "for filename in tqdm(os.listdir(folder_path)):\n",
    "    if filename.endswith(\".wav\"):\n",
    "        file_path = os.path.join(folder_path, filename)\n",
    "        predicted_label = classify_audio(file_path)\n",
    "        results.append({\"File\": filename, \"Predicted Label\": predicted_label})\n",
    "\n",
    "# 5. 결과를 DataFrame으로 변환하고 CSV로 저장\n",
    "results_df = pd.DataFrame(results)\n",
    "results_df.to_csv(\"차량경적_CNN.csv\", index=False)\n",
    "print(\"Classification completed. Results saved to '차량경적_CNN.csv'\")"
   ]
  },
  {
   "cell_type": "code",
   "execution_count": 21,
   "id": "b4421d27-42fc-49fb-889d-4d7fd234774e",
   "metadata": {},
   "outputs": [
    {
     "name": "stdout",
     "output_type": "stream",
     "text": [
      "Total Files: 3189\n",
      "'기타소음' Count: 35\n",
      "'기타소음' Ratio: 1.10%\n"
     ]
    }
   ],
   "source": [
    "# '기타소음'의 개수와 비율 계산\n",
    "total_files = len(results_df)  # 전체 파일 개수\n",
    "etc_noise_count = results_df[results_df['Predicted Label'] == '기타소음'].shape[0]  # '기타소음'으로 분류된 파일 개수\n",
    "etc_noise_ratio = (etc_noise_count / total_files) * 100  # 비율 계산\n",
    "\n",
    "# 결과 출력\n",
    "print(f\"Total Files: {total_files}\")\n",
    "print(f\"'기타소음' Count: {etc_noise_count}\")\n",
    "print(f\"'기타소음' Ratio: {etc_noise_ratio:.2f}%\")"
   ]
  },
  {
   "cell_type": "code",
   "execution_count": null,
   "id": "bec1b956-fe88-44d9-950f-40103f0722d5",
   "metadata": {},
   "outputs": [],
   "source": []
  },
  {
   "cell_type": "code",
   "execution_count": null,
   "id": "790b7294-918c-42c4-a668-bacaed714c0a",
   "metadata": {},
   "outputs": [],
   "source": []
  }
 ],
 "metadata": {
  "kernelspec": {
   "display_name": "Python(ml_env_python3.6)",
   "language": "python",
   "name": "ml_env_python3.6"
  },
  "language_info": {
   "codemirror_mode": {
    "name": "ipython",
    "version": 3
   },
   "file_extension": ".py",
   "mimetype": "text/x-python",
   "name": "python",
   "nbconvert_exporter": "python",
   "pygments_lexer": "ipython3",
   "version": "3.6.13"
  }
 },
 "nbformat": 4,
 "nbformat_minor": 5
}
