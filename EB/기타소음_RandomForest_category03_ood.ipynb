{
 "cells": [
  {
   "cell_type": "markdown",
   "id": "7926c766-e106-4176-a2db-35d94993f785",
   "metadata": {
    "tags": []
   },
   "source": [
    "# LightBGM 모델 "
   ]
  },
  {
   "cell_type": "code",
   "execution_count": 1,
   "id": "f722e487-4466-472e-ae6a-e1a9e43d2d49",
   "metadata": {},
   "outputs": [],
   "source": [
    "import os\n",
    "import numpy as np\n",
    "import pandas as pd\n",
    "from sklearn.model_selection import train_test_split\n",
    "from sklearn.preprocessing import LabelEncoder\n",
    "from sklearn.metrics import accuracy_score, classification_report, confusion_matrix\n",
    "from sklearn.ensemble import RandomForestClassifier\n",
    "import joblib"
   ]
  },
  {
   "cell_type": "markdown",
   "id": "155d7094-d02b-46b2-a460-b12032b2ab08",
   "metadata": {},
   "source": [
    "# 데이터 준비 및 전처리"
   ]
  },
  {
   "cell_type": "markdown",
   "id": "ac4f1a70-44e5-427d-ba69-1eeb9bcd6ba8",
   "metadata": {},
   "source": [
    "## final_training_data_sampled_1500_ood_label.csv"
   ]
  },
  {
   "cell_type": "code",
   "execution_count": 2,
   "id": "2bccf207-e413-4cf2-abb2-a1d19ebf0d56",
   "metadata": {},
   "outputs": [],
   "source": [
    "#학습 데이터 준비\n",
    "df = pd.read_csv(\"final_training_data_sampled_1500_ood_label.csv\", encoding='utf-8')\n",
    "feature_cols = [f'mfcc_{i}' for i in range(1, 51)]\n",
    "df = df[feature_cols + ['category_03']]"
   ]
  },
  {
   "cell_type": "code",
   "execution_count": 3,
   "id": "8c6611f2-2ac5-4d66-9e02-c842cc528164",
   "metadata": {},
   "outputs": [
    {
     "data": {
      "text/plain": [
       "(9000, 51)"
      ]
     },
     "execution_count": 3,
     "metadata": {},
     "output_type": "execute_result"
    }
   ],
   "source": [
    "df.shape"
   ]
  },
  {
   "cell_type": "code",
   "execution_count": 4,
   "id": "793a4052-596c-4fdc-a417-acbf98fec260",
   "metadata": {},
   "outputs": [
    {
     "data": {
      "text/plain": [
       "<bound method DataFrame.info of           mfcc_1      mfcc_2      mfcc_3     mfcc_4     mfcc_5     mfcc_6  \\\n",
       "0    -436.866821  143.990936   74.952354  45.915867  33.583057  29.956610   \n",
       "1    -369.858307  125.310371   72.073753  50.019867  36.092926  30.252110   \n",
       "2    -453.349518  113.330528   76.104362  50.643452  42.205036  40.748249   \n",
       "3    -411.235504  116.592606   75.703476  47.744938  35.118542  29.894009   \n",
       "4    -395.125549  146.027084   81.780304  48.816242  33.849194  31.080847   \n",
       "...          ...         ...         ...        ...        ...        ...   \n",
       "8995 -170.988900  208.548900  -95.111750  31.437998 -34.982487  -3.055256   \n",
       "8996 -445.657200  170.794540   38.628956  31.480406  12.929362  33.918636   \n",
       "8997 -173.931100  225.113630 -121.169975  17.288454 -13.494496 -11.085254   \n",
       "8998 -474.502300  172.619000   35.576990  25.952785  12.924660  32.762737   \n",
       "8999 -247.981190  190.959850   -7.036764  34.192413   6.349187  12.332376   \n",
       "\n",
       "         mfcc_7     mfcc_8     mfcc_9    mfcc_10  ...   mfcc_42   mfcc_43  \\\n",
       "0     26.838007  20.699930   5.734432  -5.188647  ...  0.621984  2.390124   \n",
       "1     26.472021  20.862949   7.156805  -3.059122  ...  0.209663  1.286814   \n",
       "2     35.761971  23.395164  11.045970   5.779365  ...  0.150447 -0.024921   \n",
       "3     26.577066  19.005384   6.743745  -2.823582  ... -0.908139  0.664720   \n",
       "4     28.315842  19.993208   5.521650  -3.929691  ... -0.717036  0.107550   \n",
       "...         ...        ...        ...        ...  ...       ...       ...   \n",
       "8995   1.168493 -20.571062  11.436257 -18.400883  ... -2.387195 -0.608034   \n",
       "8996  26.096716  28.349243   3.026161  -2.493732  ...  0.871266  1.258076   \n",
       "8997  -3.848992 -13.637547   9.479078 -23.499775  ... -4.868050  0.386600   \n",
       "8998  22.887897  35.366700   1.870371  -2.310633  ...  1.612635  1.285862   \n",
       "8999  -0.919341   8.426827  -3.560750   5.375006  ... -1.757113 -0.504500   \n",
       "\n",
       "       mfcc_44   mfcc_45   mfcc_46   mfcc_47   mfcc_48   mfcc_49   mfcc_50  \\\n",
       "0     1.093027 -0.793136 -0.816981  0.852164  1.310620  0.430673 -1.070722   \n",
       "1     1.113936  1.121534  1.029903  1.475248  1.835722  0.796364  0.268943   \n",
       "2     0.198790  0.637822  0.491276 -0.280820 -1.356595 -2.225216 -2.226065   \n",
       "3     0.638030  0.245853  0.599790  0.916136  0.060173 -1.450863 -2.059958   \n",
       "4    -0.071472  0.587501  0.518218  1.213491  1.460647  0.447718  0.402936   \n",
       "...        ...       ...       ...       ...       ...       ...       ...   \n",
       "8995 -4.351969 -0.638857 -3.493637 -2.589549 -1.401939 -3.672604 -0.555998   \n",
       "8996  4.152141  3.298011 -1.357741  0.733067  0.738750 -1.288843 -0.883696   \n",
       "8997 -0.154787 -1.465440  1.555848 -0.959064  1.466251 -2.061570 -0.325558   \n",
       "8998  3.874604  2.885825 -2.058639  0.857671  0.667728 -0.343715  0.680497   \n",
       "8999 -0.598234 -1.930331 -0.755940 -0.770002  0.885600 -0.470559 -2.394865   \n",
       "\n",
       "      category_03  \n",
       "0             항타기  \n",
       "1             항타기  \n",
       "2             항타기  \n",
       "3             항타기  \n",
       "4             항타기  \n",
       "...           ...  \n",
       "8995        차량주행음  \n",
       "8996        차량주행음  \n",
       "8997        차량주행음  \n",
       "8998        차량주행음  \n",
       "8999        차량주행음  \n",
       "\n",
       "[9000 rows x 51 columns]>"
      ]
     },
     "execution_count": 4,
     "metadata": {},
     "output_type": "execute_result"
    }
   ],
   "source": [
    "df.info"
   ]
  },
  {
   "cell_type": "code",
   "execution_count": 5,
   "id": "c448cb8d-1917-46c5-82fa-90d5f06e14be",
   "metadata": {},
   "outputs": [
    {
     "data": {
      "text/plain": [
       "차량사이렌     1500\n",
       "이륜차주행음    1500\n",
       "차량주행음     1500\n",
       "이륜차경적     1500\n",
       "차량경적      1500\n",
       "고양이        250\n",
       "발전기        250\n",
       "개          250\n",
       "공구         250\n",
       "항타기        250\n",
       "콘크리트펌프     250\n",
       "Name: category_03, dtype: int64"
      ]
     },
     "execution_count": 5,
     "metadata": {},
     "output_type": "execute_result"
    }
   ],
   "source": [
    "df['category_03'].value_counts()"
   ]
  },
  {
   "cell_type": "markdown",
   "id": "b77c9437-4dea-40dd-bf42-bd36b998ed4a",
   "metadata": {},
   "source": [
    "## final_training_data_sampled_1500_category_03.csv"
   ]
  },
  {
   "cell_type": "code",
   "execution_count": 6,
   "id": "a8ea9a2a-cbd1-4afc-aa62-f0da3966ba13",
   "metadata": {},
   "outputs": [],
   "source": [
    "#학습 데이터 준비\n",
    "df2 = pd.read_csv(\"final_training_data_sampled_1500_category_03.csv\", encoding='utf-8')\n",
    "feature_cols = [f'mfcc_{i}' for i in range(1, 51)]\n",
    "df2 = df2[feature_cols + ['category_03']]"
   ]
  },
  {
   "cell_type": "code",
   "execution_count": 7,
   "id": "1e34b7da-4aaa-4210-a126-f6d161417f06",
   "metadata": {},
   "outputs": [
    {
     "data": {
      "text/plain": [
       "(16500, 51)"
      ]
     },
     "execution_count": 7,
     "metadata": {},
     "output_type": "execute_result"
    }
   ],
   "source": [
    "df2.shape"
   ]
  },
  {
   "cell_type": "code",
   "execution_count": 8,
   "id": "9911050b-a193-4bf2-809e-56e2670c330f",
   "metadata": {},
   "outputs": [
    {
     "data": {
      "text/plain": [
       "차량사이렌     1500\n",
       "고양이       1500\n",
       "공구        1500\n",
       "이륜차주행음    1500\n",
       "차량경적      1500\n",
       "발전기       1500\n",
       "개         1500\n",
       "항타기       1500\n",
       "차량주행음     1500\n",
       "이륜차경적     1500\n",
       "콘크리트펌프    1500\n",
       "Name: category_03, dtype: int64"
      ]
     },
     "execution_count": 8,
     "metadata": {},
     "output_type": "execute_result"
    }
   ],
   "source": [
    "df2['category_03'].value_counts()"
   ]
  },
  {
   "cell_type": "markdown",
   "id": "f99bd144-7474-4715-b7d7-c63b75b4b493",
   "metadata": {},
   "source": [
    "# 모델 생성"
   ]
  },
  {
   "cell_type": "markdown",
   "id": "449aec16-cea2-4e4e-ba11-6a89faef0790",
   "metadata": {},
   "source": [
    "## LightGBM"
   ]
  },
  {
   "cell_type": "markdown",
   "id": "4419bae5-8e7d-4b1d-b1be-1c5e9e379bb1",
   "metadata": {},
   "source": [
    "## final_training_data_sampled_1500_ood_label"
   ]
  },
  {
   "cell_type": "code",
   "execution_count": 9,
   "id": "badb38b0-39a1-497e-9cad-1032c4faad6c",
   "metadata": {},
   "outputs": [
    {
     "name": "stdout",
     "output_type": "stream",
     "text": [
      "Accuracy: 0.9261\n",
      "Classification Report:\n",
      "               precision    recall  f1-score   support\n",
      "\n",
      "        기타소음       0.95      0.95      0.95       300\n",
      "       이륜차경적       0.99      0.91      0.94       300\n",
      "      이륜차주행음       0.86      0.90      0.88       300\n",
      "        차량경적       0.92      0.94      0.93       300\n",
      "       차량사이렌       0.95      0.96      0.95       300\n",
      "       차량주행음       0.90      0.90      0.90       300\n",
      "\n",
      "    accuracy                           0.93      1800\n",
      "   macro avg       0.93      0.93      0.93      1800\n",
      "weighted avg       0.93      0.93      0.93      1800\n",
      "\n",
      "Confusion Matrix:\n",
      " [[284   0   4   1  10   1]\n",
      " [  4 272   4  20   0   0]\n",
      " [  6   0 271   1   2  20]\n",
      " [  0   4  12 281   0   3]\n",
      " [  3   0   2   2 288   5]\n",
      " [  2   0  23   0   4 271]]\n"
     ]
    }
   ],
   "source": [
    "# 소음 카테고리 변환 함수\n",
    "def categorize_noise(category):\n",
    "    if category in ['이륜차경적']:\n",
    "        return '이륜차경적'\n",
    "    elif category in ['이륜차주행음']:\n",
    "        return '이륜차주행음'\n",
    "    elif category in ['차량사이렌']:\n",
    "        return '차량사이렌'\n",
    "    elif category in ['차량주행음']:\n",
    "        return '차량주행음'\n",
    "    elif category in ['차량경적']:\n",
    "        return '차량경적'\n",
    "    else:\n",
    "        return '기타소음'\n",
    "\n",
    "df['label'] = df['category_03'].apply(categorize_noise)\n",
    "df = df.drop('category_03', axis=1)\n",
    "\n",
    "X = df[feature_cols].values  # MFCC 특징 값\n",
    "y = df['label'].values       # 레이블\n",
    "\n",
    "# 레이블 인코딩 (문자 → 숫자)\n",
    "label_encoder = LabelEncoder()\n",
    "y_encoded = label_encoder.fit_transform(y)\n",
    "\n",
    "# 데이터셋 분할 (훈련:테스트 = 80:20)\n",
    "X_train, X_test, y_train, y_test = train_test_split(X, y_encoded, test_size=0.2, random_state=42, stratify=y_encoded)\n",
    "\n",
    "# LightGBM 모델 정의 및 학습\n",
    "model = RandomForestClassifier(n_estimators=100, max_depth=None, random_state=42)\n",
    "model.fit(X_train, y_train)\n",
    "\n",
    "# 테스트 데이터에 대한 예측 수행\n",
    "y_pred = model.predict(X_test)\n",
    "\n",
    "# 정확도 출력\n",
    "accuracy = accuracy_score(y_test, y_pred)\n",
    "print(f\"Accuracy: {accuracy:.4f}\")\n",
    "\n",
    "# 분류 보고서 출력\n",
    "class_names = label_encoder.classes_\n",
    "report = classification_report(y_test, y_pred, target_names=class_names)\n",
    "print(\"Classification Report:\\n\", report)\n",
    "\n",
    "# 혼동 행렬 출력\n",
    "conf_matrix = confusion_matrix(y_test, y_pred)\n",
    "print(\"Confusion Matrix:\\n\", conf_matrix)\n"
   ]
  },
  {
   "cell_type": "code",
   "execution_count": 10,
   "id": "4d880a78-41ae-45c3-8d5c-8bf150f26b57",
   "metadata": {},
   "outputs": [
    {
     "data": {
      "text/plain": [
       "차량사이렌     1500\n",
       "기타소음      1500\n",
       "이륜차주행음    1500\n",
       "차량주행음     1500\n",
       "이륜차경적     1500\n",
       "차량경적      1500\n",
       "Name: label, dtype: int64"
      ]
     },
     "execution_count": 10,
     "metadata": {},
     "output_type": "execute_result"
    }
   ],
   "source": [
    "df['label'].value_counts()"
   ]
  },
  {
   "cell_type": "markdown",
   "id": "743c7e20-7272-42e7-b248-4ab744096107",
   "metadata": {},
   "source": [
    "### 모델 저장 - final_training_data_sampled_1500_ood_label"
   ]
  },
  {
   "cell_type": "code",
   "execution_count": 12,
   "id": "0b0e1796-51e6-4d3d-a92f-25b77312c11f",
   "metadata": {},
   "outputs": [
    {
     "name": "stdout",
     "output_type": "stream",
     "text": [
      "모델이 rf_6classfication_ood_label.pkl 파일로 저장되었습니다.\n",
      "모델이 성공적으로 로드되었습니다.\n"
     ]
    }
   ],
   "source": [
    "# ✅ 랜덤 포레스트 모델 저장\n",
    "joblib.dump(model, 'rf_6classfication_ood_label.pkl')\n",
    "print(\"모델이 rf_6classfication_ood_label.pkl 파일로 저장되었습니다.\")\n",
    "\n",
    "# ✅ 모델 로드 테스트\n",
    "rf_model = joblib.load('rf_6classfication_ood_label.pkl')\n",
    "print(\"모델이 성공적으로 로드되었습니다.\")"
   ]
  },
  {
   "cell_type": "markdown",
   "id": "ae53cb5a-27fd-49fe-a4b1-9c12873abd6f",
   "metadata": {},
   "source": [
    "### 새로운 wav 파일 분류 함수"
   ]
  },
  {
   "cell_type": "code",
   "execution_count": 34,
   "id": "7e9a30c0-5e9a-4f24-82f8-fbc631a4d578",
   "metadata": {},
   "outputs": [],
   "source": [
    "def classify_audio(audio_path):\n",
    "    try:\n",
    "        # 음원 파일 로드\n",
    "        y, sr = librosa.load(audio_path, sr=44100)\n",
    "\n",
    "        # MFCC 특징 추출\n",
    "        mfccs = librosa.feature.mfcc(y=y, sr=sr, n_mfcc=50)\n",
    "\n",
    "        # MFCC 평균값 사용\n",
    "        mfccs_processed = np.mean(mfccs, axis=1).reshape(1, -1)\n",
    "\n",
    "        # 예측 수행\n",
    "        predicted_label_encoded = model.predict(mfccs_processed)[0]\n",
    "        predicted_label = label_encoder.inverse_transform([predicted_label_encoded])[0]\n",
    "\n",
    "        return predicted_label\n",
    "\n",
    "    except Exception as e:\n",
    "        print(f\"Error processing audio file: {e}\")\n",
    "        return \"Unknown\""
   ]
  },
  {
   "cell_type": "markdown",
   "id": "cc29a1fa-569e-4519-b27d-cca5cb9a1c0d",
   "metadata": {},
   "source": [
    "## final_training_data_sampled_1500_category_03"
   ]
  },
  {
   "cell_type": "code",
   "execution_count": 13,
   "id": "c836c546-492e-41cc-9417-dda9fffb08a7",
   "metadata": {},
   "outputs": [
    {
     "name": "stdout",
     "output_type": "stream",
     "text": [
      "Accuracy: 0.9424\n",
      "Classification Report:\n",
      "               precision    recall  f1-score   support\n",
      "\n",
      "        기타소음       0.95      1.00      0.97      1800\n",
      "       이륜차경적       0.99      0.92      0.95       300\n",
      "      이륜차주행음       0.91      0.73      0.81       300\n",
      "        차량경적       0.92      0.90      0.91       300\n",
      "       차량사이렌       0.98      0.94      0.96       300\n",
      "       차량주행음       0.87      0.89      0.88       300\n",
      "\n",
      "    accuracy                           0.94      3300\n",
      "   macro avg       0.94      0.90      0.92      3300\n",
      "weighted avg       0.94      0.94      0.94      3300\n",
      "\n",
      "Confusion Matrix:\n",
      " [[1794    0    1    3    0    2]\n",
      " [   7  275    2   16    0    0]\n",
      " [  50    0  220    3    2   25]\n",
      " [  12    4    4  271    2    7]\n",
      " [  12    0    1    0  282    5]\n",
      " [  17    0   14    0    1  268]]\n"
     ]
    }
   ],
   "source": [
    "import numpy as np\n",
    "import pandas as pd\n",
    "from sklearn.model_selection import train_test_split\n",
    "from sklearn.preprocessing import LabelEncoder\n",
    "from lightgbm import LGBMClassifier\n",
    "from sklearn.metrics import accuracy_score, classification_report, confusion_matrix\n",
    "\n",
    "# 소음 카테고리 변환 함수\n",
    "def categorize_noise(category):\n",
    "    if category in ['이륜차경적']:\n",
    "        return '이륜차경적'\n",
    "    elif category in ['이륜차주행음']:\n",
    "        return '이륜차주행음'\n",
    "    elif category in ['차량사이렌']:\n",
    "        return '차량사이렌'\n",
    "    elif category in ['차량주행음']:\n",
    "        return '차량주행음'\n",
    "    elif category in ['차량경적']:\n",
    "        return '차량경적'\n",
    "    else:\n",
    "        return '기타소음'\n",
    "\n",
    "df2['label'] = df2['category_03'].apply(categorize_noise)\n",
    "df2 = df2.drop('category_03', axis=1)\n",
    "\n",
    "X = df2[feature_cols].values  # MFCC 특징 값\n",
    "y = df2['label'].values       # 레이블\n",
    "\n",
    "# 레이블 인코딩 (문자 → 숫자)\n",
    "label_encoder = LabelEncoder()\n",
    "y_encoded = label_encoder.fit_transform(y)\n",
    "\n",
    "# 데이터셋 분할 (훈련:테스트 = 80:20)\n",
    "X_train, X_test, y_train, y_test = train_test_split(X, y_encoded, test_size=0.2, random_state=42, stratify=y_encoded)\n",
    "\n",
    "# LightGBM 모델 정의 및 학습\n",
    "model2 = RandomForestClassifier(n_estimators=100, max_depth=None, random_state=42)\n",
    "model2.fit(X_train, y_train)\n",
    "\n",
    "# 테스트 데이터에 대한 예측 수행\n",
    "y_pred = model2.predict(X_test)\n",
    "\n",
    "# 정확도 출력\n",
    "accuracy = accuracy_score(y_test, y_pred)\n",
    "print(f\"Accuracy: {accuracy:.4f}\")\n",
    "\n",
    "# 분류 보고서 출력\n",
    "class_names = label_encoder.classes_\n",
    "report = classification_report(y_test, y_pred, target_names=class_names)\n",
    "print(\"Classification Report:\\n\", report)\n",
    "\n",
    "# 혼동 행렬 출력\n",
    "conf_matrix = confusion_matrix(y_test, y_pred)\n",
    "print(\"Confusion Matrix:\\n\", conf_matrix)"
   ]
  },
  {
   "cell_type": "code",
   "execution_count": 14,
   "id": "2a166068-a8a0-4a75-81e6-ee8d432eaa58",
   "metadata": {},
   "outputs": [
    {
     "data": {
      "text/plain": [
       "기타소음      9000\n",
       "차량사이렌     1500\n",
       "이륜차주행음    1500\n",
       "차량경적      1500\n",
       "차량주행음     1500\n",
       "이륜차경적     1500\n",
       "Name: label, dtype: int64"
      ]
     },
     "execution_count": 14,
     "metadata": {},
     "output_type": "execute_result"
    }
   ],
   "source": [
    "df2['label'].value_counts()"
   ]
  },
  {
   "cell_type": "markdown",
   "id": "e10620ad-9810-4fc3-9285-5ef467c1e8b5",
   "metadata": {},
   "source": [
    "### 모델 저장 - final_training_data_sampled_1500_category_03"
   ]
  },
  {
   "cell_type": "code",
   "execution_count": 15,
   "id": "ba9f0f33-fb90-49f6-b330-e6b211babb80",
   "metadata": {},
   "outputs": [
    {
     "name": "stdout",
     "output_type": "stream",
     "text": [
      "모델이 rf_6classfication_category_03.pkl 파일로 저장되었습니다.\n",
      "모델이 성공적으로 로드되었습니다.\n"
     ]
    }
   ],
   "source": [
    "import joblib\n",
    "\n",
    "# 모델 저장\n",
    "joblib.dump(model2, 'rf_6classfication_category_03.pkl')\n",
    "print(\"모델이 rf_6classfication_category_03.pkl 파일로 저장되었습니다.\")\n",
    "\n",
    "# LightGBM 모델 로드\n",
    "model2 = joblib.load('rf_6classfication_category_03.pkl')\n",
    "print(\"모델이 성공적으로 로드되었습니다.\")"
   ]
  },
  {
   "cell_type": "markdown",
   "id": "4c1e85db-5f12-49b1-9aaf-360371d8530b",
   "metadata": {},
   "source": [
    "### 새로운 wav 파일 분류 함수"
   ]
  },
  {
   "cell_type": "code",
   "execution_count": 16,
   "id": "39041f4f-c4cf-453f-a146-60481a176fbe",
   "metadata": {},
   "outputs": [],
   "source": [
    "# def classify_audio(audio_path):\n",
    "#     try:\n",
    "#         # 음원 파일 로드\n",
    "#         y, sr = librosa.load(audio_path, sr=44100)\n",
    "\n",
    "#         # MFCC 특징 추출\n",
    "#         mfccs = librosa.feature.mfcc(y=y, sr=sr, n_mfcc=50)\n",
    "\n",
    "#         # MFCC 평균값 사용\n",
    "#         mfccs_processed = np.mean(mfccs, axis=1).reshape(1, -1)\n",
    "\n",
    "#         # 예측 수행\n",
    "#         predicted_label_encoded = model2.predict(mfccs_processed)[0]\n",
    "#         predicted_label = label_encoder.inverse_transform([predicted_label_encoded])[0]\n",
    "\n",
    "#         return predicted_label\n",
    "\n",
    "#     except Exception as e:\n",
    "#         print(f\"Error processing audio file: {e}\")\n",
    "#         return \"Unknown\""
   ]
  },
  {
   "cell_type": "markdown",
   "id": "2dac2d8b-cd4d-474f-89c7-e678364508cf",
   "metadata": {},
   "source": [
    "# wav 파일 분류 테스트"
   ]
  },
  {
   "cell_type": "markdown",
   "id": "c698d007-e120-4a7f-8e58-b9f5c42014f5",
   "metadata": {},
   "source": [
    "## 기타소음"
   ]
  },
  {
   "cell_type": "markdown",
   "id": "44f180ef-d9a5-4f60-96ae-2ba57292bd9e",
   "metadata": {},
   "source": [
    "### 고양이"
   ]
  },
  {
   "cell_type": "code",
   "execution_count": 37,
   "id": "a5f6d5a4-8249-4813-be6b-510b1e614ed6",
   "metadata": {},
   "outputs": [
    {
     "name": "stderr",
     "output_type": "stream",
     "text": [
      "100%|██████████| 274/274 [00:19<00:00, 14.02it/s]"
     ]
    },
    {
     "name": "stdout",
     "output_type": "stream",
     "text": [
      "Classification completed. Results saved to 'cat.csv'\n"
     ]
    },
    {
     "name": "stderr",
     "output_type": "stream",
     "text": [
      "\n"
     ]
    }
   ],
   "source": [
    "folder_path = \"/home/ubuntu/data/etc_noise_data_test_04/동물/15.고양이\"\n",
    "results = []\n",
    "\n",
    "for filename in tqdm(os.listdir(folder_path)):\n",
    "    if filename.endswith(\".wav\"):\n",
    "        file_path = os.path.join(folder_path, filename)\n",
    "        predicted_label = classify_audio(file_path)\n",
    "        results.append({\"File\": filename, \"Predicted Label\": predicted_label})\n",
    "\n",
    "# 5. 결과를 DataFrame으로 변환하고 CSV로 저장\n",
    "results_df_cat = pd.DataFrame(results)\n",
    "results_df_cat.to_csv(\"cat.csv\", index=False)\n",
    "print(\"Classification completed. Results saved to 'cat.csv'\")"
   ]
  },
  {
   "cell_type": "code",
   "execution_count": 57,
   "id": "eb3b05ae-f805-4b56-a9f2-dba96b86e90d",
   "metadata": {},
   "outputs": [
    {
     "data": {
      "text/plain": [
       "기타소음      269\n",
       "차량사이렌       4\n",
       "이륜차주행음      1\n",
       "Name: Predicted Label, dtype: int64"
      ]
     },
     "execution_count": 57,
     "metadata": {},
     "output_type": "execute_result"
    }
   ],
   "source": [
    "results_df_cat['Predicted Label'].value_counts()"
   ]
  },
  {
   "cell_type": "code",
   "execution_count": 25,
   "id": "f664effd-8c60-493c-ba28-623e11740e9f",
   "metadata": {},
   "outputs": [
    {
     "name": "stdout",
     "output_type": "stream",
     "text": [
      "Total Files: 274\n",
      "'기타소음' Count: 269\n",
      "'기타소음' Ratio: 98.18%\n"
     ]
    }
   ],
   "source": [
    "# '기타소음'의 개수와 비율 계산\n",
    "total_files = len(results_df_cat)  # 전체 파일 개수\n",
    "etc_noise_count = results_df_cat[results_df_cat['Predicted Label'] == '기타소음'].shape[0]  # '기타소음'으로 분류된 파일 개수\n",
    "etc_noise_ratio = (etc_noise_count / total_files) * 100  # 비율 계산\n",
    "\n",
    "# 결과 출력\n",
    "print(f\"Total Files: {total_files}\")\n",
    "print(f\"'기타소음' Count: {etc_noise_count}\")\n",
    "print(f\"'기타소음' Ratio: {etc_noise_ratio:.2f}%\")"
   ]
  },
  {
   "cell_type": "markdown",
   "id": "00ca8ad8",
   "metadata": {},
   "source": [
    "### 항공기"
   ]
  },
  {
   "cell_type": "code",
   "execution_count": 22,
   "id": "92ebccdf",
   "metadata": {},
   "outputs": [
    {
     "name": "stderr",
     "output_type": "stream",
     "text": [
      "100%|██████████| 191/191 [00:59<00:00,  3.20it/s]"
     ]
    },
    {
     "name": "stdout",
     "output_type": "stream",
     "text": [
      "Classification completed. Results saved to 'airplane.csv'\n"
     ]
    },
    {
     "name": "stderr",
     "output_type": "stream",
     "text": [
      "\n"
     ]
    }
   ],
   "source": [
    "folder_path = \"/home/ubuntu/data/etc_noise_data_test_04/교통소음/3.항공기/6.비행기\"\n",
    "results = []\n",
    "\n",
    "for filename in tqdm(os.listdir(folder_path)):\n",
    "    if filename.endswith(\".wav\"):\n",
    "        file_path = os.path.join(folder_path, filename)\n",
    "        predicted_label = classify_audio(file_path)\n",
    "        results.append({\"File\": filename, \"Predicted Label\": predicted_label})\n",
    "\n",
    "# 5. 결과를 DataFrame으로 변환하고 CSV로 저장\n",
    "results_df_airplane = pd.DataFrame(results)\n",
    "results_df_airplane.to_csv(\"airplane.csv\", index=False)\n",
    "print(\"Classification completed. Results saved to 'airplane.csv'\")"
   ]
  },
  {
   "cell_type": "code",
   "execution_count": 58,
   "id": "8851b253-db48-47ef-ad1a-6cecebb59f2a",
   "metadata": {},
   "outputs": [
    {
     "data": {
      "text/plain": [
       "기타소음      172\n",
       "이륜차주행음     11\n",
       "차량주행음       7\n",
       "차량사이렌       1\n",
       "Name: Predicted Label, dtype: int64"
      ]
     },
     "execution_count": 58,
     "metadata": {},
     "output_type": "execute_result"
    }
   ],
   "source": [
    "results_df_airplane['Predicted Label'].value_counts()"
   ]
  },
  {
   "cell_type": "code",
   "execution_count": 23,
   "id": "764059f8-07fc-4862-adc4-df50e8ea1e53",
   "metadata": {},
   "outputs": [
    {
     "name": "stdout",
     "output_type": "stream",
     "text": [
      "Total Files: 191\n",
      "'기타소음' Count: 172\n",
      "'기타소음' Ratio: 90.05%\n"
     ]
    }
   ],
   "source": [
    "# '기타소음'의 개수와 비율 계산\n",
    "total_files = len(results_df_airplane)  # 전체 파일 개수\n",
    "etc_noise_count = results_df_airplane[results_df_airplane['Predicted Label'] == '기타소음'].shape[0]  # '기타소음'으로 분류된 파일 개수\n",
    "etc_noise_ratio = (etc_noise_count / total_files) * 100  # 비율 계산\n",
    "\n",
    "# 결과 출력\n",
    "print(f\"Total Files: {total_files}\")\n",
    "print(f\"'기타소음' Count: {etc_noise_count}\")\n",
    "print(f\"'기타소음' Ratio: {etc_noise_ratio:.2f}%\")"
   ]
  },
  {
   "cell_type": "markdown",
   "id": "1033c4f5-a370-4e3d-afb9-90a573e8b1f6",
   "metadata": {},
   "source": [
    "### 헬리콥터"
   ]
  },
  {
   "cell_type": "code",
   "execution_count": 27,
   "id": "12bb0e5d-4b87-4855-a0c3-35d758d921f1",
   "metadata": {},
   "outputs": [
    {
     "name": "stderr",
     "output_type": "stream",
     "text": [
      "100%|██████████| 435/435 [00:53<00:00,  8.12it/s]"
     ]
    },
    {
     "name": "stdout",
     "output_type": "stream",
     "text": [
      "Classification completed. Results saved to 'helicopter.csv'\n"
     ]
    },
    {
     "name": "stderr",
     "output_type": "stream",
     "text": [
      "\n"
     ]
    }
   ],
   "source": [
    "folder_path = \"/home/ubuntu/data/etc_noise_data_test_04/교통소음/3.항공기/7.헬리콥터\"\n",
    "results = []\n",
    "\n",
    "for filename in tqdm(os.listdir(folder_path)):\n",
    "    if filename.endswith(\".wav\"):\n",
    "        file_path = os.path.join(folder_path, filename)\n",
    "        predicted_label = classify_audio(file_path)\n",
    "        results.append({\"File\": filename, \"Predicted Label\": predicted_label})\n",
    "\n",
    "# 5. 결과를 DataFrame으로 변환하고 CSV로 저장\n",
    "results_df_helicopter = pd.DataFrame(results)\n",
    "results_df_helicopter.to_csv(\"helicopter.csv\", index=False)\n",
    "print(\"Classification completed. Results saved to 'helicopter.csv'\")"
   ]
  },
  {
   "cell_type": "code",
   "execution_count": 59,
   "id": "83a81ea4-a36d-4b88-a863-123842798674",
   "metadata": {},
   "outputs": [
    {
     "data": {
      "text/plain": [
       "기타소음     434\n",
       "차량사이렌      1\n",
       "Name: Predicted Label, dtype: int64"
      ]
     },
     "execution_count": 59,
     "metadata": {},
     "output_type": "execute_result"
    }
   ],
   "source": [
    "results_df_helicopter['Predicted Label'].value_counts()"
   ]
  },
  {
   "cell_type": "code",
   "execution_count": 28,
   "id": "57c04930-61f1-4a0c-9a0c-8ae67136038a",
   "metadata": {},
   "outputs": [
    {
     "name": "stdout",
     "output_type": "stream",
     "text": [
      "Total Files: 435\n",
      "'기타소음' Count: 434\n",
      "'기타소음' Ratio: 99.77%\n"
     ]
    }
   ],
   "source": [
    "# '기타소음'의 개수와 비율 계산\n",
    "total_files = len(results_df_helicopter)  # 전체 파일 개수\n",
    "etc_noise_count = results_df_helicopter[results_df_helicopter['Predicted Label'] == '기타소음'].shape[0]  # '기타소음'으로 분류된 파일 개수\n",
    "etc_noise_ratio = (etc_noise_count / total_files) * 100  # 비율 계산\n",
    "\n",
    "# 결과 출력\n",
    "print(f\"Total Files: {total_files}\")\n",
    "print(f\"'기타소음' Count: {etc_noise_count}\")\n",
    "print(f\"'기타소음' Ratio: {etc_noise_ratio:.2f}%\")"
   ]
  },
  {
   "cell_type": "markdown",
   "id": "47cee9b5-d114-451d-b0fe-cb1657da67ab",
   "metadata": {},
   "source": [
    "### 가전 청소기"
   ]
  },
  {
   "cell_type": "code",
   "execution_count": 30,
   "id": "e3eea1d3-8a69-41d2-8a38-88e0ceecfbd1",
   "metadata": {},
   "outputs": [
    {
     "name": "stderr",
     "output_type": "stream",
     "text": [
      "100%|██████████| 102/102 [00:48<00:00,  2.12it/s]"
     ]
    },
    {
     "name": "stdout",
     "output_type": "stream",
     "text": [
      "Classification completed. Results saved to 'vacuum.csv'\n"
     ]
    },
    {
     "name": "stderr",
     "output_type": "stream",
     "text": [
      "\n"
     ]
    }
   ],
   "source": [
    "folder_path = \"/home/ubuntu/data/etc_noise_data_test_04/가전/12.청소기\"\n",
    "results = []\n",
    "\n",
    "for filename in tqdm(os.listdir(folder_path)):\n",
    "    if filename.endswith(\".wav\"):\n",
    "        file_path = os.path.join(folder_path, filename)\n",
    "        predicted_label = classify_audio(file_path)\n",
    "        results.append({\"File\": filename, \"Predicted Label\": predicted_label})\n",
    "\n",
    "# 5. 결과를 DataFrame으로 변환하고 CSV로 저장\n",
    "results_df_vacuum = pd.DataFrame(results)\n",
    "results_df_vacuum.to_csv(\"vacuum.csv\", index=False)\n",
    "print(\"Classification completed. Results saved to 'vacuum.csv'\")"
   ]
  },
  {
   "cell_type": "code",
   "execution_count": 60,
   "id": "866304c4-3d5b-4b54-a3aa-4e03c54401b1",
   "metadata": {},
   "outputs": [
    {
     "data": {
      "text/plain": [
       "기타소음      97\n",
       "이륜차주행음     2\n",
       "차량경적       2\n",
       "이륜차경적      1\n",
       "Name: Predicted Label, dtype: int64"
      ]
     },
     "execution_count": 60,
     "metadata": {},
     "output_type": "execute_result"
    }
   ],
   "source": [
    "results_df_vacuum['Predicted Label'].value_counts()"
   ]
  },
  {
   "cell_type": "code",
   "execution_count": 31,
   "id": "6b5f548c-099a-46c4-b9ad-be302b7595ad",
   "metadata": {},
   "outputs": [
    {
     "name": "stdout",
     "output_type": "stream",
     "text": [
      "Total Files: 102\n",
      "'기타소음' Count: 97\n",
      "'기타소음' Ratio: 95.10%\n"
     ]
    }
   ],
   "source": [
    "# '기타소음'의 개수와 비율 계산\n",
    "total_files = len(results_df_vacuum)  # 전체 파일 개수\n",
    "etc_noise_count = results_df_vacuum[results_df_vacuum['Predicted Label'] == '기타소음'].shape[0]  # '기타소음'으로 분류된 파일 개수\n",
    "etc_noise_ratio = (etc_noise_count / total_files) * 100  # 비율 계산\n",
    "\n",
    "# 결과 출력\n",
    "print(f\"Total Files: {total_files}\")\n",
    "print(f\"'기타소음' Count: {etc_noise_count}\")\n",
    "print(f\"'기타소음' Ratio: {etc_noise_ratio:.2f}%\")"
   ]
  },
  {
   "cell_type": "markdown",
   "id": "9b417044",
   "metadata": {},
   "source": [
    "## 교통소음"
   ]
  },
  {
   "cell_type": "markdown",
   "id": "fc0cab28-a711-48c7-8881-0653e74cd689",
   "metadata": {},
   "source": [
    "### 차량 사이렌"
   ]
  },
  {
   "cell_type": "code",
   "execution_count": 11,
   "id": "7a08555d",
   "metadata": {},
   "outputs": [
    {
     "name": "stderr",
     "output_type": "stream",
     "text": [
      "100%|██████████| 249/249 [00:31<00:00,  7.91it/s]"
     ]
    },
    {
     "name": "stdout",
     "output_type": "stream",
     "text": [
      "Classification completed. Results saved to 'car_siren.csv'\n"
     ]
    },
    {
     "name": "stderr",
     "output_type": "stream",
     "text": [
      "\n"
     ]
    }
   ],
   "source": [
    "folder_path = \"/home/ubuntu/data/test_data/raw_data_test/1.Car/2.siren_of_car\"\n",
    "results = []\n",
    "\n",
    "for filename in tqdm(os.listdir(folder_path)):\n",
    "    if filename.endswith(\".wav\"):\n",
    "        file_path = os.path.join(folder_path, filename)\n",
    "        predicted_label = classify_audio(file_path)\n",
    "        results.append({\"File\": filename, \"Predicted Label\": predicted_label})\n",
    "\n",
    "# 5. 결과를 DataFrame으로 변환하고 CSV로 저장\n",
    "results_df_car_siren = pd.DataFrame(results)\n",
    "results_df_car_siren.to_csv(\"car_siren.csv\", index=False)\n",
    "print(\"Classification completed. Results saved to 'car_siren.csv'\")"
   ]
  },
  {
   "cell_type": "code",
   "execution_count": 12,
   "id": "0e4248b0-fd4d-4806-8ef9-2ed3e5b9ae08",
   "metadata": {},
   "outputs": [
    {
     "data": {
      "text/plain": [
       "차량사이렌     240\n",
       "차량주행음       4\n",
       "이륜차주행음      3\n",
       "기타소음        1\n",
       "이륜차경적       1\n",
       "Name: Predicted Label, dtype: int64"
      ]
     },
     "execution_count": 12,
     "metadata": {},
     "output_type": "execute_result"
    }
   ],
   "source": [
    "results_df_car_siren['Predicted Label'].value_counts()"
   ]
  },
  {
   "cell_type": "code",
   "execution_count": 13,
   "id": "3f9027dd-bc1e-4a62-b58e-a189d8875336",
   "metadata": {},
   "outputs": [
    {
     "name": "stdout",
     "output_type": "stream",
     "text": [
      "Total Files: 249\n",
      "'차량사이렌' Count: 240\n",
      "'차량사이렌' Ratio: 96.39%\n"
     ]
    }
   ],
   "source": [
    "# '기타소음'의 개수와 비율 계산\n",
    "total_files = len(results_df_car_siren)  # 전체 파일 개수\n",
    "etc_noise_count = results_df_car_siren[results_df_car_siren['Predicted Label'] == '차량사이렌'].shape[0]  # '기타소음'으로 분류된 파일 개수\n",
    "etc_noise_ratio = (etc_noise_count / total_files) * 100  # 비율 계산\n",
    "\n",
    "# 결과 출력\n",
    "print(f\"Total Files: {total_files}\")\n",
    "print(f\"'차량사이렌' Count: {etc_noise_count}\")\n",
    "print(f\"'차량사이렌' Ratio: {etc_noise_ratio:.2f}%\")"
   ]
  },
  {
   "cell_type": "markdown",
   "id": "38bb0f8f",
   "metadata": {},
   "source": [
    "### 차량 경적"
   ]
  },
  {
   "cell_type": "code",
   "execution_count": 14,
   "id": "b32ebd7a",
   "metadata": {},
   "outputs": [
    {
     "name": "stderr",
     "output_type": "stream",
     "text": [
      "100%|██████████| 3189/3189 [05:27<00:00,  9.73it/s]"
     ]
    },
    {
     "name": "stdout",
     "output_type": "stream",
     "text": [
      "Classification completed. Results saved to 'car_horn.csv'\n"
     ]
    },
    {
     "name": "stderr",
     "output_type": "stream",
     "text": [
      "\n"
     ]
    }
   ],
   "source": [
    "folder_path = \"/home/ubuntu/data/raw_data/1.Car/1.horn_of_car\"\n",
    "results = []\n",
    "\n",
    "for filename in tqdm(os.listdir(folder_path)):\n",
    "    if filename.endswith(\".wav\"):\n",
    "        file_path = os.path.join(folder_path, filename)\n",
    "        predicted_label = classify_audio(file_path)\n",
    "        results.append({\"File\": filename, \"Predicted Label\": predicted_label})\n",
    "\n",
    "# 5. 결과를 DataFrame으로 변환하고 CSV로 저장\n",
    "results_df_car_horn = pd.DataFrame(results)\n",
    "results_df_car_horn.to_csv(\"car_horn.csv\", index=False)\n",
    "print(\"Classification completed. Results saved to 'car_horn.csv'\")"
   ]
  },
  {
   "cell_type": "code",
   "execution_count": 15,
   "id": "38c08578-d1e9-4b49-850f-0a29d6adf05d",
   "metadata": {},
   "outputs": [
    {
     "data": {
      "text/plain": [
       "차량경적      3157\n",
       "이륜차경적       16\n",
       "이륜차주행음      11\n",
       "차량사이렌        2\n",
       "기타소음         2\n",
       "차량주행음        1\n",
       "Name: Predicted Label, dtype: int64"
      ]
     },
     "execution_count": 15,
     "metadata": {},
     "output_type": "execute_result"
    }
   ],
   "source": [
    "results_df_car_horn['Predicted Label'].value_counts()"
   ]
  },
  {
   "cell_type": "code",
   "execution_count": 16,
   "id": "02e07bba-73fb-40bd-b73c-ed7f8e5740c9",
   "metadata": {},
   "outputs": [
    {
     "name": "stdout",
     "output_type": "stream",
     "text": [
      "Total Files: 3189\n",
      "'차량경적' Count: 3157\n",
      "'차량경적' Ratio: 99.00%\n"
     ]
    }
   ],
   "source": [
    "# '기타소음'의 개수와 비율 계산\n",
    "total_files = len(results_df_car_horn)  # 전체 파일 개수\n",
    "etc_noise_count = results_df_car_horn[results_df_car_horn['Predicted Label'] == '차량경적'].shape[0]  # '기타소음'으로 분류된 파일 개수\n",
    "etc_noise_ratio = (etc_noise_count / total_files) * 100  # 비율 계산\n",
    "\n",
    "# 결과 출력\n",
    "print(f\"Total Files: {total_files}\")\n",
    "print(f\"'차량경적' Count: {etc_noise_count}\")\n",
    "print(f\"'차량경적' Ratio: {etc_noise_ratio:.2f}%\")"
   ]
  },
  {
   "cell_type": "markdown",
   "id": "359a5d0b-8336-4e1c-be05-0b3f3090b1e1",
   "metadata": {},
   "source": [
    "### 차량 주행음"
   ]
  },
  {
   "cell_type": "code",
   "execution_count": 38,
   "id": "3fb8e9ae-f896-48f4-8fb3-1b1f3872ca23",
   "metadata": {},
   "outputs": [
    {
     "name": "stderr",
     "output_type": "stream",
     "text": [
      "100%|██████████| 227/227 [00:27<00:00,  8.24it/s]"
     ]
    },
    {
     "name": "stdout",
     "output_type": "stream",
     "text": [
      "Classification completed. Results saved to 'car_driving.csv'\n"
     ]
    },
    {
     "name": "stderr",
     "output_type": "stream",
     "text": [
      "\n"
     ]
    }
   ],
   "source": [
    "folder_path = \"/home/ubuntu/data/test_data/raw_data_test/1.Car/3.driving_sound_of_car\"\n",
    "results = []\n",
    "\n",
    "for filename in tqdm(os.listdir(folder_path)):\n",
    "    if filename.endswith(\".wav\"):\n",
    "        file_path = os.path.join(folder_path, filename)\n",
    "        predicted_label = classify_audio(file_path)\n",
    "        results.append({\"File\": filename, \"Predicted Label\": predicted_label})\n",
    "\n",
    "# 5. 결과를 DataFrame으로 변환하고 CSV로 저장\n",
    "results_df_car_driving = pd.DataFrame(results)\n",
    "results_df_car_driving.to_csv(\"car_driving.csv\", index=False)\n",
    "print(\"Classification completed. Results saved to 'car_driving.csv'\")"
   ]
  },
  {
   "cell_type": "code",
   "execution_count": null,
   "id": "1170284e-cb3d-42dd-8456-d6431b3c428d",
   "metadata": {},
   "outputs": [],
   "source": [
    "results_df_car_driving['Predicted Label'].value_counts()"
   ]
  },
  {
   "cell_type": "code",
   "execution_count": null,
   "id": "9772b060-f761-4ac8-a4ac-12d087e7289e",
   "metadata": {},
   "outputs": [],
   "source": [
    "# '기타소음'의 개수와 비율 계산\n",
    "total_files = len(results_df_car_driving)  # 전체 파일 개수\n",
    "etc_noise_count = results_df_car_driving[results_df_car_driving['Predicted Label'] == '차량주행음'].shape[0]  # '기타소음'으로 분류된 파일 개수\n",
    "etc_noise_ratio = (etc_noise_count / total_files) * 100  # 비율 계산\n",
    "\n",
    "# 결과 출력\n",
    "print(f\"Total Files: {total_files}\")\n",
    "print(f\"'차량주행음' Count: {etc_noise_count}\")\n",
    "print(f\"'차량주행음' Ratio: {etc_noise_ratio:.2f}%\")"
   ]
  },
  {
   "cell_type": "markdown",
   "id": "8fe461b9-ed12-4360-a937-4119060654ab",
   "metadata": {},
   "source": [
    "### 이륜차 경적"
   ]
  },
  {
   "cell_type": "code",
   "execution_count": null,
   "id": "8ca2add6-39d9-4f00-a34e-865b2701b450",
   "metadata": {},
   "outputs": [],
   "source": [
    "folder_path = \"/home/ubuntu/data/test_data/raw_data_test/2.Motorcycle/4.horn_of_motorcycle\"\n",
    "results = []\n",
    "\n",
    "for filename in tqdm(os.listdir(folder_path)):\n",
    "    if filename.endswith(\".wav\"):\n",
    "        file_path = os.path.join(folder_path, filename)\n",
    "        predicted_label = classify_audio(file_path)\n",
    "        results.append({\"File\": filename, \"Predicted Label\": predicted_label})\n",
    "\n",
    "# 5. 결과를 DataFrame으로 변환하고 CSV로 저장\n",
    "results_df_motorcycle_horn = pd.DataFrame(results)\n",
    "results_df_motorcycle_horn.to_csv(\"motorcycle_horn.csv\", index=False)\n",
    "print(\"Classification completed. Results saved to 'motorcycle_horn.csv'\")"
   ]
  },
  {
   "cell_type": "code",
   "execution_count": null,
   "id": "0fb240be-bb65-450a-a998-0b5e90ce6df6",
   "metadata": {},
   "outputs": [],
   "source": [
    "results_df_motorcycle_horn['Predicted Label'].value_counts()"
   ]
  },
  {
   "cell_type": "code",
   "execution_count": null,
   "id": "6e8c888d-ab95-4692-8561-fc98b2dbfbc4",
   "metadata": {},
   "outputs": [],
   "source": [
    "# '기타소음'의 개수와 비율 계산\n",
    "total_files = len(results_df_motorcycle_horn)  # 전체 파일 개수\n",
    "etc_noise_count = results_df_motorcycle_horn[results_df_motorcycle_horn['Predicted Label'] == '이륜차경적'].shape[0]  # '기타소음'으로 분류된 파일 개수\n",
    "etc_noise_ratio = (etc_noise_count / total_files) * 100  # 비율 계산\n",
    "\n",
    "# 결과 출력\n",
    "print(f\"Total Files: {total_files}\")\n",
    "print(f\"'이륜차경적' Count: {etc_noise_count}\")\n",
    "print(f\"'이륜차경적' Ratio: {etc_noise_ratio:.2f}%\")"
   ]
  },
  {
   "cell_type": "markdown",
   "id": "e345929e-69f5-4375-8d2d-a74a3046f154",
   "metadata": {},
   "source": [
    "### 이륜차 주행음"
   ]
  },
  {
   "cell_type": "code",
   "execution_count": null,
   "id": "790b7294-918c-42c4-a668-bacaed714c0a",
   "metadata": {},
   "outputs": [],
   "source": [
    "folder_path = \"/home/ubuntu/data/test_data/raw_data_test/2.Motorcycle/5.driving_sound_of_motorcycle\"\n",
    "results = []\n",
    "\n",
    "for filename in tqdm(os.listdir(folder_path)):\n",
    "    if filename.endswith(\".wav\"):\n",
    "        file_path = os.path.join(folder_path, filename)\n",
    "        predicted_label = classify_audio(file_path)\n",
    "        results.append({\"File\": filename, \"Predicted Label\": predicted_label})\n",
    "\n",
    "# 5. 결과를 DataFrame으로 변환하고 CSV로 저장\n",
    "results_df_motorcycle_driving = pd.DataFrame(results)\n",
    "results_df_motorcycle_driving.to_csv(\"motorcycle_driving.csv\", index=False)\n",
    "print(\"Classification completed. Results saved to 'motorcycle_driving.csv'\")"
   ]
  },
  {
   "cell_type": "code",
   "execution_count": null,
   "id": "d1ff1c90-fc34-4e56-8cd5-05655656f45a",
   "metadata": {},
   "outputs": [],
   "source": [
    "results_df_motorcycle_driving['Predicted Label'].value_counts()"
   ]
  },
  {
   "cell_type": "code",
   "execution_count": null,
   "id": "d24bd1cc-3c1f-4f6e-b57e-a01a4ff2998a",
   "metadata": {},
   "outputs": [],
   "source": [
    "# '기타소음'의 개수와 비율 계산\n",
    "total_files = len(results_df_motorcycle_driving)  # 전체 파일 개수\n",
    "etc_noise_count = results_df_motorcycle_driving[results_df_motorcycle_driving['Predicted Label'] == '이륜차주행음'].shape[0]  # '기타소음'으로 분류된 파일 개수\n",
    "etc_noise_ratio = (etc_noise_count / total_files) * 100  # 비율 계산\n",
    "\n",
    "# 결과 출력\n",
    "print(f\"Total Files: {total_files}\")\n",
    "print(f\"'이륜차주행음' Count: {etc_noise_count}\")\n",
    "print(f\"'이륜차주행음' Ratio: {etc_noise_ratio:.2f}%\")"
   ]
  },
  {
   "cell_type": "code",
   "execution_count": null,
   "id": "acea947a-66c7-4515-abd7-00b79a3736d9",
   "metadata": {},
   "outputs": [],
   "source": []
  }
 ],
 "metadata": {
  "kernelspec": {
   "display_name": "Python(ml_env_python3.6)",
   "language": "python",
   "name": "ml_env_python3.6"
  },
  "language_info": {
   "codemirror_mode": {
    "name": "ipython",
    "version": 3
   },
   "file_extension": ".py",
   "mimetype": "text/x-python",
   "name": "python",
   "nbconvert_exporter": "python",
   "pygments_lexer": "ipython3",
   "version": "3.6.13"
  }
 },
 "nbformat": 4,
 "nbformat_minor": 5
}
