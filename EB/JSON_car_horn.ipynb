{
 "cells": [
  {
   "cell_type": "code",
   "execution_count": 1,
   "id": "1a11f87a",
   "metadata": {},
   "outputs": [
    {
     "name": "stderr",
     "output_type": "stream",
     "text": [
      "25/02/27 14:17:24 WARN NativeCodeLoader: Unable to load native-hadoop library for your platform... using builtin-java classes where applicable\n",
      "Using Spark's default log4j profile: org/apache/spark/log4j-defaults.properties\n",
      "Setting default log level to \"WARN\".\n",
      "To adjust logging level use sc.setLogLevel(newLevel). For SparkR, use setLogLevel(newLevel).\n",
      "25/02/27 14:17:25 WARN Utils: Service 'SparkUI' could not bind on port 4040. Attempting port 4041.\n"
     ]
    }
   ],
   "source": [
    "from pyspark.sql import SparkSession\n",
    "from pyspark.sql.functions import col, explode, expr, from_json, schema_of_json, to_json\n",
    "import config\n",
    "from config import DB_CONFIG, HDFS_CONFIG\n",
    "\n",
    "# MySQL JDBC 드라이버 경로\n",
    "mysql_driver_path = config.MYSQL_JDBC\n",
    "\n",
    "# SparkSession 생성\n",
    "spark = SparkSession.builder \\\n",
    "    .appName(\"HDFS_JSON_Car_Driving\") \\\n",
    "    .config(\"spark.hadoop.fs.defaultFS\", HDFS_CONFIG[\"defaultFS\"]) \\\n",
    "    .config(\"spark.jars\", mysql_driver_path) \\\n",
    "    .getOrCreate()"
   ]
  },
  {
   "cell_type": "code",
   "execution_count": 2,
   "id": "87602e93",
   "metadata": {},
   "outputs": [
    {
     "name": "stderr",
     "output_type": "stream",
     "text": [
      "                                                                                \r"
     ]
    }
   ],
   "source": [
    "# HDFS에서 JSON 파일 읽기\n",
    "file_path = f\"{config.HDFS_BASE_PATH}/label_data/1.Car/1.horn_of_car\"\n",
    "df = spark.read.json(file_path, multiLine=True)"
   ]
  },
  {
   "cell_type": "code",
   "execution_count": 3,
   "id": "2f669396",
   "metadata": {},
   "outputs": [
    {
     "name": "stderr",
     "output_type": "stream",
     "text": [
      "                                                                                \r"
     ]
    },
    {
     "data": {
      "text/plain": [
       "3189"
      ]
     },
     "execution_count": 3,
     "metadata": {},
     "output_type": "execute_result"
    }
   ],
   "source": [
    "df.count()"
   ]
  },
  {
   "cell_type": "code",
   "execution_count": 4,
   "id": "e28ecd11",
   "metadata": {},
   "outputs": [
    {
     "name": "stdout",
     "output_type": "stream",
     "text": [
      "root\n",
      " |-- annotations: array (nullable = true)\n",
      " |    |-- element: struct (containsNull = true)\n",
      " |    |    |-- area: struct (nullable = true)\n",
      " |    |    |    |-- end: double (nullable = true)\n",
      " |    |    |    |-- start: double (nullable = true)\n",
      " |    |    |-- categories: struct (nullable = true)\n",
      " |    |    |    |-- category_01: string (nullable = true)\n",
      " |    |    |    |-- category_02: string (nullable = true)\n",
      " |    |    |    |-- category_03: string (nullable = true)\n",
      " |    |    |-- decibel: long (nullable = true)\n",
      " |    |    |-- labelName: string (nullable = true)\n",
      " |    |    |-- soundQuality: string (nullable = true)\n",
      " |    |    |-- subCategory: string (nullable = true)\n",
      " |-- audio: struct (nullable = true)\n",
      " |    |-- bitRate: string (nullable = true)\n",
      " |    |-- duration: double (nullable = true)\n",
      " |    |-- fileFormat: string (nullable = true)\n",
      " |    |-- fileName: string (nullable = true)\n",
      " |    |-- fileSize: long (nullable = true)\n",
      " |    |-- recodingType: string (nullable = true)\n",
      " |    |-- sampleRate: string (nullable = true)\n",
      " |-- environment: struct (nullable = true)\n",
      " |    |-- acqDevice: string (nullable = true)\n",
      " |    |-- acqMethod: string (nullable = true)\n",
      " |    |-- acqType: string (nullable = true)\n",
      " |    |-- areaUse: string (nullable = true)\n",
      " |    |-- dayNight: string (nullable = true)\n",
      " |    |-- direction: string (nullable = true)\n",
      " |    |-- distance: string (nullable = true)\n",
      " |    |-- district: string (nullable = true)\n",
      " |    |-- gps: struct (nullable = true)\n",
      " |    |    |-- latitude: double (nullable = true)\n",
      " |    |    |-- longitude: double (nullable = true)\n",
      " |    |-- micClass: string (nullable = true)\n",
      " |    |-- obstacle: string (nullable = true)\n",
      " |    |-- place: string (nullable = true)\n",
      " |    |-- recordingTime: string (nullable = true)\n",
      " |    |-- urban: string (nullable = true)\n",
      " |    |-- weather: string (nullable = true)\n",
      " |-- info: struct (nullable = true)\n",
      " |    |-- contributor: string (nullable = true)\n",
      " |    |-- dateCreated: string (nullable = true)\n",
      " |    |-- description: string (nullable = true)\n",
      " |    |-- uri: string (nullable = true)\n",
      " |    |-- version: double (nullable = true)\n",
      " |    |-- year: long (nullable = true)\n",
      " |-- license: struct (nullable = true)\n",
      " |    |-- name: string (nullable = true)\n",
      " |    |-- url: string (nullable = true)\n",
      "\n"
     ]
    }
   ],
   "source": [
    "df.printSchema()"
   ]
  },
  {
   "cell_type": "code",
   "execution_count": 5,
   "id": "68888e19",
   "metadata": {},
   "outputs": [
    {
     "name": "stderr",
     "output_type": "stream",
     "text": [
      "25/02/27 11:36:35 WARN package: Truncated the string representation of a plan since it was too large. This behavior can be adjusted by setting 'spark.sql.debug.maxToStringFields'.\n"
     ]
    },
    {
     "name": "stdout",
     "output_type": "stream",
     "text": [
      "+----------+--------+-----------+-----------+-----------+-------+--------------------+------------+-----------+--------+--------+----------+------------------+--------+------------+----------+--------------+---------+-------+------------+--------+---------+--------+--------+--------+---------+--------+--------+--------+-------------+----------+-------+\n",
      "|area_start|area_end|category_01|category_02|category_03|decibel|labelName           |soundQuality|subCategory|bitRate |duration|fileFormat|fileName          |fileSize|recodingType|sampleRate|acqDevice     |acqMethod|acqType|areaUse     |dayNight|direction|distance|district|latitude|longitude|micClass|obstacle|place   |recordingTime|urban     |weather|\n",
      "+----------+--------+-----------+-----------+-----------+-------+--------------------+------------+-----------+--------+--------+----------+------------------+--------+------------+----------+--------------+---------+-------+------------+--------+---------+--------+--------+--------+---------+--------+--------+--------+-------------+----------+-------+\n",
      "|9.99      |10.55   |교통소음   |자동차     |차량경적   |72     |1.자동차_19863_1.wav|노이즈      |소형차경적 |705kbps |11.584  |wav       |1.자동차_19863.wav|1025774 |Mono        |44.1kHz   |iPHONE 12 mini|자연적   |제작   |주거지역    |주간    |아래     |30m     |논현동  |37.41   |126.73   |무지향성|없음    |건물내부|16:22        |인천광역시|맑음   |\n",
      "|16.05     |16.62   |교통소음   |자동차     |차량경적   |71     |1.자동차_19854_1.wav|노이즈      |소형차경적 |705kbps |22.4    |wav       |1.자동차_19854.wav|1979746 |Mono        |44.1kHz   |iPHONE 12 mini|자연적   |제작   |주거지역    |주간    |아래     |30m     |논현동  |37.41   |126.73   |무지향성|없음    |건물내부|18:21        |인천광역시|맑음   |\n",
      "|2.0       |7.401   |교통소음   |자동차     |차량경적   |114    |1.자동차_133_1.wav  |노이즈      |대형차경적 |1411kbps|9.401   |wav       |1.자동차_133.wav  |1658432 |Stereo      |44.1kHz   |갤럭시S6Tab   |자연적   |제작   |종합병원지역|주간    |좌       |20m     |한남동  |37.53   |127.01   |무지향성|없음    |도로변  |12:44        |서울특별시|맑음   |\n",
      "|2.68      |4.13    |교통소음   |자동차     |차량경적   |113    |1.자동차_197_1.wav  |정상        |소형차경적 |1411kbps|7.178   |wav       |1.자동차_197.wav  |1266156 |Stereo      |44.1kHz   |갤럭시S6Tab   |자연적   |제작   |종합병원지역|주간    |좌       |20m     |한남동  |37.53   |127.01   |무지향성|없음    |도로변  |11:39        |서울특별시|맑음   |\n",
      "|2.0       |12.944  |교통소음   |자동차     |차량경적   |81     |1.자동차_30826_1.wav|노이즈      |소형차경적 |705kbps |14.944  |wav       |1.자동차_30826.wav|1318136 |Mono        |44.1kHz   |TASCAM DR-05X |자연적   |제작   |상업지역    |야간    |우       |10m     |영등포동|37.51   |126.91   |무지향성|없음    |도로변  |04:33        |서울특별시|흐림   |\n",
      "|3.11      |5.48    |교통소음   |자동차     |차량경적   |75     |1.자동차_203_1.wav  |정상        |대형차경적 |1411kbps|8.733   |wav       |1.자동차_203.wav  |1540504 |Stereo      |44.1kHz   |갤럭시탭S6    |자연적   |제작   |종합병원지역|주간    |우       |5m      |안암동  |37.59   |127.02   |무지향성|없음    |도로변  |10:46        |서울특별시|맑음   |\n",
      "|2.0       |8.539   |교통소음   |자동차     |차량경적   |70     |1.자동차_30737_1.wav|노이즈      |소형차경적 |705kbps |10.539  |wav       |1.자동차_30737.wav|929548  |Mono        |44.1kHz   |TASCAM DR-05X |자연적   |제작   |상업지역    |야간    |우       |10m     |영등포동|37.51   |126.91   |무지향성|없음    |도로변  |08:31        |서울특별시|흐림   |\n",
      "|2.0       |8.557   |교통소음   |자동차     |차량경적   |70     |1.자동차_30816_1.wav|노이즈      |소형차경적 |705kbps |10.557  |wav       |1.자동차_30816.wav|931184  |Mono        |44.1kHz   |TASCAM DR-05X |자연적   |제작   |상업지역    |야간    |우       |10m     |영등포동|37.51   |126.91   |무지향성|없음    |도로변  |04:15        |서울특별시|흐림   |\n",
      "|2.0       |8.581   |교통소음   |자동차     |차량경적   |72     |1.자동차_30880_1.wav|노이즈      |소형차경적 |705kbps |10.581  |wav       |1.자동차_30880.wav|933304  |Mono        |44.1kHz   |TASCAM DR-05X |자연적   |제작   |상업지역    |야간    |우       |10m     |영등포동|37.51   |126.91   |무지향성|없음    |도로변  |06:11        |서울특별시|흐림   |\n",
      "|2.0       |3.884   |교통소음   |자동차     |차량경적   |89     |1.자동차_108_1.wav  |정상        |대형차경적 |1411kbps|5.884   |wav       |1.자동차_108.wav  |1037976 |Stereo      |44.1kHz   |갤럭시탭S6    |자연적   |제작   |종합병원지역|주간    |우       |8m      |구로동  |37.49   |126.88   |무지향성|없음    |도로변  |14:08        |서울특별시|맑음   |\n",
      "|4.04      |6.1     |교통소음   |자동차     |차량경적   |120    |1.자동차_18_1.wav   |정상        |소형차경적 |1411kbps|8.792   |wav       |1.자동차_18.wav   |1550880 |Stereo      |44.1kHz   |갤럭시탭S6    |자연적   |제작   |종합병원지역|주간    |우       |5m      |안암동  |37.59   |127.02   |무지향성|없음    |도로변  |10:58        |서울특별시|맑음   |\n",
      "|2.0       |4.366   |교통소음   |자동차     |차량경적   |71     |1.자동차_191_1.wav  |정상        |소형차경적 |1411kbps|6.366   |wav       |1.자동차_191.wav  |1123072 |Stereo      |44.1kHz   |갤럭시탭S6    |자연적   |제작   |종합병원지역|주간    |우       |8m      |구로동  |37.49   |126.88   |무지향성|없음    |도로변  |14:49        |서울특별시|맑음   |\n",
      "|5.26      |8.59    |교통소음   |자동차     |차량경적   |86     |1.자동차_214_1.wav  |노이즈      |소형차경적 |1411kbps|10.592  |wav       |1.자동차_214.wav  |1868440 |Stereo      |44.1kHz   |갤럭시탭S6    |자연적   |제작   |상업지역    |주간    |우       |10m     |논현동  |37.5    |127.02   |무지향성|없음    |도로변  |10:28        |서울특별시|맑음   |\n",
      "|2.0       |4.453   |교통소음   |자동차     |차량경적   |69     |1.자동차_224_1.wav  |노이즈      |소형차경적 |1411kbps|6.453   |wav       |1.자동차_224.wav  |1138320 |Stereo      |44.1kHz   |갤럭시.Tab.S6 |자연적   |제작   |주거지역    |주간    |우       |10m     |신영동  |37.61   |126.96   |무지향성|없음    |도로변  |10:43        |서울특별시|맑음   |\n",
      "|2.0       |4.981   |교통소음   |자동차     |차량경적   |75     |1.자동차_262_1.wav  |노이즈      |소형차경적 |1411kbps|6.981   |wav       |1.자동차_262.wav  |1231520 |Stereo      |44.1kHz   |갤럭시.Tab.S6 |자연적   |제작   |주거지역    |주간    |우       |10m     |신영동  |37.61   |126.96   |무지향성|없음    |도로변  |09:16        |서울특별시|맑음   |\n",
      "|2.0       |11.314  |교통소음   |자동차     |차량경적   |75     |1.자동차_30682_1.wav|정상        |소형차경적 |705kbps |13.314  |wav       |1.자동차_30682.wav|1174308 |Mono        |44.1kHz   |TASCAM DR-05X |자연적   |제작   |상업지역    |야간    |우       |10m     |영등포동|37.51   |126.91   |무지향성|없음    |도로변  |06:51        |서울특별시|흐림   |\n",
      "|2.0       |15.167  |교통소음   |자동차     |차량경적   |75     |1.자동차_30686_1.wav|정상        |소형차경적 |705kbps |17.167  |wav       |1.자동차_30686.wav|1514196 |Mono        |44.1kHz   |TASCAM DR-05X |자연적   |제작   |상업지역    |야간    |우       |10m     |영등포동|37.51   |126.91   |무지향성|없음    |도로변  |06:59        |서울특별시|흐림   |\n",
      "|2.0       |10.479  |교통소음   |자동차     |차량경적   |71     |1.자동차_30687_1.wav|정상        |소형차경적 |705kbps |12.479  |wav       |1.자동차_30687.wav|1100664 |Mono        |44.1kHz   |TASCAM DR-05X |자연적   |제작   |상업지역    |야간    |우       |10m     |영등포동|37.51   |126.91   |무지향성|없음    |도로변  |07:01        |서울특별시|흐림   |\n",
      "|2.0       |12.261  |교통소음   |자동차     |차량경적   |69     |1.자동차_30688_1.wav|정상        |소형차경적 |705kbps |14.261  |wav       |1.자동차_30688.wav|1257906 |Mono        |44.1kHz   |TASCAM DR-05X |자연적   |제작   |상업지역    |야간    |우       |10m     |영등포동|37.51   |126.91   |무지향성|없음    |도로변  |07:03        |서울특별시|흐림   |\n",
      "|2.0       |11.124  |교통소음   |자동차     |차량경적   |75     |1.자동차_30691_1.wav|정상        |소형차경적 |705kbps |13.124  |wav       |1.자동차_30691.wav|1157618 |Mono        |44.1kHz   |TASCAM DR-05X |자연적   |제작   |상업지역    |야간    |우       |10m     |영등포동|37.51   |126.91   |무지향성|없음    |도로변  |07:07        |서울특별시|흐림   |\n",
      "+----------+--------+-----------+-----------+-----------+-------+--------------------+------------+-----------+--------+--------+----------+------------------+--------+------------+----------+--------------+---------+-------+------------+--------+---------+--------+--------+--------+---------+--------+--------+--------+-------------+----------+-------+\n",
      "only showing top 20 rows\n",
      "\n"
     ]
    }
   ],
   "source": [
    "\n",
    "# annotations 배열을 개별 행으로 변환\n",
    "df_flattened = df.withColumn(\"annotation\", explode(col(\"annotations\")))\n",
    "\n",
    "# 구조체 내부의 필드를 개별 컬럼으로 변환\n",
    "df_flattened = df_flattened.select(\n",
    "    # annotation 내부 필드\n",
    "    col(\"annotation.area.start\").alias(\"area_start\"),\n",
    "    col(\"annotation.area.end\").alias(\"area_end\"),\n",
    "    col(\"annotation.categories.category_01\").alias(\"category_01\"),\n",
    "    col(\"annotation.categories.category_02\").alias(\"category_02\"),\n",
    "    col(\"annotation.categories.category_03\").alias(\"category_03\"),\n",
    "    col(\"annotation.decibel\").alias(\"decibel\"),\n",
    "    col(\"annotation.labelName\").alias(\"labelName\"),\n",
    "    col(\"annotation.soundQuality\").alias(\"soundQuality\"),\n",
    "    col(\"annotation.subCategory\").alias(\"subCategory\"),\n",
    "\n",
    "    # audio 내부 필드\n",
    "    col(\"audio.bitRate\").alias(\"bitRate\"),\n",
    "    col(\"audio.duration\").alias(\"duration\"),\n",
    "    col(\"audio.fileFormat\").alias(\"fileFormat\"),\n",
    "    col(\"audio.fileName\").alias(\"fileName\"),\n",
    "    col(\"audio.fileSize\").alias(\"fileSize\"),\n",
    "    col(\"audio.recodingType\").alias(\"recodingType\"),\n",
    "    col(\"audio.sampleRate\").alias(\"sampleRate\"),\n",
    "\n",
    "    # environment 내부 필드\n",
    "    col(\"environment.acqDevice\").alias(\"acqDevice\"),\n",
    "    col(\"environment.acqMethod\").alias(\"acqMethod\"),\n",
    "    col(\"environment.acqType\").alias(\"acqType\"),\n",
    "    col(\"environment.areaUse\").alias(\"areaUse\"),\n",
    "    col(\"environment.dayNight\").alias(\"dayNight\"),\n",
    "    col(\"environment.direction\").alias(\"direction\"),\n",
    "    col(\"environment.distance\").alias(\"distance\"),\n",
    "    col(\"environment.district\").alias(\"district\"),\n",
    "    col(\"environment.gps.latitude\").alias(\"latitude\"),\n",
    "    col(\"environment.gps.longitude\").alias(\"longitude\"),\n",
    "    col(\"environment.micClass\").alias(\"micClass\"),\n",
    "    col(\"environment.obstacle\").alias(\"obstacle\"),\n",
    "    col(\"environment.place\").alias(\"place\"),\n",
    "    col(\"environment.recordingTime\").alias(\"recordingTime\"),\n",
    "    col(\"environment.urban\").alias(\"urban\"),\n",
    "    col(\"environment.weather\").alias(\"weather\"))\n",
    "\n",
    "# 결과 출력 (줄임 없이)\n",
    "df_flattened.show(truncate=False)"
   ]
  },
  {
   "cell_type": "code",
   "execution_count": 6,
   "id": "e5110f21",
   "metadata": {},
   "outputs": [],
   "source": [
    "#SQL 쿼리로 데이터 추출\n",
    "df_flattened.createOrReplaceTempView(\"json_table\")\n",
    "\n",
    "# explode를 통해 평탄화한 'annotations' 데이터 처리\n",
    "df_flattened = spark.sql(\"\"\"\n",
    "    SELECT *\n",
    "    FROM json_table\n",
    "\"\"\")"
   ]
  },
  {
   "cell_type": "code",
   "execution_count": 7,
   "id": "f9b35fcb",
   "metadata": {},
   "outputs": [],
   "source": [
    "# ✅ Config 파일에서 MySQL 연결 정보 로드\n",
    "mysql_url = f\"jdbc:mysql://{DB_CONFIG['host']}:{DB_CONFIG['port']}/{DB_CONFIG['database']}?useUnicode=true&characterEncoding=UTF-8\"\n",
    "mysql_properties = {\n",
    "    \"user\": DB_CONFIG[\"user\"],\n",
    "    \"password\": DB_CONFIG[\"password\"],\n",
    "    \"driver\": \"com.mysql.cj.jdbc.Driver\"\n",
    "}"
   ]
  },
  {
   "cell_type": "code",
   "execution_count": 8,
   "id": "8d8e5c62",
   "metadata": {},
   "outputs": [
    {
     "name": "stderr",
     "output_type": "stream",
     "text": [
      "[Stage 4:=====================================================>  (95 + 4) / 100]\r"
     ]
    },
    {
     "name": "stdout",
     "output_type": "stream",
     "text": [
      "데이터가 MySQL로 성공적으로 적재되었습니다!\n"
     ]
    },
    {
     "name": "stderr",
     "output_type": "stream",
     "text": [
      "                                                                                \r"
     ]
    }
   ],
   "source": [
    "# MySQL로 DataFrame 적재 (쿼리 결과가 None이 아닌 경우에만)\n",
    "if df_flattened is not None:\n",
    "    df_flattened.write.jdbc(url=mysql_url, table=\"car_horn_data\", mode=\"overwrite\", properties=mysql_properties)\n",
    "    print(\"데이터가 MySQL로 성공적으로 적재되었습니다!\")\n",
    "else:\n",
    "    print(\"쿼리 결과가 없습니다. 데이터 추출이 실패했습니다.\")"
   ]
  },
  {
   "cell_type": "code",
   "execution_count": 5,
   "id": "f3508e60",
   "metadata": {},
   "outputs": [],
   "source": [
    "spark.stop()"
   ]
  },
  {
   "cell_type": "code",
   "execution_count": null,
   "id": "61a36347",
   "metadata": {},
   "outputs": [],
   "source": []
  }
 ],
 "metadata": {
  "kernelspec": {
   "display_name": "Python(ml_env)",
   "language": "python",
   "name": "ml_env"
  },
  "language_info": {
   "codemirror_mode": {
    "name": "ipython",
    "version": 3
   },
   "file_extension": ".py",
   "mimetype": "text/x-python",
   "name": "python",
   "nbconvert_exporter": "python",
   "pygments_lexer": "ipython3",
   "version": "3.8.20"
  }
 },
 "nbformat": 4,
 "nbformat_minor": 5
}
