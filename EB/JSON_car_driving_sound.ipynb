{
 "cells": [
  {
   "cell_type": "code",
   "execution_count": 2,
   "id": "d859c32b",
   "metadata": {},
   "outputs": [
    {
     "name": "stderr",
     "output_type": "stream",
     "text": [
      "25/02/27 14:10:08 WARN NativeCodeLoader: Unable to load native-hadoop library for your platform... using builtin-java classes where applicable\n",
      "Using Spark's default log4j profile: org/apache/spark/log4j-defaults.properties\n",
      "Setting default log level to \"WARN\".\n",
      "To adjust logging level use sc.setLogLevel(newLevel). For SparkR, use setLogLevel(newLevel).\n"
     ]
    }
   ],
   "source": [
    "from pyspark.sql import SparkSession\n",
    "from pyspark.sql.functions import col, explode, expr, from_json, schema_of_json, to_json\n",
    "import config\n",
    "from config import DB_CONFIG, HDFS_CONFIG\n",
    "\n",
    "# MySQL JDBC 드라이버 경로\n",
    "mysql_driver_path = config.MYSQL_JDBC\n",
    "\n",
    "# SparkSession 생성\n",
    "spark = SparkSession.builder \\\n",
    "    .appName(\"HDFS_JSON_Car_Driving\") \\\n",
    "    .config(\"spark.hadoop.fs.defaultFS\", HDFS_CONFIG[\"defaultFS\"]) \\\n",
    "    .config(\"spark.jars\", mysql_driver_path) \\\n",
    "    .getOrCreate()"
   ]
  },
  {
   "cell_type": "code",
   "execution_count": 3,
   "id": "318caaea",
   "metadata": {},
   "outputs": [
    {
     "name": "stderr",
     "output_type": "stream",
     "text": [
      "                                                                                \r"
     ]
    }
   ],
   "source": [
    "# HDFS에서 JSON 파일 읽기\n",
    "file_path = f\"{config.HDFS_BASE_PATH}/label_data/1.Car/3.driving_sound_of_car\"\n",
    "df = spark.read.json(file_path, multiLine=True)"
   ]
  },
  {
   "cell_type": "code",
   "execution_count": 4,
   "id": "a89e5962",
   "metadata": {},
   "outputs": [
    {
     "name": "stdout",
     "output_type": "stream",
     "text": [
      "root\n",
      " |-- annotations: array (nullable = true)\n",
      " |    |-- element: struct (containsNull = true)\n",
      " |    |    |-- area: struct (nullable = true)\n",
      " |    |    |    |-- end: double (nullable = true)\n",
      " |    |    |    |-- start: double (nullable = true)\n",
      " |    |    |-- categories: struct (nullable = true)\n",
      " |    |    |    |-- category_01: string (nullable = true)\n",
      " |    |    |    |-- category_02: string (nullable = true)\n",
      " |    |    |    |-- category_03: string (nullable = true)\n",
      " |    |    |-- decibel: long (nullable = true)\n",
      " |    |    |-- labelName: string (nullable = true)\n",
      " |    |    |-- soundQuality: string (nullable = true)\n",
      " |    |    |-- subCategory: string (nullable = true)\n",
      " |-- audio: struct (nullable = true)\n",
      " |    |-- bitRate: string (nullable = true)\n",
      " |    |-- duration: double (nullable = true)\n",
      " |    |-- fileFormat: string (nullable = true)\n",
      " |    |-- fileName: string (nullable = true)\n",
      " |    |-- fileSize: long (nullable = true)\n",
      " |    |-- recodingType: string (nullable = true)\n",
      " |    |-- sampleRate: string (nullable = true)\n",
      " |-- environment: struct (nullable = true)\n",
      " |    |-- acqDevice: string (nullable = true)\n",
      " |    |-- acqMethod: string (nullable = true)\n",
      " |    |-- acqType: string (nullable = true)\n",
      " |    |-- areaUse: string (nullable = true)\n",
      " |    |-- dayNight: string (nullable = true)\n",
      " |    |-- direction: string (nullable = true)\n",
      " |    |-- distance: string (nullable = true)\n",
      " |    |-- district: string (nullable = true)\n",
      " |    |-- gps: struct (nullable = true)\n",
      " |    |    |-- latitude: double (nullable = true)\n",
      " |    |    |-- longitude: double (nullable = true)\n",
      " |    |-- micClass: string (nullable = true)\n",
      " |    |-- obstacle: string (nullable = true)\n",
      " |    |-- place: string (nullable = true)\n",
      " |    |-- recordingTime: string (nullable = true)\n",
      " |    |-- urban: string (nullable = true)\n",
      " |    |-- weather: string (nullable = true)\n",
      " |-- info: struct (nullable = true)\n",
      " |    |-- contributor: string (nullable = true)\n",
      " |    |-- dateCreated: string (nullable = true)\n",
      " |    |-- description: string (nullable = true)\n",
      " |    |-- uri: string (nullable = true)\n",
      " |    |-- version: double (nullable = true)\n",
      " |    |-- year: long (nullable = true)\n",
      " |-- license: struct (nullable = true)\n",
      " |    |-- name: string (nullable = true)\n",
      " |    |-- url: string (nullable = true)\n",
      "\n"
     ]
    }
   ],
   "source": [
    "df.printSchema()"
   ]
  },
  {
   "cell_type": "code",
   "execution_count": 5,
   "id": "d9a93f48-6e87-4098-b0e7-911567c33350",
   "metadata": {},
   "outputs": [
    {
     "name": "stderr",
     "output_type": "stream",
     "text": [
      "                                                                                \r"
     ]
    },
    {
     "data": {
      "text/plain": [
       "1682"
      ]
     },
     "execution_count": 5,
     "metadata": {},
     "output_type": "execute_result"
    }
   ],
   "source": [
    "df.count()"
   ]
  },
  {
   "cell_type": "code",
   "execution_count": 5,
   "id": "e7aa34e7",
   "metadata": {},
   "outputs": [
    {
     "name": "stderr",
     "output_type": "stream",
     "text": [
      "25/02/27 13:29:01 WARN package: Truncated the string representation of a plan since it was too large. This behavior can be adjusted by setting 'spark.sql.debug.maxToStringFields'.\n"
     ]
    },
    {
     "name": "stdout",
     "output_type": "stream",
     "text": [
      "+----------+--------+-----------+-----------+-----------+-------+-------------------+------------+-----------+--------+--------+----------+-----------------+--------+------------+----------+---------------+---------+-------+------------+--------+---------+--------+--------+--------+---------+--------+--------+------+-------------+----------+-------+\n",
      "|area_start|area_end|category_01|category_02|category_03|decibel|labelName          |soundQuality|subCategory|bitRate |duration|fileFormat|fileName         |fileSize|recodingType|sampleRate|acqDevice      |acqMethod|acqType|areaUse     |dayNight|direction|distance|district|latitude|longitude|micClass|obstacle|place |recordingTime|urban     |weather|\n",
      "+----------+--------+-----------+-----------+-----------+-------+-------------------+------------+-----------+--------+--------+----------+-----------------+--------+------------+----------+---------------+---------+-------+------------+--------+---------+--------+--------+--------+---------+--------+--------+------+-------------+----------+-------+\n",
      "|2.0       |16.72   |교통소음   |자동차     |차량주행음 |101    |1.자동차_1155_1.wav|정상        |대형차     |1411kbps|18.72   |wav       |1.자동차_1155.wav|3302228 |Stereo      |44.1kHz   |GalaxyTapS6Lite|자연적   |제작   |종합병원지역|주간    |좌       |10m     |장덕동  |35.19   |126.82   |무지향성|없음    |도로변|11:46        |광주광역시|맑음   |\n",
      "|7.35      |12.5    |교통소음   |자동차     |차량주행음 |72     |1.자동차_1357_1.wav|정상        |대형차     |1411kbps|14.5    |wav       |1.자동차_1357.wav|2557820 |Stereo      |44.1kHz   |GalaxyTapS6Lite|자연적   |제작   |종합병원지역|주간    |좌       |10m     |장덕동  |35.19   |126.82   |무지향성|없음    |도로변|11:00        |광주광역시|맑음   |\n",
      "|2.0       |17.22   |교통소음   |자동차     |차량주행음 |100    |1.자동차_1450_1.wav|정상        |대형차     |1411kbps|19.22   |wav       |1.자동차_1450.wav|3390428 |Stereo      |44.1kHz   |GalaxyTapS6Lite|자연적   |제작   |종합병원지역|주간    |좌       |10m     |장덕동  |35.19   |126.82   |무지향성|없음    |도로변|13:06        |광주광역시|맑음   |\n",
      "|2.0       |26.68   |교통소음   |자동차     |차량주행음 |95     |1.자동차_1079_1.wav|정상        |대형차     |1411kbps|28.68   |wav       |1.자동차_1079.wav|5059172 |Stereo      |44.1kHz   |GalaxyTapS6Lite|자연적   |제작   |종합병원지역|주간    |좌       |10m     |장덕동  |35.19   |126.82   |무지향성|없음    |도로변|10:31        |광주광역시|맑음   |\n",
      "|2.0       |11.48   |교통소음   |자동차     |차량주행음 |71     |1.자동차_1153_1.wav|정상        |대형차     |1411kbps|13.48   |wav       |1.자동차_1153.wav|2377892 |Stereo      |44.1kHz   |GalaxyTapS6Lite|자연적   |제작   |종합병원지역|주간    |좌       |10m     |장덕동  |35.19   |126.82   |무지향성|없음    |도로변|10:43        |광주광역시|맑음   |\n",
      "|2.0       |12.12   |교통소음   |자동차     |차량주행음 |86     |1.자동차_1238_1.wav|정상        |대형차     |1411kbps|14.12   |wav       |1.자동차_1238.wav|2490788 |Stereo      |44.1kHz   |GalaxyTapS6Lite|자연적   |제작   |종합병원지역|주간    |좌       |10m     |장덕동  |35.19   |126.82   |무지향성|없음    |도로변|12:43        |광주광역시|맑음   |\n",
      "|2.0       |9.16    |교통소음   |자동차     |차량주행음 |111    |1.자동차_1326_1.wav|정상        |대형차     |1411kbps|11.16   |wav       |1.자동차_1326.wav|1968644 |Stereo      |44.1kHz   |GalaxyTapS6Lite|자연적   |제작   |종합병원지역|주간    |좌       |10m     |장덕동  |35.19   |126.82   |무지향성|없음    |도로변|11:23        |광주광역시|맑음   |\n",
      "|2.0       |13.82   |교통소음   |자동차     |차량주행음 |70     |1.자동차_1356_1.wav|정상        |대형차     |1411kbps|15.82   |wav       |1.자동차_1356.wav|2790668 |Stereo      |44.1kHz   |GalaxyTapS6Lite|자연적   |제작   |종합병원지역|주간    |좌       |10m     |장덕동  |35.19   |126.82   |무지향성|없음    |도로변|12:37        |광주광역시|맑음   |\n",
      "|2.0       |9.76    |교통소음   |자동차     |차량주행음 |117    |1.자동차_1625_1.wav|정상        |대형차     |1411kbps|11.76   |wav       |1.자동차_1625.wav|2074484 |Stereo      |44.1kHz   |GalaxyTapS6Lite|자연적   |제작   |종합병원지역|주간    |좌       |10m     |장덕동  |35.19   |126.82   |무지향성|없음    |도로변|11:06        |광주광역시|맑음   |\n",
      "|15.75     |43.25   |교통소음   |자동차     |차량주행음 |112    |1.자동차_1028_1.wav|정상        |소형차     |1411kbps|64.0    |wav       |1.자동차_1028.wav|11289620|Stereo      |44.1kHz   |GalaxyTapS6Lite|자연적   |제작   |주거지역    |주간    |좌       |10m     |문흥동  |35.19   |126.93   |무지향성|없음    |도로변|11:20        |광주광역시|맑음   |\n",
      "|2.0       |33.957  |교통소음   |자동차     |차량주행음 |116    |1.자동차_1283_1.wav|노이즈      |대형차     |1411kbps|35.957  |wav       |1.자동차_1283.wav|6342892 |Stereo      |44.1kHz   |아이폰12mini   |자연적   |제작   |주거지역    |주간    |우       |1m      |동림동  |35.19   |126.87   |무지향성|없음    |도로변|12:21        |광주광역시|맑음   |\n",
      "|20.24     |36.33   |교통소음   |자동차     |차량주행음 |126    |1.자동차_1461_1.wav|정상        |대형차     |1411kbps|40.181  |wav       |1.자동차_1461.wav|7088008 |Stereo      |44.1kHz   |아이폰12mini   |자연적   |제작   |주거지역    |주간    |우       |1m      |신가동  |35.19   |126.83   |무지향성|없음    |도로변|10:36        |광주광역시|맑음   |\n",
      "|35.0      |60.56   |교통소음   |자동차     |차량주행음 |111    |1.자동차_616_1.wav |노이즈      |소형차     |1411kbps|62.563  |wav       |1.자동차_616.wav |11036136|Stereo      |44.1kHz   |갤럭시.Tab.S6  |자연적   |제작   |상업지역    |주간    |우       |15m     |신영동  |37.6    |126.96   |무지향성|없음    |도로변|14:55        |서울특별시|맑음   |\n",
      "|2.0       |11.38   |교통소음   |자동차     |차량주행음 |109    |1.자동차_639_1.wav |정상        |대형차     |1411kbps|13.38   |wav       |1.자동차_639.wav |2360252 |Stereo      |44.1kHz   |GalaxyTapS6Lite|자연적   |제작   |종합병원지역|주간    |좌       |10m     |장덕동  |35.19   |126.82   |무지향성|없음    |도로변|11:57        |광주광역시|맑음   |\n",
      "|2.0       |51.082  |교통소음   |자동차     |차량주행음 |118    |1.자동차_1063_1.wav|정상        |대형차     |1411kbps|53.082  |wav       |1.자동차_1063.wav|9363644 |Stereo      |44.1kHz   |갤럭시탭S6     |자연적   |제작   |주거지역    |주간    |우       |3m      |동소문동|37.59   |127.01   |무지향성|없음    |도로변|11:16        |서울특별시|흐림   |\n",
      "|2.0       |29.991  |교통소음   |자동차     |차량주행음 |119    |1.자동차_1113_1.wav|정상        |대형차     |1411kbps|31.991  |wav       |1.자동차_1113.wav|5643248 |Stereo      |44.1kHz   |갤럭시.Tab.S6  |자연적   |제작   |주거지역    |주간    |우       |10m     |무악동  |37.58   |126.96   |무지향성|없음    |도로변|10:30        |서울특별시|맑음   |\n",
      "|4.15      |20.22   |교통소음   |자동차     |차량주행음 |118    |1.자동차_1217_1.wav|정상        |대형차     |1411kbps|28.175  |wav       |1.자동차_1217.wav|4970080 |Stereo      |44.1kHz   |갤럭시S6탭     |자연적   |제작   |학교지역    |주간    |우       |30m     |화곡동  |37.54   |126.85   |무지향성|없음    |도로변|14:05        |서울특별시|맑음   |\n",
      "|2.0       |39.793  |교통소음   |자동차     |차량주행음 |101    |1.자동차_1219_1.wav|정상        |대형차     |1411kbps|41.793  |wav       |1.자동차_1219.wav|7372408 |Stereo      |44.1kHz   |갤럭시탭S6     |자연적   |제작   |주거지역    |주간    |우       |3m      |동소문동|37.59   |127.01   |무지향성|없음    |도로변|11:15        |서울특별시|흐림   |\n",
      "|2.0       |6.88    |교통소음   |자동차     |차량주행음 |73     |1.자동차_1227_1.wav|정상        |대형차     |1411kbps|8.88    |wav       |1.자동차_1227.wav|1566452 |Stereo      |44.1kHz   |GalaxyTapS6Lite|자연적   |제작   |종합병원지역|주간    |좌       |10m     |장덕동  |35.19   |126.82   |무지향성|없음    |도로변|12:31        |광주광역시|맑음   |\n",
      "|2.0       |19.177  |교통소음   |자동차     |차량주행음 |111    |1.자동차_1233_1.wav|정상        |대형차     |1411kbps|21.177  |wav       |1.자동차_1233.wav|3735724 |Stereo      |44.1kHz   |갤럭시.Tab.S6  |자연적   |제작   |주거지역    |주간    |우       |10m     |무악동  |37.58   |126.96   |무지향성|없음    |도로변|10:32        |서울특별시|맑음   |\n",
      "+----------+--------+-----------+-----------+-----------+-------+-------------------+------------+-----------+--------+--------+----------+-----------------+--------+------------+----------+---------------+---------+-------+------------+--------+---------+--------+--------+--------+---------+--------+--------+------+-------------+----------+-------+\n",
      "only showing top 20 rows\n",
      "\n"
     ]
    }
   ],
   "source": [
    "\n",
    "# annotations 배열을 개별 행으로 변환\n",
    "df_flattened = df.withColumn(\"annotation\", explode(col(\"annotations\")))\n",
    "\n",
    "# 구조체 내부의 필드를 개별 컬럼으로 변환\n",
    "df_flattened = df_flattened.select(\n",
    "    # annotation 내부 필드\n",
    "    col(\"annotation.area.start\").alias(\"area_start\"),\n",
    "    col(\"annotation.area.end\").alias(\"area_end\"),\n",
    "    col(\"annotation.categories.category_01\").alias(\"category_01\"),\n",
    "    col(\"annotation.categories.category_02\").alias(\"category_02\"),\n",
    "    col(\"annotation.categories.category_03\").alias(\"category_03\"),\n",
    "    col(\"annotation.decibel\").alias(\"decibel\"),\n",
    "    col(\"annotation.labelName\").alias(\"labelName\"),\n",
    "    col(\"annotation.soundQuality\").alias(\"soundQuality\"),\n",
    "    col(\"annotation.subCategory\").alias(\"subCategory\"),\n",
    "\n",
    "    # audio 내부 필드\n",
    "    col(\"audio.bitRate\").alias(\"bitRate\"),\n",
    "    col(\"audio.duration\").alias(\"duration\"),\n",
    "    col(\"audio.fileFormat\").alias(\"fileFormat\"),\n",
    "    col(\"audio.fileName\").alias(\"fileName\"),\n",
    "    col(\"audio.fileSize\").alias(\"fileSize\"),\n",
    "    col(\"audio.recodingType\").alias(\"recodingType\"),\n",
    "    col(\"audio.sampleRate\").alias(\"sampleRate\"),\n",
    "\n",
    "    # environment 내부 필드\n",
    "    col(\"environment.acqDevice\").alias(\"acqDevice\"),\n",
    "    col(\"environment.acqMethod\").alias(\"acqMethod\"),\n",
    "    col(\"environment.acqType\").alias(\"acqType\"),\n",
    "    col(\"environment.areaUse\").alias(\"areaUse\"),\n",
    "    col(\"environment.dayNight\").alias(\"dayNight\"),\n",
    "    col(\"environment.direction\").alias(\"direction\"),\n",
    "    col(\"environment.distance\").alias(\"distance\"),\n",
    "    col(\"environment.district\").alias(\"district\"),\n",
    "    col(\"environment.gps.latitude\").alias(\"latitude\"),\n",
    "    col(\"environment.gps.longitude\").alias(\"longitude\"),\n",
    "    col(\"environment.micClass\").alias(\"micClass\"),\n",
    "    col(\"environment.obstacle\").alias(\"obstacle\"),\n",
    "    col(\"environment.place\").alias(\"place\"),\n",
    "    col(\"environment.recordingTime\").alias(\"recordingTime\"),\n",
    "    col(\"environment.urban\").alias(\"urban\"),\n",
    "    col(\"environment.weather\").alias(\"weather\"))\n",
    "\n",
    "# 결과 출력 (줄임 없이)\n",
    "df_flattened.show(truncate=False)"
   ]
  },
  {
   "cell_type": "code",
   "execution_count": 6,
   "id": "7ce02b93",
   "metadata": {},
   "outputs": [
    {
     "name": "stderr",
     "output_type": "stream",
     "text": [
      "                                                                                \r"
     ]
    },
    {
     "data": {
      "text/plain": [
       "1682"
      ]
     },
     "execution_count": 6,
     "metadata": {},
     "output_type": "execute_result"
    }
   ],
   "source": [
    "df_flattened.count()"
   ]
  },
  {
   "cell_type": "code",
   "execution_count": 7,
   "id": "e9e0a443",
   "metadata": {},
   "outputs": [],
   "source": [
    "#SQL 쿼리로 데이터 추출\n",
    "df_flattened.createOrReplaceTempView(\"json_table\")\n",
    "\n",
    "# explode를 통해 평탄화한 'annotations' 데이터 처리\n",
    "df_flattened = spark.sql(\"\"\"\n",
    "    SELECT *\n",
    "    FROM json_table\n",
    "\"\"\")"
   ]
  },
  {
   "cell_type": "code",
   "execution_count": 8,
   "id": "19e35865",
   "metadata": {},
   "outputs": [],
   "source": [
    "# ✅ Config 파일에서 MySQL 연결 정보 로드\n",
    "mysql_url = f\"jdbc:mysql://{DB_CONFIG['host']}:{DB_CONFIG['port']}/{DB_CONFIG['database']}?useUnicode=true&characterEncoding=UTF-8\"\n",
    "mysql_properties = {\n",
    "    \"user\": DB_CONFIG[\"user\"],\n",
    "    \"password\": DB_CONFIG[\"password\"],\n",
    "    \"driver\": \"com.mysql.cj.jdbc.Driver\"\n",
    "}"
   ]
  },
  {
   "cell_type": "code",
   "execution_count": 9,
   "id": "322a2acd",
   "metadata": {},
   "outputs": [
    {
     "name": "stderr",
     "output_type": "stream",
     "text": [
      "[Stage 6:=======================================================> (52 + 1) / 53]\r"
     ]
    },
    {
     "name": "stdout",
     "output_type": "stream",
     "text": [
      "데이터가 MySQL로 성공적으로 적재되었습니다!\n"
     ]
    },
    {
     "name": "stderr",
     "output_type": "stream",
     "text": [
      "                                                                                \r"
     ]
    }
   ],
   "source": [
    "# MySQL로 DataFrame 적재 (쿼리 결과가 None이 아닌 경우에만)\n",
    "if df_flattened is not None:\n",
    "    df_flattened.write.jdbc(url=mysql_url, table=\"car_driving_data\", mode=\"overwrite\", properties=mysql_properties)\n",
    "    print(\"데이터가 MySQL로 성공적으로 적재되었습니다!\")\n",
    "else:\n",
    "    print(\"쿼리 결과가 없습니다. 데이터 추출이 실패했습니다.\")"
   ]
  },
  {
   "cell_type": "code",
   "execution_count": 6,
   "id": "39ecbff9",
   "metadata": {},
   "outputs": [],
   "source": [
    "spark.stop()"
   ]
  },
  {
   "cell_type": "code",
   "execution_count": null,
   "id": "841ad823",
   "metadata": {},
   "outputs": [],
   "source": []
  }
 ],
 "metadata": {
  "kernelspec": {
   "display_name": "Python(ml_env)",
   "language": "python",
   "name": "ml_env"
  },
  "language_info": {
   "codemirror_mode": {
    "name": "ipython",
    "version": 3
   },
   "file_extension": ".py",
   "mimetype": "text/x-python",
   "name": "python",
   "nbconvert_exporter": "python",
   "pygments_lexer": "ipython3",
   "version": "3.8.20"
  }
 },
 "nbformat": 4,
 "nbformat_minor": 5
}
