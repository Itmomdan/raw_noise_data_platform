{
 "cells": [
  {
   "cell_type": "markdown",
   "id": "edcc56d5-9b21-431c-a067-e5535f66d083",
   "metadata": {},
   "source": [
    "# 데이터 품질 테스트"
   ]
  },
  {
   "cell_type": "markdown",
   "id": "d188c50e-844d-4f9e-a8c3-8af54db7777e",
   "metadata": {},
   "source": [
    "## 0. Spark Session 생성"
   ]
  },
  {
   "cell_type": "code",
   "execution_count": 1,
   "id": "908e101e",
   "metadata": {},
   "outputs": [
    {
     "name": "stdout",
     "output_type": "stream",
     "text": [
      "Defaulting to user installation because normal site-packages is not writeable\n",
      "Requirement already satisfied: pyspark==3.1.2 in /home/ubuntu/anaconda3/envs/ml_env/lib/python3.8/site-packages (3.1.2)\n",
      "Requirement already satisfied: py4j==0.10.9 in /home/ubuntu/anaconda3/envs/ml_env/lib/python3.8/site-packages (from pyspark==3.1.2) (0.10.9)\n",
      "Note: you may need to restart the kernel to use updated packages.\n"
     ]
    }
   ],
   "source": [
    "pip install pyspark==3.1.2"
   ]
  },
  {
   "cell_type": "code",
   "execution_count": 2,
   "id": "4e69dc27",
   "metadata": {},
   "outputs": [
    {
     "name": "stdout",
     "output_type": "stream",
     "text": [
      "3.1.2\n"
     ]
    }
   ],
   "source": [
    "import pyspark\n",
    "print(pyspark.__version__)"
   ]
  },
  {
   "cell_type": "code",
   "execution_count": 14,
   "id": "04d6e102-c181-40a3-9ec1-dd43a83a6b6c",
   "metadata": {},
   "outputs": [],
   "source": [
    "from pyspark.sql import SparkSession\n",
    "\n",
    "# SparkSession 생성\n",
    "spark = SparkSession.builder \\\n",
    "    .appName(\"HDFS File Reading\") \\\n",
    "    .config(\"spark.hadoop.fs.defaultFS\", \"hdfs://localhost:9000\") \\\n",
    "    .getOrCreate()"
   ]
  },
  {
   "cell_type": "code",
   "execution_count": 20,
   "id": "0417d55e-aa57-4366-a53f-e7c41f4a441d",
   "metadata": {},
   "outputs": [],
   "source": [
    "spark.stop()"
   ]
  },
  {
   "cell_type": "markdown",
   "id": "13cd9a4e-342f-4da2-a351-de28244989be",
   "metadata": {},
   "source": [
    "## 1. 데이터 분포 확인"
   ]
  },
  {
   "cell_type": "code",
   "execution_count": 4,
   "id": "1f28519f-0a13-424e-a951-1e0697bbcfbd",
   "metadata": {},
   "outputs": [],
   "source": [
    "# HDFS에서 JSON 파일 읽기\n",
    "file_path = \"hdfs://localhost:9000/shared_data/label_data/1.Car/1.horn_of_car\""
   ]
  },
  {
   "cell_type": "code",
   "execution_count": 5,
   "id": "87b7a3be-9507-4edf-8f89-ea8e3f63e856",
   "metadata": {},
   "outputs": [
    {
     "data": {
      "text/plain": [
       "'hdfs://localhost:9000/shared_data/label_data/1.Car/1.horn_of_car'"
      ]
     },
     "execution_count": 5,
     "metadata": {},
     "output_type": "execute_result"
    }
   ],
   "source": [
    "file_path"
   ]
  },
  {
   "cell_type": "code",
   "execution_count": 6,
   "id": "0f06b867-c9af-4b50-aa9b-5fe024bfd7b9",
   "metadata": {},
   "outputs": [
    {
     "name": "stderr",
     "output_type": "stream",
     "text": [
      "                                                                                "
     ]
    }
   ],
   "source": [
    "df = spark.read.json(file_path, multiLine= True)"
   ]
  },
  {
   "cell_type": "code",
   "execution_count": 7,
   "id": "eb14cf7c-c7ca-4565-a3fa-264bb495025d",
   "metadata": {},
   "outputs": [
    {
     "name": "stdout",
     "output_type": "stream",
     "text": [
      "root\n",
      " |-- annotations: array (nullable = true)\n",
      " |    |-- element: struct (containsNull = true)\n",
      " |    |    |-- area: struct (nullable = true)\n",
      " |    |    |    |-- end: double (nullable = true)\n",
      " |    |    |    |-- start: double (nullable = true)\n",
      " |    |    |-- categories: struct (nullable = true)\n",
      " |    |    |    |-- category_01: string (nullable = true)\n",
      " |    |    |    |-- category_02: string (nullable = true)\n",
      " |    |    |    |-- category_03: string (nullable = true)\n",
      " |    |    |-- decibel: long (nullable = true)\n",
      " |    |    |-- labelName: string (nullable = true)\n",
      " |    |    |-- soundQuality: string (nullable = true)\n",
      " |    |    |-- subCategory: string (nullable = true)\n",
      " |-- audio: struct (nullable = true)\n",
      " |    |-- bitRate: string (nullable = true)\n",
      " |    |-- duration: double (nullable = true)\n",
      " |    |-- fileFormat: string (nullable = true)\n",
      " |    |-- fileName: string (nullable = true)\n",
      " |    |-- fileSize: long (nullable = true)\n",
      " |    |-- recodingType: string (nullable = true)\n",
      " |    |-- sampleRate: string (nullable = true)\n",
      " |-- environment: struct (nullable = true)\n",
      " |    |-- acqDevice: string (nullable = true)\n",
      " |    |-- acqMethod: string (nullable = true)\n",
      " |    |-- acqType: string (nullable = true)\n",
      " |    |-- areaUse: string (nullable = true)\n",
      " |    |-- dayNight: string (nullable = true)\n",
      " |    |-- direction: string (nullable = true)\n",
      " |    |-- distance: string (nullable = true)\n",
      " |    |-- district: string (nullable = true)\n",
      " |    |-- gps: struct (nullable = true)\n",
      " |    |    |-- latitude: double (nullable = true)\n",
      " |    |    |-- longitude: double (nullable = true)\n",
      " |    |-- micClass: string (nullable = true)\n",
      " |    |-- obstacle: string (nullable = true)\n",
      " |    |-- place: string (nullable = true)\n",
      " |    |-- recordingTime: string (nullable = true)\n",
      " |    |-- urban: string (nullable = true)\n",
      " |    |-- weather: string (nullable = true)\n",
      " |-- info: struct (nullable = true)\n",
      " |    |-- contributor: string (nullable = true)\n",
      " |    |-- dateCreated: string (nullable = true)\n",
      " |    |-- description: string (nullable = true)\n",
      " |    |-- uri: string (nullable = true)\n",
      " |    |-- version: double (nullable = true)\n",
      " |    |-- year: long (nullable = true)\n",
      " |-- license: struct (nullable = true)\n",
      " |    |-- name: string (nullable = true)\n",
      " |    |-- url: string (nullable = true)\n",
      "\n"
     ]
    }
   ],
   "source": [
    "df.printSchema()"
   ]
  },
  {
   "cell_type": "code",
   "execution_count": 8,
   "id": "5d8c453a-ce5e-43ca-bbca-bf017fd30e94",
   "metadata": {},
   "outputs": [
    {
     "name": "stdout",
     "output_type": "stream",
     "text": [
      "+---------------------+--------------------+-----------------------------+--------------------+--------------------+\n",
      "|          annotations|               audio|                  environment|                info|             license|\n",
      "+---------------------+--------------------+-----------------------------+--------------------+--------------------+\n",
      "| [{{10.55, 9.99}, ...|{705kbps, 11.584,...|         {iPHONE 12 mini, ...|{IMR, 2021-09-20,...|{CC 0, https://ww...|\n",
      "| [{{16.62, 16.05},...|{705kbps, 22.4, w...|         {iPHONE 12 mini, ...|{IMR, 2021-09-20,...|{CC 0, https://ww...|\n",
      "| [{{7.401, 2.0}, {...|{1411kbps, 9.401,...|  {갤럭시S6Tab, 자연적, 제...|{IMR, 2021-09-04,...|{CC 0, https://ww...|\n",
      "| [{{4.13, 2.68}, {...|{1411kbps, 7.178,...|  {갤럭시S6Tab, 자연적, 제...|{IMR, 2021-09-04,...|{CC 0, https://ww...|\n",
      "| [{{12.944, 2.0}, ...|{705kbps, 14.944,...|        {TASCAM DR-05X, 자...|{IMR, 2021-10-26,...|{CC 0, https://ww...|\n",
      "| [{{5.48, 3.11}, {...|{1411kbps, 8.733,...|{갤럭시탭S6, 자연적, 제작,...|{IMR, 2021-09-04,...|{CC 0, https://ww...|\n",
      "| [{{8.539, 2.0}, {...|{705kbps, 10.539,...|        {TASCAM DR-05X, 자...|{IMR, 2021-10-26,...|{CC 0, https://ww...|\n",
      "| [{{8.557, 2.0}, {...|{705kbps, 10.557,...|        {TASCAM DR-05X, 자...|{IMR, 2021-10-26,...|{CC 0, https://ww...|\n",
      "| [{{8.581, 2.0}, {...|{705kbps, 10.581,...|        {TASCAM DR-05X, 자...|{IMR, 2021-10-26,...|{CC 0, https://ww...|\n",
      "| [{{3.884, 2.0}, {...|{1411kbps, 5.884,...|{갤럭시탭S6, 자연적, 제작,...|{IMR, 2021-09-04,...|{CC 0, https://ww...|\n",
      "|[{{6.1, 4.04}, {교...|{1411kbps, 8.792,...|{갤럭시탭S6, 자연적, 제작,...|{IMR, 2021-09-04,...|{CC 0, https://ww...|\n",
      "| [{{4.366, 2.0}, {...|{1411kbps, 6.366,...|{갤럭시탭S6, 자연적, 제작,...|{IMR, 2021-09-04,...|{CC 0, https://ww...|\n",
      "| [{{8.59, 5.26}, {...|{1411kbps, 10.592...|{갤럭시탭S6, 자연적, 제작,...|{IMR, 2021-09-04,...|{CC 0, https://ww...|\n",
      "| [{{4.453, 2.0}, {...|{1411kbps, 6.453,...|   {갤럭시.Tab.S6, 자연적,...|{IMR, 2021-09-04,...|{CC 0, https://ww...|\n",
      "| [{{4.981, 2.0}, {...|{1411kbps, 6.981,...|   {갤럭시.Tab.S6, 자연적,...|{IMR, 2021-09-04,...|{CC 0, https://ww...|\n",
      "| [{{11.314, 2.0}, ...|{705kbps, 13.314,...|        {TASCAM DR-05X, 자...|{IMR, 2021-10-26,...|{CC 0, https://ww...|\n",
      "| [{{15.167, 2.0}, ...|{705kbps, 17.167,...|        {TASCAM DR-05X, 자...|{IMR, 2021-10-26,...|{CC 0, https://ww...|\n",
      "| [{{10.479, 2.0}, ...|{705kbps, 12.479,...|        {TASCAM DR-05X, 자...|{IMR, 2021-10-26,...|{CC 0, https://ww...|\n",
      "| [{{12.261, 2.0}, ...|{705kbps, 14.261,...|        {TASCAM DR-05X, 자...|{IMR, 2021-10-26,...|{CC 0, https://ww...|\n",
      "| [{{11.124, 2.0}, ...|{705kbps, 13.124,...|        {TASCAM DR-05X, 자...|{IMR, 2021-10-26,...|{CC 0, https://ww...|\n",
      "+---------------------+--------------------+-----------------------------+--------------------+--------------------+\n",
      "only showing top 20 rows\n",
      "\n"
     ]
    }
   ],
   "source": [
    "df.show()"
   ]
  },
  {
   "cell_type": "code",
   "execution_count": 9,
   "id": "3b760216-e371-4799-9969-c0789af8f78c",
   "metadata": {},
   "outputs": [],
   "source": [
    "import os\n",
    "\n",
    "# HDFS 경로 설정\n",
    "hdfs_base_path = \"hdfs://localhost:9000/shared_data\"\n",
    "\n",
    "# 폴더 내 모든 JSON 파일 경로 수집 함수 정의\n",
    "def get_all_json_files(folder_path):\n",
    "    json_files = []\n",
    "    for root, dirs, files in os.walk(folder_path):\n",
    "        for file in files:\n",
    "            if file.endswith(\".json\"):\n",
    "                json_files.append(os.path.join(root, file))\n",
    "    return json_files\n",
    "\n",
    "# 주요 폴더 경로 설정\n",
    "folder_paths = [\n",
    "    f\"{hdfs_base_path}/label_data\",\n",
    "    f\"{hdfs_base_path}/raw_data\",\n",
    "    f\"{hdfs_base_path}/test_data\"\n",
    "]\n",
    "\n",
    "# 모든 JSON 파일 경로 수집\n",
    "json_files = []\n",
    "for folder_path in folder_paths:\n",
    "    json_files.extend(get_all_json_files(folder_path))"
   ]
  },
  {
   "cell_type": "code",
   "execution_count": 10,
   "id": "053fb18c-36c6-4e03-a7b5-cc9414842627",
   "metadata": {},
   "outputs": [],
   "source": [
    "# JSON 파일을 읽어와 데이터프레임으로 결합\n",
    "df_union = None\n",
    "for path in json_files:\n",
    "    try:\n",
    "        df_temp = spark.read.json(path, multiLine=True)\n",
    "        if df_union is None:\n",
    "            df_union = df_temp\n",
    "        else:\n",
    "            df_union = df_union.union(df_temp)\n",
    "    except Exception as e:\n",
    "        print(f\"Error reading path {path}: {e}\")"
   ]
  },
  {
   "cell_type": "code",
   "execution_count": 11,
   "id": "95601829-1b34-4882-a40b-06626f5b28fa",
   "metadata": {},
   "outputs": [
    {
     "name": "stdout",
     "output_type": "stream",
     "text": [
      "No JSON files found or read.\n"
     ]
    }
   ],
   "source": [
    "# 데이터프레임 내용 확인\n",
    "if df_union:\n",
    "    df_union.show()\n",
    "    \n",
    "    # Pandas 데이터프레임으로 변환\n",
    "    pandas_df = df_union.toPandas()\n",
    "else:\n",
    "    print(\"No JSON files found or read.\")"
   ]
  },
  {
   "cell_type": "code",
   "execution_count": 19,
   "id": "173bca45-09fd-4fea-83ca-27cb5957ecf8",
   "metadata": {},
   "outputs": [
    {
     "name": "stdout",
     "output_type": "stream",
     "text": [
      "WAV 파일 샘플링 레이트 (scipy): 44100\n",
      "librosa로 처리한 샘플링 레이트: 44100\n",
      "+-----+-------------------+------------------+-------------------+------------------+-------------------+------------------+-------------------+------------------+--------------------+-------------------+-------------------+--------------------+-------------------+\n",
      "|index|             mfcc_1|            mfcc_2|             mfcc_3|            mfcc_4|             mfcc_5|            mfcc_6|             mfcc_7|            mfcc_8|              mfcc_9|            mfcc_10|            mfcc_11|             mfcc_12|            mfcc_13|\n",
      "+-----+-------------------+------------------+-------------------+------------------+-------------------+------------------+-------------------+------------------+--------------------+-------------------+-------------------+--------------------+-------------------+\n",
      "|    0|-238.61221313476562|133.48704528808594|-1.2842379808425903|22.370864868164062| 22.564083099365234| 6.518252372741699| -3.192568778991699|1.1137619018554688|  -7.715191841125488|-3.4649863243103027|   2.92221736907959|   7.885313987731934|   1.06760835647583|\n",
      "|    1| -234.8196258544922|152.23367309570312|-10.859319686889648|34.342796325683594| 19.500041961669922|10.937911987304688| 1.7606014013290405|13.675949096679688|  -4.060370922088623|-0.5605003833770752|-1.4398456811904907|-0.00202190876007...| -2.775230646133423|\n",
      "|    2|-254.14523315429688|165.32640075683594|-27.593833923339844|47.074913024902344|  6.318586826324463|17.216386795043945|-1.5395570993423462|20.285751342773438|  -3.986100912094116|  4.778692245483398| -5.949762344360352|  -1.714796781539917|-5.8034443855285645|\n",
      "|    3| -253.3058319091797|159.80323791503906| -33.33568572998047|42.717647552490234|  4.379755973815918|20.070423126220703| 1.4052006006240845|16.080278396606445|  -5.679544448852539|  3.018892765045166|-3.2294654846191406|   5.645140171051025| -6.073312282562256|\n",
      "|    4|-245.41891479492188|  153.193115234375| -32.85066223144531| 44.12116241455078| 0.5105457901954651|17.596771240234375|-4.3503828048706055| 5.619840145111084|  -7.632172584533691|-1.9847736358642578| -6.154416561126709|   4.396657943725586|-13.112882614135742|\n",
      "|    5|-252.58102416992188| 156.5447998046875|-28.993122100830078|46.016319274902344|-0.2469186782836914|12.098941802978516| -8.061708450317383| 8.375875473022461|-0.41860294342041016| -2.411896228790283|-10.271892547607422|  0.3110909163951874| -8.676599502563477|\n",
      "|    6|-252.06878662109375|163.08993530273438|-29.229995727539062|44.448089599609375|  2.188354730606079| 18.11636734008789| 0.6067911982536316|17.408496856689453|  -3.017289638519287| -3.181697130203247|-10.219249725341797| -1.2032034397125244| -2.397388458251953|\n",
      "|    7|-244.83360290527344|168.12342834472656|-27.225616455078125| 42.48029327392578| 1.4962211847305298|18.756542205810547| -2.100529432296753|18.717491149902344| -0.2508097290992737|0.08222024142742157| -5.713358402252197| -0.8186577558517456|-4.1089043617248535|\n",
      "|    8|-255.51055908203125|162.20350646972656|-26.813547134399414|   46.012451171875|  6.107474327087402| 18.61876678466797| -7.505408763885498|18.128040313720703|   4.185237884521484|-0.5692243576049805| -3.240705966949463|   3.291661024093628|-1.1030519008636475|\n",
      "|    9| -259.4652099609375| 162.9274139404297| -21.87683868408203| 51.57384490966797|  5.312585830688477|14.814382553100586| -9.197937965393066|13.450044631958008|   4.631957054138184|-0.8993821144104004| -6.631681442260742|   2.306917190551758|  3.717367649078369|\n",
      "|   10|-253.55397033691406|165.00936889648438|-24.863035202026367|47.130210876464844|  7.236286640167236|16.359569549560547| -6.786656856536865| 15.13401985168457|   1.030010461807251| 2.2361278533935547|-4.9585652351379395|   4.346142292022705| 2.9443840980529785|\n",
      "|   11| -258.5445556640625|159.13418579101562|-30.627212524414062|42.154510498046875|  4.253707408905029|11.393556594848633| -5.590032577514648| 13.43081283569336| -0.8983305096626282|  4.527165412902832| -4.157955169677734|  5.8086323738098145| 2.7174293994903564|\n",
      "|   12|-256.57427978515625|156.21266174316406| -33.74005889892578| 46.43842315673828|  4.295838356018066| 11.34597396850586| -6.837504863739014| 8.961783409118652|    3.37335205078125|  12.39168930053711|   4.77872371673584|   9.819704055786133| 2.7097957134246826|\n",
      "|   13|  -251.453369140625| 157.7398681640625|-37.413658142089844| 46.46482849121094|  6.033846855163574|16.476884841918945|  -2.95131778717041|14.010506629943848|     9.5043363571167| 14.386561393737793| -2.455197334289551|   4.051397323608398| 2.6267545223236084|\n",
      "|   14|-247.97378540039062|162.29983520507812| -32.59385681152344| 48.31272888183594|  4.295218467712402|18.906044006347656|-2.7933778762817383|17.631210327148438|   7.329019546508789|  12.43399429321289| -0.829524040222168|    3.03818941116333|  6.273577690124512|\n",
      "|   15|-252.52867126464844|159.99917602539062| -32.13225555419922|54.586151123046875| 12.019415855407715|25.700538635253906| -3.111994743347168| 13.92772102355957| -0.9312478303909302|  6.140693664550781|-1.1304645538330078|   4.584556579589844|  7.918161392211914|\n",
      "|   16|-250.10411071777344| 163.3298797607422| -35.59845733642578| 53.11711120605469| 13.433799743652344| 20.58519744873047|  -6.43196964263916| 9.722782135009766|  1.9978270530700684|  4.989738464355469|-2.2549195289611816|   5.860180854797363|  4.176880836486816|\n",
      "|   17|-252.03509521484375|   164.88427734375| -37.01164245605469| 50.74065399169922|  8.693597793579102| 11.34479808807373| -11.53178596496582| 8.081330299377441|       4.81298828125| 3.2494821548461914|-2.5970005989074707|  4.9036102294921875|  4.260385036468506|\n",
      "|   18|-252.36012268066406|   168.82958984375| -35.81658172607422| 47.65658187866211|  7.720456123352051|10.427047729492188|-12.472829818725586| 8.772417068481445|   4.111944198608398|  6.639457702636719| -1.066290020942688|   7.770711898803711|  7.007153511047363|\n",
      "|   19|-251.44088745117188|167.73861694335938| -33.13948059082031| 48.36707305908203| 13.558521270751953| 15.33034610748291|-10.072589874267578|11.701871871948242|   3.681596279144287|  9.066672325134277| -2.564875602722168|   8.730168342590332|  4.944044589996338|\n",
      "+-----+-------------------+------------------+-------------------+------------------+-------------------+------------------+-------------------+------------------+--------------------+-------------------+-------------------+--------------------+-------------------+\n",
      "only showing top 20 rows\n",
      "\n"
     ]
    }
   ],
   "source": [
    "import pyspark\n",
    "from pyspark.sql import SparkSession\n",
    "import io\n",
    "from scipy.io import wavfile\n",
    "import librosa\n",
    "import numpy as np\n",
    "from pyspark.sql.functions import udf\n",
    "from pyspark.sql.types import ArrayType, FloatType\n",
    "\n",
    "# HDFS 경로 설정 (따옴표 수정)\n",
    "hdfs_path = \"hdfs://localhost:9000/shared_data/raw_data/1.Car/1.horn_of_car/1.car_horn_9_1.wav\"\n",
    "\n",
    "# HDFS에서 WAV 파일 읽기 (binaryFile 포맷 사용)\n",
    "binary_df = spark.read.format(\"binaryFile\").load(hdfs_path)\n",
    "\n",
    "# 바이너리 데이터 추출 (첫 번째 행의 content 컬럼)\n",
    "binary_data = binary_df.first()[\"content\"]\n",
    "\n",
    "# 바이너리 데이터를 메모리 파일로 변환\n",
    "audio_bytes = io.BytesIO(binary_data)\n",
    "\n",
    "# scipy로 WAV 파일 읽기\n",
    "sr, audio = wavfile.read(audio_bytes)\n",
    "print(\"WAV 파일 샘플링 레이트 (scipy):\", sr)\n",
    "\n",
    "# librosa를 사용해 WAV 파일을 리샘플링\n",
    "audio_librosa, sr_librosa = librosa.load(audio_bytes, sr=None)\n",
    "print(\"librosa로 처리한 샘플링 레이트:\", sr_librosa)\n",
    "\n",
    "# MFCC 추출\n",
    "mfcc = librosa.feature.mfcc(y=audio_librosa, sr=sr_librosa, n_mfcc=13)  # 13개의 MFCC 특징 추출\n",
    "\n",
    "# MFCC 데이터 프레임으로 변환\n",
    "mfcc_list = mfcc.T.tolist()  # MFCC는 2D 배열이므로 이를 각 행별로 리스트로 변환\n",
    "\n",
    "# Spark DataFrame으로 변환 (따옴표 수정)\n",
    "df_mfcc = spark.createDataFrame(\n",
    "    [(i, *mfcc_list[i]) for i in range(len(mfcc_list))],\n",
    "    [\"index\"] + [f\"mfcc_{i+1}\" for i in range(13)]\n",
    ")\n",
    "\n",
    "df_mfcc.show()\n"
   ]
  },
  {
   "cell_type": "code",
   "execution_count": null,
   "id": "9377c2b7-5101-47f5-aa0f-306490defcb8",
   "metadata": {},
   "outputs": [],
   "source": []
  }
 ],
 "metadata": {
  "kernelspec": {
   "display_name": "Python(ml_env)",
   "language": "python",
   "name": "ml_env"
  },
  "language_info": {
   "codemirror_mode": {
    "name": "ipython",
    "version": 3
   },
   "file_extension": ".py",
   "mimetype": "text/x-python",
   "name": "python",
   "nbconvert_exporter": "python",
   "pygments_lexer": "ipython3",
   "version": "3.8.20"
  },
  "widgets": {
   "application/vnd.jupyter.widget-state+json": {
    "state": {},
    "version_major": 2,
    "version_minor": 0
   }
  }
 },
 "nbformat": 4,
 "nbformat_minor": 5
}
