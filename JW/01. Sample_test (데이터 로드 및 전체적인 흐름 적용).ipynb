{
 "cells": [
  {
   "cell_type": "markdown",
   "id": "a0d0a136",
   "metadata": {},
   "source": [
    "# 샘플 데이터 로드 및 테스트"
   ]
  },
  {
   "cell_type": "markdown",
   "id": "f8982ed1",
   "metadata": {},
   "source": [
    "## 1. 필요한 라이브러리 임포트"
   ]
  },
  {
   "cell_type": "code",
   "execution_count": 1,
   "id": "f4c08a3f",
   "metadata": {},
   "outputs": [
    {
     "name": "stderr",
     "output_type": "stream",
     "text": [
      "2025-02-06 17:21:30.841591: I tensorflow/core/util/port.cc:110] oneDNN custom operations are on. You may see slightly different numerical results due to floating-point round-off errors from different computation orders. To turn them off, set the environment variable `TF_ENABLE_ONEDNN_OPTS=0`.\n",
      "2025-02-06 17:21:30.877258: I tensorflow/core/platform/cpu_feature_guard.cc:182] This TensorFlow binary is optimized to use available CPU instructions in performance-critical operations.\n",
      "To enable the following instructions: AVX2 AVX512F AVX512_VNNI FMA, in other operations, rebuild TensorFlow with the appropriate compiler flags.\n"
     ]
    },
    {
     "name": "stdout",
     "output_type": "stream",
     "text": [
      "NumPy version: 1.24.3\n",
      "TensorFlow version: 2.13.0\n",
      "Pandas version: 2.0.3\n",
      "Librosa version: 0.10.2.post1\n"
     ]
    }
   ],
   "source": [
    "import os\n",
    "import json\n",
    "import numpy as np\n",
    "import tensorflow as tf\n",
    "import pandas as pd\n",
    "import librosa\n",
    "import matplotlib.pyplot as plt\n",
    "\n",
    "print(f\"NumPy version: {np.__version__}\")\n",
    "print(f\"TensorFlow version: {tf.__version__}\")\n",
    "print(f\"Pandas version: {pd.__version__}\")\n",
    "print(f\"Librosa version: {librosa.__version__}\")"
   ]
  },
  {
   "cell_type": "markdown",
   "id": "f751057f",
   "metadata": {},
   "source": [
    "## 2. 경로 설정 및 파일 목록 가져오기"
   ]
  },
  {
   "cell_type": "code",
   "execution_count": 2,
   "id": "0069acc5",
   "metadata": {},
   "outputs": [],
   "source": [
    "# 데이터 폴더 경로 설정\n",
    "data_dir = './Sample'\n",
    "\n",
    "# JSON 파일 목록 가져오기\n",
    "json_files = sorted([os.path.join(data_dir, f) for f in os.listdir(data_dir) if f.endswith('.json')])\n",
    "\n",
    "# 오디오 파일 목록 가져오기\n",
    "audio_files = sorted([os.path.join(data_dir, f) for f in os.listdir(data_dir) if f.endswith('.wav')])"
   ]
  },
  {
   "cell_type": "markdown",
   "id": "bcd37806",
   "metadata": {},
   "source": [
    "## 3. 클래스 레이블 매핑 함수 설정"
   ]
  },
  {
   "cell_type": "code",
   "execution_count": 3,
   "id": "3dde6ac4",
   "metadata": {},
   "outputs": [],
   "source": [
    "def id_parse(label_name):\n",
    "    label_map = {\n",
    "        '차량경적': 0,\n",
    "        '차량사이렌': 1,\n",
    "        '차량주행음': 2,\n",
    "        '이륜차경적': 3,\n",
    "        '이륜차주행음': 4,\n",
    "        '비행기': 5,\n",
    "        '헬리콥터': 6,\n",
    "        '기차': 7,\n",
    "        '지하철': 8,\n",
    "        '발소리': 9,\n",
    "        '가구소리': 10,\n",
    "        '청소기': 11,\n",
    "        '세탁기': 12,\n",
    "        '개': 13,\n",
    "        '고양이': 14,\n",
    "        '공구': 15,\n",
    "        '악기': 16,\n",
    "        '항타기': 17,\n",
    "        '파쇄기': 18,\n",
    "        '콘크리트펌프': 19,\n",
    "        '발전기': 20,\n",
    "        '절삭기': 21,\n",
    "        '송풍기': 22,\n",
    "        '압축기': 23\n",
    "    }\n",
    "    return label_map.get(label_name, 24)  # 정의되지 않은 레이블은 24로 처리"
   ]
  },
  {
   "cell_type": "markdown",
   "id": "97d97b05",
   "metadata": {},
   "source": [
    "## 4. JSON 파일 파싱 함수 생성"
   ]
  },
  {
   "cell_type": "code",
   "execution_count": 4,
   "id": "96f77ba2",
   "metadata": {},
   "outputs": [],
   "source": [
    "def parse_json_file(json_file):\n",
    "    # JSON 파일의 기본 이름 추출 (예: '1.자동차_1')\n",
    "    base_name = os.path.splitext(os.path.basename(json_file))[0]\n",
    "    \n",
    "    # 오디오 파일 이름 구성 (예: '1.자동차_1_1.wav')\n",
    "    audio_file_name = f\"{base_name}_1.wav\"\n",
    "    \n",
    "    # 오디오 파일 경로 생성\n",
    "    audio_file_path = os.path.join(os.path.dirname(json_file), audio_file_name)\n",
    "    \n",
    "    # JSON 파일에서 클래스 ID 추출\n",
    "    with open(json_file, 'r', encoding='utf-8') as f:\n",
    "        data = json.load(f)\n",
    "    \n",
    "    annotation = data['annotations'][0]\n",
    "    label_name = annotation['categories']['category_03']\n",
    "    class_id = id_parse(label_name)\n",
    "    \n",
    "    return class_id, audio_file_path"
   ]
  },
  {
   "cell_type": "markdown",
   "id": "2866a054",
   "metadata": {},
   "source": [
    "## 5. 오디오 파일에서 MFCC 특징 추출 함수 생성"
   ]
  },
  {
   "cell_type": "code",
   "execution_count": 5,
   "id": "da4261a8",
   "metadata": {},
   "outputs": [],
   "source": [
    "def extract_mfcc(audio_file, n_mfcc=40):\n",
    "    y, sr = librosa.load(audio_file, sr=None)\n",
    "    mfcc = librosa.feature.mfcc(y=y, sr=sr, n_mfcc=n_mfcc)\n",
    "    # 필요한 경우 패딩 또는 자르기를 통해 배열의 크기를 통일 가능\n",
    "    mfcc = np.mean(mfcc.T, axis=0)  # 평균값으로 MFCC 축약\n",
    "    return mfcc"
   ]
  },
  {
   "cell_type": "markdown",
   "id": "c6f766af",
   "metadata": {},
   "source": [
    "## 6. 데이터 로딩 및 전처리"
   ]
  },
  {
   "cell_type": "code",
   "execution_count": 6,
   "id": "e1a4b7a2",
   "metadata": {},
   "outputs": [],
   "source": [
    "data = []\n",
    "\n",
    "for json_file in json_files:\n",
    "    class_id, audio_path = parse_json_file(json_file)\n",
    "    \n",
    "    if os.path.exists(audio_path):\n",
    "        mfcc_feature = extract_mfcc(audio_path)\n",
    "        data.append({\n",
    "            'classID': class_id,\n",
    "            'mfcc': mfcc_feature,\n",
    "            'audio_path': audio_path\n",
    "        })\n",
    "    else:\n",
    "        print(f\"오디오 파일을 찾을 수 없습니다: {audio_path}\")\n",
    "\n",
    "# 데이터프레임 생성\n",
    "df = pd.DataFrame(data)"
   ]
  },
  {
   "cell_type": "markdown",
   "id": "b3f8194a",
   "metadata": {},
   "source": [
    "## 7. 데이터셋 준비"
   ]
  },
  {
   "cell_type": "code",
   "execution_count": 7,
   "id": "0224bff1",
   "metadata": {},
   "outputs": [
    {
     "name": "stdout",
     "output_type": "stream",
     "text": [
      "X shape: (5, 40)\n",
      "y shape: (5,)\n"
     ]
    }
   ],
   "source": [
    "# 특징과 레이블 분리\n",
    "X = np.array(df['mfcc'].to_list())\n",
    "y = np.array(df['classID'].to_list())\n",
    "\n",
    "# 데이터 형태 확인\n",
    "print(\"X shape:\", X.shape)\n",
    "print(\"y shape:\", y.shape)"
   ]
  },
  {
   "cell_type": "markdown",
   "id": "a381f811",
   "metadata": {},
   "source": [
    "## 8. 데이터 분할"
   ]
  },
  {
   "cell_type": "code",
   "execution_count": 8,
   "id": "ee1e8b66",
   "metadata": {},
   "outputs": [],
   "source": [
    "from sklearn.model_selection import train_test_split\n",
    "\n",
    "X_train, X_test, y_train, y_test = train_test_split(X, y, test_size=0.2, random_state=42)\n",
    "\n",
    "# 모델 입력에 맞게 데이터 형태 변경\n",
    "X_train = X_train.reshape(X_train.shape[0], X_train.shape[1], 1)\n",
    "X_test = X_test.reshape(X_test.shape[0], X_test.shape[1], 1)"
   ]
  },
  {
   "cell_type": "code",
   "execution_count": 9,
   "id": "bc2df959",
   "metadata": {},
   "outputs": [
    {
     "data": {
      "text/html": [
       "<div>\n",
       "<style scoped>\n",
       "    .dataframe tbody tr th:only-of-type {\n",
       "        vertical-align: middle;\n",
       "    }\n",
       "\n",
       "    .dataframe tbody tr th {\n",
       "        vertical-align: top;\n",
       "    }\n",
       "\n",
       "    .dataframe thead th {\n",
       "        text-align: right;\n",
       "    }\n",
       "</style>\n",
       "<table border=\"1\" class=\"dataframe\">\n",
       "  <thead>\n",
       "    <tr style=\"text-align: right;\">\n",
       "      <th></th>\n",
       "      <th>classID</th>\n",
       "      <th>mfcc</th>\n",
       "      <th>audio_path</th>\n",
       "    </tr>\n",
       "  </thead>\n",
       "  <tbody>\n",
       "    <tr>\n",
       "      <th>0</th>\n",
       "      <td>0</td>\n",
       "      <td>[-334.90317, 194.8046, -40.016586, 39.345, 19....</td>\n",
       "      <td>./Sample/1.자동차_1_1.wav</td>\n",
       "    </tr>\n",
       "    <tr>\n",
       "      <th>1</th>\n",
       "      <td>0</td>\n",
       "      <td>[-270.90387, 224.37352, -63.293335, 31.65644, ...</td>\n",
       "      <td>./Sample/1.자동차_2_1.wav</td>\n",
       "    </tr>\n",
       "    <tr>\n",
       "      <th>2</th>\n",
       "      <td>0</td>\n",
       "      <td>[-334.83524, 210.3677, -37.51646, 35.702507, 1...</td>\n",
       "      <td>./Sample/1.자동차_3_1.wav</td>\n",
       "    </tr>\n",
       "    <tr>\n",
       "      <th>3</th>\n",
       "      <td>0</td>\n",
       "      <td>[-337.64847, 195.49844, -34.127354, 39.483585,...</td>\n",
       "      <td>./Sample/1.자동차_4_1.wav</td>\n",
       "    </tr>\n",
       "    <tr>\n",
       "      <th>4</th>\n",
       "      <td>0</td>\n",
       "      <td>[-306.24835, 237.49335, -29.180887, 16.037653,...</td>\n",
       "      <td>./Sample/1.자동차_5_1.wav</td>\n",
       "    </tr>\n",
       "  </tbody>\n",
       "</table>\n",
       "</div>"
      ],
      "text/plain": [
       "   classID                                               mfcc  \\\n",
       "0        0  [-334.90317, 194.8046, -40.016586, 39.345, 19....   \n",
       "1        0  [-270.90387, 224.37352, -63.293335, 31.65644, ...   \n",
       "2        0  [-334.83524, 210.3677, -37.51646, 35.702507, 1...   \n",
       "3        0  [-337.64847, 195.49844, -34.127354, 39.483585,...   \n",
       "4        0  [-306.24835, 237.49335, -29.180887, 16.037653,...   \n",
       "\n",
       "               audio_path  \n",
       "0  ./Sample/1.자동차_1_1.wav  \n",
       "1  ./Sample/1.자동차_2_1.wav  \n",
       "2  ./Sample/1.자동차_3_1.wav  \n",
       "3  ./Sample/1.자동차_4_1.wav  \n",
       "4  ./Sample/1.자동차_5_1.wav  "
      ]
     },
     "execution_count": 9,
     "metadata": {},
     "output_type": "execute_result"
    }
   ],
   "source": [
    "df"
   ]
  },
  {
   "cell_type": "markdown",
   "id": "af10ed1c",
   "metadata": {},
   "source": [
    "## 9. 간단한 모델 구축 (테스트용으로 의미 없음 / 구체적인 모델 생성 예정)"
   ]
  },
  {
   "cell_type": "code",
   "execution_count": 10,
   "id": "0cdc8c56",
   "metadata": {},
   "outputs": [],
   "source": [
    "from tensorflow.keras.models import Sequential\n",
    "from tensorflow.keras.layers import Conv1D, MaxPooling1D, Flatten, Dense\n",
    "\n",
    "# 클래스 수 (필요에 따라 수정)\n",
    "num_classes = len(set(y))\n",
    "\n",
    "model = Sequential()\n",
    "model.add(Conv1D(64, kernel_size=3, activation='relu', input_shape=(X_train.shape[1], 1)))\n",
    "model.add(MaxPooling1D(pool_size=2))\n",
    "model.add(Flatten())\n",
    "model.add(Dense(64, activation='relu'))\n",
    "model.add(Dense(num_classes, activation='softmax'))\n",
    "\n",
    "model.compile(loss='sparse_categorical_crossentropy', optimizer='adam', metrics=['accuracy'])"
   ]
  },
  {
   "cell_type": "markdown",
   "id": "f5cf4b57",
   "metadata": {},
   "source": [
    "## 10. 모델 학습"
   ]
  },
  {
   "cell_type": "code",
   "execution_count": 11,
   "id": "5dffa945",
   "metadata": {},
   "outputs": [
    {
     "name": "stdout",
     "output_type": "stream",
     "text": [
      "Epoch 1/50\n",
      "4/4 [==============================] - 1s 54ms/step - loss: 0.0000e+00 - accuracy: 0.0000e+00 - val_loss: 0.0000e+00 - val_accuracy: 0.0000e+00\n",
      "Epoch 2/50\n",
      "4/4 [==============================] - 0s 8ms/step - loss: 0.0000e+00 - accuracy: 0.0000e+00 - val_loss: 0.0000e+00 - val_accuracy: 0.0000e+00\n",
      "Epoch 3/50\n",
      "4/4 [==============================] - 0s 8ms/step - loss: 0.0000e+00 - accuracy: 0.0000e+00 - val_loss: 0.0000e+00 - val_accuracy: 0.0000e+00\n",
      "Epoch 4/50\n",
      "4/4 [==============================] - 0s 8ms/step - loss: 0.0000e+00 - accuracy: 0.0000e+00 - val_loss: 0.0000e+00 - val_accuracy: 0.0000e+00\n",
      "Epoch 5/50\n",
      "4/4 [==============================] - 0s 8ms/step - loss: 0.0000e+00 - accuracy: 0.0000e+00 - val_loss: 0.0000e+00 - val_accuracy: 0.0000e+00\n",
      "Epoch 6/50\n",
      "4/4 [==============================] - 0s 8ms/step - loss: 0.0000e+00 - accuracy: 0.0000e+00 - val_loss: 0.0000e+00 - val_accuracy: 0.0000e+00\n",
      "Epoch 7/50\n",
      "4/4 [==============================] - 0s 8ms/step - loss: 0.0000e+00 - accuracy: 0.0000e+00 - val_loss: 0.0000e+00 - val_accuracy: 0.0000e+00\n",
      "Epoch 8/50\n",
      "4/4 [==============================] - 0s 8ms/step - loss: 0.0000e+00 - accuracy: 0.0000e+00 - val_loss: 0.0000e+00 - val_accuracy: 0.0000e+00\n",
      "Epoch 9/50\n",
      "4/4 [==============================] - 0s 8ms/step - loss: 0.0000e+00 - accuracy: 0.0000e+00 - val_loss: 0.0000e+00 - val_accuracy: 0.0000e+00\n",
      "Epoch 10/50\n",
      "4/4 [==============================] - 0s 8ms/step - loss: 0.0000e+00 - accuracy: 0.0000e+00 - val_loss: 0.0000e+00 - val_accuracy: 0.0000e+00\n",
      "Epoch 11/50\n",
      "4/4 [==============================] - 0s 8ms/step - loss: 0.0000e+00 - accuracy: 0.0000e+00 - val_loss: 0.0000e+00 - val_accuracy: 0.0000e+00\n",
      "Epoch 12/50\n",
      "4/4 [==============================] - 0s 8ms/step - loss: 0.0000e+00 - accuracy: 0.0000e+00 - val_loss: 0.0000e+00 - val_accuracy: 0.0000e+00\n",
      "Epoch 13/50\n",
      "4/4 [==============================] - 0s 8ms/step - loss: 0.0000e+00 - accuracy: 0.0000e+00 - val_loss: 0.0000e+00 - val_accuracy: 0.0000e+00\n",
      "Epoch 14/50\n",
      "4/4 [==============================] - 0s 8ms/step - loss: 0.0000e+00 - accuracy: 0.0000e+00 - val_loss: 0.0000e+00 - val_accuracy: 0.0000e+00\n",
      "Epoch 15/50\n",
      "4/4 [==============================] - 0s 8ms/step - loss: 0.0000e+00 - accuracy: 0.0000e+00 - val_loss: 0.0000e+00 - val_accuracy: 0.0000e+00\n",
      "Epoch 16/50\n",
      "4/4 [==============================] - 0s 8ms/step - loss: 0.0000e+00 - accuracy: 0.0000e+00 - val_loss: 0.0000e+00 - val_accuracy: 0.0000e+00\n",
      "Epoch 17/50\n",
      "4/4 [==============================] - 0s 8ms/step - loss: 0.0000e+00 - accuracy: 0.0000e+00 - val_loss: 0.0000e+00 - val_accuracy: 0.0000e+00\n",
      "Epoch 18/50\n",
      "4/4 [==============================] - 0s 8ms/step - loss: 0.0000e+00 - accuracy: 0.0000e+00 - val_loss: 0.0000e+00 - val_accuracy: 0.0000e+00\n",
      "Epoch 19/50\n",
      "4/4 [==============================] - 0s 8ms/step - loss: 0.0000e+00 - accuracy: 0.0000e+00 - val_loss: 0.0000e+00 - val_accuracy: 0.0000e+00\n",
      "Epoch 20/50\n",
      "4/4 [==============================] - 0s 8ms/step - loss: 0.0000e+00 - accuracy: 0.0000e+00 - val_loss: 0.0000e+00 - val_accuracy: 0.0000e+00\n",
      "Epoch 21/50\n",
      "4/4 [==============================] - 0s 8ms/step - loss: 0.0000e+00 - accuracy: 0.0000e+00 - val_loss: 0.0000e+00 - val_accuracy: 0.0000e+00\n",
      "Epoch 22/50\n",
      "4/4 [==============================] - 0s 8ms/step - loss: 0.0000e+00 - accuracy: 0.0000e+00 - val_loss: 0.0000e+00 - val_accuracy: 0.0000e+00\n",
      "Epoch 23/50\n",
      "4/4 [==============================] - 0s 8ms/step - loss: 0.0000e+00 - accuracy: 0.0000e+00 - val_loss: 0.0000e+00 - val_accuracy: 0.0000e+00\n",
      "Epoch 24/50\n",
      "4/4 [==============================] - 0s 8ms/step - loss: 0.0000e+00 - accuracy: 0.0000e+00 - val_loss: 0.0000e+00 - val_accuracy: 0.0000e+00\n",
      "Epoch 25/50\n",
      "4/4 [==============================] - 0s 8ms/step - loss: 0.0000e+00 - accuracy: 0.0000e+00 - val_loss: 0.0000e+00 - val_accuracy: 0.0000e+00\n",
      "Epoch 26/50\n",
      "4/4 [==============================] - 0s 8ms/step - loss: 0.0000e+00 - accuracy: 0.0000e+00 - val_loss: 0.0000e+00 - val_accuracy: 0.0000e+00\n",
      "Epoch 27/50\n",
      "4/4 [==============================] - 0s 8ms/step - loss: 0.0000e+00 - accuracy: 0.0000e+00 - val_loss: 0.0000e+00 - val_accuracy: 0.0000e+00\n",
      "Epoch 28/50\n",
      "4/4 [==============================] - 0s 8ms/step - loss: 0.0000e+00 - accuracy: 0.0000e+00 - val_loss: 0.0000e+00 - val_accuracy: 0.0000e+00\n",
      "Epoch 29/50\n",
      "4/4 [==============================] - 0s 8ms/step - loss: 0.0000e+00 - accuracy: 0.0000e+00 - val_loss: 0.0000e+00 - val_accuracy: 0.0000e+00\n",
      "Epoch 30/50\n",
      "4/4 [==============================] - 0s 8ms/step - loss: 0.0000e+00 - accuracy: 0.0000e+00 - val_loss: 0.0000e+00 - val_accuracy: 0.0000e+00\n",
      "Epoch 31/50\n",
      "4/4 [==============================] - 0s 8ms/step - loss: 0.0000e+00 - accuracy: 0.0000e+00 - val_loss: 0.0000e+00 - val_accuracy: 0.0000e+00\n",
      "Epoch 32/50\n",
      "4/4 [==============================] - 0s 8ms/step - loss: 0.0000e+00 - accuracy: 0.0000e+00 - val_loss: 0.0000e+00 - val_accuracy: 0.0000e+00\n",
      "Epoch 33/50\n",
      "4/4 [==============================] - 0s 8ms/step - loss: 0.0000e+00 - accuracy: 0.0000e+00 - val_loss: 0.0000e+00 - val_accuracy: 0.0000e+00\n",
      "Epoch 34/50\n",
      "4/4 [==============================] - 0s 8ms/step - loss: 0.0000e+00 - accuracy: 0.0000e+00 - val_loss: 0.0000e+00 - val_accuracy: 0.0000e+00\n",
      "Epoch 35/50\n",
      "4/4 [==============================] - 0s 8ms/step - loss: 0.0000e+00 - accuracy: 0.0000e+00 - val_loss: 0.0000e+00 - val_accuracy: 0.0000e+00\n",
      "Epoch 36/50\n",
      "4/4 [==============================] - 0s 8ms/step - loss: 0.0000e+00 - accuracy: 0.0000e+00 - val_loss: 0.0000e+00 - val_accuracy: 0.0000e+00\n",
      "Epoch 37/50\n",
      "4/4 [==============================] - 0s 8ms/step - loss: 0.0000e+00 - accuracy: 0.0000e+00 - val_loss: 0.0000e+00 - val_accuracy: 0.0000e+00\n",
      "Epoch 38/50\n",
      "4/4 [==============================] - 0s 8ms/step - loss: 0.0000e+00 - accuracy: 0.0000e+00 - val_loss: 0.0000e+00 - val_accuracy: 0.0000e+00\n",
      "Epoch 39/50\n",
      "4/4 [==============================] - 0s 8ms/step - loss: 0.0000e+00 - accuracy: 0.0000e+00 - val_loss: 0.0000e+00 - val_accuracy: 0.0000e+00\n",
      "Epoch 40/50\n",
      "4/4 [==============================] - 0s 8ms/step - loss: 0.0000e+00 - accuracy: 0.0000e+00 - val_loss: 0.0000e+00 - val_accuracy: 0.0000e+00\n",
      "Epoch 41/50\n",
      "4/4 [==============================] - 0s 8ms/step - loss: 0.0000e+00 - accuracy: 0.0000e+00 - val_loss: 0.0000e+00 - val_accuracy: 0.0000e+00\n",
      "Epoch 42/50\n",
      "4/4 [==============================] - 0s 8ms/step - loss: 0.0000e+00 - accuracy: 0.0000e+00 - val_loss: 0.0000e+00 - val_accuracy: 0.0000e+00\n",
      "Epoch 43/50\n",
      "4/4 [==============================] - 0s 8ms/step - loss: 0.0000e+00 - accuracy: 0.0000e+00 - val_loss: 0.0000e+00 - val_accuracy: 0.0000e+00\n",
      "Epoch 44/50\n",
      "4/4 [==============================] - 0s 8ms/step - loss: 0.0000e+00 - accuracy: 0.0000e+00 - val_loss: 0.0000e+00 - val_accuracy: 0.0000e+00\n",
      "Epoch 45/50\n",
      "4/4 [==============================] - 0s 8ms/step - loss: 0.0000e+00 - accuracy: 0.0000e+00 - val_loss: 0.0000e+00 - val_accuracy: 0.0000e+00\n",
      "Epoch 46/50\n",
      "4/4 [==============================] - 0s 8ms/step - loss: 0.0000e+00 - accuracy: 0.0000e+00 - val_loss: 0.0000e+00 - val_accuracy: 0.0000e+00\n",
      "Epoch 47/50\n",
      "4/4 [==============================] - 0s 8ms/step - loss: 0.0000e+00 - accuracy: 0.0000e+00 - val_loss: 0.0000e+00 - val_accuracy: 0.0000e+00\n",
      "Epoch 48/50\n",
      "4/4 [==============================] - 0s 8ms/step - loss: 0.0000e+00 - accuracy: 0.0000e+00 - val_loss: 0.0000e+00 - val_accuracy: 0.0000e+00\n",
      "Epoch 49/50\n",
      "4/4 [==============================] - 0s 8ms/step - loss: 0.0000e+00 - accuracy: 0.0000e+00 - val_loss: 0.0000e+00 - val_accuracy: 0.0000e+00\n",
      "Epoch 50/50\n",
      "4/4 [==============================] - 0s 8ms/step - loss: 0.0000e+00 - accuracy: 0.0000e+00 - val_loss: 0.0000e+00 - val_accuracy: 0.0000e+00\n"
     ]
    }
   ],
   "source": [
    "history = model.fit(X_train, y_train, epochs=50, batch_size=1, validation_data=(X_test, y_test))"
   ]
  },
  {
   "cell_type": "markdown",
   "id": "fc9a416f",
   "metadata": {},
   "source": [
    "## 11. 모델 평가 및 결과 시각화"
   ]
  },
  {
   "cell_type": "code",
   "execution_count": 12,
   "id": "73275fe0",
   "metadata": {},
   "outputs": [
    {
     "name": "stderr",
     "output_type": "stream",
     "text": [
      "/tmp/ipykernel_7666/137274.py:22: UserWarning: Glyph 50640 (\\N{HANGUL SYLLABLE E}) missing from current font.\n",
      "  plt.tight_layout()\n",
      "/tmp/ipykernel_7666/137274.py:22: UserWarning: Glyph 54252 (\\N{HANGUL SYLLABLE PO}) missing from current font.\n",
      "  plt.tight_layout()\n",
      "/tmp/ipykernel_7666/137274.py:22: UserWarning: Glyph 53356 (\\N{HANGUL SYLLABLE KEU}) missing from current font.\n",
      "  plt.tight_layout()\n",
      "/tmp/ipykernel_7666/137274.py:22: UserWarning: Glyph 51221 (\\N{HANGUL SYLLABLE JEONG}) missing from current font.\n",
      "  plt.tight_layout()\n",
      "/tmp/ipykernel_7666/137274.py:22: UserWarning: Glyph 54869 (\\N{HANGUL SYLLABLE HWAG}) missing from current font.\n",
      "  plt.tight_layout()\n",
      "/tmp/ipykernel_7666/137274.py:22: UserWarning: Glyph 46020 (\\N{HANGUL SYLLABLE DO}) missing from current font.\n",
      "  plt.tight_layout()\n",
      "/tmp/ipykernel_7666/137274.py:22: UserWarning: Glyph 54617 (\\N{HANGUL SYLLABLE HAG}) missing from current font.\n",
      "  plt.tight_layout()\n",
      "/tmp/ipykernel_7666/137274.py:22: UserWarning: Glyph 49845 (\\N{HANGUL SYLLABLE SEUB}) missing from current font.\n",
      "  plt.tight_layout()\n",
      "/tmp/ipykernel_7666/137274.py:22: UserWarning: Glyph 44160 (\\N{HANGUL SYLLABLE GEOM}) missing from current font.\n",
      "  plt.tight_layout()\n",
      "/tmp/ipykernel_7666/137274.py:22: UserWarning: Glyph 51613 (\\N{HANGUL SYLLABLE JEUNG}) missing from current font.\n",
      "  plt.tight_layout()\n",
      "/tmp/ipykernel_7666/137274.py:22: UserWarning: Glyph 49552 (\\N{HANGUL SYLLABLE SON}) missing from current font.\n",
      "  plt.tight_layout()\n",
      "/tmp/ipykernel_7666/137274.py:22: UserWarning: Glyph 49892 (\\N{HANGUL SYLLABLE SIL}) missing from current font.\n",
      "  plt.tight_layout()\n",
      "/home/ubuntu/anaconda3/envs/sample_test/lib/python3.8/site-packages/IPython/core/pylabtools.py:152: UserWarning: Glyph 51221 (\\N{HANGUL SYLLABLE JEONG}) missing from current font.\n",
      "  fig.canvas.print_figure(bytes_io, **kw)\n",
      "/home/ubuntu/anaconda3/envs/sample_test/lib/python3.8/site-packages/IPython/core/pylabtools.py:152: UserWarning: Glyph 54869 (\\N{HANGUL SYLLABLE HWAG}) missing from current font.\n",
      "  fig.canvas.print_figure(bytes_io, **kw)\n",
      "/home/ubuntu/anaconda3/envs/sample_test/lib/python3.8/site-packages/IPython/core/pylabtools.py:152: UserWarning: Glyph 46020 (\\N{HANGUL SYLLABLE DO}) missing from current font.\n",
      "  fig.canvas.print_figure(bytes_io, **kw)\n",
      "/home/ubuntu/anaconda3/envs/sample_test/lib/python3.8/site-packages/IPython/core/pylabtools.py:152: UserWarning: Glyph 50640 (\\N{HANGUL SYLLABLE E}) missing from current font.\n",
      "  fig.canvas.print_figure(bytes_io, **kw)\n",
      "/home/ubuntu/anaconda3/envs/sample_test/lib/python3.8/site-packages/IPython/core/pylabtools.py:152: UserWarning: Glyph 54252 (\\N{HANGUL SYLLABLE PO}) missing from current font.\n",
      "  fig.canvas.print_figure(bytes_io, **kw)\n",
      "/home/ubuntu/anaconda3/envs/sample_test/lib/python3.8/site-packages/IPython/core/pylabtools.py:152: UserWarning: Glyph 53356 (\\N{HANGUL SYLLABLE KEU}) missing from current font.\n",
      "  fig.canvas.print_figure(bytes_io, **kw)\n",
      "/home/ubuntu/anaconda3/envs/sample_test/lib/python3.8/site-packages/IPython/core/pylabtools.py:152: UserWarning: Glyph 54617 (\\N{HANGUL SYLLABLE HAG}) missing from current font.\n",
      "  fig.canvas.print_figure(bytes_io, **kw)\n",
      "/home/ubuntu/anaconda3/envs/sample_test/lib/python3.8/site-packages/IPython/core/pylabtools.py:152: UserWarning: Glyph 49845 (\\N{HANGUL SYLLABLE SEUB}) missing from current font.\n",
      "  fig.canvas.print_figure(bytes_io, **kw)\n",
      "/home/ubuntu/anaconda3/envs/sample_test/lib/python3.8/site-packages/IPython/core/pylabtools.py:152: UserWarning: Glyph 44160 (\\N{HANGUL SYLLABLE GEOM}) missing from current font.\n",
      "  fig.canvas.print_figure(bytes_io, **kw)\n",
      "/home/ubuntu/anaconda3/envs/sample_test/lib/python3.8/site-packages/IPython/core/pylabtools.py:152: UserWarning: Glyph 51613 (\\N{HANGUL SYLLABLE JEUNG}) missing from current font.\n",
      "  fig.canvas.print_figure(bytes_io, **kw)\n",
      "/home/ubuntu/anaconda3/envs/sample_test/lib/python3.8/site-packages/IPython/core/pylabtools.py:152: UserWarning: Glyph 49552 (\\N{HANGUL SYLLABLE SON}) missing from current font.\n",
      "  fig.canvas.print_figure(bytes_io, **kw)\n",
      "/home/ubuntu/anaconda3/envs/sample_test/lib/python3.8/site-packages/IPython/core/pylabtools.py:152: UserWarning: Glyph 49892 (\\N{HANGUL SYLLABLE SIL}) missing from current font.\n",
      "  fig.canvas.print_figure(bytes_io, **kw)\n"
     ]
    },
    {
     "data": {
      "image/png": "[encoded data removed]",
      "text/plain": [
       "<Figure size 1200x400 with 2 Axes>"
      ]
     },
     "metadata": {},
     "output_type": "display_data"
    }
   ],
   "source": [
    "# 정확도 그래프\n",
    "import matplotlib.pyplot as plt\n",
    "\n",
    "plt.figure(figsize=(12, 4))\n",
    "plt.subplot(1, 2, 1)\n",
    "plt.plot(history.history['accuracy'], label='학습 정확도')\n",
    "plt.plot(history.history['val_accuracy'], label='검증 정확도')\n",
    "plt.title('정확도')\n",
    "plt.xlabel('에포크')\n",
    "plt.ylabel('정확도')\n",
    "plt.legend()\n",
    "\n",
    "# 손실 그래프\n",
    "plt.subplot(1, 2, 2)\n",
    "plt.plot(history.history['loss'], label='학습 손실')\n",
    "plt.plot(history.history['val_loss'], label='검증 손실')\n",
    "plt.title('손실')\n",
    "plt.xlabel('에포크')\n",
    "plt.ylabel('손실')\n",
    "plt.legend()\n",
    "\n",
    "plt.tight_layout()\n",
    "plt.show()"
   ]
  },
  {
   "cell_type": "code",
   "execution_count": null,
   "id": "296c5986",
   "metadata": {},
   "outputs": [],
   "source": []
  }
 ],
 "metadata": {
  "kernelspec": {
   "display_name": "Python(ml_env)",
   "language": "python",
   "name": "ml_env"
  },
  "language_info": {
   "codemirror_mode": {
    "name": "ipython",
    "version": 3
   },
   "file_extension": ".py",
   "mimetype": "text/x-python",
   "name": "python",
   "nbconvert_exporter": "python",
   "pygments_lexer": "ipython3",
   "version": "3.8.20"
  }
 },
 "nbformat": 4,
 "nbformat_minor": 5
}
