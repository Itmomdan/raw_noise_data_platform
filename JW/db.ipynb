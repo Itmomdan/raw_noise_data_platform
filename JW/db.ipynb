{
 "cells": [
  {
   "cell_type": "code",
   "execution_count": 2,
   "id": "2c997670-0596-4fc4-ba91-47ac2129a9db",
   "metadata": {},
   "outputs": [
    {
     "name": "stdout",
     "output_type": "stream",
     "text": [
      "DB 연결 성공!\n"
     ]
    }
   ],
   "source": [
    "from config import DB_CONFIG\n",
    "import pymysql  # MySQL 연결 라이브러리 예제\n",
    "\n",
    "# MySQL 연결\n",
    "conn = pymysql.connect(\n",
    "    host=DB_CONFIG['host'],\n",
    "    user=DB_CONFIG['user'],\n",
    "    password=DB_CONFIG['password'],\n",
    "    database=DB_CONFIG['database'],\n",
    "    port=DB_CONFIG['port']\n",
    ")\n",
    "print(\"DB 연결 성공!\")"
   ]
  },
  {
   "cell_type": "code",
   "execution_count": null,
   "id": "3ab1f1e5-957d-48b9-a326-5a91dd993ee2",
   "metadata": {},
   "outputs": [],
   "source": []
  }
 ],
 "metadata": {
  "kernelspec": {
   "display_name": "Python (ml_env)",
   "language": "python",
   "name": "ml_env"
  },
  "language_info": {
   "codemirror_mode": {
    "name": "ipython",
    "version": 3
   },
   "file_extension": ".py",
   "mimetype": "text/x-python",
   "name": "python",
   "nbconvert_exporter": "python",
   "pygments_lexer": "ipython3",
   "version": "3.8.20"
  }
 },
 "nbformat": 4,
 "nbformat_minor": 5
}
