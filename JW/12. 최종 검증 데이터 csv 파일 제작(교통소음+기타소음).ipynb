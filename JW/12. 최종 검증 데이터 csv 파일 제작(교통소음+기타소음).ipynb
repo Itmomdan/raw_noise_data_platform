{
 "cells": [
  {
   "cell_type": "markdown",
   "id": "8bc0fac6-e83d-4f34-9c92-5d3e1bae6922",
   "metadata": {},
   "source": [
    "# I. 데이터 프레임 변환"
   ]
  },
  {
   "cell_type": "code",
   "execution_count": 1,
   "id": "75f19378-5001-410c-95f8-af79c11e26b4",
   "metadata": {},
   "outputs": [
    {
     "name": "stderr",
     "output_type": "stream",
     "text": [
      "2025-03-06 02:29:42.888929: I tensorflow/core/util/port.cc:110] oneDNN custom operations are on. You may see slightly different numerical results due to floating-point round-off errors from different computation orders. To turn them off, set the environment variable `TF_ENABLE_ONEDNN_OPTS=0`.\n",
      "2025-03-06 02:29:42.940153: I tensorflow/core/platform/cpu_feature_guard.cc:182] This TensorFlow binary is optimized to use available CPU instructions in performance-critical operations.\n",
      "To enable the following instructions: AVX2 AVX512F AVX512_VNNI FMA, in other operations, rebuild TensorFlow with the appropriate compiler flags.\n",
      "2025-03-06 02:29:44.528421: W tensorflow/compiler/tf2tensorrt/utils/py_utils.cc:38] TF-TRT Warning: Could not find TensorRT\n"
     ]
    },
    {
     "name": "stdout",
     "output_type": "stream",
     "text": [
      "WARNING:tensorflow:From /tmp/ipykernel_4099/181595091.py:5: is_gpu_available (from tensorflow.python.framework.test_util) is deprecated and will be removed in a future version.\n",
      "Instructions for updating:\n",
      "Use `tf.config.list_physical_devices('GPU')` instead.\n",
      "Is GPU available: True\n",
      "tf.__version__: 2.13.0\n"
     ]
    },
    {
     "name": "stderr",
     "output_type": "stream",
     "text": [
      "2025-03-06 02:29:46.805611: I tensorflow/compiler/xla/stream_executor/cuda/cuda_gpu_executor.cc:995] successful NUMA node read from SysFS had negative value (-1), but there must be at least one NUMA node, so returning NUMA node zero. See more at https://github.com/torvalds/linux/blob/v6.0/Documentation/ABI/testing/sysfs-bus-pci#L344-L355\n",
      "2025-03-06 02:29:46.836996: I tensorflow/compiler/xla/stream_executor/cuda/cuda_gpu_executor.cc:995] successful NUMA node read from SysFS had negative value (-1), but there must be at least one NUMA node, so returning NUMA node zero. See more at https://github.com/torvalds/linux/blob/v6.0/Documentation/ABI/testing/sysfs-bus-pci#L344-L355\n",
      "2025-03-06 02:29:46.838534: I tensorflow/compiler/xla/stream_executor/cuda/cuda_gpu_executor.cc:995] successful NUMA node read from SysFS had negative value (-1), but there must be at least one NUMA node, so returning NUMA node zero. See more at https://github.com/torvalds/linux/blob/v6.0/Documentation/ABI/testing/sysfs-bus-pci#L344-L355\n",
      "2025-03-06 02:29:47.636093: I tensorflow/compiler/xla/stream_executor/cuda/cuda_gpu_executor.cc:995] successful NUMA node read from SysFS had negative value (-1), but there must be at least one NUMA node, so returning NUMA node zero. See more at https://github.com/torvalds/linux/blob/v6.0/Documentation/ABI/testing/sysfs-bus-pci#L344-L355\n",
      "2025-03-06 02:29:47.637689: I tensorflow/compiler/xla/stream_executor/cuda/cuda_gpu_executor.cc:995] successful NUMA node read from SysFS had negative value (-1), but there must be at least one NUMA node, so returning NUMA node zero. See more at https://github.com/torvalds/linux/blob/v6.0/Documentation/ABI/testing/sysfs-bus-pci#L344-L355\n",
      "2025-03-06 02:29:47.639010: I tensorflow/compiler/xla/stream_executor/cuda/cuda_gpu_executor.cc:995] successful NUMA node read from SysFS had negative value (-1), but there must be at least one NUMA node, so returning NUMA node zero. See more at https://github.com/torvalds/linux/blob/v6.0/Documentation/ABI/testing/sysfs-bus-pci#L344-L355\n",
      "2025-03-06 02:29:47.640282: I tensorflow/core/common_runtime/gpu/gpu_device.cc:1639] Created device /device:GPU:0 with 13295 MB memory:  -> device: 0, name: Tesla T4, pci bus id: 0000:00:1e.0, compute capability: 7.5\n"
     ]
    }
   ],
   "source": [
    "#import os\n",
    "#os.environ['TF_CPP_MIN_LOG_LEVEL'] = '2'  # warning 메시지 숨기기\n",
    "\n",
    "import tensorflow as tf\n",
    "print(\"Is GPU available:\", tf.test.is_gpu_available())\n",
    "\n",
    "import tensorflow as tf\n",
    "print('tf.__version__:',tf.__version__)"
   ]
  },
  {
   "cell_type": "code",
   "execution_count": 2,
   "id": "9e2b8a7d-2bc4-4840-9163-9a3c9740979f",
   "metadata": {},
   "outputs": [
    {
     "name": "stderr",
     "output_type": "stream",
     "text": [
      "2025-03-06 02:29:56.047687: I tensorflow/compiler/xla/stream_executor/cuda/cuda_gpu_executor.cc:995] successful NUMA node read from SysFS had negative value (-1), but there must be at least one NUMA node, so returning NUMA node zero. See more at https://github.com/torvalds/linux/blob/v6.0/Documentation/ABI/testing/sysfs-bus-pci#L344-L355\n",
      "2025-03-06 02:29:56.049476: I tensorflow/compiler/xla/stream_executor/cuda/cuda_gpu_executor.cc:995] successful NUMA node read from SysFS had negative value (-1), but there must be at least one NUMA node, so returning NUMA node zero. See more at https://github.com/torvalds/linux/blob/v6.0/Documentation/ABI/testing/sysfs-bus-pci#L344-L355\n",
      "2025-03-06 02:29:56.050951: I tensorflow/compiler/xla/stream_executor/cuda/cuda_gpu_executor.cc:995] successful NUMA node read from SysFS had negative value (-1), but there must be at least one NUMA node, so returning NUMA node zero. See more at https://github.com/torvalds/linux/blob/v6.0/Documentation/ABI/testing/sysfs-bus-pci#L344-L355\n"
     ]
    }
   ],
   "source": [
    "tf.config.set_visible_devices([], 'GPU')"
   ]
  },
  {
   "cell_type": "markdown",
   "id": "9ef35ffa-8a01-4591-b6d2-44568dddaade",
   "metadata": {},
   "source": [
    "## 1. 통합 데이터 프레임 생성"
   ]
  },
  {
   "cell_type": "code",
   "execution_count": 4,
   "id": "80d097ea-99c1-4c5f-b95a-cbce4bc44ee2",
   "metadata": {},
   "outputs": [],
   "source": [
    "import pymysql\n",
    "import pandas as pd\n",
    "from sklearn.model_selection import train_test_split\n",
    "from sklearn.preprocessing import StandardScaler\n",
    "from sklearn.ensemble import RandomForestClassifier\n",
    "from sklearn.metrics import accuracy_score\n",
    "import matplotlib.pyplot as plt\n",
    "import numpy as np\n",
    "import seaborn as sns\n",
    "from sklearn.metrics import confusion_matrix\n",
    "from sklearn.metrics import classification_report"
   ]
  },
  {
   "cell_type": "code",
   "execution_count": 6,
   "id": "ec4e6e36-64a3-4651-8f8f-50a8c6e4c378",
   "metadata": {},
   "outputs": [
    {
     "name": "stdout",
     "output_type": "stream",
     "text": [
      "\n",
      "기타 소음 JSON 데이터프레임:\n",
      "   area_start  area_end category_01 category_02 category_03  decibel  \\\n",
      "0         2.0     9.430       사업장소음         공사장         발전기       85   \n",
      "1         2.0    48.958       사업장소음         공사장         발전기      102   \n",
      "2         2.0    12.402       사업장소음         공사장         발전기       99   \n",
      "3         2.0     7.084       사업장소음         공사장         발전기       71   \n",
      "4         2.0    10.000       사업장소음         공사장         발전기       69   \n",
      "\n",
      "           labelName soundQuality subCategory  bitRate  ...  urban weather  \\\n",
      "0  9.공사장_40349_1.wav           정상       소형발전기  705kbps  ...  서울특별시      맑음   \n",
      "1  9.공사장_69400_1.wav           정상       대형발전기  768kbps  ...    창원시      맑음   \n",
      "2  9.공사장_40301_1.wav           정상       소형발전기  705kbps  ...  서울특별시      맑음   \n",
      "3  9.공사장_34532_1.wav           정상       소형발전기  705kbps  ...  서울특별시      맑음   \n",
      "4  9.공사장_40176_1.wav          노이즈       소형발전기  705kbps  ...  서울특별시      맑음   \n",
      "\n",
      "  contributor  dateCreated description                      uri version  year  \\\n",
      "0         IMR   2021-11-01   도시 소리 데이터  https://www.aihub.or.kr     1.0  2021   \n",
      "1         IMR   2021-11-22   도시 소리 데이터  https://www.aihub.or.kr     1.0  2021   \n",
      "2         IMR   2021-11-01   도시 소리 데이터  https://www.aihub.or.kr     1.0  2021   \n",
      "3         IMR   2021-10-26   도시 소리 데이터  https://www.aihub.or.kr     1.0  2021   \n",
      "4         IMR   2021-11-01   도시 소리 데이터  https://www.aihub.or.kr     1.0  2021   \n",
      "\n",
      "  license_name              license_url  \n",
      "0         CC 0  https://www.aihub.or.kr  \n",
      "1         CC 0  https://www.aihub.or.kr  \n",
      "2         CC 0  https://www.aihub.or.kr  \n",
      "3         CC 0  https://www.aihub.or.kr  \n",
      "4         CC 0  https://www.aihub.or.kr  \n",
      "\n",
      "[5 rows x 40 columns]\n",
      "<class 'pandas.core.frame.DataFrame'>\n",
      "RangeIndex: 3077 entries, 0 to 3076\n",
      "Data columns (total 40 columns):\n",
      " #   Column         Non-Null Count  Dtype  \n",
      "---  ------         --------------  -----  \n",
      " 0   area_start     3077 non-null   float64\n",
      " 1   area_end       3077 non-null   float64\n",
      " 2   category_01    3077 non-null   object \n",
      " 3   category_02    3077 non-null   object \n",
      " 4   category_03    3077 non-null   object \n",
      " 5   decibel        3077 non-null   int64  \n",
      " 6   labelName      3077 non-null   object \n",
      " 7   soundQuality   3077 non-null   object \n",
      " 8   subCategory    3077 non-null   object \n",
      " 9   bitRate        3077 non-null   object \n",
      " 10  duration       3077 non-null   float64\n",
      " 11  fileFormat     3077 non-null   object \n",
      " 12  fileName       3077 non-null   object \n",
      " 13  fileSize       3077 non-null   int64  \n",
      " 14  recodingType   3077 non-null   object \n",
      " 15  sampleRate     3077 non-null   object \n",
      " 16  acqDevice      3077 non-null   object \n",
      " 17  acqMethod      3077 non-null   object \n",
      " 18  acqType        3077 non-null   object \n",
      " 19  areaUse        3077 non-null   object \n",
      " 20  dayNight       3077 non-null   object \n",
      " 21  direction      3077 non-null   object \n",
      " 22  distance       3077 non-null   object \n",
      " 23  district       3077 non-null   object \n",
      " 24  latitude       3077 non-null   float64\n",
      " 25  longitude      3077 non-null   float64\n",
      " 26  micClass       3077 non-null   object \n",
      " 27  obstacle       3077 non-null   object \n",
      " 28  place          3077 non-null   object \n",
      " 29  recordingTime  3077 non-null   object \n",
      " 30  urban          3077 non-null   object \n",
      " 31  weather        3077 non-null   object \n",
      " 32  contributor    3077 non-null   object \n",
      " 33  dateCreated    3077 non-null   object \n",
      " 34  description    3077 non-null   object \n",
      " 35  uri            3077 non-null   object \n",
      " 36  version        3077 non-null   float64\n",
      " 37  year           3077 non-null   int64  \n",
      " 38  license_name   3077 non-null   object \n",
      " 39  license_url    3077 non-null   object \n",
      "dtypes: float64(6), int64(3), object(31)\n",
      "memory usage: 961.7+ KB\n",
      "None\n"
     ]
    }
   ],
   "source": [
    "import os\n",
    "import json\n",
    "import pandas as pd\n",
    "\n",
    "def load_and_flatten_json(root_dir):\n",
    "    data = []\n",
    "    for subdir, dirs, files in os.walk(root_dir):\n",
    "        for file in files:\n",
    "            if file.endswith('.json'):\n",
    "                filepath = os.path.join(subdir, file)\n",
    "                with open(filepath, 'r', encoding='utf-8') as f:\n",
    "                    try:\n",
    "                        json_data = json.load(f)\n",
    "                        info = json_data.get('info', {})\n",
    "                        license_info = json_data.get('license', {})\n",
    "                        audio = json_data.get('audio', {})\n",
    "                        environment = json_data.get('environment', {})\n",
    "                        annotations = json_data.get('annotations', [])\n",
    "\n",
    "                        area_start = None\n",
    "                        area_end = None\n",
    "                        category_01 = None\n",
    "                        category_02 = None\n",
    "                        category_03 = None\n",
    "                        labelName = None\n",
    "                        soundQuality = None\n",
    "                        decibel = None\n",
    "                        subCategory = None\n",
    "\n",
    "                        if annotations and isinstance(annotations, list) and len(annotations) > 0:\n",
    "                            annotation = annotations[0]\n",
    "                            if isinstance(annotation, dict):\n",
    "                                area = annotation.get('area', {})\n",
    "                                area_start = area.get('start')\n",
    "                                area_end = area.get('end')\n",
    "                                categories = annotation.get('categories', {})\n",
    "                                category_01 = categories.get('category_01')\n",
    "                                category_02 = categories.get('category_02')\n",
    "                                category_03 = categories.get('category_03')\n",
    "                                labelName = annotation.get('labelName')\n",
    "                                soundQuality = annotation.get('soundQuality')\n",
    "                                decibel = annotation.get('decibel')\n",
    "                                subCategory = annotation.get('subCategory')\n",
    "\n",
    "                        row = {\n",
    "                            'area_start': area_start,\n",
    "                            'area_end': area_end,\n",
    "                            'category_01': category_01,\n",
    "                            'category_02': category_02,\n",
    "                            'category_03': category_03,\n",
    "                            'decibel': decibel,\n",
    "                            'labelName': labelName,\n",
    "                            'soundQuality': soundQuality,\n",
    "                            'subCategory': subCategory,\n",
    "                            'bitRate': audio.get('bitRate'),\n",
    "                            'duration': audio.get('duration'),\n",
    "                            'fileFormat': audio.get('fileFormat'),\n",
    "                            'fileName': audio.get('fileName'),\n",
    "                            'fileSize': audio.get('fileSize'),\n",
    "                            'recodingType': audio.get('recodingType'),\n",
    "                            'sampleRate': audio.get('sampleRate'),\n",
    "                            'acqDevice': environment.get('acqDevice'),\n",
    "                            'acqMethod': environment.get('acqMethod'),\n",
    "                            'acqType': environment.get('acqType'),\n",
    "                            'areaUse': environment.get('areaUse'),\n",
    "                            'dayNight': environment.get('dayNight'),\n",
    "                            'direction': environment.get('direction'),\n",
    "                            'distance': environment.get('distance'),\n",
    "                            'district': environment.get('district'),\n",
    "                            'latitude': environment.get('gps', {}).get('latitude'),\n",
    "                            'longitude': environment.get('gps', {}).get('longitude'),\n",
    "                            'micClass': environment.get('micClass'),\n",
    "                            'obstacle': environment.get('obstacle'),\n",
    "                            'place': environment.get('place'),\n",
    "                            'recordingTime': environment.get('recordingTime'),\n",
    "                            'urban': environment.get('urban'),\n",
    "                            'weather': environment.get('weather'),\n",
    "                            'contributor': info.get('contributor'),\n",
    "                            'dateCreated': info.get('dateCreated'),\n",
    "                            'description': info.get('description'),\n",
    "                            'uri': info.get('uri'),\n",
    "                            'version': info.get('version'),\n",
    "                            'year': info.get('year'),\n",
    "                            'license_name': license_info.get('name'),\n",
    "                            'license_url': license_info.get('url'),\n",
    "                        }\n",
    "                        data.append(row)\n",
    "                    except json.JSONDecodeError as e:\n",
    "                        print(f\"Error decoding JSON file: {filepath} - {e}\")\n",
    "    return pd.DataFrame(data)\n",
    "\n",
    "# JSON 파일 로드 및 평탄화\n",
    "root_dir_2 = '/home/ubuntu/data/etc_noise_data_test_final'\n",
    "etc_json_df = load_and_flatten_json(root_dir_2)\n",
    "\n",
    "print(\"\\n기타 소음 JSON 데이터프레임:\")\n",
    "print(etc_json_df.head())\n",
    "print(etc_json_df.info())"
   ]
  },
  {
   "cell_type": "code",
   "execution_count": 8,
   "id": "b7e62986-2993-4a39-9141-ddfe02826029",
   "metadata": {},
   "outputs": [
    {
     "name": "stdout",
     "output_type": "stream",
     "text": [
      "   area_start  area_end category_01 category_02 category_03  decibel  \\\n",
      "0         2.0     9.430       사업장소음         공사장         발전기       85   \n",
      "1         2.0    48.958       사업장소음         공사장         발전기      102   \n",
      "2         2.0    12.402       사업장소음         공사장         발전기       99   \n",
      "3         2.0     7.084       사업장소음         공사장         발전기       71   \n",
      "4         2.0    10.000       사업장소음         공사장         발전기       69   \n",
      "\n",
      "           labelName soundQuality subCategory  bitRate  ...   mfcc_41  \\\n",
      "0  9.공사장_40349_1.wav           정상       소형발전기  705kbps  ... -2.654079   \n",
      "1  9.공사장_69400_1.wav           정상       대형발전기  768kbps  ... -1.609383   \n",
      "2  9.공사장_40301_1.wav           정상       소형발전기  705kbps  ... -3.747083   \n",
      "3  9.공사장_34532_1.wav           정상       소형발전기  705kbps  ...  0.331332   \n",
      "4  9.공사장_40176_1.wav          노이즈       소형발전기  705kbps  ... -0.066167   \n",
      "\n",
      "    mfcc_42   mfcc_43   mfcc_44   mfcc_45   mfcc_46   mfcc_47   mfcc_48  \\\n",
      "0 -0.558064  1.090053  0.112485  0.559785 -0.939016 -0.421636 -3.737853   \n",
      "1 -3.034340 -3.635710 -2.980676 -1.879919 -1.164351 -1.001925 -1.189285   \n",
      "2 -1.420099 -0.662380 -1.363590 -0.054315 -0.347619  1.211147 -1.950379   \n",
      "3 -1.589963 -2.529070 -1.691041  3.631041 -0.032826  4.699061  1.050444   \n",
      "4 -3.553807  5.520065  3.729300  0.355876  3.712027 -1.753450  2.879305   \n",
      "\n",
      "    mfcc_49   mfcc_50  \n",
      "0 -1.988697  0.291868  \n",
      "1 -1.386844 -1.230899  \n",
      "2 -0.414173 -0.134336  \n",
      "3 -0.231145  0.251040  \n",
      "4 -2.651235  1.047424  \n",
      "\n",
      "[5 rows x 90 columns]\n"
     ]
    }
   ],
   "source": [
    "import librosa\n",
    "import numpy as np\n",
    "import os\n",
    "import pandas as pd\n",
    "import re\n",
    "import json\n",
    "\n",
    "# 한글-영어 매칭 딕셔너리 보완\n",
    "kor_eng_dict = {\n",
    "    \"자동차\": \"car\",\n",
    "    \"이륜자동차\": \"motorcycle\",\n",
    "    \"경적\": \"horn\",\n",
    "    \"사이렌\": \"siren\",\n",
    "    \"주행음\": \"driving_sound\",\n",
    "    # 필요한 모든 매핑 추가\n",
    "}\n",
    "\n",
    "# 파일명 정규화 함수 수정\n",
    "def normalize_filename(filename):\n",
    "    # 확장자 제거\n",
    "    name, ext = os.path.splitext(filename)\n",
    "\n",
    "    # 대소문자 변환 및 공백 제거\n",
    "    name = name.lower().replace(' ', '')\n",
    "\n",
    "    # 한글-영어 변환 적용\n",
    "    for kor, eng in kor_eng_dict.items():\n",
    "        name = name.replace(kor, eng)\n",
    "\n",
    "    # 정규식으로 고유 ID 추출\n",
    "    match = re.match(r\".*?_(\\d+)(?:_\\d+)?$\", name)\n",
    "    if match:\n",
    "        file_id = match.group(1)\n",
    "    else:\n",
    "        file_id = None\n",
    "\n",
    "    return name, ext, file_id\n",
    "\n",
    "# 매칭 검사 함수 수정\n",
    "def find_mismatched_files(directory):\n",
    "    wav_files = {}\n",
    "    json_files = {}\n",
    "\n",
    "    # 모든 폴더 순회하며 파일 수집\n",
    "    for root, _, files in os.walk(directory):\n",
    "        for file in files:\n",
    "            name, ext, file_id = normalize_filename(file)\n",
    "            if file_id is None:\n",
    "                continue  # ID가 없는 파일은 패스\n",
    "            file_path = os.path.join(root, file)\n",
    "            if ext == \".wav\":\n",
    "                wav_files[file_id] = file_path\n",
    "            elif ext == \".json\":\n",
    "                json_files[file_id] = file_path\n",
    "\n",
    "    # 매칭되지 않은 파일 찾기\n",
    "    mismatched_wav = set(wav_files.keys()) - set(json_files.keys())\n",
    "    mismatched_json = set(json_files.keys()) - set(wav_files.keys())\n",
    "\n",
    "    return mismatched_wav, mismatched_json, wav_files, json_files\n",
    "\n",
    "def extract_mfcc(wav_path):\n",
    "    \"\"\"\n",
    "    주어진 WAV 파일 경로에서 MFCC 특징을 추출합니다.\n",
    "    \"\"\"\n",
    "    try:\n",
    "        audio, sr = librosa.load(wav_path, sr=None)\n",
    "        mfcc = librosa.feature.mfcc(y=audio, sr=sr, n_mfcc=50)\n",
    "        mfcc_mean = np.mean(mfcc, axis=1).tolist()\n",
    "        return mfcc_mean\n",
    "    except Exception as e:\n",
    "        print(f\"Error processing WAV file: {wav_path} - {e}\")\n",
    "        return None\n",
    "\n",
    "def load_wav_and_extract_mfcc(root_dir, df_json):\n",
    "    \"\"\"\n",
    "    주어진 디렉토리의 모든 WAV 파일을 로드하고 MFCC 특징을 추출하여 DataFrame에 추가합니다.\n",
    "    \"\"\"\n",
    "    mfcc_data = []\n",
    "    for index, row in df_json.iterrows():\n",
    "        wav_filename = row['fileName']\n",
    "        wav_path = None\n",
    "\n",
    "        # JSON 파일 이름 정규화\n",
    "        json_name, _, json_id = normalize_filename(wav_filename)\n",
    "\n",
    "        # 모든 하위 디렉토리에서 WAV 파일 검색\n",
    "        for subdir, dirs, files in os.walk(root_dir):\n",
    "            for file in files:\n",
    "                wav_name, _, wav_id = normalize_filename(file)\n",
    "                if json_id == wav_id and file.endswith('_1.wav'):  # ID가 일치하고 _1로 끝나는 파일\n",
    "                    wav_path = os.path.join(subdir, file)\n",
    "                    break\n",
    "\n",
    "        if wav_path:\n",
    "            mfcc_features = extract_mfcc(wav_path)\n",
    "            mfcc_data.append(mfcc_features)\n",
    "        else:\n",
    "            print(f\"WAV file not found for: {wav_filename}, looking for ID: {json_id}\")\n",
    "            mfcc_data.append(None)\n",
    "\n",
    "    mfcc_columns = [f'mfcc_{i+1}' for i in range(50)]\n",
    "    df_mfcc = pd.DataFrame(mfcc_data, columns=mfcc_columns)\n",
    "    return pd.concat([df_json, df_mfcc], axis=1)\n",
    "\n",
    "# JSON 파일 로드 및 평탄화\n",
    "root_dir_2 = '/home/ubuntu/data/etc_noise_data_test_final'\n",
    "etc_json_df = load_and_flatten_json(root_dir_2)\n",
    "\n",
    "# WAV 파일 로드 및 MFCC 추출\n",
    "df_final_2 = load_wav_and_extract_mfcc(root_dir_2, etc_json_df)\n",
    "print(df_final_2.head())"
   ]
  },
  {
   "cell_type": "markdown",
   "id": "57ef5350-ea74-4ece-bdee-a3b572524610",
   "metadata": {},
   "source": [
    "## 2. 열 순서 조정"
   ]
  },
  {
   "cell_type": "code",
   "execution_count": 9,
   "id": "b683b117-3182-416c-b1f4-df3183fbeb0a",
   "metadata": {},
   "outputs": [
    {
     "name": "stderr",
     "output_type": "stream",
     "text": [
      "/tmp/ipykernel_4099/793792915.py:18: UserWarning: pandas only supports SQLAlchemy connectable (engine/connection) or database string URI or sqlite3 DBAPI2 connection. Other DBAPI2 objects are not tested. Please consider using SQLAlchemy.\n",
      "  car_siren_df =  pd.read_sql(car_siren, conn)\n"
     ]
    }
   ],
   "source": [
    "# 기존 데이터프레임 일부 불러오기\n",
    "\n",
    "import config \n",
    "from config import DB_CONFIG\n",
    "import pymysql  \n",
    " \n",
    "# MySQL 연결\n",
    "conn = pymysql.connect(\n",
    "     host=DB_CONFIG['host'],\n",
    "     user=DB_CONFIG['user'],\n",
    "     password=DB_CONFIG['password'],\n",
    "     database=DB_CONFIG['database'],\n",
    "     port=DB_CONFIG['port']\n",
    " )\n",
    " \n",
    "car_siren = f\"SELECT * FROM merge50_car_siren\"\n",
    " \n",
    "car_siren_df =  pd.read_sql(car_siren, conn)\n",
    " \n",
    "conn.close()"
   ]
  },
  {
   "cell_type": "markdown",
   "id": "52282da8-4eee-4441-b270-f052a99c5a8d",
   "metadata": {},
   "source": [
    "## 3. 최종 데이터프레임 생성"
   ]
  },
  {
   "cell_type": "code",
   "execution_count": 10,
   "id": "baf3cc4f-8c19-4bc0-8584-e264e527980b",
   "metadata": {},
   "outputs": [
    {
     "name": "stdout",
     "output_type": "stream",
     "text": [
      "             fileName          labelName  area_start  area_end category_01  \\\n",
      "0     9.공사장_40349.wav  9.공사장_40349_1.wav        2.00     9.430       사업장소음   \n",
      "1     9.공사장_69400.wav  9.공사장_69400_1.wav        2.00    48.958       사업장소음   \n",
      "2     9.공사장_40301.wav  9.공사장_40301_1.wav        2.00    12.402       사업장소음   \n",
      "3     9.공사장_34532.wav  9.공사장_34532_1.wav        2.00     7.084       사업장소음   \n",
      "4     9.공사장_40176.wav  9.공사장_40176_1.wav        2.00    10.000       사업장소음   \n",
      "...               ...                ...         ...       ...         ...   \n",
      "2899   7.동물_21233.wav   7.동물_21233_1.wav        2.00    22.464        생활소음   \n",
      "2900   7.동물_49714.wav   7.동물_49714_1.wav        2.00    12.311        생활소음   \n",
      "2901   7.동물_50077.wav   7.동물_50077_1.wav        2.00    26.916        생활소음   \n",
      "2902   7.동물_49929.wav   7.동물_49929_1.wav        2.00    29.847        생활소음   \n",
      "2903   7.동물_93791.wav   7.동물_93791_1.wav        2.55     5.780        생활소음   \n",
      "\n",
      "     category_02 category_03  decibel soundQuality subCategory  ...   mfcc_41  \\\n",
      "0            공사장         발전기       85           정상       소형발전기  ... -2.654079   \n",
      "1            공사장         발전기      102           정상       대형발전기  ... -1.609383   \n",
      "2            공사장         발전기       99           정상       소형발전기  ... -3.747083   \n",
      "3            공사장         발전기       71           정상       소형발전기  ...  0.331332   \n",
      "4            공사장         발전기       69          노이즈       소형발전기  ... -0.066167   \n",
      "...          ...         ...      ...          ...         ...  ...       ...   \n",
      "2899          동물           개       73           정상           개  ...  0.163678   \n",
      "2900          동물           개       80           정상           개  ...  0.136369   \n",
      "2901          동물           개       52           정상           개  ... -0.873561   \n",
      "2902          동물           개      118           정상           개  ... -0.692830   \n",
      "2903          동물           개      121           정상           개  ...  1.255837   \n",
      "\n",
      "       mfcc_42   mfcc_43   mfcc_44   mfcc_45   mfcc_46   mfcc_47   mfcc_48  \\\n",
      "0    -0.558064  1.090053  0.112485  0.559785 -0.939016 -0.421636 -3.737853   \n",
      "1    -3.034340 -3.635710 -2.980676 -1.879919 -1.164351 -1.001925 -1.189285   \n",
      "2    -1.420099 -0.662380 -1.363590 -0.054315 -0.347619  1.211147 -1.950379   \n",
      "3    -1.589963 -2.529070 -1.691041  3.631041 -0.032826  4.699061  1.050444   \n",
      "4    -3.553807  5.520065  3.729300  0.355876  3.712027 -1.753450  2.879305   \n",
      "...        ...       ...       ...       ...       ...       ...       ...   \n",
      "2899  0.978441  0.545665  0.214506 -0.904289 -0.905006 -1.461157 -1.331534   \n",
      "2900 -0.835893  1.483713  0.096528  0.914111 -0.760042 -0.644359  1.176192   \n",
      "2901 -1.316911 -1.918315 -0.122976  0.112075 -0.384172  0.718058  1.504387   \n",
      "2902 -0.751875 -0.272646  0.166117 -0.828950 -1.689774 -1.097977 -1.704201   \n",
      "2903  1.948457  1.149736 -0.214424 -0.473664 -0.758053 -1.192869 -2.213222   \n",
      "\n",
      "       mfcc_49   mfcc_50  \n",
      "0    -1.988697  0.291868  \n",
      "1    -1.386844 -1.230899  \n",
      "2    -0.414173 -0.134336  \n",
      "3    -0.231145  0.251040  \n",
      "4    -2.651235  1.047424  \n",
      "...        ...       ...  \n",
      "2899 -1.081596 -0.768962  \n",
      "2900  0.465000  1.438253  \n",
      "2901  0.550436  0.147882  \n",
      "2902 -1.078815 -1.519851  \n",
      "2903 -2.408570 -2.331245  \n",
      "\n",
      "[2904 rows x 82 columns]\n"
     ]
    }
   ],
   "source": [
    "# df_combined의 열 목록 가져오기\n",
    "combined_cols = car_siren_df.columns.tolist()\n",
    "\n",
    "# df_final_2에서 df_combined에 있는 열만 선택\n",
    "final_cols = [col for col in combined_cols if col in df_final_2.columns]\n",
    "df_final_2 = df_final_2[final_cols]\n",
    "\n",
    "# df_final_2의 열 순서를 df_combined의 열 순서에 맞춰 변경\n",
    "df_final_2 = df_final_2[combined_cols[:len(final_cols)]]\n",
    "\n",
    "print(df_final_2)"
   ]
  },
  {
   "cell_type": "markdown",
   "id": "5a43b791-3997-4486-afe2-7719ebb0fc47",
   "metadata": {},
   "source": [
    "## 4. 기타소음 분류 칼럼 추가"
   ]
  },
  {
   "cell_type": "code",
   "execution_count": 11,
   "id": "627bc6a6-c032-4685-a8fb-b1f49a6d4bb2",
   "metadata": {},
   "outputs": [],
   "source": [
    "# df_result에서 실제 라벨을 기준으로 정상 데이터와 기타 소음 라벨링\n",
    "valid_labels = ['차량경적', '차량주행음', '이륜차경적', '이륜차주행음', '차량사이렌']  # 정상 라벨\n",
    "\n",
    "# 'category_03' 컬럼이 정상 라벨이면 그대로 두고, 그렇지 않으면 '기타소음'으로 설정\n",
    "df_final_2['ood_label'] = df_final_2['category_03'].apply(lambda x: x if x in valid_labels else '기타소음')"
   ]
  },
  {
   "cell_type": "code",
   "execution_count": 13,
   "id": "ce074587-60fa-4628-a86b-49ca2fd63c91",
   "metadata": {},
   "outputs": [
    {
     "name": "stdout",
     "output_type": "stream",
     "text": [
      "category_03\n",
      "이륜차경적     519\n",
      "이륜차주행음    498\n",
      "차량경적      399\n",
      "고양이       274\n",
      "차량사이렌     249\n",
      "차량주행음     227\n",
      "개         217\n",
      "공구        172\n",
      "항타기       133\n",
      "발전기       123\n",
      "콘크리트펌프     93\n",
      "Name: count, dtype: int64\n"
     ]
    }
   ],
   "source": [
    "print(df_final_2['category_03'].value_counts())"
   ]
  },
  {
   "cell_type": "code",
   "execution_count": 14,
   "id": "424d97c7-a7ea-4606-a535-9263e4c92c1f",
   "metadata": {},
   "outputs": [
    {
     "name": "stdout",
     "output_type": "stream",
     "text": [
      "ood_label\n",
      "기타소음      1012\n",
      "이륜차경적      519\n",
      "이륜차주행음     498\n",
      "차량경적       399\n",
      "차량사이렌      249\n",
      "차량주행음      227\n",
      "Name: count, dtype: int64\n"
     ]
    }
   ],
   "source": [
    "print(df_final_2['ood_label'].value_counts())"
   ]
  },
  {
   "cell_type": "markdown",
   "id": "007465ea-8667-42a0-9304-03ea29500799",
   "metadata": {},
   "source": [
    "## 5. csv 파일로 저장"
   ]
  },
  {
   "cell_type": "code",
   "execution_count": 15,
   "id": "dbb812c2-c678-43a8-a5a7-0c6646debf78",
   "metadata": {},
   "outputs": [],
   "source": [
    "import pandas as pd\n",
    "\n",
    "# 현재 데이터프레임 원본을 CSV 파일로 저장\n",
    "df_final_2.to_csv('final_test_data_original.csv', index=False)"
   ]
  },
  {
   "cell_type": "code",
   "execution_count": 17,
   "id": "527c3010-1a5e-41bd-bc1e-138a9ed41c12",
   "metadata": {},
   "outputs": [],
   "source": [
    "import pandas as pd\n",
    "\n",
    "# category_03의 각 레이블별로 90개씩 랜덤 샘플링\n",
    "sampled_data_category = df_final_2.groupby('category_03').apply(lambda x: x.sample(min(len(x), 90), random_state=42))\n",
    "\n",
    "# 샘플링된 데이터를 CSV 파일로 저장\n",
    "sampled_data_category.to_csv('final_test_sampled_90_category_03.csv', index=False)"
   ]
  },
  {
   "cell_type": "code",
   "execution_count": 21,
   "id": "c8f9c7ff-4827-47ad-9ac9-e165e5e4fe68",
   "metadata": {},
   "outputs": [
    {
     "name": "stdout",
     "output_type": "stream",
     "text": [
      "category_03\n",
      "개         90\n",
      "고양이       90\n",
      "공구        90\n",
      "발전기       90\n",
      "이륜차경적     90\n",
      "이륜차주행음    90\n",
      "차량경적      90\n",
      "차량사이렌     90\n",
      "차량주행음     90\n",
      "콘크리트펌프    90\n",
      "항타기       90\n",
      "Name: count, dtype: int64\n"
     ]
    }
   ],
   "source": [
    "print(sampled_data_category['category_03'].value_counts())"
   ]
  },
  {
   "cell_type": "code",
   "execution_count": 22,
   "id": "99270f83-c05b-4d11-aff7-7a5c050174ce",
   "metadata": {},
   "outputs": [
    {
     "name": "stdout",
     "output_type": "stream",
     "text": [
      "ood_label\n",
      "기타소음      540\n",
      "이륜차경적      90\n",
      "이륜차주행음     90\n",
      "차량경적       90\n",
      "차량사이렌      90\n",
      "차량주행음      90\n",
      "Name: count, dtype: int64\n"
     ]
    }
   ],
   "source": [
    "print(sampled_data_category['ood_label'].value_counts())"
   ]
  },
  {
   "cell_type": "code",
   "execution_count": 18,
   "id": "7fed9427-cc18-4ace-97be-843f24b4d5c7",
   "metadata": {},
   "outputs": [],
   "source": [
    "import pandas as pd\n",
    "\n",
    "def sample_ood_with_category_balance(df, n=220, random_state=42):\n",
    "    \"\"\"ood_label을 기준으로 샘플링하고, '기타소음'의 경우 category_03 분포를 균등하게 조정합니다.\"\"\"\n",
    "\n",
    "    sampled_data = []\n",
    "    for ood_label, group in df.groupby('ood_label'):\n",
    "        if ood_label == '기타소음':\n",
    "            # '기타소음'의 경우 category_03 분포를 균등하게 조정하여 총 1500개 샘플링\n",
    "            category_counts = group['category_03'].value_counts()\n",
    "            num_categories = len(category_counts)\n",
    "            samples_per_category = n // num_categories  # 각 카테고리별 샘플 수\n",
    "            remainder = n % num_categories  # 나머지 샘플 수\n",
    "\n",
    "            samples = []\n",
    "            for category, count in category_counts.items():\n",
    "                sample_count = min(count, samples_per_category)\n",
    "                samples.append(group[group['category_03'] == category].sample(sample_count, random_state=random_state))\n",
    "\n",
    "            # 나머지 샘플을 랜덤하게 추가\n",
    "            remaining_samples = pd.concat(samples)\n",
    "            if remainder > 0:\n",
    "                remaining_samples = pd.concat([remaining_samples, group[~group.index.isin(remaining_samples.index)].sample(remainder, random_state=random_state)])\n",
    "\n",
    "            sampled_data.append(remaining_samples)\n",
    "        else:\n",
    "            # 다른 ood_label은 기존 방식대로 샘플링\n",
    "            sampled_data.append(group.sample(min(len(group), n), random_state=random_state))\n",
    "\n",
    "    return pd.concat(sampled_data)\n",
    "\n",
    "# 수정된 함수를 사용하여 샘플링\n",
    "sampled_data_ood = sample_ood_with_category_balance(df_final_2)\n",
    "\n",
    "# 샘플링된 데이터를 CSV 파일로 저장\n",
    "sampled_data_ood.to_csv('final_test_data_sampled_220_ood_label.csv', index=False)"
   ]
  },
  {
   "cell_type": "code",
   "execution_count": 19,
   "id": "97ab1418-fb63-4086-bd1c-e357de27cc1c",
   "metadata": {},
   "outputs": [
    {
     "name": "stdout",
     "output_type": "stream",
     "text": [
      "category_03\n",
      "이륜차경적     220\n",
      "이륜차주행음    220\n",
      "차량경적      220\n",
      "차량사이렌     220\n",
      "차량주행음     220\n",
      "개          38\n",
      "고양이        37\n",
      "발전기        37\n",
      "공구         36\n",
      "항타기        36\n",
      "콘크리트펌프     36\n",
      "Name: count, dtype: int64\n"
     ]
    }
   ],
   "source": [
    "print(sampled_data_ood['category_03'].value_counts())"
   ]
  },
  {
   "cell_type": "code",
   "execution_count": 20,
   "id": "f4eb9103-ced9-4be4-93f9-7843a6dfa337",
   "metadata": {},
   "outputs": [
    {
     "name": "stdout",
     "output_type": "stream",
     "text": [
      "ood_label\n",
      "기타소음      220\n",
      "이륜차경적     220\n",
      "이륜차주행음    220\n",
      "차량경적      220\n",
      "차량사이렌     220\n",
      "차량주행음     220\n",
      "Name: count, dtype: int64\n"
     ]
    }
   ],
   "source": [
    "print(sampled_data_ood['ood_label'].value_counts())"
   ]
  }
 ],
 "metadata": {
  "kernelspec": {
   "display_name": "Python(ml_env)",
   "language": "python",
   "name": "ml_env"
  },
  "language_info": {
   "codemirror_mode": {
    "name": "ipython",
    "version": 3
   },
   "file_extension": ".py",
   "mimetype": "text/x-python",
   "name": "python",
   "nbconvert_exporter": "python",
   "pygments_lexer": "ipython3",
   "version": "3.8.20"
  }
 },
 "nbformat": 4,
 "nbformat_minor": 5
}
