{
 "cells": [
  {
   "cell_type": "markdown",
   "id": "1a8578de-686f-419d-91a9-482dc950c34f",
   "metadata": {},
   "source": [
    "# 노이즈 포함 WAV 제작"
   ]
  },
  {
   "cell_type": "markdown",
   "id": "0f460959-e09a-4b29-b981-099776727359",
   "metadata": {},
   "source": [
    "## 1. 라이브러리 설치"
   ]
  },
  {
   "cell_type": "code",
   "execution_count": 3,
   "id": "181948a7-1a2d-4f11-b9c5-8cf4f0520ad8",
   "metadata": {},
   "outputs": [
    {
     "name": "stdout",
     "output_type": "stream",
     "text": [
      "Defaulting to user installation because normal site-packages is not writeable\n",
      "Requirement already satisfied: librosa in /home/lab06/.local/lib/python3.8/site-packages (0.9.2)\n",
      "Requirement already satisfied: scipy in /home/ubuntu/anaconda3/envs/ml_env/lib/python3.8/site-packages (1.10.1)\n",
      "Requirement already satisfied: numpy in /home/ubuntu/anaconda3/envs/ml_env/lib/python3.8/site-packages (1.24.3)\n",
      "Requirement already satisfied: soundfile in /home/ubuntu/anaconda3/envs/ml_env/lib/python3.8/site-packages (0.13.1)\n",
      "Requirement already satisfied: audioread>=2.1.9 in /home/ubuntu/anaconda3/envs/ml_env/lib/python3.8/site-packages (from librosa) (3.0.1)\n",
      "Requirement already satisfied: scikit-learn>=0.19.1 in /home/ubuntu/anaconda3/envs/ml_env/lib/python3.8/site-packages (from librosa) (1.3.2)\n",
      "Requirement already satisfied: joblib>=0.14 in /home/ubuntu/anaconda3/envs/ml_env/lib/python3.8/site-packages (from librosa) (1.4.2)\n",
      "Requirement already satisfied: decorator>=4.0.10 in /home/ubuntu/anaconda3/envs/ml_env/lib/python3.8/site-packages (from librosa) (5.1.1)\n",
      "Requirement already satisfied: resampy>=0.2.2 in /home/lab06/.local/lib/python3.8/site-packages (from librosa) (0.4.3)\n",
      "Requirement already satisfied: numba>=0.45.1 in /home/ubuntu/anaconda3/envs/ml_env/lib/python3.8/site-packages (from librosa) (0.58.1)\n",
      "Requirement already satisfied: pooch>=1.0 in /home/ubuntu/anaconda3/envs/ml_env/lib/python3.8/site-packages (from librosa) (1.8.2)\n",
      "Requirement already satisfied: packaging>=20.0 in /home/ubuntu/anaconda3/envs/ml_env/lib/python3.8/site-packages (from librosa) (24.2)\n",
      "Requirement already satisfied: cffi>=1.0 in /home/ubuntu/anaconda3/envs/ml_env/lib/python3.8/site-packages (from soundfile) (1.17.1)\n",
      "Requirement already satisfied: pycparser in /home/ubuntu/anaconda3/envs/ml_env/lib/python3.8/site-packages (from cffi>=1.0->soundfile) (2.22)\n",
      "Requirement already satisfied: llvmlite<0.42,>=0.41.0dev0 in /home/ubuntu/anaconda3/envs/ml_env/lib/python3.8/site-packages (from numba>=0.45.1->librosa) (0.41.1)\n",
      "Requirement already satisfied: importlib-metadata in /home/ubuntu/anaconda3/envs/ml_env/lib/python3.8/site-packages (from numba>=0.45.1->librosa) (8.5.0)\n",
      "Requirement already satisfied: platformdirs>=2.5.0 in /home/ubuntu/anaconda3/envs/ml_env/lib/python3.8/site-packages (from pooch>=1.0->librosa) (4.3.6)\n",
      "Requirement already satisfied: requests>=2.19.0 in /home/ubuntu/anaconda3/envs/ml_env/lib/python3.8/site-packages (from pooch>=1.0->librosa) (2.32.3)\n",
      "Requirement already satisfied: importlib-resources in /home/ubuntu/anaconda3/envs/ml_env/lib/python3.8/site-packages (from resampy>=0.2.2->librosa) (6.4.5)\n",
      "Requirement already satisfied: threadpoolctl>=2.0.0 in /home/ubuntu/anaconda3/envs/ml_env/lib/python3.8/site-packages (from scikit-learn>=0.19.1->librosa) (3.5.0)\n",
      "Requirement already satisfied: charset-normalizer<4,>=2 in /home/ubuntu/anaconda3/envs/ml_env/lib/python3.8/site-packages (from requests>=2.19.0->pooch>=1.0->librosa) (3.4.1)\n",
      "Requirement already satisfied: idna<4,>=2.5 in /home/ubuntu/anaconda3/envs/ml_env/lib/python3.8/site-packages (from requests>=2.19.0->pooch>=1.0->librosa) (3.10)\n",
      "Requirement already satisfied: urllib3<3,>=1.21.1 in /home/ubuntu/anaconda3/envs/ml_env/lib/python3.8/site-packages (from requests>=2.19.0->pooch>=1.0->librosa) (2.2.3)\n",
      "Requirement already satisfied: certifi>=2017.4.17 in /home/ubuntu/anaconda3/envs/ml_env/lib/python3.8/site-packages (from requests>=2.19.0->pooch>=1.0->librosa) (2025.1.31)\n",
      "Requirement already satisfied: zipp>=3.20 in /home/ubuntu/anaconda3/envs/ml_env/lib/python3.8/site-packages (from importlib-metadata->numba>=0.45.1->librosa) (3.20.2)\n",
      "Note: you may need to restart the kernel to use updated packages.\n"
     ]
    }
   ],
   "source": [
    "pip install librosa scipy numpy soundfile"
   ]
  },
  {
   "cell_type": "markdown",
   "id": "7a072c2d-1ac5-420d-8ef3-3f1a6db29673",
   "metadata": {},
   "source": [
    "# 백색 소음, 핑크 노이즈 추가 작업"
   ]
  },
  {
   "cell_type": "markdown",
   "id": "2cab95c9-1412-4fa8-933e-8a8c7a5428e7",
   "metadata": {},
   "source": [
    "- 백색 잡음 (White Noise): 주파수 대역에 관계없이 일정한 파워를 가진 잡음입니다.\n",
    "- 핑크 노이즈 (Pink Noise): 주파수가 높아질수록 파워가 감소하는 잡음으로, 실제 환경에서 자주 발생하는 소리입니다."
   ]
  },
  {
   "cell_type": "code",
   "execution_count": 8,
   "id": "dbfe2824-6f08-4636-8679-157146520c50",
   "metadata": {},
   "outputs": [
    {
     "name": "stdout",
     "output_type": "stream",
     "text": [
      "노이즈가 포함된 파일이 저장되었습니다: /home/lab06/git/noise-data-platform/JW/car_horn_with_pink_noise.wav\n",
      "노이즈가 포함된 파일이 저장되었습니다: /home/lab06/git/noise-data-platform/JW/motorcycle_sound_with_white_noise.wav\n"
     ]
    }
   ],
   "source": [
    "import os\n",
    "import numpy as np\n",
    "import scipy.signal as signal\n",
    "import soundfile as sf\n",
    "\n",
    "# 핑크 노이즈 생성 함수\n",
    "def generate_pink_noise(length, sr):\n",
    "    # 백색 잡음 생성\n",
    "    white_noise = np.random.normal(0, 1, length)\n",
    "    # 로우패스 필터 생성 (핑크 노이즈 필터)\n",
    "    b, a = signal.butter(1, 0.02, btype='low')  \n",
    "    pink_noise = signal.filtfilt(b, a, white_noise)  # 필터링\n",
    "    pink_noise = pink_noise / np.max(np.abs(pink_noise))  # 정규화\n",
    "    return pink_noise\n",
    "\n",
    "# 백색 잡음 생성 함수\n",
    "def generate_white_noise(length):\n",
    "    return np.random.normal(0, 1, length)\n",
    "\n",
    "# 원하는 SNR 수준으로 노이즈 추가\n",
    "def add_noise_dynamic(mfcc, target_snr_db=20):\n",
    "    signal_power = np.mean(mfcc ** 2)\n",
    "    noise_power = signal_power / (10 ** (target_snr_db / 10))\n",
    "    noise = np.random.normal(0, np.sqrt(noise_power), mfcc.shape)\n",
    "    return mfcc + noise\n",
    "\n",
    "# WAV 파일에 핑크 노이즈 또는 백색 잡음 추가\n",
    "def add_noise_to_audio(file_path, noise_type='pink', target_snr_db=20, output_file='output_with_noise.wav'):\n",
    "    # 원본 오디오 파일 로드\n",
    "    audio, sr = sf.read(file_path)\n",
    "\n",
    "    # 노이즈 길이 설정\n",
    "    length = len(audio)\n",
    "    \n",
    "    # 선택한 노이즈 타입에 따라 노이즈 생성\n",
    "    if noise_type == 'pink':\n",
    "        noise_signal = generate_pink_noise(length, sr)\n",
    "    elif noise_type == 'white':\n",
    "        noise_signal = generate_white_noise(length)\n",
    "    else:\n",
    "        raise ValueError(\"Noise type must be either 'pink' or 'white'\")\n",
    "\n",
    "    # 노이즈 추가 (원하는 SNR 수준으로 조정)\n",
    "    noisy_audio = add_noise_dynamic(audio, target_snr_db)\n",
    "    \n",
    "    # 현재 작업 디렉토리에서 파일 저장\n",
    "    current_dir = os.getcwd()  # 현재 작업 디렉토리\n",
    "    output_file_path = os.path.join(current_dir, output_file)  # 경로 설정\n",
    "\n",
    "    # 노이즈가 포함된 파일 저장\n",
    "    sf.write(output_file_path, noisy_audio, sr)\n",
    "    print(f\"노이즈가 포함된 파일이 저장되었습니다: {output_file_path}\")\n",
    "\n",
    "# 파일 경로 지정\n",
    "file_path_car_horn = \"/home/ubuntu/data/test_data/raw_data_test/1.Car/1.horn_of_car/1.car_horn_10_1.wav\"\n",
    "file_path_motorcycle_sound = \"/home/ubuntu/data/test_data/raw_data_test/2.Motorcycle/5.driving_sound_of_motorcycle/2.motorcycle_driving_sound_1860_1.wav\"\n",
    "\n",
    "# 노이즈 추가 (핑크 노이즈, 백색 잡음, 그리고 SNR 설정)\n",
    "add_noise_to_audio(file_path_car_horn, noise_type='pink', target_snr_db=15, output_file=\"car_horn_with_pink_noise.wav\")\n",
    "add_noise_to_audio(file_path_motorcycle_sound, noise_type='white', target_snr_db=20, output_file=\"motorcycle_sound_with_white_noise.wav\")"
   ]
  },
  {
   "cell_type": "code",
   "execution_count": 12,
   "id": "92729e19-ec7f-41a7-be11-caa4ee77223a",
   "metadata": {},
   "outputs": [
    {
     "name": "stdout",
     "output_type": "stream",
     "text": [
      "Original SNR: 73.36 dB\n",
      "Noisy SNR: 14.99 dB\n",
      "SNR Difference: 58.37 dB\n"
     ]
    }
   ],
   "source": [
    "import numpy as np\n",
    "import librosa\n",
    "\n",
    "def calculate_snr(signal, noisy_signal):\n",
    "    # Signal power (원본 신호의 평균 제곱값)\n",
    "    signal_power = np.mean(signal ** 2)\n",
    "    \n",
    "    # Noise power (노이즈의 평균 제곱값)\n",
    "    noise = noisy_signal - signal  # 노이즈는 원본 신호와 노이즈 신호의 차이\n",
    "    noise_power = np.mean(noise ** 2)\n",
    "    \n",
    "    # 노이즈가 너무 적으면 noise_power를 1e-10으로 설정\n",
    "    if noise_power < 1e-10:\n",
    "        noise_power = 1e-10\n",
    "    \n",
    "    # SNR 계산 (dB 단위)\n",
    "    snr = 10 * np.log10(signal_power / noise_power)\n",
    "    return snr, signal_power, noise_power\n",
    "\n",
    "# 예시: 원본 신호와 노이즈가 포함된 신호 경로\n",
    "file_path_original = '/home/ubuntu/data/test_data/raw_data_test/1.Car/1.horn_of_car/1.car_horn_10_1.wav'\n",
    "file_path_noisy = 'car_horn_with_pink_noise.wav'\n",
    "\n",
    "# 원본 신호와 노이즈가 포함된 신호 불러오기\n",
    "signal, sr = librosa.load(file_path_original, sr=None)\n",
    "noisy_signal, _ = librosa.load(file_path_noisy, sr=None)\n",
    "\n",
    "# 원본 SNR 계산\n",
    "snr_original, signal_power_original, noise_power_original = calculate_snr(signal, signal)\n",
    "# 노이즈가 추가된 SNR 계산\n",
    "snr_noisy, signal_power_noisy, noise_power_noisy = calculate_snr(signal, noisy_signal)\n",
    "\n",
    "# SNR 차이 계산\n",
    "snr_difference = snr_original - snr_noisy\n",
    "\n",
    "# 결과 출력\n",
    "print(f\"Original SNR: {snr_original:.2f} dB\")\n",
    "print(f\"Noisy SNR: {snr_noisy:.2f} dB\")\n",
    "print(f\"SNR Difference: {snr_difference:.2f} dB\")\n"
   ]
  },
  {
   "cell_type": "code",
   "execution_count": 7,
   "id": "4b367bd6-e979-4dc4-bba6-bd9ad09bf471",
   "metadata": {},
   "outputs": [
    {
     "name": "stdout",
     "output_type": "stream",
     "text": [
      "Original SNR: 79.73 dB\n",
      "Noisy SNR: 23.06 dB\n",
      "SNR Difference: 56.67 dB\n"
     ]
    }
   ],
   "source": [
    "import numpy as np\n",
    "import librosa\n",
    "\n",
    "def calculate_snr(signal, noisy_signal):\n",
    "    # Signal power (원본 신호의 평균 제곱값)\n",
    "    signal_power = np.mean(signal ** 2)\n",
    "    \n",
    "    # Noise power (노이즈의 평균 제곱값)\n",
    "    noise = noisy_signal - signal  # 노이즈는 원본 신호와 노이즈 신호의 차이\n",
    "    noise_power = np.mean(noise ** 2)\n",
    "    \n",
    "    # 노이즈가 너무 적으면 noise_power를 1e-10으로 설정\n",
    "    if noise_power < 1e-10:\n",
    "        noise_power = 1e-10\n",
    "    \n",
    "    # SNR 계산 (dB 단위)\n",
    "    snr = 10 * np.log10(signal_power / noise_power)\n",
    "    return snr, signal_power, noise_power\n",
    "\n",
    "# 예시: 원본 신호와 노이즈가 포함된 신호 경로\n",
    "file_path_original = '/home/ubuntu/data/test_data/raw_data_test/2.Motorcycle/5.driving_sound_of_motorcycle/2.motorcycle_driving_sound_1860_1.wav'\n",
    "file_path_noisy = 'motorcycle_sound_with_white_noise.wav'\n",
    "\n",
    "# 원본 신호와 노이즈가 포함된 신호 불러오기\n",
    "signal, sr = librosa.load(file_path_original, sr=None)\n",
    "noisy_signal, _ = librosa.load(file_path_noisy, sr=None)\n",
    "\n",
    "# 원본 SNR 계산\n",
    "snr_original, signal_power_original, noise_power_original = calculate_snr(signal, signal)\n",
    "# 노이즈가 추가된 SNR 계산\n",
    "snr_noisy, signal_power_noisy, noise_power_noisy = calculate_snr(signal, noisy_signal)\n",
    "\n",
    "# SNR 차이 계산\n",
    "snr_difference = snr_original - snr_noisy\n",
    "\n",
    "# 결과 출력\n",
    "print(f\"Original SNR: {snr_original:.2f} dB\")\n",
    "print(f\"Noisy SNR: {snr_noisy:.2f} dB\")\n",
    "print(f\"SNR Difference: {snr_difference:.2f} dB\")\n"
   ]
  },
  {
   "cell_type": "markdown",
   "id": "a1aede03-1aa5-477f-8aed-8b7472265158",
   "metadata": {},
   "source": [
    "## SNR 크기별 파일 생성"
   ]
  },
  {
   "cell_type": "code",
   "execution_count": 36,
   "id": "c9edd25b-99ed-4558-a973-66af13998077",
   "metadata": {},
   "outputs": [
    {
     "name": "stdout",
     "output_type": "stream",
     "text": [
      "\n",
      "🔹 Testing with target SNR: 20 dB\n",
      "Original SNR: inf dB\n",
      "Noisy SNR: 19.98 dB\n",
      "SNR Difference: inf dB\n",
      "Processed file saved: 1.car_horn_10_1_noisy_20dB.wav\n",
      "Original SNR: inf dB\n",
      "Noisy SNR: 20.05 dB\n",
      "SNR Difference: inf dB\n",
      "Processed file saved: 2.motorcycle_driving_sound_1860_1_noisy_20dB.wav\n",
      "\n",
      "🔹 Testing with target SNR: 15 dB\n",
      "Original SNR: inf dB\n",
      "Noisy SNR: 15.01 dB\n",
      "SNR Difference: inf dB\n",
      "Processed file saved: 1.car_horn_10_1_noisy_15dB.wav\n",
      "Original SNR: inf dB\n",
      "Noisy SNR: 14.95 dB\n",
      "SNR Difference: inf dB\n",
      "Processed file saved: 2.motorcycle_driving_sound_1860_1_noisy_15dB.wav\n",
      "\n",
      "🔹 Testing with target SNR: 10 dB\n",
      "Original SNR: inf dB\n",
      "Noisy SNR: 10.01 dB\n",
      "SNR Difference: inf dB\n",
      "Processed file saved: 1.car_horn_10_1_noisy_10dB.wav\n",
      "Original SNR: inf dB\n",
      "Noisy SNR: 10.00 dB\n",
      "SNR Difference: inf dB\n",
      "Processed file saved: 2.motorcycle_driving_sound_1860_1_noisy_10dB.wav\n"
     ]
    },
    {
     "name": "stderr",
     "output_type": "stream",
     "text": [
      "/tmp/ipykernel_18261/4038009251.py:14: RuntimeWarning: divide by zero encountered in scalar divide\n",
      "  snr = 10 * np.log10(signal_power / noise_power)\n"
     ]
    }
   ],
   "source": [
    "import numpy as np\n",
    "import librosa\n",
    "import soundfile as sf\n",
    "\n",
    "# 원본 SNR을 계산하는 함수 (inf 문제 해결)\n",
    "def calculate_snr(signal, noise):\n",
    "    signal_power = np.mean(signal ** 2)\n",
    "    noise_power = np.mean(noise ** 2)\n",
    "    \n",
    "    # 신호가 0이면 SNR을 무한대 대신 매우 큰 값(100dB)으로 설정\n",
    "    if signal_power == 0:\n",
    "        return 100\n",
    "    \n",
    "    snr = 10 * np.log10(signal_power / noise_power)\n",
    "    return snr\n",
    "\n",
    "# 원하는 SNR 수준으로 노이즈 추가 (inf 문제 방지)\n",
    "def add_noise_dynamic(mfcc, target_snr_db=20):\n",
    "    # 원본 신호에 아주 작은 노이즈 추가하여 inf 방지\n",
    "    mfcc = mfcc + np.random.normal(0, 1e-6, mfcc.shape)\n",
    "    \n",
    "    # 신호와 노이즈 파워 계산\n",
    "    signal_power = np.mean(mfcc ** 2)\n",
    "    noise_power = signal_power / (10 ** (target_snr_db / 10))\n",
    "    \n",
    "    # 노이즈 생성 및 추가\n",
    "    noise = np.random.normal(0, np.sqrt(noise_power), mfcc.shape)\n",
    "    noisy_mfcc = mfcc + noise\n",
    "    \n",
    "    # SNR 계산\n",
    "    original_snr = calculate_snr(mfcc, np.zeros_like(mfcc))\n",
    "    noisy_snr = calculate_snr(mfcc, noise)\n",
    "    snr_difference = original_snr - noisy_snr\n",
    "    \n",
    "    # 디버깅용 출력\n",
    "    print(f\"Original SNR: {original_snr:.2f} dB\")\n",
    "    print(f\"Noisy SNR: {noisy_snr:.2f} dB\")\n",
    "    print(f\"SNR Difference: {snr_difference:.2f} dB\")\n",
    "    \n",
    "    return noisy_mfcc, noise\n",
    "\n",
    "# WAV 파일을 불러오고 노이즈 추가 후 저장\n",
    "def process_wav_file(input_path, output_path, target_snr_db=20):\n",
    "    # 오디오 파일 로드\n",
    "    signal, sr = librosa.load(input_path, sr=None)\n",
    "    \n",
    "    # 노이즈 추가\n",
    "    noisy_signal, noise = add_noise_dynamic(signal, target_snr_db)\n",
    "    \n",
    "    # 새로운 파일로 저장\n",
    "    sf.write(output_path, noisy_signal, sr)\n",
    "    print(f\"Processed file saved: {output_path}\")\n",
    "\n",
    "# 원본 파일 경로\n",
    "input_paths = [\n",
    "    \"/home/ubuntu/data/test_data/raw_data_test/1.Car/1.horn_of_car/1.car_horn_10_1.wav\",\n",
    "    \"/home/ubuntu/data/test_data/raw_data_test/2.Motorcycle/5.driving_sound_of_motorcycle/2.motorcycle_driving_sound_1860_1.wav\"\n",
    "]\n",
    "\n",
    "# 저장할 경로\n",
    "output_paths = [\n",
    "    \"1.car_horn_10_1_noisy.wav\",\n",
    "    \"2.motorcycle_driving_sound_1860_1_noisy.wav\"\n",
    "]\n",
    "\n",
    "# 다양한 SNR 수준 테스트 (20dB, 15dB, 10dB)\n",
    "target_snr_levels = [20, 15, 10]\n",
    "\n",
    "for snr_db in target_snr_levels:\n",
    "    print(f\"\\n🔹 Testing with target SNR: {snr_db} dB\")\n",
    "    for input_path, output_path in zip(input_paths, output_paths):\n",
    "        modified_output_path = output_path.replace(\".wav\", f\"_{snr_db}dB.wav\")\n",
    "        process_wav_file(input_path, modified_output_path, target_snr_db=snr_db)\n"
   ]
  }
 ],
 "metadata": {
  "kernelspec": {
   "display_name": "Python (ml_env)",
   "language": "python",
   "name": "ml_env"
  },
  "language_info": {
   "codemirror_mode": {
    "name": "ipython",
    "version": 3
   },
   "file_extension": ".py",
   "mimetype": "text/x-python",
   "name": "python",
   "nbconvert_exporter": "python",
   "pygments_lexer": "ipython3",
   "version": "3.8.20"
  }
 },
 "nbformat": 4,
 "nbformat_minor": 5
}
