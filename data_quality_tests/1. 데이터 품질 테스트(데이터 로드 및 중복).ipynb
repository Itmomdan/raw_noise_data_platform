{
 "cells": [
  {
   "cell_type": "markdown",
   "id": "6c554477-afb6-4704-835b-c01e48a1127f",
   "metadata": {},
   "source": [
    "# I. 데이터 품질 테스트"
   ]
  },
  {
   "cell_type": "markdown",
   "id": "d99a2fcc-c998-4205-b473-d28b973ae53f",
   "metadata": {},
   "source": [
    "📌 HDFS 대신 로컬 데이터를 사용하여 품질 테스트를 진행하는 이유\n",
    "\n",
    "1. 현재 수행하는 작업(중복 검사, 파일 확인 등)은 대규모 분산 처리가 필요 없는 로컬 연산임.\n",
    "   - HDFS는 대용량 데이터를 분산 저장·처리하는 데 적합하지만, 수천 건 정도면 로컬에서 처리해도 충분함.\n",
    "\n",
    "2. I/O 속도 향상\n",
    "   - HDFS에서 데이터를 읽어오는 과정에서 네트워크 지연과 변환 과정(예: Spark의 binaryFile)이 발생함.\n",
    "   - 우분투 폴더에 있는 파일을 바로 가져오면 I/O 속도를 줄이고 빠르게 처리 가능함.\n",
    "   - Spark 대신 Pandas 사용 가능\n",
    "\n",
    "3. 데이터 품질 검사는 Pandas로도 충분히 가능하며, 로컬 데이터에서 Pandas를 쓰면 Spark보다 빠르게 탐색할 수 있음."
   ]
  },
  {
   "cell_type": "markdown",
   "id": "36bff8c6-4fb5-4c9e-8900-6463cb211249",
   "metadata": {},
   "source": [
    "## 1. WAV, JSON 데이터 로드 및 중복 검사"
   ]
  },
  {
   "cell_type": "code",
   "execution_count": 1,
   "id": "727a36b4-596f-426d-874d-2b0c0ae0f312",
   "metadata": {},
   "outputs": [
    {
     "name": "stdout",
     "output_type": "stream",
     "text": [
      "📂 JSON 파일 개수: 18048\n",
      "📂 WAV 파일 개수: 18048\n",
      "\n",
      "📂 JSON 파일 목록 (일부):\n",
      "/home/ubuntu/data/test_data/label_data_test/2.Motorcycle/4.horn_of_motorcycle/2.motorcycle_horn_39554.json\n",
      "/home/ubuntu/data/test_data/label_data_test/2.Motorcycle/4.horn_of_motorcycle/2.motorcycle_horn_83873.json\n",
      "/home/ubuntu/data/test_data/label_data_test/2.Motorcycle/4.horn_of_motorcycle/2.motorcycle_horn_83258.json\n",
      "/home/ubuntu/data/test_data/label_data_test/2.Motorcycle/4.horn_of_motorcycle/2.motorcycle_horn_83833.json\n",
      "/home/ubuntu/data/test_data/label_data_test/2.Motorcycle/4.horn_of_motorcycle/2.motorcycle_horn_84352.json\n",
      "\n",
      "📂 WAV 파일 목록 (일부):\n",
      "/home/ubuntu/data/test_data/raw_data_test/2.Motorcycle/4.horn_of_motorcycle/2.motorcycle_horn_85080_1.wav\n",
      "/home/ubuntu/data/test_data/raw_data_test/2.Motorcycle/4.horn_of_motorcycle/2.motorcycle_horn_35046_1.wav\n",
      "/home/ubuntu/data/test_data/raw_data_test/2.Motorcycle/4.horn_of_motorcycle/2.motorcycle_horn_39466_1.wav\n",
      "/home/ubuntu/data/test_data/raw_data_test/2.Motorcycle/4.horn_of_motorcycle/2.motorcycle_horn_63351_1.wav\n",
      "/home/ubuntu/data/test_data/raw_data_test/2.Motorcycle/4.horn_of_motorcycle/2.motorcycle_horn_24465_1.wav\n"
     ]
    }
   ],
   "source": [
    "import os\n",
    "\n",
    "data_dir = \"/home/ubuntu/data\"\n",
    "\n",
    "json_files = []\n",
    "wav_files = []\n",
    "\n",
    "# 하위 폴더까지 포함하여 전체 탐색\n",
    "for root, _, files in os.walk(data_dir):\n",
    "    for file in files:\n",
    "        file_path = os.path.join(root, file)\n",
    "        if file.endswith(\".json\"):\n",
    "            json_files.append(file_path)\n",
    "        elif file.endswith(\".wav\"):\n",
    "            wav_files.append(file_path)\n",
    "\n",
    "# 파일 개수 출력\n",
    "print(f\"📂 JSON 파일 개수: {len(json_files)}\")\n",
    "print(f\"📂 WAV 파일 개수: {len(wav_files)}\")\n",
    "\n",
    "# JSON 파일 일부 출력 (최대 10개)\n",
    "print(\"\\n📂 JSON 파일 목록 (일부):\")\n",
    "for file in json_files[:5]:  \n",
    "    print(file)\n",
    "\n",
    "# WAV 파일 일부 출력 (최대 10개)\n",
    "print(\"\\n📂 WAV 파일 목록 (일부):\")\n",
    "for file in wav_files[:5]:  \n",
    "    print(file)"
   ]
  },
  {
   "cell_type": "code",
   "execution_count": 2,
   "id": "13247856-5762-4e14-a98b-ef266db72cef",
   "metadata": {},
   "outputs": [
    {
     "name": "stdout",
     "output_type": "stream",
     "text": [
      "📂 JSON 파일 개수: 18048\n",
      "⚠️ 중복된 JSON 데이터 개수: 0\n",
      "📂 WAV 파일 개수: 18048\n",
      "✅ 중복된 WAV 파일 없음\n"
     ]
    }
   ],
   "source": [
    "import os\n",
    "\n",
    "data_dir = \"/home/ubuntu/data\"\n",
    "\n",
    "json_files = []\n",
    "wav_files = []\n",
    "json_names = set()\n",
    "wav_names = set()\n",
    "duplicate_json = set()\n",
    "duplicate_wav = set()\n",
    "\n",
    "# 하위 폴더까지 포함하여 전체 탐색\n",
    "for root, _, files in os.walk(data_dir):\n",
    "    for file in files:\n",
    "        file_path = os.path.join(root, file)\n",
    "        name, ext = os.path.splitext(file)  # 확장자 제거한 파일명 추출\n",
    "\n",
    "        if ext == \".json\":\n",
    "            json_files.append(file_path)\n",
    "            if name in json_names:\n",
    "                duplicate_json.add(name)  # 중복된 파일명 저장\n",
    "            else:\n",
    "                json_names.add(name)\n",
    "\n",
    "        elif ext == \".wav\":\n",
    "            wav_files.append(file_path)\n",
    "            if name in wav_names:\n",
    "                duplicate_wav.add(name)  # 중복된 파일명 저장\n",
    "            else:\n",
    "                wav_names.add(name)\n",
    "\n",
    "# 결과 출력\n",
    "print(f\"📂 JSON 파일 개수: {len(json_files)}\")\n",
    "print(f\"⚠️ 중복된 JSON 데이터 개수: {len(duplicate_json)}\")\n",
    "\n",
    "print(f\"📂 WAV 파일 개수: {len(wav_files)}\")\n",
    "if duplicate_wav:\n",
    "    print(f\"⚠️ 중복된 WAV 데이터 개수: {len(duplicate_wav)}\")\n",
    "else:\n",
    "    print(\"✅ 중복된 WAV 파일 없음\") "
   ]
  }
 ],
 "metadata": {
  "kernelspec": {
   "display_name": "Python (ml_env)",
   "language": "python",
   "name": "ml_env"
  },
  "language_info": {
   "codemirror_mode": {
    "name": "ipython",
    "version": 3
   },
   "file_extension": ".py",
   "mimetype": "text/x-python",
   "name": "python",
   "nbconvert_exporter": "python",
   "pygments_lexer": "ipython3",
   "version": "3.8.20"
  }
 },
 "nbformat": 4,
 "nbformat_minor": 5
}
